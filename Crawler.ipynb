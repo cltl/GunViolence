{
 "cells": [
  {
   "cell_type": "code",
   "execution_count": 1,
   "metadata": {
    "collapsed": true
   },
   "outputs": [],
   "source": [
    "import requests\n",
    "from lxml import etree\n",
    "import pickle\n",
    "import pandas"
   ]
  },
  {
   "cell_type": "code",
   "execution_count": 2,
   "metadata": {
    "collapsed": false
   },
   "outputs": [],
   "source": [
    "def get_gunviolence_page(url):\n",
    "    \"\"\"\n",
    "    create pandas.dataframe from one page of gunviolence e.g.\n",
    "    http://www.gunviolencearchive.org/reports/mass-shootings/2014\n",
    "    \n",
    "    :param str url: gunviolence output page\n",
    "    http://www.gunviolencearchive.org/reports/mass-shootings/2014\n",
    "    \n",
    "    :rtype: pandas.core.frame.DataFrame\n",
    "    :return: info from the violence page in a dataframe\n",
    "    \n",
    "    \"\"\"\n",
    "    call = requests.get(url)\n",
    "    doc = etree.HTML(call.text)\n",
    "    \n",
    "    headers = ['incident_uri',\n",
    "               'date', 'state', 'city_or_county',\n",
    "               'address', 'num_killed', 'num_injured',\n",
    "               'incident_url', 'source_url', 'incident_sources',\n",
    "               'participants']\n",
    "    list_of_reports = []\n",
    "\n",
    "    for tr_el in doc.xpath('//tr[@class=\"even\" or @class=\"odd\"]'):\n",
    "        td_els = tr_el.getchildren()\n",
    "\n",
    "        date = td_els[0].text\n",
    "        state = td_els[1].text\n",
    "        city_or_county = td_els[2].text\n",
    "        address = td_els[3].text\n",
    "        num_killed = int(td_els[4].text)\n",
    "        num_injured = int(td_els[5].text)\n",
    "\n",
    "        operations_el = td_els[6]\n",
    "        a_els = operations_el.findall('ul/li/a')\n",
    "\n",
    "        # get incident url\n",
    "        incident_base = 'http://www.gunviolencearchive.org'\n",
    "        incident_ending = a_els[0].get('href')\n",
    "        incident_url = incident_base + incident_ending\n",
    "        incident_uri = incident_url.split('/')[-1]\n",
    "\n",
    "        # get source url\n",
    "        source_url = ''\n",
    "        if len(a_els) == 2:\n",
    "            source_url = a_els[1].get('href')\n",
    "\n",
    "        # get incident sources\n",
    "        incident_call = requests.get(incident_url)\n",
    "        incident_doc = etree.HTML(incident_call.text)\n",
    "\n",
    "        incident_sources = set()\n",
    "        for li_el in incident_doc.xpath('//li'):\n",
    "            if li_el.text is not None:\n",
    "                if 'URL:' in li_el.text:\n",
    "                    for a_el in li_el.xpath('a'):\n",
    "                        incident_sources.add(a_el.get('href'))\n",
    "                        \n",
    "        # get participants information\n",
    "        div_els = incident_doc.xpath('//div[h2[text()=\"Participants\"]]')\n",
    "        div_el = div_els[0]\n",
    "        participants = []\n",
    "\n",
    "        for ul_el in div_el.iterfind('div/ul'):\n",
    "            participant = dict()\n",
    "            for li_el in ul_el.iterfind('li'):\n",
    "                attr, value = li_el.text.split(':')\n",
    "                participant[attr] = value\n",
    "            participants.append(participant)\n",
    "            \n",
    "            \n",
    "        incident_report = [incident_uri,\n",
    "                           date, state, city_or_county,\n",
    "                           address, num_killed, num_injured,\n",
    "                           incident_url, source_url, incident_sources, participants]\n",
    "        list_of_reports.append(incident_report)\n",
    "    \n",
    "    df = pandas.DataFrame(list_of_reports, columns=headers)\n",
    "    return df"
   ]
  },
  {
   "cell_type": "code",
   "execution_count": 3,
   "metadata": {
    "collapsed": false
   },
   "outputs": [],
   "source": [
    "def paginate(base_url, debug=False):\n",
    "    \"\"\"\n",
    "    paginate over gunviolence urls\n",
    "    \n",
    "    :param str base_url: paginate over gunviolence urls\n",
    "    \n",
    "    :rtype: pandas.core.frame.DataFrame\n",
    "    :return: all results from one category\n",
    "    \n",
    "    \"\"\"\n",
    "    frames = []\n",
    "    previous_df = get_gunviolence_page(base_url)\n",
    "    frames.append(previous_df)\n",
    "\n",
    "    keep_going = True\n",
    "    counter = 1\n",
    "    while keep_going:\n",
    "        url = base_url + '?page=' + str(counter)\n",
    "        print(url)\n",
    "        \n",
    "        df = get_gunviolence_page(url)\n",
    "        counter += 1\n",
    "\n",
    "        if df.equals(previous_df):\n",
    "            keep_going = False\n",
    "        else:\n",
    "            frames.append(df)\n",
    "            previous_df = df\n",
    "\n",
    "    df = pandas.concat(frames)\n",
    "    return df"
   ]
  },
  {
   "cell_type": "code",
   "execution_count": 4,
   "metadata": {
    "collapsed": false
   },
   "outputs": [
    {
     "name": "stdout",
     "output_type": "stream",
     "text": [
      "http://www.gunviolencearchive.org/reports/mass-shootings/2015?page=1\n",
      "http://www.gunviolencearchive.org/reports/mass-shootings/2015?page=2\n",
      "http://www.gunviolencearchive.org/reports/mass-shootings/2015?page=3\n",
      "http://www.gunviolencearchive.org/reports/mass-shootings/2015?page=4\n",
      "http://www.gunviolencearchive.org/reports/mass-shootings/2015?page=5\n",
      "http://www.gunviolencearchive.org/reports/mass-shootings/2015?page=6\n",
      "http://www.gunviolencearchive.org/reports/mass-shootings/2015?page=7\n",
      "http://www.gunviolencearchive.org/reports/mass-shootings/2015?page=8\n",
      "http://www.gunviolencearchive.org/reports/mass-shootings/2015?page=9\n",
      "http://www.gunviolencearchive.org/reports/mass-shootings/2015?page=10\n",
      "http://www.gunviolencearchive.org/reports/mass-shootings/2015?page=11\n",
      "http://www.gunviolencearchive.org/reports/mass-shootings/2015?page=12\n",
      "http://www.gunviolencearchive.org/reports/mass-shootings/2015?page=13\n",
      "http://www.gunviolencearchive.org/reports/mass-shootings/2015?page=14\n",
      "frames/mass_shootings_2015\n"
     ]
    }
   ],
   "source": [
    "urls_and_paths = [#('frames/mass_shootings_2013', 'http://www.gunviolencearchive.org/reports/mass-shootings/2013'),\n",
    "                  #('frames/mass_shootings_2014', 'http://www.gunviolencearchive.org/reports/mass-shootings/2014'),\n",
    "                  ('frames/mass_shootings_2015', 'http://www.gunviolencearchive.org/reports/mass-shootings/2015')]\n",
    "for output_path, base_url in urls_and_paths:\n",
    "    df = paginate(base_url)\n",
    "    print(output_path)\n",
    "    with open(output_path, 'wb') as outfile:\n",
    "        pickle.dump(df, outfile)"
   ]
  },
  {
   "cell_type": "code",
   "execution_count": null,
   "metadata": {
    "collapsed": true
   },
   "outputs": [],
   "source": []
  }
 ],
 "metadata": {
  "anaconda-cloud": {},
  "kernelspec": {
   "display_name": "Python [conda root]",
   "language": "python",
   "name": "conda-root-py"
  },
  "language_info": {
   "codemirror_mode": {
    "name": "ipython",
    "version": 3
   },
   "file_extension": ".py",
   "mimetype": "text/x-python",
   "name": "python",
   "nbconvert_exporter": "python",
   "pygments_lexer": "ipython3",
   "version": "3.5.2"
  }
 },
 "nbformat": 4,
 "nbformat_minor": 1
}
