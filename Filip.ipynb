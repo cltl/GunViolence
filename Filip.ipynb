{
 "cells": [
  {
   "cell_type": "code",
   "execution_count": 1,
   "metadata": {
    "collapsed": true
   },
   "outputs": [],
   "source": [
    "import pickle\n",
    "import pandas\n",
    "from collections import Counter\n",
    "import operator"
   ]
  },
  {
   "cell_type": "code",
   "execution_count": 2,
   "metadata": {
    "collapsed": true
   },
   "outputs": [],
   "source": [
    "df_paths = [#'frames/mass_shootings_2013',\n",
    "            #'frames/mass_shootings_2014',\n",
    "            'frames/mass_shootings_2015']\n",
    "frames = []\n",
    "for df_path in df_paths:\n",
    "    with open(df_path, 'rb') as infile:\n",
    "        df = pickle.load(infile)\n",
    "        frames.append(df)\n",
    "df = pandas.concat(frames)"
   ]
  },
  {
   "cell_type": "code",
   "execution_count": 6,
   "metadata": {
    "collapsed": false
   },
   "outputs": [
    {
     "name": "stdout",
     "output_type": "stream",
     "text": [
      "\n",
      "date                                                December 31, 2015\n",
      "state                                                       Louisiana\n",
      "city_or_county                                            New Orleans\n",
      "address                                   1900 block of Amelia Street\n",
      "num_killed                                                          0\n",
      "num_injured                                                         6\n",
      "incident_url        http://www.gunviolencearchive.org/incident/476321\n",
      "source_url          http://www.nola.com/crime/index.ssf/2016/03/su...\n",
      "incident_sources    {http://www.fox8live.com/story/30864852/shooti...\n",
      "participants        [{'Type': ' Victim', 'Status': ' Injured', 'Ag...\n",
      "Name: 0, dtype: object\n"
     ]
    }
   ],
   "source": [
    "for index, row in df.iterrows():\n",
    "    print()\n",
    "    print(row)\n",
    "    all_sources = row['incident_sources']\n",
    "    all_sources.add(row['source_url'])\n",
    "    # all_sources contain all the html links\n",
    "    break\n"
   ]
  },
  {
   "cell_type": "code",
   "execution_count": null,
   "metadata": {
    "collapsed": true
   },
   "outputs": [],
   "source": []
  }
 ],
 "metadata": {
  "anaconda-cloud": {},
  "kernelspec": {
   "display_name": "Python [conda root]",
   "language": "python",
   "name": "conda-root-py"
  },
  "language_info": {
   "codemirror_mode": {
    "name": "ipython",
    "version": 3
   },
   "file_extension": ".py",
   "mimetype": "text/x-python",
   "name": "python",
   "nbconvert_exporter": "python",
   "pygments_lexer": "ipython3",
   "version": "3.5.2"
  }
 },
 "nbformat": 4,
 "nbformat_minor": 1
}
