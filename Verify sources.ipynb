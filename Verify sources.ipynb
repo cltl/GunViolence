{
 "cells": [
  {
   "cell_type": "code",
   "execution_count": 4,
   "metadata": {
    "collapsed": true
   },
   "outputs": [],
   "source": [
    "import pickle\n",
    "import pandas"
   ]
  },
  {
   "cell_type": "code",
   "execution_count": 5,
   "metadata": {
    "collapsed": false
   },
   "outputs": [],
   "source": [
    "df_paths = [#'frames/mass_shootings_2013',\n",
    "            #'frames/mass_shootings_2014',\n",
    "            'frames/mass_shootings_2015']\n",
    "frames = []\n",
    "for df_path in df_paths:\n",
    "    with open(df_path, 'rb') as infile:\n",
    "        df = pickle.load(infile)\n",
    "        frames.append(df)\n",
    "df = pandas.concat(frames)"
   ]
  },
  {
   "cell_type": "code",
   "execution_count": 11,
   "metadata": {
    "collapsed": false
   },
   "outputs": [
    {
     "name": "stdout",
     "output_type": "stream",
     "text": [
      "\n",
      "date                                                December 31, 2015\n",
      "state                                                       Louisiana\n",
      "city_or_county                                            New Orleans\n",
      "address                                   1900 block of Amelia Street\n",
      "num_killed                                                          0\n",
      "num_injured                                                         6\n",
      "incident_url        http://www.gunviolencearchive.org/incident/476321\n",
      "source_url          http://www.nola.com/crime/index.ssf/2016/03/su...\n",
      "incident_sources    {http://www.wwltv.com/story/news/crime/2016/01...\n",
      "participants        [{'Gender': ' Male', 'Type': ' Victim', 'Statu...\n",
      "Name: 0, dtype: object\n",
      "\n",
      "{'Gender': ' Male', 'Type': ' Victim', 'Status': ' Injured', 'Age': ' 15', 'Age Group': ' Teen 12-17'}\n",
      "{'Gender': ' Male', 'Type': ' Victim', 'Status': ' Injured', 'Age': ' 22', 'Age Group': ' Adult 18+'}\n",
      "{'Gender': ' Male', 'Type': ' Victim', 'Status': ' Injured'}\n",
      "{'Gender': ' Male', 'Type': ' Victim', 'Status': ' Injured'}\n",
      "{'Gender': ' Male', 'Type': ' Victim', 'Status': ' Injured'}\n",
      "{'Gender': ' Male', 'Age Group': ' Adult 18+', 'Age': ' 20', 'Type': ' Subject-Suspect', 'Status': ' Injured, Arrested', 'Name': ' Tuwan Minor'}\n",
      "http://www.wwltv.com/story/news/crime/2016/01/01/new-years-eve-shooting-raises-questions-city-crime/78190114/\n",
      "http://www.fox8live.com/story/30864852/shooting-injures-5-on-new-years-eve-in-nola\n",
      "http://www.nola.com/crime/index.ssf/2016/03/suspect_arrested_in_new_years.html#incart_river_index\n"
     ]
    }
   ],
   "source": [
    "from tabulate import tabulate\n",
    "from IPython.core.display import display, HTML\n",
    "\n",
    "for index, row in df.iterrows():\n",
    "    print()\n",
    "    print(row)\n",
    "    print()\n",
    "    for participant in row['participants']:\n",
    "        print(participant)\n",
    "    for incident_source in row['incident_sources']:\n",
    "        print(incident_source)\n",
    "    break\n"
   ]
  },
  {
   "cell_type": "code",
   "execution_count": null,
   "metadata": {
    "collapsed": true
   },
   "outputs": [],
   "source": []
  }
 ],
 "metadata": {
  "anaconda-cloud": {},
  "kernelspec": {
   "display_name": "Python [conda root]",
   "language": "python",
   "name": "conda-root-py"
  },
  "language_info": {
   "codemirror_mode": {
    "name": "ipython",
    "version": 3
   },
   "file_extension": ".py",
   "mimetype": "text/x-python",
   "name": "python",
   "nbconvert_exporter": "python",
   "pygments_lexer": "ipython3",
   "version": "3.5.2"
  }
 },
 "nbformat": 4,
 "nbformat_minor": 1
}
