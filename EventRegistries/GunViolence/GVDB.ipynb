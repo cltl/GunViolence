{
 "cells": [
  {
   "cell_type": "code",
   "execution_count": 1,
   "metadata": {
    "collapsed": false
   },
   "outputs": [
    {
     "name": "stdout",
     "output_type": "stream",
     "text": [
      "Gun Violence DB Directory found !\n",
      "Amount of data in the GunViolence DB (should be 471 MB): 471 MB\n",
      "You have the right size. You are good to go.\n"
     ]
    }
   ],
   "source": [
    "%%bash\n",
    "DIRECTORY='GVDB/gvdb-aggregated-db'\n",
    "propersize=471\n",
    "\n",
    "if [ ! -d \"$DIRECTORY\" ]; then\n",
    "    mkdir GVDB\n",
    "    echo \"Please download the GVDB from http://gun-violence.org/download/ inside the GVDB folder !\"\n",
    "else\n",
    "    echo \"Gun Violence DB Directory found !\"\n",
    "    sizekb=`du -m \"$DIRECTORY\" | cut -f1`\n",
    "    echo \"Amount of data in the GunViolence DB (should be $propersize MB): $sizekb MB\"\n",
    "    if [ $sizekb -eq $propersize ] ; then\n",
    "        echo \"You have the right size. You are good to go.\"\n",
    "    else\n",
    "        echo \"You might want to check whether your GVDB directory is alright. Its size is $sizemb MB instead of $propersize MB\"\n",
    "    fi\n",
    "fi"
   ]
  },
  {
   "cell_type": "code",
   "execution_count": 2,
   "metadata": {
    "collapsed": true
   },
   "outputs": [],
   "source": [
    "import pickle\n",
    "import pandas\n",
    "from datetime import datetime\n",
    "from collections import defaultdict\n",
    "import csv\n",
    "import json\n",
    "import Levenshtein\n",
    "\n",
    "import utils"
   ]
  },
  {
   "cell_type": "code",
   "execution_count": 3,
   "metadata": {
    "collapsed": false
   },
   "outputs": [
    {
     "name": "stdout",
     "output_type": "stream",
     "text": [
      "GVDB/gvdb-aggregated-db/Articles-with-extracted-info.tsv\n"
     ]
    }
   ],
   "source": [
    "# File mappings\n",
    "DIRECTORY='GVDB/gvdb-aggregated-db'\n",
    "article_info=\"%s/Articles-with-extracted-info.tsv\" % DIRECTORY\n",
    "event_info=\"%s/Events.tsv\" % DIRECTORY\n",
    "print(article_info)"
   ]
  },
  {
   "cell_type": "code",
   "execution_count": 4,
   "metadata": {
    "collapsed": true
   },
   "outputs": [],
   "source": [
    "urls_and_paths = [('frames/children_killed', 'http://www.gunviolencearchive.org/children-killed'),\n",
    "                  ('frames/children_injured', 'http://www.gunviolencearchive.org/children-injured'),\n",
    "                  ('frames/teens_killed', 'http://www.gunviolencearchive.org/teens-killed'),\n",
    "                  ('frames/teens_injured', 'http://www.gunviolencearchive.org/teens-injured'),\n",
    "                  ('frames/accidental_deaths', 'http://www.gunviolencearchive.org/accidental-deaths'),\n",
    "                  ('frames/accidental_injuries', 'http://www.gunviolencearchive.org/accidental-injuries'),\n",
    "                  ('frames/accidental_deaths_children', 'http://www.gunviolencearchive.org/accidental-child-deaths'),\n",
    "                  ('frames/accidental_injuries_children', 'http://www.gunviolencearchive.org/accidental-child-injuries'),\n",
    "                  ('frames/accidental_deaths_teens', 'http://www.gunviolencearchive.org/accidental-teen-deaths'),\n",
    "                  ('frames/accidental_injuries_teens', 'http://www.gunviolencearchive.org/accidental-teen-injuries'),\n",
    "                  ('frames/officer_involved_shootings', 'http://www.gunviolencearchive.org/officer-involved-shootings'),\n",
    "                  ('frames/mass_shootings_2013', 'http://www.gunviolencearchive.org/reports/mass-shootings/2013'),\n",
    "                  ('frames/mass_shootings_2014', 'http://www.gunviolencearchive.org/reports/mass-shootings/2014'),\n",
    "                  ('frames/mass_shootings_2015', 'http://www.gunviolencearchive.org/reports/mass-shootings/2015'),\n",
    "                  ('frames/mass_shootings', 'http://www.gunviolencearchive.org/mass-shooting')]\n",
    "CORPUS_NAME = 'the_violent_corpus'"
   ]
  },
  {
   "cell_type": "markdown",
   "metadata": {},
   "source": [
    "## Article overlap between GVDB and GVA"
   ]
  },
  {
   "cell_type": "code",
   "execution_count": 5,
   "metadata": {
    "collapsed": true
   },
   "outputs": [],
   "source": [
    "def get_sources(dataframe):\n",
    "    \"\"\"\n",
    "    :param dataframe:\n",
    "    :return:\n",
    "    \"\"\"\n",
    "    sources = set()\n",
    "    sources_to_incidents=defaultdict(set)\n",
    "    for index, row in dataframe.iterrows():\n",
    "        sources.add(row['source_url'])\n",
    "        sources.update(row['incident_sources'])\n",
    "        incident=row['incident_uri']\n",
    "        sources_to_incidents[utils.hash_uri(row['source_url'])].add(incident)\n",
    "        for s in row['incident_sources']:\n",
    "            sources_to_incidents[utils.hash_uri(s)].add(incident)\n",
    "    return sources, sources_to_incidents"
   ]
  },
  {
   "cell_type": "code",
   "execution_count": 6,
   "metadata": {
    "collapsed": false
   },
   "outputs": [],
   "source": [
    "def get_source_title(sources_to_incidents):\n",
    "    titles_to_sources=defaultdict(str)\n",
    "    for s,i in sources_to_incidents.items():\n",
    "        path = 'the_violent_corpus/%s/%s.json' % (i.pop(),s)\n",
    "        try:\n",
    "            f=open(path)\n",
    "            document = json.load(f)\n",
    "            title=document['title']\n",
    "            titles_to_sources[title]=s\n",
    "        except:  # NODATE documents\n",
    "            pass\n",
    "    return titles_to_sources"
   ]
  },
  {
   "cell_type": "code",
   "execution_count": 7,
   "metadata": {
    "collapsed": true
   },
   "outputs": [],
   "source": [
    "def normalize(s):\n",
    "    return s.strip().lower()"
   ]
  },
  {
   "cell_type": "code",
   "execution_count": 8,
   "metadata": {
    "collapsed": false
   },
   "outputs": [
    {
     "data": {
      "text/plain": [
       "9641"
      ]
     },
     "execution_count": 8,
     "metadata": {},
     "output_type": "execute_result"
    }
   ],
   "source": [
    "frames = []\n",
    "for df_path, url in urls_and_paths:\n",
    "    with open(df_path, 'rb') as infile:\n",
    "        df = pickle.load(infile)\n",
    "        frames.append(df)\n",
    "df = pandas.concat(frames)\n",
    "gva_sources, gva_sources_to_incidents=get_sources(df)\n",
    "gva_titles_to_sources=get_source_title(gva_sources_to_incidents)\n",
    "len(gva_sources)"
   ]
  },
  {
   "cell_type": "code",
   "execution_count": 9,
   "metadata": {
    "collapsed": false
   },
   "outputs": [],
   "source": [
    "with open(article_info, 'r') as csvfile:\n",
    "    spamreader = csv.reader(csvfile, delimiter='\\t', quotechar='\"')\n",
    "    gvdb_sources=set()\n",
    "    for index,row in enumerate(spamreader):\n",
    "        url=row[0]\n",
    "        if \"gold-data\" in url: # anonymized URL\n",
    "            title=row[1]\n",
    "            content=row[2]\n",
    "            for gva_title in gva_titles_to_sources:\n",
    "                lev_ratio=Levenshtein.ratio(normalize(title), normalize(gva_title))                \n",
    "                if normalize(title)==normalize(gva_title):\n",
    "                    print(gva_titles_to_sources[gva_title])\n",
    "                elif lev_ratio>0.9:\n",
    "                    print(normalize(title), normalize(gva_title), lev_ratio)\n",
    "        else:\n",
    "            gvdb_sources.add(url)\n",
    "\n",
    "intersection=gva_sources & gvdb_sources \n"
   ]
  },
  {
   "cell_type": "code",
   "execution_count": null,
   "metadata": {
    "collapsed": false
   },
   "outputs": [],
   "source": [
    "\n",
    "date_distributions=defaultdict(int)\n",
    "with open(article_info, 'r') as csvfile:\n",
    "    spamreader = csv.reader(csvfile, delimiter='\\t', quotechar='\"')\n",
    "    gvdb_sources=set()\n",
    "    for index,row in enumerate(spamreader):\n",
    "        url=row[0]\n",
    "        title=row[1]\n",
    "        content=row[2]\n",
    "        if url in intersection:\n",
    "            annotations=json.loads(row[3])\n",
    "            time_and_location=annotations['date-and-time']\n",
    "            # circumstances annotations (weapons & so) -> skipped these\n",
    "            # location annotations\n",
    "            state=time_and_location['state']\n",
    "            city=time_and_location['city']\n",
    "            detailed_loc=time_and_location['details']\n",
    "            # time annotations\n",
    "            if time_and_location['date']:\n",
    "                date=datetime.strptime(time_and_location['date'], '%Y-%m-%d')\n",
    "                date_distributions[date.year]+=1\n",
    "                print(date)\n",
    "                if date.year==1969:\n",
    "                    print(url)\n",
    "                    print(annotations)\n",
    "                    break\n",
    "            time_day=time_and_location['time-day']\n",
    "            clock_time=time_and_location['clock-time']\n",
    "            # participants\n",
    "            shooters=annotations['shooter-section']\n",
    "            victims=annotations['victim-section']\n",
    "            #break"
   ]
  },
  {
   "cell_type": "code",
   "execution_count": null,
   "metadata": {
    "collapsed": false
   },
   "outputs": [],
   "source": [
    "print(intersection)"
   ]
  },
  {
   "cell_type": "code",
   "execution_count": null,
   "metadata": {
    "collapsed": false
   },
   "outputs": [],
   "source": [
    "print(date_distributions)"
   ]
  },
  {
   "cell_type": "code",
   "execution_count": null,
   "metadata": {
    "collapsed": true
   },
   "outputs": [],
   "source": []
  }
 ],
 "metadata": {
  "anaconda-cloud": {},
  "kernelspec": {
   "display_name": "Python [Root]",
   "language": "python",
   "name": "Python [Root]"
  },
  "language_info": {
   "codemirror_mode": {
    "name": "ipython",
    "version": 3
   },
   "file_extension": ".py",
   "mimetype": "text/x-python",
   "name": "python",
   "nbconvert_exporter": "python",
   "pygments_lexer": "ipython3",
   "version": "3.5.3"
  }
 },
 "nbformat": 4,
 "nbformat_minor": 0
}
