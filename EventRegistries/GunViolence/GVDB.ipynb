{
 "cells": [
  {
   "cell_type": "code",
   "execution_count": 1,
   "metadata": {
    "collapsed": false
   },
   "outputs": [
    {
     "name": "stdout",
     "output_type": "stream",
     "text": [
      "Gun Violence DB Directory found !\n",
      "Amount of data in the GunViolence DB (should be 471 MB): 471 MB\n",
      "You have the right size. You are good to go.\n"
     ]
    }
   ],
   "source": [
    "%%bash\n",
    "DIRECTORY='GVDB/gvdb-aggregated-db'\n",
    "propersize=471\n",
    "\n",
    "if [ ! -d \"$DIRECTORY\" ]; then\n",
    "    mkdir GVDB\n",
    "    echo \"Please download the GVDB from http://gun-violence.org/download/ inside the GVDB folder !\"\n",
    "else\n",
    "    echo \"Gun Violence DB Directory found !\"\n",
    "    sizekb=`du -m \"$DIRECTORY\" | cut -f1`\n",
    "    echo \"Amount of data in the GunViolence DB (should be $propersize MB): $sizekb MB\"\n",
    "    if [ $sizekb -eq $propersize ] ; then\n",
    "        echo \"You have the right size. You are good to go.\"\n",
    "    else\n",
    "        echo \"You might want to check whether your GVDB directory is alright. Its size is $sizemb MB instead of $propersize MB\"\n",
    "    fi\n",
    "fi"
   ]
  },
  {
   "cell_type": "code",
   "execution_count": 2,
   "metadata": {
    "collapsed": true
   },
   "outputs": [],
   "source": [
    "import pickle\n",
    "import pandas\n",
    "from datetime import datetime\n",
    "from collections import defaultdict\n",
    "import csv\n",
    "import json\n",
    "import Levenshtein\n",
    "\n",
    "import utils"
   ]
  },
  {
   "cell_type": "code",
   "execution_count": 3,
   "metadata": {
    "collapsed": false
   },
   "outputs": [
    {
     "name": "stdout",
     "output_type": "stream",
     "text": [
      "GVDB/gvdb-aggregated-db/Articles-with-extracted-info.tsv\n"
     ]
    }
   ],
   "source": [
    "# File mappings\n",
    "DIRECTORY='GVDB/gvdb-aggregated-db'\n",
    "article_info=\"%s/Articles-with-extracted-info.tsv\" % DIRECTORY\n",
    "event_info=\"%s/Events.tsv\" % DIRECTORY\n",
    "print(article_info)"
   ]
  },
  {
   "cell_type": "code",
   "execution_count": 4,
   "metadata": {
    "collapsed": true
   },
   "outputs": [],
   "source": [
    "urls_and_paths = [('frames/children_killed', 'http://www.gunviolencearchive.org/children-killed'),\n",
    "                  ('frames/children_injured', 'http://www.gunviolencearchive.org/children-injured'),\n",
    "                  ('frames/teens_killed', 'http://www.gunviolencearchive.org/teens-killed'),\n",
    "                  ('frames/teens_injured', 'http://www.gunviolencearchive.org/teens-injured'),\n",
    "                  ('frames/accidental_deaths', 'http://www.gunviolencearchive.org/accidental-deaths'),\n",
    "                  ('frames/accidental_injuries', 'http://www.gunviolencearchive.org/accidental-injuries'),\n",
    "                  ('frames/accidental_deaths_children', 'http://www.gunviolencearchive.org/accidental-child-deaths'),\n",
    "                  ('frames/accidental_injuries_children', 'http://www.gunviolencearchive.org/accidental-child-injuries'),\n",
    "                  ('frames/accidental_deaths_teens', 'http://www.gunviolencearchive.org/accidental-teen-deaths'),\n",
    "                  ('frames/accidental_injuries_teens', 'http://www.gunviolencearchive.org/accidental-teen-injuries'),\n",
    "                  ('frames/officer_involved_shootings', 'http://www.gunviolencearchive.org/officer-involved-shootings'),\n",
    "                  ('frames/mass_shootings_2013', 'http://www.gunviolencearchive.org/reports/mass-shootings/2013'),\n",
    "                  ('frames/mass_shootings_2014', 'http://www.gunviolencearchive.org/reports/mass-shootings/2014'),\n",
    "                  ('frames/mass_shootings_2015', 'http://www.gunviolencearchive.org/reports/mass-shootings/2015'),\n",
    "                  ('frames/mass_shootings', 'http://www.gunviolencearchive.org/mass-shooting')]\n",
    "CORPUS_NAME = 'the_violent_corpus'"
   ]
  },
  {
   "cell_type": "markdown",
   "metadata": {},
   "source": [
    "## Article overlap between GVDB and GVA"
   ]
  },
  {
   "cell_type": "code",
   "execution_count": 5,
   "metadata": {
    "collapsed": true
   },
   "outputs": [],
   "source": [
    "def get_sources(dataframe):\n",
    "    \"\"\"\n",
    "    :param dataframe:\n",
    "    :return:\n",
    "    \"\"\"\n",
    "    sources = set()\n",
    "    sources_to_incidents=defaultdict(set)\n",
    "    for index, row in dataframe.iterrows():\n",
    "        sources.add(row['source_url'])\n",
    "        sources.update(row['incident_sources'])\n",
    "        incident=row['incident_uri']\n",
    "        sources_to_incidents[utils.hash_uri(row['source_url'])].add(incident)\n",
    "        for s in row['incident_sources']:\n",
    "            sources_to_incidents[utils.hash_uri(s)].add(incident)\n",
    "    return sources, sources_to_incidents"
   ]
  },
  {
   "cell_type": "code",
   "execution_count": 6,
   "metadata": {
    "collapsed": false
   },
   "outputs": [],
   "source": [
    "def get_source_title(sources_to_incidents):\n",
    "    titles_to_sources=defaultdict(str)\n",
    "    for s,i in sources_to_incidents.items():\n",
    "        path = 'the_violent_corpus/%s/%s.json' % (i.pop(),s)\n",
    "        try:\n",
    "            f=open(path)\n",
    "            document = json.load(f)\n",
    "            title=document['title']\n",
    "            titles_to_sources[title]=s\n",
    "        except:  # NODATE documents\n",
    "            pass\n",
    "    return titles_to_sources"
   ]
  },
  {
   "cell_type": "code",
   "execution_count": 7,
   "metadata": {
    "collapsed": true
   },
   "outputs": [],
   "source": [
    "def normalize(s):\n",
    "    return s.strip().lower()"
   ]
  },
  {
   "cell_type": "code",
   "execution_count": 8,
   "metadata": {
    "collapsed": false
   },
   "outputs": [
    {
     "data": {
      "text/plain": [
       "9641"
      ]
     },
     "execution_count": 8,
     "metadata": {},
     "output_type": "execute_result"
    }
   ],
   "source": [
    "frames = []\n",
    "for df_path, url in urls_and_paths:\n",
    "    with open(df_path, 'rb') as infile:\n",
    "        df = pickle.load(infile)\n",
    "        frames.append(df)\n",
    "df = pandas.concat(frames)\n",
    "gva_sources, gva_sources_to_incidents=get_sources(df)\n",
    "gva_titles_to_sources=get_source_title(gva_sources_to_incidents)\n",
    "len(gva_sources)"
   ]
  },
  {
   "cell_type": "code",
   "execution_count": 9,
   "metadata": {
    "collapsed": false
   },
   "outputs": [],
   "source": [
    "with open(article_info, 'r') as csvfile:\n",
    "    spamreader = csv.reader(csvfile, delimiter='\\t', quotechar='\"')\n",
    "    gvdb_sources=set()\n",
    "    for index,row in enumerate(spamreader):\n",
    "        url=row[0]\n",
    "        if \"gold-data\" in url: # anonymized URL\n",
    "            title=row[1]\n",
    "            content=row[2]\n",
    "            #for gva_title in gva_titles_to_sources:\n",
    "            #    lev_ratio=Levenshtein.ratio(normalize(title), normalize(gva_title))                \n",
    "            #    if normalize(title)==normalize(gva_title):\n",
    "            #        print(gva_titles_to_sources[gva_title])\n",
    "            #    elif lev_ratio>0.9:\n",
    "            #        print(normalize(title), normalize(gva_title), lev_ratio)\n",
    "        else:\n",
    "            gvdb_sources.add(url)\n",
    "\n",
    "intersection=gva_sources & gvdb_sources \n"
   ]
  },
  {
   "cell_type": "code",
   "execution_count": 10,
   "metadata": {
    "collapsed": false
   },
   "outputs": [
    {
     "name": "stdout",
     "output_type": "stream",
     "text": [
      "2016-01-30 00:00:00\n",
      "2016-02-02 00:00:00\n",
      "2015-07-26 00:00:00\n",
      "2016-02-19 00:00:00\n",
      "2016-02-24 00:00:00\n",
      "2016-02-19 00:00:00\n",
      "2016-02-16 00:00:00\n",
      "2016-02-20 00:00:00\n",
      "2015-11-22 00:00:00\n",
      "2014-05-07 00:00:00\n",
      "2015-07-03 00:00:00\n",
      "2015-02-27 00:00:00\n",
      "2015-08-09 00:00:00\n",
      "2015-03-14 00:00:00\n",
      "2014-11-18 00:00:00\n",
      "2014-08-06 00:00:00\n",
      "2015-08-05 00:00:00\n",
      "2013-05-25 00:00:00\n",
      "2013-08-02 00:00:00\n",
      "2013-03-21 00:00:00\n",
      "2016-01-25 00:00:00\n",
      "2015-08-21 00:00:00\n",
      "2015-12-25 00:00:00\n",
      "2013-08-12 00:00:00\n",
      "2015-08-19 00:00:00\n",
      "2013-07-19 00:00:00\n",
      "2013-04-10 00:00:00\n",
      "2015-05-09 00:00:00\n",
      "2014-07-30 00:00:00\n",
      "2014-08-01 00:00:00\n",
      "2013-08-24 00:00:00\n",
      "2016-03-12 00:00:00\n",
      "2013-08-11 00:00:00\n",
      "2014-10-29 00:00:00\n",
      "2013-06-09 00:00:00\n",
      "2013-09-07 00:00:00\n",
      "2015-03-15 00:00:00\n",
      "2016-01-16 00:00:00\n",
      "2015-11-21 00:00:00\n",
      "2015-06-18 00:00:00\n",
      "2015-06-04 00:00:00\n",
      "2015-08-15 00:00:00\n",
      "2013-02-11 00:00:00\n",
      "2015-07-29 00:00:00\n",
      "2014-12-16 00:00:00\n",
      "2016-03-11 00:00:00\n",
      "2016-02-09 00:00:00\n",
      "2015-03-08 00:00:00\n",
      "2015-01-01 00:00:00\n",
      "2013-10-27 00:00:00\n",
      "2014-07-30 00:00:00\n",
      "2015-08-11 00:00:00\n",
      "2013-04-14 00:00:00\n",
      "2013-04-07 00:00:00\n",
      "2015-09-20 00:00:00\n",
      "2015-08-09 00:00:00\n",
      "2015-08-09 00:00:00\n",
      "2013-11-20 00:00:00\n",
      "2013-11-24 00:00:00\n",
      "2013-02-08 00:00:00\n",
      "2016-03-12 00:00:00\n",
      "2015-11-29 00:00:00\n",
      "2015-11-13 00:00:00\n",
      "2015-11-29 00:00:00\n",
      "2015-11-29 00:00:00\n",
      "2014-07-31 00:00:00\n",
      "2015-03-23 00:00:00\n",
      "2013-04-25 00:00:00\n",
      "2013-10-10 00:00:00\n",
      "2015-02-21 00:00:00\n",
      "2015-08-14 00:00:00\n",
      "2013-07-06 00:00:00\n",
      "2013-07-06 00:00:00\n",
      "2015-10-01 00:00:00\n",
      "2015-06-05 00:00:00\n",
      "2013-06-28 00:00:00\n",
      "2013-06-16 00:00:00\n",
      "2013-11-09 00:00:00\n",
      "2015-12-15 00:00:00\n",
      "2014-02-12 00:00:00\n",
      "2014-12-20 00:00:00\n",
      "2013-01-26 00:00:00\n",
      "2015-12-05 00:00:00\n",
      "2015-09-19 00:00:00\n",
      "2013-08-08 00:00:00\n",
      "2013-11-30 00:00:00\n",
      "2014-08-03 00:00:00\n",
      "2015-03-20 00:00:00\n",
      "2015-03-22 00:00:00\n",
      "2014-06-26 00:00:00\n",
      "2013-02-22 00:00:00\n",
      "2013-02-22 00:00:00\n",
      "2015-03-08 00:00:00\n",
      "2015-05-03 00:00:00\n",
      "2015-08-10 00:00:00\n",
      "2015-11-10 00:00:00\n",
      "2015-09-04 00:00:00\n",
      "2015-11-09 00:00:00\n",
      "1969-12-31 00:00:00\n",
      "2015-04-05 00:00:00\n",
      "2014-08-24 00:00:00\n",
      "2015-09-29 00:00:00\n",
      "2015-01-17 00:00:00\n",
      "2015-04-17 00:00:00\n",
      "2013-02-07 00:00:00\n",
      "2014-07-03 00:00:00\n",
      "2015-07-14 00:00:00\n",
      "2015-04-05 00:00:00\n",
      "2014-12-27 00:00:00\n",
      "2014-05-17 00:00:00\n",
      "2016-02-06 00:00:00\n",
      "2015-09-07 00:00:00\n",
      "2014-08-01 00:00:00\n",
      "2015-02-10 00:00:00\n",
      "2015-09-04 00:00:00\n",
      "2015-06-26 00:00:00\n",
      "2015-04-29 00:00:00\n",
      "2015-08-17 00:00:00\n",
      "2015-03-07 00:00:00\n",
      "2014-11-16 00:00:00\n",
      "2016-01-14 00:00:00\n",
      "2013-02-12 00:00:00\n",
      "2015-01-27 00:00:00\n",
      "2015-04-06 00:00:00\n",
      "2015-07-08 00:00:00\n",
      "2014-11-06 00:00:00\n",
      "2015-06-27 00:00:00\n",
      "2015-12-20 00:00:00\n",
      "2016-04-03 00:00:00\n",
      "2015-11-09 00:00:00\n",
      "2015-04-14 00:00:00\n",
      "2013-05-25 00:00:00\n",
      "2013-07-01 00:00:00\n",
      "2015-10-27 00:00:00\n",
      "2015-05-27 00:00:00\n",
      "2013-08-19 00:00:00\n",
      "2015-11-15 00:00:00\n",
      "2013-07-06 00:00:00\n",
      "2014-09-29 00:00:00\n",
      "2015-02-06 00:00:00\n",
      "2014-09-29 00:00:00\n",
      "2013-04-25 00:00:00\n",
      "2015-12-19 00:00:00\n",
      "2014-04-23 00:00:00\n",
      "2015-12-23 00:00:00\n",
      "2015-05-01 00:00:00\n",
      "2016-02-14 00:00:00\n",
      "2015-11-07 00:00:00\n",
      "2013-09-06 00:00:00\n",
      "2016-03-21 00:00:00\n",
      "2013-04-23 00:00:00\n",
      "2015-08-16 00:00:00\n",
      "2014-12-21 00:00:00\n",
      "2013-07-21 00:00:00\n",
      "2015-06-12 00:00:00\n",
      "2013-04-18 00:00:00\n",
      "2013-04-18 00:00:00\n",
      "2013-06-25 00:00:00\n",
      "2016-03-24 00:00:00\n",
      "2015-08-22 00:00:00\n",
      "2015-01-07 00:00:00\n",
      "2015-12-26 00:00:00\n",
      "2015-10-27 00:00:00\n",
      "2015-12-09 00:00:00\n",
      "2013-01-24 00:00:00\n",
      "2015-08-27 00:00:00\n",
      "2015-06-10 00:00:00\n",
      "2015-10-20 00:00:00\n",
      "2013-07-13 00:00:00\n",
      "2014-06-13 00:00:00\n",
      "2015-02-11 00:00:00\n",
      "2014-11-23 00:00:00\n",
      "2014-11-23 00:00:00\n",
      "2014-08-08 00:00:00\n",
      "2015-01-04 00:00:00\n",
      "2015-07-30 00:00:00\n",
      "2016-02-12 00:00:00\n",
      "2015-07-23 00:00:00\n",
      "2014-06-29 00:00:00\n",
      "2015-01-25 00:00:00\n",
      "2015-06-15 00:00:00\n",
      "2015-11-13 00:00:00\n",
      "2015-12-24 00:00:00\n",
      "2015-12-24 00:00:00\n",
      "2015-12-24 00:00:00\n",
      "2015-12-24 00:00:00\n",
      "2013-11-23 00:00:00\n",
      "2015-11-02 00:00:00\n",
      "2015-10-25 00:00:00\n",
      "2015-12-17 00:00:00\n",
      "2015-11-29 00:00:00\n",
      "2015-11-29 00:00:00\n",
      "2015-11-15 00:00:00\n",
      "2015-11-15 00:00:00\n",
      "2016-07-05 00:00:00\n",
      "2016-07-04 00:00:00\n",
      "2016-07-01 00:00:00\n",
      "2016-07-01 00:00:00\n",
      "2016-07-01 00:00:00\n",
      "2016-07-01 00:00:00\n",
      "2016-07-01 00:00:00\n",
      "2016-07-01 00:00:00\n",
      "2016-07-01 00:00:00\n",
      "2016-07-01 00:00:00\n",
      "2016-07-01 00:00:00\n",
      "2016-06-23 00:00:00\n",
      "2016-06-28 00:00:00\n",
      "2016-06-23 00:00:00\n",
      "2016-06-23 00:00:00\n",
      "2016-06-23 00:00:00\n",
      "2016-06-23 00:00:00\n",
      "2016-06-23 00:00:00\n",
      "2016-06-23 00:00:00\n",
      "2016-06-23 00:00:00\n",
      "2016-06-16 00:00:00\n",
      "2016-04-07 00:00:00\n",
      "2016-04-11 00:00:00\n",
      "2016-03-12 00:00:00\n",
      "2016-04-11 00:00:00\n",
      "2016-01-14 00:00:00\n",
      "2016-04-12 00:00:00\n",
      "2016-04-05 00:00:00\n",
      "2016-04-05 00:00:00\n",
      "2016-07-06 00:00:00\n",
      "2016-04-05 00:00:00\n",
      "2016-04-03 00:00:00\n",
      "2016-04-03 00:00:00\n",
      "2016-04-03 00:00:00\n",
      "2016-04-04 00:00:00\n",
      "2016-04-04 00:00:00\n",
      "2016-04-03 00:00:00\n",
      "2016-04-02 00:00:00\n",
      "2016-01-24 00:00:00\n",
      "2016-04-11 00:00:00\n",
      "2016-04-05 00:00:00\n",
      "2016-04-04 00:00:00\n",
      "2016-04-01 00:00:00\n",
      "2016-04-04 00:00:00\n",
      "2015-07-04 00:00:00\n",
      "2013-03-13 00:00:00\n",
      "2016-02-02 00:00:00\n",
      "2016-02-13 00:00:00\n",
      "2016-02-13 00:00:00\n",
      "2016-02-14 00:00:00\n",
      "2016-02-14 00:00:00\n",
      "2016-02-11 00:00:00\n",
      "2016-02-11 00:00:00\n",
      "2016-02-10 00:00:00\n",
      "2016-02-10 00:00:00\n",
      "2016-02-11 00:00:00\n",
      "2016-04-07 00:00:00\n",
      "2016-04-05 00:00:00\n",
      "2016-04-02 00:00:00\n",
      "2016-04-04 00:00:00\n",
      "2016-02-14 00:00:00\n",
      "2016-02-12 00:00:00\n",
      "2016-02-09 00:00:00\n",
      "2016-02-10 00:00:00\n",
      "2016-02-10 00:00:00\n",
      "2016-02-11 00:00:00\n",
      "2016-02-09 00:00:00\n",
      "2016-09-12 00:00:00\n",
      "2016-12-25 00:00:00\n",
      "2017-01-05 00:00:00\n"
     ]
    }
   ],
   "source": [
    "\n",
    "date_distributions=defaultdict(int)\n",
    "gva_dates_cache={}\n",
    "with open(article_info, 'r') as csvfile:\n",
    "    spamreader = csv.reader(csvfile, delimiter='\\t', quotechar='\"')\n",
    "    gvdb_sources=set()\n",
    "    for index,row in enumerate(spamreader):\n",
    "        url=row[0]\n",
    "        title=row[1]\n",
    "        content=row[2]\n",
    "        if url in intersection:\n",
    "            annotations=json.loads(row[3])\n",
    "            time_and_location=annotations['date-and-time']\n",
    "            # circumstances annotations (weapons & so) -> skipped these\n",
    "            # location annotations\n",
    "            state=time_and_location['state']\n",
    "            city=time_and_location['city']\n",
    "            detailed_loc=time_and_location['details']\n",
    "            # time annotations\n",
    "            if time_and_location['date']:\n",
    "                date=datetime.strptime(time_and_location['date'], '%Y-%m-%d')\n",
    "                date_distributions[date.year]+=1\n",
    "                gva_dates_cache[url]=date.date()\n",
    "                print(date)\n",
    "                #if date.year==1969:\n",
    "                #    print(url)\n",
    "                #    print(annotations)\n",
    "                #    break\n",
    "            time_day=time_and_location['time-day']\n",
    "            clock_time=time_and_location['clock-time']\n",
    "            # participants\n",
    "            shooters=annotations['shooter-section']\n",
    "            victims=annotations['victim-section']\n",
    "            #break"
   ]
  },
  {
   "cell_type": "code",
   "execution_count": 11,
   "metadata": {
    "collapsed": false
   },
   "outputs": [
    {
     "name": "stdout",
     "output_type": "stream",
     "text": [
      "{'http://accesswdun.com/article/2016/1/366418/teenage-girl-shot-in-back-escaped-juvenile-inmate-charged', 'http://articles.dailypress.com/2013-05-28/news/dp-nws-hampton-shooting-vigil-20130528_1_gunshot-wound-hampton-commonwealth-monday-evening', 'http://heralddemocrat.com/news/texas/5-slayings-3-places-4-hours-stretch-dallas-police-s-homicide-unit', 'http://miami.cbslocal.com/2015/02/12/deputies-4-year-old-boy-shot-in-the-leg/', 'http://www.dnainfo.com/chicago/20150722/humboldt-park/man-suspected-killing-7-year-old-amari-brown-arrested-officials-say', 'http://dfw.cbslocal.com/2013/10/10/witness-comes-forward-in-quadruple-homicide-in-paris-texas/', 'http://abc7ny.com/news/7-people-shot-during-july-4-barbecue-in-brooklyn/1413599/', 'http://denver.cbslocal.com/2014/11/24/man-killed-in-shooting-at-denver-bar-identified/', 'http://detroit.cbslocal.com/2015/06/27/4-men-shot-at-block-party-in-detroit/', 'http://fox40.com/2014/02/12/4-shot-1-killed-in-stockton-park/', 'http://pix11.com/2016/02/11/teen-shot-in-the-face-in-east-new-york/', 'http://gothamist.com/2015/08/28/hookah_lounge_shooting.php', 'http://www.wsmv.com/story/29685866/10-year-old-injured-during-hotel-shooting', 'http://www.kmov.com/story/31124752/boy-7-accidentally-shot-in-south-st-louis-city', 'http://abc7.com/news/4-year-old-boy-playing-outside-highland-home-shot-to-death/892956/', 'http://www.wdbj7.com/news/local/roanoke/2yearold-dies-woman-hurt-in-roanoke-shooting/34214108', 'http://fox2now.com/2015/07/21/three-year-old-shot-in-north-city/', 'http://www.thetowntalk.com/story/news/2016/02/11/alexandria-police-probe-shooting-sleeping-girl/80237232/', 'http://abc11.com/news/charleston-sc-police-respond-to-shooting-at-church/791511/', 'http://abc13.com/news/victims-in-mass-killing-in-northwest-harris-county-identified/914922/', 'http://bostonherald.com/news_opinion/local_coverage/2014/08/7_shot_after_argument_outside_new_bedford_bar', 'http://foxct.com/2015/03/08/accidental-firearm-discharge-in-monroe-strikes-11-year-old-boy-in-the-cheek/', 'http://chicago.cbslocal.com/2014/12/21/man-killed-at-least-5-others-injured-in-shooting-at-calumet-city-party/', 'http://fox5sandiego.com/2015/12/23/person-injured-at-poway-shooting-range/', 'http://boston.cbslocal.com/2015/03/30/investigators-release-few-details-in-bedford-nh-deaths/', 'http://www.sun-sentinel.com/local/broward/davie/fl-12-year-old-shot-20150802-story.html', 'http://fox43.com/2015/11/15/12-year-old-boy-dies-following-sunday-morning-shooting-in-york/', 'http://fox13now.com/2013/02/13/victims-identified-in-midvale-triple-murder/', 'http://abc7ny.com/archive/9202495/', 'http://7online.com/news/3-year-old-boy-accidentally-shot-in-smithtown/243274/', 'http://chronicle.augusta.com/news/crime-courts/2014-10-03/bond-set-carrie-street-homicide', 'http://fox4kc.com/2015/09/06/prosecutors-reveal-23-year-old-mother-pulled-guns-trigger-which-killed-her-5-year-old-son/', 'http://myfox8.com/2015/07/23/louisiana-theater-shooting-2-dead-including-shooter-multiple-injuries/', 'http://chicago.cbslocal.com/2013/08/18/1-killed-3-wounded-in-west-side-shooting/', 'http://fox8.com/2014/11/17/police-officer-shot-and-killed-trying-to-protect-others-inside-bar/', 'http://www.kmbc.com/news/mass-shooting-reported-at-central-kansas-workplace/38198462', 'http://chronicle.augusta.com/news/crime-courts/2014-08-25/shooting-reported-carrie-street', 'http://m.ajc.com/news/news/crime-law/second-15-year-old-in-two-days-shot-to-death-in-un/nnwst/', 'http://www.12news.com/news/local/valley/tempe-teen-dies-after-accidental-shooting/281156165', 'http://chronicle.northcoastnow.com/2013/11/08/jury-refuses-indictment-in-oberlin-shooting-case/', 'http://chicago.cbslocal.com/2015/09/05/family-member-charged-with-fatally-shooting-11-year-old-on-south-side/', 'http://abc7chicago.com/archive/9035531/', 'http://www.whio.com/news/news/crime-law/dayton-police-respond-to-shooting-on-hulbert-ave/npcxF/', 'http://fox59.com/2015/11/17/three-men-face-murder-charges-police-say-they-killed-two-men-during-illegal-dice-game/', 'http://minnesota.cbslocal.com/2014/09/25/man-dies-6-weeks-after-shooting-at-400-soundbar/', 'http://www.wxyz.com/news/region/detroit/10-year-old-girl-shot-during-road-rage-incident-on-detroits-west-side', 'http://fox13now.com/2015/10/11/10-year-old-boy-accidentally-shot-killed-in-cache-county-hunting-accident/', 'http://fox2now.com/2013/04/25/family-needs-help-to-bury-manchester-il-shooting-victims/', 'http://abc13.com/news/juvenile-hospitalized-after-being-shot-in-atascocita-home/1094559/', 'http://fox8.com/2015/11/27/marshals-arrest-suspect-in-shooting-death-of-5-month-old-cleveland-girl/', 'http://www.wtok.com/home/headlines/Shooting-at-West-Alabama-Nightclub-Injures-Four-368854281.html', 'http://chicago.cbslocal.com/2013/07/05/four-shot-including-14-year-old-boy-in-woodlawn/', 'http://www.kcbd.com/story/31242992/lpd-father-cleaning-rifle-accidental-discharge-killed-5-year-old-son', 'http://abc7chicago.com/archive/9239958/', 'http://www.tampabay.com/news/publicsafety/crime/police-responding-to-shooting-at-clearwater-apartment-find-boy-10-dead/2308509', 'http://news.asiantown.net/r/28306/no-death-penalty-for-kong-meng-vue-in-drive-by-shooting-case', 'http://fox2now.com/2013/08/09/multiple-people-shot-in-north-st-louis-2/', 'http://abc7ny.com/news/1-dead-3-hurt-after-shooting-at-brooklyn-hookah-lounge/960215/', 'http://boston.cbslocal.com/2015/06/27/1-killed-2-hurt-in-taunton-shootout/', 'http://fox59.com/2013/08/02/four-people-shot-in-broadripple/', 'http://www.buffalonews.com/city-region/police-blotter/teen-shot-himself-in-the-foot-in-town-of-hartland-20151109', 'http://abc13.com/archive/9320227/', 'http://woodtv.com/2016/02/14/bcpd-woman-dies-of-gunshot-wound/', 'http://fox40.com/2013/03/16/mass-casualty-incident-declared-in-galt-after-reported-shooting/', 'http://www.examiner.com/article/teen-arrested-after-fatally-shooting-another-teen-seat-pleasant', 'http://www.wdrb.com/story/30038110/seventeen-year-old-charged-in-murder-of-fern-creek-teen-to-be-tried-as-an-adult', 'http://newyork.cbslocal.com/2014/11/23/parents-charged-after-brooklyn-baby-struck-by-bullet/', 'http://www.wvtm13.com/news/3yearold-accidentally-shoots-9yearold-sister-in-irondale/37858226', 'http://www.whio.com/news/news/crime-law/shooting-reported-in-springfield/njDDR/', 'http://chicago.cbslocal.com/2015/09/19/19-shot-in-chicago-since-friday-night/', 'http://fox17online.com/2013/02/22/breaking-now-shooting-at-bar-in-grand-rapids/', 'http://www.nbcsandiego.com/news/local/oceanside-libby-lake-park-197917021.html', 'http://abc27.com/2016/01/12/police-to-id-victims-of-shooting-near-duncannon/', 'http://fox8.com/2015/06/12/boy-3-shot-self-with-gun-he-found-in-mothers-purse/', 'http://abc7chicago.com/news/elderly-man-killed-3-injured-in-roseland-shooting-/551473/', 'http://fox8.com/2014/05/18/1-badly-beaten-7-shot-during-incident-at-sports-bar/', 'http://7online.com/news/3-dead-after-shooting-on-long-island/765774/', 'http://fox8.com/2015/02/05/sources-two-dead-one-injured-after-shooting-in-warrensville-heights/', 'http://fox8.com/2015/04/12/1-year-old-child-killed-in-shooting-in-cleveland/', 'http://fox6now.com/2015/06/11/released-menasha-police-issue-final-report-on-trestle-trail-bridge-shooting/', 'http://abc13.com/news/3-year-old-boy-shot-in-the-head-cyfair-vfd-says/537322/', 'http://dfw.cbslocal.com/2015/07/03/boy-accidentally-shoots-himself-in-the-leg/', 'http://abc13.com/news/15-year-old-boy-accidentally-shot-killed-by-brother-in-sw-houston/1161643/', 'http://abc7news.com/archive/9061192/', 'http://www.dnainfo.com/new-york/20150306/sunnyside/ex-con-arrested-sunnyside-shooting-that-wounded-4-bystanders-police-say', 'http://denver.cbslocal.com/2014/11/23/1-dead-2-hurt-in-denver-bar-shooting/', 'http://fox2now.com/2015/12/15/4-year-old-shots-himself-accidentally-with-grandfathers-handgun/', 'http://amarillo.com/news/latest-news/2015-03-26/police-investigate-near-hamlet-elementary', 'http://fox40.com/2014/08/01/autistic-10-year-old-accidentally-shoots-himself/', 'http://gazette.com/shooting-in-denver-leaves-1-dead-3-wounded/article/1562812', 'http://www.nbcconnecticut.com/news/local/1-Killed-5-Injured-in-New-Haven-Club-Shooting-229371141.html', 'http://dfw.cbslocal.com/2016/02/06/sheriffs-office-5-year-old-boy-accidentally-shot-in-kaufman-county/', 'http://6abc.com/news/dad-of-toddler-who-shot-self-warned-about-guns-records-show/1530187/', 'http://abc7chicago.com/news/1-killed-11-injured-after-shooting-rollover-crash-near-dan-ryan/993054/', 'http://www.whio.com/news/news/crime-law/dayton-police-on-scene-of-reported-shooting/np5QD/', 'http://fox6now.com/2015/09/06/police-10-year-old-girl-who-said-she-was-shot-in-washington-park-fabricated-story-shot-herself/', 'http://abc11.com/news/teen-shot-killed-while-trying-to-buy-phone-off-craigslist/370532/', 'http://news4sanantonio.com/news/local/two-dead-one-wounded-in-kerrville-tx-shooting', 'http://abc13.com/1175831/', 'http://fox59.com/2015/02/10/two-children-woman-injured-in-southern-indiana-shooting/', 'http://www.dnainfo.com/chicago/20140728/east-garfield-park/fight-before-summer-school-may-have-led-shooting-death-of-13-year-old', 'http://abc30.com/archive/9176737/', 'http://crimeblog.dallasnews.com/2013/07/reports-fort-worth-shooting-wounds-three-including-child.html/', 'http://chicago.cbslocal.com/2013/08/19/breaking-5-shot-one-fatally-in-uptown/', 'http://m.mysanantonio.com/news/local/article/Two-year-old-fatally-shoots-himself-in-head-5507389.php', 'http://abc7chicago.com/news/4-wounded-in-east-garfield-park-shooting/402447/', 'http://abc11.com/news/three-dead-in-fayetteville-shooting-that-left-two-deputies-wounded/227646/', 'http://english.cntv.cn/20131117/100728.shtml', 'http://7online.com/news/police-investigating-after-4-shot-outside-elizabeth-teen-center/439715/', 'http://chicago.cbslocal.com/2015/08/16/teen-charged-with-accidental-shooting-that-killed-14-year-old-girl-on-west-side/', 'http://www.wdsu.com/news/local-news/new-orleans/nopd-identifies-4-more-suspects-in-bunny-friend-playground-shooting/36802264', 'http://chronicle.augusta.com/latest-news/2015-04-29/child-1-fatally-shot', 'http://m.ajc.com/news/news/local/breaking-2-people-shot-in-nw-atlanta/nmzQ2/', 'http://12160.info/forum/topics/6-injured-from-shooting-near-university-ave-mcdonalds-in-east-pal', 'http://denver.cbslocal.com/2015/12/06/deadly-shooting-of-18-year-old-may-have-been-accident/', 'http://abc11.com/news/deputy-home-after-being-shot-in-line-of-duty/277367/', 'http://cjonline.com/news/2013-04-07/one-dead-three-injured-manhattan-shooting', 'http://abc13.com/news/suspect-charged-after-8-people-found-dead-in-nw-harris-co-home/914922/', 'http://fox5sandiego.com/2015/12/19/girl-6-accidentally-shoots-self-in-leg/', 'http://nypost.com/2016/02/12/teen-fatally-shoots-pal-while-gloating-over-touchdown-in-video-game/', 'http://www.goblueridge.net/news/30591-child-struck-by-shotgun-pellets-christmas-eve', 'http://www.nbcmiami.com/news/local/Child-Shot-and-Killed-In-NW-Miami-Dade-Police-369537291.html', 'http://chicago.cbslocal.com/2015/09/29/two-cpd-officers-hailed-for-rushing-wounded-baby-to-hospital/', 'http://fox6now.com/2014/12/28/mayor-barrett-mpd-to-hold-news-conference-after-13-month-old-boy-shot-killed/', 'http://fox8.com/2015/07/16/at-least-7-injured-in-overnight-drive-by-shooting-on-clevelands-east-side/', 'http://dfw.cbslocal.com/2014/11/29/5-year-old-boy-accidentally-shot-in-face/', 'http://www.whio.com/news/news/crime-law/multiple-victims-reported-in-dayton-shooting/nnqSG/', 'http://fox17online.com/2016/02/14/police-investigating-death-of-24-year-old-woman/', 'http://abc7chicago.com/news/father-of-boy-3-killed-in-accidental-shooting-got-gun-for-protection-police-say/1038841/', 'http://abclocal.go.com/wabc/story', 'http://abc7.com/news/4-people-hurt-in-apparent-drive-by-shooting-in-long-beach/921418/', 'http://fox59.com/2015/03/25/family-member-of-quadruple-homicide-victims-enough-is-enough/', 'http://articles.chicagotribune.com/2013-02-08/news/chi-3-shot-in-south-shore-neighborhood-20130207_1_south-shore-neighborhood-men-shot-south-exchange-avenue', 'http://www.goblueridge.net/index.php/news/30591-child-struck-by-shotgun-pellets-christmas-eve', 'http://chronicle.northcoastnow.com/2013/04/26/four-people-shot-in-oberlin/', 'http://fox59.com/2015/06/11/police-investigate-shooting-of-11-year-old-child-on-indianapolis-north-side/', 'http://fox4kc.com/2013/06/24/1-dead-2-injured-in-kc-shooting/', 'http://accesswdun.com/article/2016/2/367136/charges-shifted-added-in-south-hall-shooting-case', 'http://7online.com/news/at-least-1-dead-after-multiple-shooting-in-hamilton-heights/500497/', 'http://www.kesq.com/news/party-shooting-leaves-a-teen-dead-and-2-others-wounded/26034580', 'http://chicago.cbslocal.com/2013/04/23/seven-wounded-in-shootings-on-south-west-sides/', 'http://6abc.com/news/camden-teen-wounded-in-apparent-accidental-shooting/559362/', 'http://wjla.com/news/local/three-people-shot-in-a-home-new-years-day-in-howard-county', 'http://freakoutnation.com/2015/10/fort-worth-man-opens-fire-on-mother-of-his-child-and-four-other-adults/', 'http://abc7.com/news/4-people-in-car-injured-after-gunman-opens-fire-in-south-los-angeles/935475/', 'http://fox59.com/2013/11/30/three-teens-shot-after-east-side-house-party-gets-out-of-control/', 'http://fox8.com/2013/11/10/1-killed-3-injured-in-canton-bar-shooting/', 'http://6abc.com/archive/9202915/', 'http://www.wtae.com/news/at-least-three-people-shot-in-east-pittsburgh/36564352', 'http://fox59.com/2015/04/05/three-people-shot-on-northwest-side-of-indianapolis-police-searching-for-suspect/', 'http://abc7news.com/news/six-injured-in-two-separate-shootings-in-san-francisco/383097/', 'http://abc13.com/archive/9334256/', 'http://blogs.sacbee.com/crime/archives/2013/08/homicide-suspect-denies-involvement-in-valley-hi-shooting-of-four.html', 'http://brooklyn.news12.com/news/3-men-1-woman-wounded-in-quadruple-shooting-on-lincoln-place-in-crown-heights-1.5740597', 'http://kfor.com/2013/07/14/one-dead-three-injured-in-northeast-okc-shooting/', 'http://fox2now.com/2015/12/21/large-police-presence-in-north-st-louis-county-neighborhood-after-report-of-shooting/', 'http://fox6now.com/2014/06/27/teen-altercation-leads-to-shoot-out-three-of-five-people-injured-released-from-hospital/', 'http://kdhnews.com/news/breaking_importer/kpd-veterans-day-shooting-an-accident/article_e31e8ec2-8a3b-11e5-b79b-0bef2cb6363b.html', 'http://7online.com/news/police-yonkers-teen-girl-accidentally-shot-by-other-teen-lies-to-cops/676140/', 'http://www.mysanantonio.com/news/local/article/Murder-suicide-ends-with-three-people-dead-in-8331887.php', 'http://detroit.cbslocal.com/2015/04/14/police-19-year-old-woman-accidentally-shot-by-13-year-old-boy/', 'http://fox59.com/2015/08/21/child-shot-in-hand-on-near-northeast-side/', 'http://theadvocate.com/news/7957993-123/photos-gunman-targeted-wife-former', 'http://fox59.com/2015/11/09/multiple-people-shot-on-near-east-side-early-monday-morning/', 'http://theadvocate.com/news/police/11668741-123/accidental-shooting-kills-juvenile', 'http://m.ajc.com/news/news/breaking-news/child-in-critical-condition-after-4-shot-at-dekalb/nn2Gj/', 'http://ktla.com/2014/06/14/3-killed-1-injured-in-south-l-a-shooting-investigation-underway/', 'http://crimeblog.dallasnews.com/2015/03/five-wounded-one-killed-in-lancaster-shooting.html/', 'http://fox59.com/2015/12/26/12-year-old-boy-injured-in-handgun-accident/', 'http://chicago.cbslocal.com/2014/12/21/report-four-killed-including-two-kids-in-rockford-shooting/', 'http://detroit.cbslocal.com/2015/01/27/investigation-underway-after-13-year-old-shot-killed-in-detroit/', 'http://fox2now.com/2015/02/22/accidental-shooting-wounds-three-year-old/', 'http://www.philly.com/philly/news/20160701_Police_still_seeking_mom_s_boyfriend_in_4-year-old_s_death.html', 'http://fox4kc.com/2013/06/23/prospect-shooting-spree-puts-nine-in-hospital-two-critically-hurt/', 'http://chicago.cbslocal.com/2013/02/07/four-wounded-in-south-shore-shooting/', 'http://articles.courant.com/2013-07-19/community/hc-hartford-shooting-vibes-club-0720-20130719_1_graze-wound-18-year-old-man-10-gunshots', 'http://chicago.cbslocal.com/2015/09/03/police-10-year-old-boy-killed-in-accidental-shooting/', 'http://fox59.com/2014/09/30/indianapolis-mom-arrested-after-3-year-old-son-shoots-himself-with-gun/', 'http://www.wlwt.com/news/man-killed-in-westwood-shooting-police-say/37981130', 'http://abclocal.go.com/kgo/story', 'http://articles.baltimoresun.com/2013-08-25/news/bs-md-ci-shootings-20130824_1_west-baltimore-15-year-old-boy-shooting-incidents', 'http://detroit.cbslocal.com/2015/08/10/violent-night-in-the-city-of-detroit-leaves-2-dead-8-injured/', 'http://dcist.com/2013/01/five_shot_sunday_morning_at_northea.php', 'http://abc7news.com/archive/9302826/', 'http://fox40.com/2013/06/23/19-year-old-dead-after-shots-ring-out-at-party/', 'http://dfw.cbslocal.com/2014/07/04/juvenile-arrested-after-suspected-accidental-shooting/', 'http://fox43.com/2016/01/14/hummelstown-juvenile-dead-from-gunshot-wound/', 'http://dfw.cbslocal.com/2015/06/05/one-year-old-boy-shot-in-dallas/', 'http://www.wkyc.com/news/local/cleveland/gunfire-rings-out-2-children-1-adult-shot-in-cleveland/264489421', 'http://archive.news10.net/news/article/229997/2/5-shot-in-Vallejo-dead-victim-identified', 'http://www.philly.com/philly/news/20160625_Sources__Girl__4__believed_to_have_accidentally_shot_self.html', 'http://chicago.cbslocal.com/2014/04/30/four-wounded-in-south-shore-shooting-2/', 'http://abc13.com/archive/9337822/', 'http://6abc.com/news/girl-11-wounded-in-accidental-shooting-in-wissinoming/567907/', 'http://chicago.cbslocal.com/2015/11/29/five-shot-during-party-at-kankakee-banquet-hall/', 'http://fox6now.com/2015/05/26/three-men-with-prior-convictions-charged-in-connection-with-kendrai-walkers-death-shooting-at-his-vigil/', 'http://fox61.com/2015/11/10/state-police-investigate-shooting-in-windham/', 'http://abc27.com/2016/02/04/eviction-shooting-case-did-county-notify-police-of-mental-health-issues/', 'http://chicago.cbslocal.com/2015/05/13/boy-16-hurt-in-south-chicago-shooting/', 'http://fox6now.com/2015/05/07/charged-24-year-old-man-in-connection-with-shooting-that-left-two-members-of-the-same-family-dead/', 'http://homicide.latimes.com/neighborhood/long-beach', 'http://detroit.cbslocal.com/2013/05/16/4-shot-1-killed-during-argument-in-detroit/', 'http://fox6now.com/2013/06/01/4-shot-outside-milwaukee-nightclub/', 'http://www.wral.com/sheriff-11-year-old-injured-in-wake-county-shooting/15366510/', 'http://crimeblog.dallasnews.com/2015/01/young-girl-injured-father-arrested-in-colleyville-after-accidental-shooting.html/', 'http://abc7ny.com/news/2-men-under-arrest-for-shooting-in-hamilton-heights-that-killed-1-wounded-4/948385/', 'http://fox40.com/2015/12/05/stockton-teen-shot-in-foot-by-3-year-old-sibling/', 'http://www.wdrb.com/story/31212326/mother-accidentally-shot-by-2-year-old-son-near-churchill-downs', 'http://www.heraldonline.com/news/local/crime/article45046719.html', 'http://1350kman.com/plea-in-university-garden-murder/', 'http://kdhnews.com/military/shooting-report-could-spark-change-to-fort-hood-s-gun/article_1531a40c-a456-11e4-89ca-875214898bf3.html', 'http://nypost.com/2015/06/15/four-shot-outside-nyc-bar/', 'http://fox59.com/2015/04/10/suspect-identified-in-shooting-that-injured-2-women-3-children/', 'http://www.timesunion.com/local/article/Troopers-Unclear-why-Colonie-cop-killed-family-6823480.php', 'http://m.wsbtv.com/news/news/local/16-year-old-girl-accidentally-shoots-kills-friend-/nqNx5/', 'http://abc7news.com/news/six-injured-two-critically-in-sf-shooting/412017/', 'http://savannahnow.com/crime/2015-01-02/police-1-dead-4-injured-overnight-savannah-shooting', 'http://www.myfoxdetroit.com/story/29369660/1-dead-9-injured-in-shooting-on-basketball-court-on-detroits-west-side', 'http://www.wbrz.com/news/brpd-arrests-teen-in-birch-st-deadly-shooting/', 'http://fox40.com/2013/10/27/police-8-people-shot-in-vallejo-after-getting-flat-tire/', 'http://kansasfirstnews.com/2015/01/05/kansas-baby-dies-after-drive-by-shooting/', 'http://abc7ny.com/archive/9194102/', 'http://abc11.com/news/1-year-old-in-hospital-after-shooting-in-chapel-hill/1136277/', 'http://dfw.cbslocal.com/2015/10/27/4-people-injured-by-man-with-a-shotgun-in-fort-worth/', 'http://www.herald-dispatch.com/news/report--year-old-accidentally-shoots-friend-in-huntington/article_9e73efae-950d-599e-91c1-f32f6cf2fb33.html', 'http://abc30.com/archive/9344154/', 'http://abc7.com/news/3-month-old-shot-in-face-in-compton-lasd-says/1194290/', 'http://6abc.com/news/sources-girl-4-accidentally-shot-herself/1398453/', 'http://6abc.com/news/1-charged-1-sought-in-fatal-shooting-of-3-year-old/234850/', 'http://www.wdbj7.com/news/local/southern-virginia/woman-in-stable-condition-after-accidental-shooting-in-halifax-county/37626848', 'http://detroit.cbslocal.com/2015/04/20/20-year-old-ex-con-charged-in-critical-wounding-of-2-year-old-lansing-girl/', 'http://www.wsmv.com/story/32359209/police-child-shot-in-face-in-clarksville', 'http://savannahnow.com/news/2014-12-04/police-teen-shot-savannah-thursday-night', 'http://fox59.com/2013/06/02/four-wounded-in-birthday-shooting/', 'http://www.khq.com/story/30629385/16-year-old-arrested-in-shooting-of-11-year-old-in-everett', 'http://www.aikenstandard.com/article/20141027/AIK0101/141029486', 'http://crimeblog.dallasnews.com/2015/12/11-year-old-shot-in-buckner-terrace.html/', 'http://homicide.latimes.com/post/lavell-lee-smith/', 'http://herald-zeitung.com/community_alert/article_ce50f30e-4887-11e5-bc02-6f41d11b96d2.html', 'http://articles.latimes.com/2013/apr/07/local/la-me-ln-long-beach-shooting-one-killed-20130407', 'http://www.whio.com/news/news/crime-law/shooting-victim-dropped-off-behind-dumpster-in-day/nnjbg/', 'http://ktla.com/2016/02/09/3-month-old-baby-shot-in-the-face-by-gunfire-in-compton/', 'http://brooklynda.org/2015/03/18/brooklyn-man-sentenced-to-47-years-to-life-in-prison-for-quadruple-shooting-in-gang-dispute-at-basketball-tournament/', 'http://krqe.com/2015/10/20/albuquerque-police-4-year-old-shot-in-the-head-i-40-at-unser-shut-down/', 'http://chicago.cbslocal.com/2013/09/07/2-killed-4-wounded-in-gary-shooting/', 'http://savannahnow.com/crime/2015-10-15/savannah-chatham-police-investigate-apparent-domestic-shooting-ogeechee-road', 'http://fox17online.com/2016/02/15/woman-killed-in-accidental-shooting-identified/', 'http://abc7ny.com/news/nyc-officials-5-people-injured-in-red-hook-shooting/901599/', 'http://www.heraldnet.com/article/20151204/NEWS01/151209636', 'http://crimeblog.dallasnews.com/2014/08/dallas-police-three-dead-following-saturday-morning-shootings-in-south-oak-cliff.html/', 'http://fox6now.com/2014/11/06/breaking-five-year-old-girl-shot-in-milwaukee/', 'http://fox2now.com/2013/01/25/two-shot-in-north-st-louis/', 'http://abc7chicago.com/news/police-boy-6-accidentally-shot-sister-3-in-gary-/708252/', 'http://foxsanantonio.com/news/local/hunting-accident-leaves-one-dead', 'http://abc7chicago.com/archive/9134275/', 'http://www.greenvilleonline.com/story/news/crime/2015/11/03/anderson-county-sheriffs-office-4-adults-murdered/75091588/', 'http://fox40.com/2015/03/17/breaking-6-injured-1-dead-after-stockton-shooting/', 'http://abc13.com/news/suspect-identified-after-8-found-dead-inside-home/914922/'}\n"
     ]
    }
   ],
   "source": [
    "print(intersection)"
   ]
  },
  {
   "cell_type": "code",
   "execution_count": 12,
   "metadata": {
    "collapsed": true
   },
   "outputs": [],
   "source": [
    "import pickle\n",
    "GVA_DATE_CACHE='gva_date_cache.p'\n",
    "pickle.dump(gva_dates_cache, open(GVA_DATE_CACHE, 'wb'))"
   ]
  },
  {
   "cell_type": "code",
   "execution_count": 13,
   "metadata": {
    "collapsed": false
   },
   "outputs": [
    {
     "name": "stdout",
     "output_type": "stream",
     "text": [
      "defaultdict(<class 'int'>, {2016: 87, 1969: 1, 2017: 1, 2013: 46, 2014: 29, 2015: 100})\n"
     ]
    }
   ],
   "source": [
    "print(date_distributions)"
   ]
  },
  {
   "cell_type": "code",
   "execution_count": null,
   "metadata": {
    "collapsed": true
   },
   "outputs": [],
   "source": []
  }
 ],
 "metadata": {
  "anaconda-cloud": {},
  "kernelspec": {
   "display_name": "Python [Root]",
   "language": "python",
   "name": "Python [Root]"
  },
  "language_info": {
   "codemirror_mode": {
    "name": "ipython",
    "version": 3
   },
   "file_extension": ".py",
   "mimetype": "text/x-python",
   "name": "python",
   "nbconvert_exporter": "python",
   "pygments_lexer": "ipython3",
   "version": "3.5.3"
  }
 },
 "nbformat": 4,
 "nbformat_minor": 0
}
