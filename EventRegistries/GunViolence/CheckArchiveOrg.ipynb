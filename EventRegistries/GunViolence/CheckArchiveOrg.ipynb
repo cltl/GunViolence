{
 "cells": [
  {
   "cell_type": "code",
   "execution_count": 1,
   "metadata": {
    "collapsed": true
   },
   "outputs": [],
   "source": [
    "import pickle\n",
    "import pandas\n",
    "from collections import Counter, defaultdict\n",
    "import operator\n",
    "import utils\n",
    "from geopy.geocoders import Nominatim\n",
    "from newspaper import Article\n",
    "import requests\n",
    "from urllib.parse import urlencode, quote_plus\n",
    "import time"
   ]
  },
  {
   "cell_type": "code",
   "execution_count": 2,
   "metadata": {
    "collapsed": true
   },
   "outputs": [],
   "source": [
    "import classes"
   ]
  },
  {
   "cell_type": "code",
   "execution_count": 3,
   "metadata": {
    "collapsed": true
   },
   "outputs": [],
   "source": [
    "urls_and_paths = [('frames/children_killed', 'http://www.gunviolencearchive.org/children-killed'),\n",
    "                  ('frames/children_injured', 'http://www.gunviolencearchive.org/children-injured'),\n",
    "                  ('frames/teens_killed', 'http://www.gunviolencearchive.org/teens-killed'),\n",
    "                  ('frames/teens_injured', 'http://www.gunviolencearchive.org/teens-injured'),\n",
    "                  ('frames/accidental_deaths', 'http://www.gunviolencearchive.org/accidental-deaths'),\n",
    "                  ('frames/accidental_injuries', 'http://www.gunviolencearchive.org/accidental-injuries'),\n",
    "                  ('frames/accidental_deaths_children', 'http://www.gunviolencearchive.org/accidental-child-deaths'),\n",
    "                  ('frames/accidental_injuries_children', 'http://www.gunviolencearchive.org/accidental-child-injuries'),\n",
    "                  ('frames/accidental_deaths_teens', 'http://www.gunviolencearchive.org/accidental-teen-deaths'),\n",
    "                  ('frames/accidental_injuries_teens', 'http://www.gunviolencearchive.org/accidental-teen-injuries'),\n",
    "                  ('frames/officer_involved_shootings', 'http://www.gunviolencearchive.org/officer-involved-shootings'),\n",
    "                  ('frames/mass_shootings_2013', 'http://www.gunviolencearchive.org/reports/mass-shootings/2013'),\n",
    "                  ('frames/mass_shootings_2014', 'http://www.gunviolencearchive.org/reports/mass-shootings/2014'),\n",
    "                  ('frames/mass_shootings_2015', 'http://www.gunviolencearchive.org/reports/mass-shootings/2015'),\n",
    "                  ('frames/mass_shootings', 'http://www.gunviolencearchive.org/mass-shooting')]\n",
    "CORPUS_NAME = 'the_violent_corpus'"
   ]
  },
  {
   "cell_type": "code",
   "execution_count": 4,
   "metadata": {
    "collapsed": false
   },
   "outputs": [
    {
     "data": {
      "text/plain": [
       "5485"
      ]
     },
     "execution_count": 4,
     "metadata": {},
     "output_type": "execute_result"
    }
   ],
   "source": [
    "frames = []\n",
    "for df_path, url in urls_and_paths:\n",
    "    with open(df_path, 'rb') as infile:\n",
    "        df = pickle.load(infile)\n",
    "        frames.append(df)\n",
    "df = pandas.concat(frames)\n",
    "len(df)"
   ]
  },
  {
   "cell_type": "code",
   "execution_count": 5,
   "metadata": {
    "collapsed": true
   },
   "outputs": [],
   "source": [
    "def get_sources(dataframe):\n",
    "    \"\"\"\n",
    "\n",
    "    :param dataframe:\n",
    "    :return:\n",
    "    \"\"\"\n",
    "    sources = set()\n",
    "    for index, row in dataframe.iterrows():\n",
    "        sources.add(row['source_url'])\n",
    "        sources.update(row['incident_sources'])\n",
    "    return sources"
   ]
  },
  {
   "cell_type": "code",
   "execution_count": 6,
   "metadata": {
    "collapsed": false
   },
   "outputs": [
    {
     "name": "stdout",
     "output_type": "stream",
     "text": [
      "http://archive.org/wayback/available?url=http%3A%2F%2Fwww.wdam.com%2Fstory%2F27682998%2F1-dead-4-injured-in-nightclub-shooting\n"
     ]
    }
   ],
   "source": [
    "def generate_archive_uri(article_uri):\n",
    "    archive_api='http://archive.org/wayback/available?'\n",
    "    params={'url': article_uri}\n",
    "    encoded_uri=archive_api + urlencode(params)\n",
    "    print(encoded_uri)\n",
    "    r=requests.get(encoded_uri)\n",
    "    j=r.json()\n",
    "    try:\n",
    "        closest=j['archived_snapshots']['closest']\n",
    "        if all([closest['available'], closest['status']=='200']):\n",
    "            return closest['url']\n",
    "    except:\n",
    "        return ''\n",
    "\n",
    "archive_uri=generate_archive_uri('http://www.wdam.com/story/27682998/1-dead-4-injured-in-nightclub-shooting')"
   ]
  },
  {
   "cell_type": "code",
   "execution_count": 7,
   "metadata": {
    "collapsed": false
   },
   "outputs": [],
   "source": [
    "def download_and_parse_uri(url):\n",
    "    language='en'\n",
    "    a=Article(url, language)\n",
    "    a.download()\n",
    "    a.parse()\n",
    "    title=a.title\n",
    "    content=a.text\n",
    "    dct=a.publish_date or a.meta_data['date']\n",
    "\n",
    "    news_item=classes.NewsItem(\n",
    "        title=title,\n",
    "        content=content,\n",
    "        dct=dct\n",
    "    )\n",
    "    return news_item\n",
    "\n",
    "item=download_and_parse_uri(archive_uri)"
   ]
  },
  {
   "cell_type": "code",
   "execution_count": null,
   "metadata": {
    "collapsed": false
   },
   "outputs": [
    {
     "name": "stdout",
     "output_type": "stream",
     "text": [
      "2014/12/21\n"
     ]
    }
   ],
   "source": [
    "print(item.dct)"
   ]
  },
  {
   "cell_type": "code",
   "execution_count": null,
   "metadata": {
    "collapsed": false
   },
   "outputs": [
    {
     "name": "stdout",
     "output_type": "stream",
     "text": [
      "http://archive.org/wayback/available?url=http%3A%2F%2Fpix11.com%2F2016%2F10%2F30%2F2-dead-in-newburgh-shooting-gunman-at-large-police%2F\n",
      "2 dead, 5 injured in Newburgh Halloween party shooting\n",
      "continue?\n",
      "http://archive.org/wayback/available?url=http%3A%2F%2Fwww.khou.com%2Fnews%2Fcrime%2Frobbery-suspect-shot-at-raising-canes-in-the-woodlands%2F355202865\n",
      "Deputy kills Raising Cane's robbery suspect; 2 customers hurt\n",
      "continue?\n",
      "http://archive.org/wayback/available?url=http%3A%2F%2Fwww.ksla.com%2Fstory%2F29517923%2Favoyelles-parish-man-kills-7-year-old-daughter-himself\n",
      "Avoyelles Parish man kills 7-year-old daughter, himself - KSLA News 12 Shreveport, Louisiana News Weather & Sports\n"
     ]
    }
   ],
   "source": [
    "sources=get_sources(df)\n",
    "for source in sources:\n",
    "    if source!='':\n",
    "        archive_uri=generate_archive_uri(source)\n",
    "        if archive_uri:\n",
    "            item=download_and_parse_uri(archive_uri)\n",
    "            print(item.title)\n",
    "            input('continue?')\n",
    "            time.sleep(10)\n",
    "        else:\n",
    "            print(\"No archive.org versions found!\")"
   ]
  },
  {
   "cell_type": "code",
   "execution_count": null,
   "metadata": {
    "collapsed": true
   },
   "outputs": [],
   "source": []
  },
  {
   "cell_type": "code",
   "execution_count": null,
   "metadata": {
    "collapsed": true
   },
   "outputs": [],
   "source": []
  }
 ],
 "metadata": {
  "anaconda-cloud": {},
  "kernelspec": {
   "display_name": "Python [Root]",
   "language": "python",
   "name": "Python [Root]"
  },
  "language_info": {
   "codemirror_mode": {
    "name": "ipython",
    "version": 3
   },
   "file_extension": ".py",
   "mimetype": "text/x-python",
   "name": "python",
   "nbconvert_exporter": "python",
   "pygments_lexer": "ipython3",
   "version": "3.5.3"
  }
 },
 "nbformat": 4,
 "nbformat_minor": 0
}
