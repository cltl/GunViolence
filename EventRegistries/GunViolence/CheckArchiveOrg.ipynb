{
 "cells": [
  {
   "cell_type": "code",
   "execution_count": 1,
   "metadata": {
    "collapsed": true
   },
   "outputs": [],
   "source": [
    "import pickle\n",
    "import pandas\n",
    "from collections import Counter, defaultdict\n",
    "import operator\n",
    "import utils\n",
    "from geopy.geocoders import Nominatim\n",
    "from newspaper import Article\n",
    "import requests\n",
    "from urllib.parse import urlencode, quote_plus"
   ]
  },
  {
   "cell_type": "code",
   "execution_count": 2,
   "metadata": {
    "collapsed": true
   },
   "outputs": [],
   "source": [
    "urls_and_paths = [('frames/children_killed', 'http://www.gunviolencearchive.org/children-killed'),\n",
    "                  ('frames/children_injured', 'http://www.gunviolencearchive.org/children-injured'),\n",
    "                  ('frames/teens_killed', 'http://www.gunviolencearchive.org/teens-killed'),\n",
    "                  ('frames/teens_injured', 'http://www.gunviolencearchive.org/teens-injured'),\n",
    "                  ('frames/accidental_deaths', 'http://www.gunviolencearchive.org/accidental-deaths'),\n",
    "                  ('frames/accidental_injuries', 'http://www.gunviolencearchive.org/accidental-injuries'),\n",
    "                  ('frames/accidental_deaths_children', 'http://www.gunviolencearchive.org/accidental-child-deaths'),\n",
    "                  ('frames/accidental_injuries_children', 'http://www.gunviolencearchive.org/accidental-child-injuries'),\n",
    "                  ('frames/accidental_deaths_teens', 'http://www.gunviolencearchive.org/accidental-teen-deaths'),\n",
    "                  ('frames/accidental_injuries_teens', 'http://www.gunviolencearchive.org/accidental-teen-injuries'),\n",
    "                  ('frames/officer_involved_shootings', 'http://www.gunviolencearchive.org/officer-involved-shootings'),\n",
    "                  ('frames/mass_shootings_2013', 'http://www.gunviolencearchive.org/reports/mass-shootings/2013'),\n",
    "                  ('frames/mass_shootings_2014', 'http://www.gunviolencearchive.org/reports/mass-shootings/2014'),\n",
    "                  ('frames/mass_shootings_2015', 'http://www.gunviolencearchive.org/reports/mass-shootings/2015'),\n",
    "                  ('frames/mass_shootings', 'http://www.gunviolencearchive.org/mass-shooting')]\n",
    "CORPUS_NAME = 'the_violent_corpus'"
   ]
  },
  {
   "cell_type": "code",
   "execution_count": 3,
   "metadata": {
    "collapsed": false
   },
   "outputs": [
    {
     "data": {
      "text/plain": [
       "5485"
      ]
     },
     "execution_count": 3,
     "metadata": {},
     "output_type": "execute_result"
    }
   ],
   "source": [
    "frames = []\n",
    "for df_path, url in urls_and_paths:\n",
    "    with open(df_path, 'rb') as infile:\n",
    "        df = pickle.load(infile)\n",
    "        frames.append(df)\n",
    "df = pandas.concat(frames)\n",
    "len(df)"
   ]
  },
  {
   "cell_type": "code",
   "execution_count": 4,
   "metadata": {
    "collapsed": true
   },
   "outputs": [],
   "source": [
    "def get_sources(dataframe):\n",
    "    \"\"\"\n",
    "\n",
    "    :param dataframe:\n",
    "    :return:\n",
    "    \"\"\"\n",
    "    sources = set()\n",
    "    for index, row in dataframe.iterrows():\n",
    "        sources.add(row['source_url'])\n",
    "        sources.update(row['incident_sources'])\n",
    "    return sources"
   ]
  },
  {
   "cell_type": "code",
   "execution_count": 5,
   "metadata": {
    "collapsed": false
   },
   "outputs": [],
   "source": [
    "sources=get_sources(df)"
   ]
  },
  {
   "cell_type": "code",
   "execution_count": 6,
   "metadata": {
    "collapsed": false
   },
   "outputs": [
    {
     "name": "stdout",
     "output_type": "stream",
     "text": [
      "http://archive.org/wayback/available?url=http%3A%2F%2Fwww.wdam.com%2Fstory%2F27682998%2F1-dead-4-injured-in-nightclub-shooting\n"
     ]
    }
   ],
   "source": [
    "def generate_archive_uri(article_uri):\n",
    "    archive_api='http://archive.org/wayback/available?'\n",
    "    params={'url': article_uri}\n",
    "    encoded_uri=archive_api + urlencode(params)\n",
    "    print(encoded_uri)\n",
    "    r=requests.get(encoded_uri)\n",
    "    j=r.json()\n",
    "    try:\n",
    "        closest=j['archived_snapshots']['closest']\n",
    "        if all([closest['available'], closest['status']=='200']):\n",
    "            return closest['url']\n",
    "    except:\n",
    "        pass\n",
    "\n",
    "archive_uri=generate_archive_uri('http://www.wdam.com/story/27682998/1-dead-4-injured-in-nightclub-shooting')"
   ]
  },
  {
   "cell_type": "code",
   "execution_count": 14,
   "metadata": {
    "collapsed": false
   },
   "outputs": [
    {
     "name": "stdout",
     "output_type": "stream",
     "text": [
      "One dead, four injured in Waynesboro club shooting - WDAM-TV 7-News, Weather, Sports-Hattiesburg, MS \n",
      "CONTENT:\n",
      " One person is dead, and four others were injured in a shooting at a nightclub in Waynesboro.\n",
      "\n",
      "Authorities told us 23-year-old Shaurice Cunningham died after being shot outside a club on Central Avenue.\n",
      "\n",
      "Another person is reportedly in critical condition at a Jackson hospital.\n",
      "\n",
      "The aunt of the deceased victim said she doesn't know why anyone would harm her nephew. “He was a good person. He was a father of two kids. He didn't bother nobody, whoever shot him, why and what reason,” Debra Cunningham said.\n",
      "\n",
      "No arrests have been made, but police are working several leads and have several people of interest.\n",
      "\n",
      "Nearby residents also expressed their concerns over the shooting.\n",
      "\n",
      "“A young man lost his life last night; a few more young men were shot. No matter, no difference what they represented or what anyone says, they are still black people and we're supposed to come together in unity and love one another,” Eric Leggings said.\n",
      "\n",
      "Anyone with information is asked to call the Waynesboro Police Department. \n",
      "DATES1:\n",
      " None \n",
      "DATES2:\n",
      " 2014/12/21\n"
     ]
    }
   ],
   "source": [
    "def download_and_parse_uri(url):\n",
    "    language='en'\n",
    "    a=Article(url, language)\n",
    "    a.download()\n",
    "    a.parse()\n",
    "    print(a.title,'\\nCONTENT:\\n', a.text, '\\nDATES1:\\n', a.publish_date, '\\nDATES2:\\n', a.meta_data['date'])\n",
    "\n",
    "download_and_parse_uri(archive_uri)"
   ]
  },
  {
   "cell_type": "code",
   "execution_count": null,
   "metadata": {
    "collapsed": true
   },
   "outputs": [],
   "source": []
  }
 ],
 "metadata": {
  "anaconda-cloud": {},
  "kernelspec": {
   "display_name": "Python [Root]",
   "language": "python",
   "name": "Python [Root]"
  },
  "language_info": {
   "codemirror_mode": {
    "name": "ipython",
    "version": 3
   },
   "file_extension": ".py",
   "mimetype": "text/x-python",
   "name": "python",
   "nbconvert_exporter": "python",
   "pygments_lexer": "ipython3",
   "version": "3.5.3"
  }
 },
 "nbformat": 4,
 "nbformat_minor": 0
}
