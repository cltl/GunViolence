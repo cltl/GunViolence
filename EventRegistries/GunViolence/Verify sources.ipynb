{
 "cells": [
  {
   "cell_type": "code",
   "execution_count": 1,
   "metadata": {
    "collapsed": true
   },
   "outputs": [],
   "source": [
    "import pickle\n",
    "import pandas"
   ]
  },
  {
   "cell_type": "code",
   "execution_count": 2,
   "metadata": {
    "collapsed": false
   },
   "outputs": [],
   "source": [
    "df_paths = [#'frames/mass_shootings_2013',\n",
    "            #'frames/mass_shootings_2014',\n",
    "            'frames/mass_shootings_2015']\n",
    "frames = []\n",
    "for df_path in df_paths:\n",
    "    with open(df_path, 'rb') as infile:\n",
    "        df = pickle.load(infile)\n",
    "        frames.append(df)\n",
    "df = pandas.concat(frames)"
   ]
  },
  {
   "cell_type": "code",
   "execution_count": 4,
   "metadata": {
    "collapsed": false
   },
   "outputs": [
    {
     "name": "stdout",
     "output_type": "stream",
     "text": [
      "\n",
      "incident_uri                                                   476321\n",
      "date                                                December 31, 2015\n",
      "state                                                       Louisiana\n",
      "city_or_county                                            New Orleans\n",
      "address                                   1900 block of Amelia Street\n",
      "num_killed                                                          0\n",
      "num_injured                                                         6\n",
      "incident_url        http://www.gunviolencearchive.org/incident/476321\n",
      "source_url          http://www.nola.com/crime/index.ssf/2016/03/su...\n",
      "incident_sources    {http://www.wwltv.com/story/news/crime/2016/01...\n",
      "participants        [{'Status': ' Injured', 'Age Group': ' Teen 12...\n",
      "Name: 0, dtype: object\n",
      "\n",
      "{'Status': ' Injured', 'Age Group': ' Teen 12-17', 'Age': ' 15', 'Type': ' Victim', 'Gender': ' Male'}\n",
      "{'Status': ' Injured', 'Age Group': ' Adult 18+', 'Age': ' 22', 'Type': ' Victim', 'Gender': ' Male'}\n",
      "{'Status': ' Injured', 'Gender': ' Male', 'Type': ' Victim'}\n",
      "{'Status': ' Injured', 'Gender': ' Male', 'Type': ' Victim'}\n",
      "{'Status': ' Injured', 'Gender': ' Male', 'Type': ' Victim'}\n",
      "{'Status': ' Injured, Arrested', 'Age Group': ' Adult 18+', 'Age': ' 20', 'Name': ' Tuwan Minor', 'Type': ' Subject-Suspect', 'Gender': ' Male'}\n",
      "http://www.wwltv.com/story/news/crime/2016/01/01/new-years-eve-shooting-raises-questions-city-crime/78190114/\n",
      "http://www.nola.com/crime/index.ssf/2016/03/suspect_arrested_in_new_years.html#incart_river_index\n",
      "http://www.fox8live.com/story/30864852/shooting-injures-5-on-new-years-eve-in-nola\n"
     ]
    }
   ],
   "source": [
    "from tabulate import tabulate\n",
    "from IPython.core.display import display, HTML\n",
    "\n",
    "for index, row in df.iterrows():\n",
    "    print()\n",
    "    print(row)\n",
    "    print()\n",
    "    for participant in row['participants']:\n",
    "        print(participant)\n",
    "    for incident_source in row['incident_sources']:\n",
    "        print(incident_source)\n",
    "    break"
   ]
  },
  {
   "cell_type": "markdown",
   "metadata": {
    "collapsed": true
   },
   "source": [
    "### observations\n",
    "* date: yes (sometimes with complex reasoning)\n",
    "* state: yes (with reasoning)\n",
    "* city_or_county (sometimes with reasoning)\n",
    "* num_killed: yes\n",
    "* num_injured: yes\n",
    "* name suspect: yes (if in report)\n",
    "    * IDEA: this could be checked with a substring check in documents!\n",
    "* name victims: yes (if in report)\n",
    "    * IDEA: this could be checked with a substring check in documents!\n",
    "* gender: no (at least not consistently)\n",
    "* age: no (at least not consistently)"
   ]
  },
  {
   "cell_type": "code",
   "execution_count": null,
   "metadata": {
    "collapsed": true
   },
   "outputs": [],
   "source": []
  }
 ],
 "metadata": {
  "anaconda-cloud": {},
  "kernelspec": {
   "display_name": "Python [conda root]",
   "language": "python",
   "name": "conda-root-py"
  },
  "language_info": {
   "codemirror_mode": {
    "name": "ipython",
    "version": 3
   },
   "file_extension": ".py",
   "mimetype": "text/x-python",
   "name": "python",
   "nbconvert_exporter": "python",
   "pygments_lexer": "ipython3",
   "version": "3.5.2"
  }
 },
 "nbformat": 4,
 "nbformat_minor": 1
}
