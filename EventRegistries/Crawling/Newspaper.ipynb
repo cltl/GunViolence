{
 "cells": [
  {
   "cell_type": "markdown",
   "metadata": {},
   "source": [
    "# TODO\n",
    "* speed\n",
    "* distribution of sources for which we do not have info"
   ]
  },
  {
   "cell_type": "code",
   "execution_count": 1,
   "metadata": {
    "collapsed": true
   },
   "outputs": [],
   "source": [
    "import newspaper\n",
    "import pandas\n",
    "from IPython.display import clear_output\n",
    "from time import sleep"
   ]
  },
  {
   "cell_type": "code",
   "execution_count": 2,
   "metadata": {
    "collapsed": true
   },
   "outputs": [],
   "source": [
    "from multiprocessing.dummy import Pool as ThreadPool"
   ]
  },
  {
   "cell_type": "code",
   "execution_count": 3,
   "metadata": {
    "collapsed": true
   },
   "outputs": [],
   "source": [
    "from newspaper import Article"
   ]
  },
  {
   "cell_type": "code",
   "execution_count": 10,
   "metadata": {
    "collapsed": false
   },
   "outputs": [],
   "source": [
    "def website_extraction(url, max_sec=5, debug=False):\n",
    "    \"\"\"\n",
    "    attempt to obtain:\n",
    "    1. title\n",
    "    2. document\n",
    "    3. document creation time\n",
    "    \n",
    "    :param str url: url of news article\n",
    "    :param int max_sec: maximum number of seconds to wait for a response after downloading\n",
    "    :param bool debug: if debug, print info to stdout\n",
    "    \n",
    "    :rtype: dict\n",
    "    :return: dict containing keys \n",
    "    1. 'title', \n",
    "    2. 'document'\n",
    "    3. [most reliable] 'publish_date'\n",
    "    4. [slightly less reliable] 'published_time'\n",
    "    5. [slightly slightly less reliable] 'date'\n",
    "    \"\"\"\n",
    "    article = Article(url)\n",
    "    article.download()\n",
    "    \n",
    "    attempts = 0\n",
    "    while not article.is_downloaded:\n",
    "        sleep(1)\n",
    "        attempts += 1\n",
    "        \n",
    "        if attempts == max_sec:\n",
    "            return {'title': '',\n",
    "                    'document' : '',\n",
    "                    'publish_date' : None,\n",
    "                    'published_time' : None,\n",
    "                    'date' : None}\n",
    "    \n",
    "    article.parse()\n",
    "    \n",
    "    title = article.title\n",
    "    document = article.text\n",
    "    \n",
    "    publish_date = article.publish_date\n",
    "    published_time = article.meta_data['published_time']\n",
    "    date = article.meta_data['date']\n",
    "    \n",
    "    if debug:\n",
    "        for key, value in article.meta_data.items():\n",
    "            print(key, value)\n",
    "        \n",
    "    return {'title': title,\n",
    "            'document' : document,\n",
    "            'publish_date' : publish_date,\n",
    "            'published_time' : published_time,\n",
    "            'date' : date}"
   ]
  },
  {
   "cell_type": "code",
   "execution_count": 11,
   "metadata": {
    "collapsed": true
   },
   "outputs": [],
   "source": [
    "def article_iterable(df, num_sources=None):\n",
    "    \"\"\"\n",
    "    article generator\n",
    "    \n",
    "    :param pandas.core.frame.DataFrame df: gunviolence dataframe\n",
    "    :param int maximum: restrict to num_source, if None all will be returned\n",
    "    \n",
    "    :rtype: generator\n",
    "    :return: generator of news articles\n",
    "    \"\"\"\n",
    "    counter = 0\n",
    "    for index, row in df.iterrows():\n",
    "        sources = row['incident_sources'] | {row['source_url']}\n",
    "        for source in sources:\n",
    "                \n",
    "            if num_sources is None:\n",
    "                yield source\n",
    "            else:\n",
    "                if counter < num_sources:\n",
    "                    yield source\n",
    "                else:\n",
    "                    break\n",
    "            \n",
    "            counter += 1"
   ]
  },
  {
   "cell_type": "code",
   "execution_count": 12,
   "metadata": {
    "collapsed": true
   },
   "outputs": [],
   "source": [
    "frames = ['mass_shootings',\n",
    "          'mass_shootings_2013',\n",
    "          'mass_shootings_2014',\n",
    "          'mass_shootings_2015']\n",
    "df = pandas.concat([pandas.read_pickle('../GunViolence/frames/' + frame)\n",
    "                    for frame in frames])"
   ]
  },
  {
   "cell_type": "code",
   "execution_count": 20,
   "metadata": {
    "collapsed": true
   },
   "outputs": [],
   "source": []
  },
  {
   "cell_type": "code",
   "execution_count": 28,
   "metadata": {
    "collapsed": false
   },
   "outputs": [
    {
     "name": "stdout",
     "output_type": "stream",
     "text": [
      "CPU times: user 44.2 s, sys: 18.3 s, total: 1min 2s\n",
      "Wall time: 53.1 s\n"
     ]
    }
   ],
   "source": [
    "%%time\n",
    "iterable = article_iterable(df, num_sources=100)\n",
    "pool = ThreadPool(10) \n",
    "results = pool.map(website_extraction, iterable)"
   ]
  },
  {
   "cell_type": "code",
   "execution_count": null,
   "metadata": {
    "collapsed": true
   },
   "outputs": [],
   "source": []
  },
  {
   "cell_type": "code",
   "execution_count": null,
   "metadata": {
    "collapsed": false
   },
   "outputs": [],
   "source": [
    "inspect=False\n",
    "if inspect:\n",
    "    for source in article_iterable(df, num_sources=10):\n",
    "        clear_output()\n",
    "        result = website_extraction(source)\n",
    "\n",
    "        print()\n",
    "        print(source)\n",
    "        for key, value in result.items():\n",
    "            print(key, value)\n",
    "        input('continue?')"
   ]
  },
  {
   "cell_type": "code",
   "execution_count": null,
   "metadata": {
    "collapsed": true
   },
   "outputs": [],
   "source": []
  }
 ],
 "metadata": {
  "kernelspec": {
   "display_name": "Python 3",
   "language": "python",
   "name": "python3"
  },
  "language_info": {
   "codemirror_mode": {
    "name": "ipython",
    "version": 3
   },
   "file_extension": ".py",
   "mimetype": "text/x-python",
   "name": "python",
   "nbconvert_exporter": "python",
   "pygments_lexer": "ipython3",
   "version": "3.6.0"
  }
 },
 "nbformat": 4,
 "nbformat_minor": 2
}
