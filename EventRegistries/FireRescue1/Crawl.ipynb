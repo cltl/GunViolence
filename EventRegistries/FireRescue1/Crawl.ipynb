{
 "cells": [
  {
   "cell_type": "code",
   "execution_count": 1,
   "metadata": {
    "collapsed": true
   },
   "outputs": [],
   "source": [
    "import requests\n",
    "from lxml import etree\n",
    "from datetime import datetime\n",
    "import pandas"
   ]
  },
  {
   "cell_type": "code",
   "execution_count": 2,
   "metadata": {
    "collapsed": true
   },
   "outputs": [],
   "source": [
    "def extract_paragraphs_city_state(url):\n",
    "    \"\"\"\n",
    "    extract text from firerescue article\n",
    "    \n",
    "    :param str url: firerescue incident report\n",
    "    \n",
    "    :rtype: tuple\n",
    "    :return: (paragraphs, city, state)\n",
    "    \"\"\"\n",
    "    call = requests.get(url)\n",
    "    incident_doc = etree.HTML(call.text)\n",
    "    text_el = incident_doc.xpath('//span[@class=\"text\"]')[0]\n",
    "    paragraphs = [p_el.text for p_el in text_el.iterfind('p')]\n",
    "    \n",
    "    loc_el = incident_doc.xpath('//p/b')[0]\n",
    "    city, state = loc_el.tail[4: -1].rsplit(', ', 1)\n",
    "    if state == 'N/A':\n",
    "        state = ''\n",
    "    \n",
    "    return paragraphs, city, state"
   ]
  },
  {
   "cell_type": "code",
   "execution_count": 3,
   "metadata": {
    "collapsed": true
   },
   "outputs": [],
   "source": [
    "url = 'https://www.firerescue1.com/incident-reports/'\n",
    "base_url = 'https://www.firerescue1.com'"
   ]
  },
  {
   "cell_type": "code",
   "execution_count": 4,
   "metadata": {
    "collapsed": true
   },
   "outputs": [],
   "source": [
    "call = requests.get(url)"
   ]
  },
  {
   "cell_type": "code",
   "execution_count": 5,
   "metadata": {
    "collapsed": true
   },
   "outputs": [],
   "source": [
    "doc = etree.HTML(call.text)"
   ]
  },
  {
   "cell_type": "code",
   "execution_count": 6,
   "metadata": {
    "collapsed": false
   },
   "outputs": [
    {
     "name": "stdout",
     "output_type": "stream",
     "text": [
      "50 2017-03-10 14:34:34.989011\n",
      "100 2017-03-10 14:34:53.816253\n",
      "150 2017-03-10 14:35:15.179743\n",
      "200 2017-03-10 14:35:33.838639\n",
      "250 2017-03-10 14:35:52.002638\n",
      "300 2017-03-10 14:36:13.152189\n",
      "350 2017-03-10 14:36:31.581349\n",
      "400 2017-03-10 14:36:52.265259\n"
     ]
    }
   ],
   "source": [
    "list_of_lists = []\n",
    "headers = ['incident_uri', 'date', \n",
    "           'state', 'city_or_county', 'address',\n",
    "           'incident_url', 'source_url',\n",
    "           'incident_sources', 'participants',\n",
    "           'incident', 'fire_department', 'incident_reporting_date']\n",
    "\n",
    "counter = 0\n",
    "for a_el in doc.xpath('//a[starts-with(@href, \"/incident-reports\")]'):\n",
    "    href = a_el.get('href')\n",
    "    \n",
    "    if href.endswith('submit/'):\n",
    "        continue\n",
    "    \n",
    "    counter += 1\n",
    "    if counter % 50 == 0:\n",
    "        print(counter, datetime.now())\n",
    "        \n",
    "    fire_department = a_el.find('b').text\n",
    "    incident_url = base_url + a_el.get('href')\n",
    "    incident_sources = set()\n",
    "    incident_uri = 'FR' + incident_url.replace(url, '').split('-')[0]\n",
    "    \n",
    "    main_span_el = a_el.find('span[@class=\"redDateText\"]')\n",
    "    child_span_el = main_span_el.find('span')\n",
    "    data_timestamp = child_span_el.get('data-timestamp')\n",
    "    incident_date = datetime.fromtimestamp(int(data_timestamp))\n",
    "    date = incident_date.strftime('%B %d, %Y')\n",
    "    \n",
    "    # city, state_abbr = main_span_el.tail[2:-1].rsplit(', ', 1)\n",
    "    \n",
    "    incident, city, state = extract_paragraphs_city_state(incident_url)\n",
    "    address = ''\n",
    "    participants = dict()\n",
    "    \n",
    "    one_row = [incident_uri, date,\n",
    "               state, city, address, \n",
    "               incident_url, incident_url,\n",
    "               incident_sources, participants,\n",
    "               incident, fire_department, incident_date]\n",
    "    list_of_lists.append(one_row)"
   ]
  },
  {
   "cell_type": "code",
   "execution_count": 7,
   "metadata": {
    "collapsed": false
   },
   "outputs": [],
   "source": [
    "df = pandas.DataFrame(list_of_lists, columns=headers)"
   ]
  },
  {
   "cell_type": "code",
   "execution_count": 8,
   "metadata": {
    "collapsed": false
   },
   "outputs": [
    {
     "data": {
      "text/html": [
       "<div>\n",
       "<table border=\"1\" class=\"dataframe\">\n",
       "  <thead>\n",
       "    <tr style=\"text-align: right;\">\n",
       "      <th></th>\n",
       "      <th>incident_uri</th>\n",
       "      <th>date</th>\n",
       "      <th>state</th>\n",
       "      <th>city_or_county</th>\n",
       "      <th>address</th>\n",
       "      <th>incident_url</th>\n",
       "      <th>source_url</th>\n",
       "      <th>incident_sources</th>\n",
       "      <th>participants</th>\n",
       "      <th>incident</th>\n",
       "      <th>fire_department</th>\n",
       "      <th>incident_reporting_date</th>\n",
       "    </tr>\n",
       "  </thead>\n",
       "  <tbody>\n",
       "    <tr>\n",
       "      <th>0</th>\n",
       "      <td>FR455329</td>\n",
       "      <td>February 20, 2009</td>\n",
       "      <td>Oregon</td>\n",
       "      <td>Tualatin Valley</td>\n",
       "      <td></td>\n",
       "      <td>https://www.firerescue1.com/incident-reports/4...</td>\n",
       "      <td>https://www.firerescue1.com/incident-reports/4...</td>\n",
       "      <td>{}</td>\n",
       "      <td>{}</td>\n",
       "      <td>[At 10:32pm last night (2/17), firefighters we...</td>\n",
       "      <td>Tualatin Valley Fire &amp; Rescue</td>\n",
       "      <td>2009-02-20 01:00:00</td>\n",
       "    </tr>\n",
       "    <tr>\n",
       "      <th>1</th>\n",
       "      <td>FR455326</td>\n",
       "      <td>February 20, 2009</td>\n",
       "      <td>Oregon</td>\n",
       "      <td>Lebanon</td>\n",
       "      <td></td>\n",
       "      <td>https://www.firerescue1.com/incident-reports/4...</td>\n",
       "      <td>https://www.firerescue1.com/incident-reports/4...</td>\n",
       "      <td>{}</td>\n",
       "      <td>{}</td>\n",
       "      <td>[House Fire at 10:16pm Thursday night, 2-19-20...</td>\n",
       "      <td>Lebanon Fire District</td>\n",
       "      <td>2009-02-20 01:00:00</td>\n",
       "    </tr>\n",
       "    <tr>\n",
       "      <th>2</th>\n",
       "      <td>FR453809</td>\n",
       "      <td>February 13, 2009</td>\n",
       "      <td>Oregon</td>\n",
       "      <td>Portland</td>\n",
       "      <td></td>\n",
       "      <td>https://www.firerescue1.com/incident-reports/4...</td>\n",
       "      <td>https://www.firerescue1.com/incident-reports/4...</td>\n",
       "      <td>{}</td>\n",
       "      <td>{}</td>\n",
       "      <td>[Portland Fire &amp; Rescue responded to a fire in...</td>\n",
       "      <td>Portland Fire Rescue</td>\n",
       "      <td>2009-02-13 01:00:00</td>\n",
       "    </tr>\n",
       "    <tr>\n",
       "      <th>3</th>\n",
       "      <td>FR453057</td>\n",
       "      <td>February 10, 2009</td>\n",
       "      <td>Michigan</td>\n",
       "      <td>Parma</td>\n",
       "      <td></td>\n",
       "      <td>https://www.firerescue1.com/incident-reports/4...</td>\n",
       "      <td>https://www.firerescue1.com/incident-reports/4...</td>\n",
       "      <td>{}</td>\n",
       "      <td>{}</td>\n",
       "      <td>[]</td>\n",
       "      <td>Parma-Sandstone</td>\n",
       "      <td>2009-02-10 01:00:00</td>\n",
       "    </tr>\n",
       "    <tr>\n",
       "      <th>4</th>\n",
       "      <td>FR448687</td>\n",
       "      <td>January 22, 2009</td>\n",
       "      <td>California</td>\n",
       "      <td>Los Angeles</td>\n",
       "      <td></td>\n",
       "      <td>https://www.firerescue1.com/incident-reports/4...</td>\n",
       "      <td>https://www.firerescue1.com/incident-reports/4...</td>\n",
       "      <td>{}</td>\n",
       "      <td>{}</td>\n",
       "      <td>[On Sunday, January 18, 2009 at 8:56 PM, 9 Com...</td>\n",
       "      <td>LAFD</td>\n",
       "      <td>2009-01-22 01:00:00</td>\n",
       "    </tr>\n",
       "  </tbody>\n",
       "</table>\n",
       "</div>"
      ],
      "text/plain": [
       "  incident_uri               date       state   city_or_county address  \\\n",
       "0     FR455329  February 20, 2009      Oregon  Tualatin Valley           \n",
       "1     FR455326  February 20, 2009      Oregon         Lebanon            \n",
       "2     FR453809  February 13, 2009      Oregon         Portland           \n",
       "3     FR453057  February 10, 2009    Michigan            Parma           \n",
       "4     FR448687   January 22, 2009  California      Los Angeles           \n",
       "\n",
       "                                        incident_url  \\\n",
       "0  https://www.firerescue1.com/incident-reports/4...   \n",
       "1  https://www.firerescue1.com/incident-reports/4...   \n",
       "2  https://www.firerescue1.com/incident-reports/4...   \n",
       "3  https://www.firerescue1.com/incident-reports/4...   \n",
       "4  https://www.firerescue1.com/incident-reports/4...   \n",
       "\n",
       "                                          source_url incident_sources  \\\n",
       "0  https://www.firerescue1.com/incident-reports/4...               {}   \n",
       "1  https://www.firerescue1.com/incident-reports/4...               {}   \n",
       "2  https://www.firerescue1.com/incident-reports/4...               {}   \n",
       "3  https://www.firerescue1.com/incident-reports/4...               {}   \n",
       "4  https://www.firerescue1.com/incident-reports/4...               {}   \n",
       "\n",
       "  participants                                           incident  \\\n",
       "0           {}  [At 10:32pm last night (2/17), firefighters we...   \n",
       "1           {}  [House Fire at 10:16pm Thursday night, 2-19-20...   \n",
       "2           {}  [Portland Fire & Rescue responded to a fire in...   \n",
       "3           {}                                                 []   \n",
       "4           {}  [On Sunday, January 18, 2009 at 8:56 PM, 9 Com...   \n",
       "\n",
       "                 fire_department incident_reporting_date  \n",
       "0  Tualatin Valley Fire & Rescue     2009-02-20 01:00:00  \n",
       "1          Lebanon Fire District     2009-02-20 01:00:00  \n",
       "2           Portland Fire Rescue     2009-02-13 01:00:00  \n",
       "3                Parma-Sandstone     2009-02-10 01:00:00  \n",
       "4                           LAFD     2009-01-22 01:00:00  "
      ]
     },
     "execution_count": 8,
     "metadata": {},
     "output_type": "execute_result"
    }
   ],
   "source": [
    "df.head()"
   ]
  },
  {
   "cell_type": "code",
   "execution_count": 9,
   "metadata": {
    "collapsed": true
   },
   "outputs": [],
   "source": [
    "df.to_pickle('firerescue.pickle')"
   ]
  }
 ],
 "metadata": {
  "anaconda-cloud": {},
  "kernelspec": {
   "display_name": "Python 3",
   "language": "python",
   "name": "python3"
  },
  "language_info": {
   "codemirror_mode": {
    "name": "ipython",
    "version": 3
   },
   "file_extension": ".py",
   "mimetype": "text/x-python",
   "name": "python",
   "nbconvert_exporter": "python",
   "pygments_lexer": "ipython3",
   "version": "3.6.0"
  }
 },
 "nbformat": 4,
 "nbformat_minor": 1
}
