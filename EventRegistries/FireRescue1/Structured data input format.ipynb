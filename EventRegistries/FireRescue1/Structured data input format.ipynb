{
 "cells": [
  {
   "cell_type": "code",
   "execution_count": 1,
   "metadata": {
    "collapsed": true
   },
   "outputs": [],
   "source": [
    "import pandas\n",
    "from datetime import datetime, timedelta\n",
    "from dateutil import parser\n",
    "from collections import Counter\n",
    "from SPARQLWrapper import SPARQLWrapper, JSON\n",
    "import json"
   ]
  },
  {
   "cell_type": "code",
   "execution_count": 2,
   "metadata": {},
   "outputs": [],
   "source": [
    "df = pandas.read_pickle('firerescue_v2.pickle')"
   ]
  },
  {
   "cell_type": "markdown",
   "metadata": {},
   "source": [
    "## location utils"
   ]
  },
  {
   "cell_type": "code",
   "execution_count": 3,
   "metadata": {
    "collapsed": true
   },
   "outputs": [],
   "source": [
    "def get_json_results(sparql_query):\n",
    "    \"\"\"\n",
    "    perform sparql query to dbpedia\n",
    "    and return json\n",
    "\n",
    "    :rtype: dict\n",
    "    :return: json results\n",
    "    \"\"\"\n",
    "\n",
    "    sparql.setQuery(sparql_query)\n",
    "    sparql.setReturnFormat(JSON)\n",
    "    results = sparql.query().convert()\n",
    "\n",
    "    return results\n",
    "\n",
    "def get_state_sf2dbpedia_uri(df):\n",
    "    \"\"\"\n",
    "    create mapping from states as surface forms in Gub Violence\n",
    "    to Dbpedia uris\n",
    "\n",
    "    :param pandas.core.frame.DataFrame df: gunviolence dataframes\n",
    "\n",
    "    :rtype: dict\n",
    "    :return: mapping state to dbpedia uri\n",
    "    \"\"\"\n",
    "    state_query = '''\n",
    "    SELECT DISTINCT ?state\n",
    "    WHERE {\n",
    "            ?state <http://purl.org/dc/terms/subject> <http://dbpedia.org/resource/Category:States_of_the_United_States> .\n",
    "            ?state <http://dbpedia.org/ontology/country> <http://dbpedia.org/resource/United_States>\n",
    "    }\n",
    "    '''\n",
    "\n",
    "    states_info = get_json_results(state_query)\n",
    "    states_uris = {\n",
    "        result['state']['value']\n",
    "        for result in states_info[\"results\"][\"bindings\"]\n",
    "        }\n",
    "\n",
    "    gv_sf_state2uri = {\n",
    "        'Georgia': 'http://dbpedia.org/resource/Georgia_(U.S._state)',\n",
    "        'Washington': 'http://dbpedia.org/resource/Washington_(state)',\n",
    "    }\n",
    "\n",
    "    gv_states = set(df['state'])\n",
    "\n",
    "    for gv_sf_state in gv_states:\n",
    "        for state_uri in states_uris:\n",
    "            state_for_matching = gv_sf_state.replace(' ', '_')\n",
    "            if state_uri.endswith('/' + state_for_matching):\n",
    "                gv_sf_state2uri[gv_sf_state] = state_uri\n",
    "\n",
    "    return gv_sf_state2uri\n",
    "\n",
    "def possible_db_uris_for_city_county(city_or_county, state_uri):\n",
    "    \"\"\"\n",
    "    given city_or_county and state, this function returns possible dbpedia\n",
    "    uris\n",
    "\n",
    "    :param str city_or_county: e.g. Rochester\n",
    "    :param str state_uri: e.g. http://dbpedia.org/resource/New_York\n",
    "\n",
    "    :rtype: set\n",
    "    :return: set of possible dbpedia uris\n",
    "    \"\"\"\n",
    "    query = '''\n",
    "    SELECT DISTINCT ?uri\n",
    "    WHERE {\n",
    "    ?uri <http://dbpedia.org/ontology/isPartOf>* <%s> .\n",
    "    ?uri rdfs:label ?label .\n",
    "    filter strStarts(?label, \"%s\")\n",
    "    }\n",
    "    ''' % (state_uri, city_or_county)\n",
    "\n",
    "    json_result = get_json_results(query)\n",
    "\n",
    "    results = {\n",
    "        result['uri']['value']\n",
    "        for result in json_result[\"results\"][\"bindings\"]\n",
    "        }\n",
    "\n",
    "    return results"
   ]
  },
  {
   "cell_type": "code",
   "execution_count": 4,
   "metadata": {
    "collapsed": true
   },
   "outputs": [],
   "source": [
    "def weekday_approach(reporting_date, first_sentence):\n",
    "    \"\"\"\n",
    "    \"\"\"\n",
    "    weekdays = ['Monday', 'Tuesday', 'Wednesday', 'Thursday',\n",
    "                'Friday', 'Saturday', 'Sunday']\n",
    "    \n",
    "    for week_day in weekdays:\n",
    "        if week_day in first_sentence:\n",
    "            result = parser.parse(week_day, \n",
    "                                  default=reporting_date, \n",
    "                                  fuzzy=True)\n",
    "            week_before = result - timedelta(days=7)\n",
    "            return week_before\n",
    "    \n",
    "    return None\n",
    "\n",
    "def return_wiki_of_location(row, gv_sf_state2uri):\n",
    "    \"\"\"\n",
    "    \"\"\"\n",
    "    result = ''\n",
    "    state = row['state']\n",
    "    \n",
    "    if state in gv_sf_state2uri:\n",
    "        state_uri = gv_sf_state2uri[state]\n",
    "        results = possible_db_uris_for_city_county(row['city_or_county'], \n",
    "                                                  state_uri)\n",
    "        \n",
    "        if len(results) >= 1:\n",
    "            result = min(results)\n",
    "    \n",
    "    if result:\n",
    "        result = result.replace('http://dbpedia.org/resource/',\n",
    "                                'https://en.wikipedia.org/wiki/')\n",
    "    \n",
    "    return result"
   ]
  },
  {
   "cell_type": "code",
   "execution_count": 5,
   "metadata": {
    "collapsed": true
   },
   "outputs": [],
   "source": [
    "sparql = SPARQLWrapper(\"http://dbpedia.org/sparql\")"
   ]
  },
  {
   "cell_type": "code",
   "execution_count": 6,
   "metadata": {},
   "outputs": [],
   "source": [
    "gv_sf_state2uri = get_state_sf2dbpedia_uri(df)"
   ]
  },
  {
   "cell_type": "code",
   "execution_count": 7,
   "metadata": {},
   "outputs": [],
   "source": [
    "log = []\n",
    "\n",
    "structured_data = dict()\n",
    "\n",
    "for index, row in df.iterrows():\n",
    "    \n",
    "    incident_uri = row['incident_uri']\n",
    "    date_string = row['date']\n",
    "    reporting_date = datetime.strptime(date_string, \"%B %d, %Y\")\n",
    "    summary = row['incident']\n",
    "    \n",
    "    if not summary:\n",
    "        #print('no summary for: %s' % row['incident_uri'])\n",
    "        log.append('no summary')\n",
    "        continue\n",
    "\n",
    "    first_sentence = summary[0]\n",
    "    \n",
    "    if first_sentence is None:\n",
    "        #print('no summary for: %s' % row['incident_uri'])\n",
    "        log.append('no summary')\n",
    "        continue\n",
    "        \n",
    "    # weekday attempt\n",
    "    weekday_attempt = weekday_approach(reporting_date, first_sentence)\n",
    "    if weekday_attempt:\n",
    "        log.append('weekday')\n",
    "        estimated_incident_date = weekday_attempt\n",
    "        estimated_incident_date = '{:%d-%m-%Y}'.format(estimated_incident_date)\n",
    "    else:\n",
    "        log.append('unknown')\n",
    "        estimated_incident_date = ''\n",
    "        \n",
    "    estimated_location = return_wiki_of_location(row, gv_sf_state2uri)\n",
    "        \n",
    "        \n",
    "    incident_info = {'estimated_incident_date' : estimated_incident_date,\n",
    "                     'estimated_location': estimated_location,\n",
    "                     'articles': {'dct': date_string,\n",
    "                                  'title' : row['title'],\n",
    "                                  'body' : ' '.join([paragraph\n",
    "                                                     for paragraph in summary\n",
    "                                                     if paragraph])}}\n",
    "    structured_data[incident_uri] = incident_info"
   ]
  },
  {
   "cell_type": "code",
   "execution_count": 8,
   "metadata": {
    "collapsed": true
   },
   "outputs": [],
   "source": [
    "with open('firerescue_structure_data.json', 'w') as outfile:\n",
    "    json.dump(structured_data, outfile)"
   ]
  },
  {
   "cell_type": "code",
   "execution_count": 9,
   "metadata": {},
   "outputs": [
    {
     "data": {
      "text/plain": [
       "320"
      ]
     },
     "execution_count": 9,
     "metadata": {},
     "output_type": "execute_result"
    }
   ],
   "source": [
    "len(structured_data)"
   ]
  },
  {
   "cell_type": "code",
   "execution_count": 10,
   "metadata": {},
   "outputs": [
    {
     "name": "stdout",
     "output_type": "stream",
     "text": [
      "estimated_incident_date 107\n",
      "estimated_location 35\n"
     ]
    }
   ],
   "source": [
    "for attribute in ['estimated_incident_date', 'estimated_location']:\n",
    "    default_values = len([incident_info[attribute]\n",
    "                          for incident_info in structured_data.values()\n",
    "                          if incident_info[attribute] == ''])\n",
    "    print(attribute, default_values)"
   ]
  },
  {
   "cell_type": "code",
   "execution_count": null,
   "metadata": {
    "collapsed": true
   },
   "outputs": [],
   "source": []
  }
 ],
 "metadata": {
  "kernelspec": {
   "display_name": "Python 3",
   "language": "python",
   "name": "python3"
  },
  "language_info": {
   "codemirror_mode": {
    "name": "ipython",
    "version": 3
   },
   "file_extension": ".py",
   "mimetype": "text/x-python",
   "name": "python",
   "nbconvert_exporter": "python",
   "pygments_lexer": "ipython3",
   "version": "3.6.0"
  }
 },
 "nbformat": 4,
 "nbformat_minor": 2
}
