{
 "cells": [
  {
   "cell_type": "code",
   "execution_count": 1,
   "metadata": {
    "collapsed": true
   },
   "outputs": [],
   "source": [
    "import pickle\n",
    "import pandas\n",
    "from collections import Counter, defaultdict\n",
    "import operator\n",
    "import utils\n",
    "from geopy.geocoders import Nominatim\n",
    "from newspaper import Article\n",
    "import requests\n",
    "from urllib.parse import urlencode, quote_plus\n",
    "import time"
   ]
  },
  {
   "cell_type": "code",
   "execution_count": 2,
   "metadata": {
    "collapsed": true
   },
   "outputs": [],
   "source": [
    "import classes"
   ]
  },
  {
   "cell_type": "code",
   "execution_count": 3,
   "metadata": {
    "collapsed": true
   },
   "outputs": [],
   "source": [
    "urls_and_paths = [('../frames/children_killed', 'http://www.gunviolencearchive.org/children-killed'),\n",
    "                  ('../frames/children_injured', 'http://www.gunviolencearchive.org/children-injured'),\n",
    "                  ('../frames/teens_killed', 'http://www.gunviolencearchive.org/teens-killed'),\n",
    "                  ('../frames/teens_injured', 'http://www.gunviolencearchive.org/teens-injured'),\n",
    "                  ('../frames/accidental_deaths', 'http://www.gunviolencearchive.org/accidental-deaths'),\n",
    "                  ('../frames/accidental_injuries', 'http://www.gunviolencearchive.org/accidental-injuries'),\n",
    "                  ('../frames/accidental_deaths_children', 'http://www.gunviolencearchive.org/accidental-child-deaths'),\n",
    "                  ('../frames/accidental_injuries_children', 'http://www.gunviolencearchive.org/accidental-child-injuries'),\n",
    "                  ('../frames/accidental_deaths_teens', 'http://www.gunviolencearchive.org/accidental-teen-deaths'),\n",
    "                  ('../frames/accidental_injuries_teens', 'http://www.gunviolencearchive.org/accidental-teen-injuries'),\n",
    "                  ('../frames/officer_involved_shootings', 'http://www.gunviolencearchive.org/officer-involved-shootings'),\n",
    "                  ('../frames/mass_shootings_2013', 'http://www.gunviolencearchive.org/reports/mass-shootings/2013'),\n",
    "                  ('../frames/mass_shootings_2014', 'http://www.gunviolencearchive.org/reports/mass-shootings/2014'),\n",
    "                  ('../frames/mass_shootings_2015', 'http://www.gunviolencearchive.org/reports/mass-shootings/2015'),\n",
    "                  ('../frames/mass_shootings', 'http://www.gunviolencearchive.org/mass-shooting')]\n",
    "CORPUS_NAME = '../the_violent_corpus'"
   ]
  },
  {
   "cell_type": "code",
   "execution_count": 4,
   "metadata": {
    "collapsed": false
   },
   "outputs": [
    {
     "data": {
      "text/plain": [
       "5485"
      ]
     },
     "execution_count": 4,
     "metadata": {},
     "output_type": "execute_result"
    }
   ],
   "source": [
    "frames = []\n",
    "for df_path, url in urls_and_paths:\n",
    "    with open(df_path, 'rb') as infile:\n",
    "        df = pickle.load(infile)\n",
    "        frames.append(df)\n",
    "df = pandas.concat(frames)\n",
    "len(df)"
   ]
  },
  {
   "cell_type": "code",
   "execution_count": 5,
   "metadata": {
    "collapsed": true
   },
   "outputs": [],
   "source": [
    "def get_sources(dataframe):\n",
    "    \"\"\"\n",
    "\n",
    "    :param dataframe:\n",
    "    :return:\n",
    "    \"\"\"\n",
    "    sources = set()\n",
    "    for index, row in dataframe.iterrows():\n",
    "        sources.add(row['source_url'])\n",
    "        sources.update(row['incident_sources'])\n",
    "    return sources"
   ]
  },
  {
   "cell_type": "code",
   "execution_count": 6,
   "metadata": {
    "collapsed": false
   },
   "outputs": [
    {
     "name": "stdout",
     "output_type": "stream",
     "text": [
      "http://archive.org/wayback/available?url=http%3A%2F%2Fwww.wdam.com%2Fstory%2F27682998%2F1-dead-4-injured-in-nightclub-shooting\n"
     ]
    }
   ],
   "source": [
    "def generate_archive_uri(article_uri):\n",
    "    archive_api='http://archive.org/wayback/available?'\n",
    "    params={'url': article_uri}\n",
    "    encoded_uri=archive_api + urlencode(params)\n",
    "    print(encoded_uri)\n",
    "    r=requests.get(encoded_uri)\n",
    "    j=r.json()\n",
    "    try:\n",
    "        closest=j['archived_snapshots']['closest']\n",
    "        if all([closest['available'], closest['status']=='200']):\n",
    "            return closest['url']\n",
    "    except:\n",
    "        return ''\n",
    "\n",
    "archive_uri=generate_archive_uri('http://www.wdam.com/story/27682998/1-dead-4-injured-in-nightclub-shooting')"
   ]
  },
  {
   "cell_type": "code",
   "execution_count": 7,
   "metadata": {
    "collapsed": false
   },
   "outputs": [],
   "source": [
    "def download_and_parse_uri(url):\n",
    "    language='en'\n",
    "    a=Article(url, language)\n",
    "    a.download()\n",
    "    a.parse()\n",
    "    title=a.title\n",
    "    content=a.text\n",
    "    dct=a.publish_date or a.meta_data['date']\n",
    "\n",
    "    news_item=classes.NewsItem(\n",
    "        title=title,\n",
    "        content=content,\n",
    "        dct=dct\n",
    "    )\n",
    "    return news_item\n",
    "\n",
    "item=download_and_parse_uri(archive_uri)"
   ]
  },
  {
   "cell_type": "code",
   "execution_count": 8,
   "metadata": {
    "collapsed": false
   },
   "outputs": [
    {
     "name": "stdout",
     "output_type": "stream",
     "text": [
      "2014/12/21\n"
     ]
    }
   ],
   "source": [
    "print(item.dct)"
   ]
  },
  {
   "cell_type": "code",
   "execution_count": 9,
   "metadata": {
    "collapsed": false
   },
   "outputs": [
    {
     "name": "stdout",
     "output_type": "stream",
     "text": [
      "0\n",
      "1\n",
      "http://archive.org/wayback/available?url=http%3A%2F%2Fwww.dailymail.co.uk%2Fnews%2Farticle-3460182%2FAuthorities-Shooting-reported-Phoenix-home-fire.html\n",
      "2\n",
      "http://archive.org/wayback/available?url=http%3A%2F%2Fwww.wfaa.com%2Fnews%2Fdallas-shooting-victim-shares-powerful-recount-of-attack%2F268752748\n",
      "3\n",
      "http://archive.org/wayback/available?url=http%3A%2F%2Fwww.macon.com%2F2014%2F12%2F14%2F3480088_police-arrest-second-man-in-portland.html%3Frh%3D1\n",
      "4\n",
      "http://archive.org/wayback/available?url=http%3A%2F%2Fwww.tampabay.com%2Fnews%2Fpublicsafety%2Faccidents%2Fpinellas-park-police-17-year-old-wounded-in-accidental-shooting%2F2300156\n",
      "5\n",
      "http://archive.org/wayback/available?url=http%3A%2F%2Fwww.ksla.com%2Fstory%2F30726638%2F8th-suspect-arrested-in-bunny-friend-playground-shooting\n",
      "6\n",
      "http://archive.org/wayback/available?url=http%3A%2F%2Fwww.newstribune.com%2Fnews%2F2016%2Fmar%2F26%2Fdeputies-man-died-playing-game-gun%2F\n",
      "7\n",
      "http://archive.org/wayback/available?url=http%3A%2F%2Fwww.wdam.com%2Fstory%2F27682998%2F1-dead-4-injured-in-nightclub-shooting\n",
      "8\n",
      "http://archive.org/wayback/available?url=http%3A%2F%2Fwww.theeagle.com%2Fnews%2Ftexas%2Fcharges-dropped-against-man-arrested-in-playground-shooting%2Farticle_04e83862-5aa7-59d3-8a9e-d2d63a3675a5.html\n",
      "9\n",
      "http://archive.org/wayback/available?url=http%3A%2F%2Fwww.krdo.com%2Fnews%2Fpolice-teenage-shooting-victim-died-playing-russian-roulette%2F34394578\n",
      "10\n",
      "http://archive.org/wayback/available?url=http%3A%2F%2Fwww.wftv.com%2Fnews%2Flocal%2Fi-thank-god-im-here-but-its-not-easy-pulse-survivor-says%2F428450590\n",
      "You must `download()` an article before calling `parse()` on it!\n"
     ]
    },
    {
     "ename": "ArticleException",
     "evalue": "",
     "output_type": "error",
     "traceback": [
      "\u001b[0;31m---------------------------------------------------------------------------\u001b[0m",
      "\u001b[0;31mArticleException\u001b[0m                          Traceback (most recent call last)",
      "\u001b[0;32m<ipython-input-9-905d87682be4>\u001b[0m in \u001b[0;36m<module>\u001b[0;34m()\u001b[0m\n\u001b[1;32m      9\u001b[0m         \u001b[0;32mif\u001b[0m \u001b[0marchive_uri\u001b[0m\u001b[0;34m:\u001b[0m\u001b[0;34m\u001b[0m\u001b[0m\n\u001b[1;32m     10\u001b[0m             \u001b[0mhas_archive_version\u001b[0m\u001b[0;34m+=\u001b[0m\u001b[0;36m1\u001b[0m\u001b[0;34m\u001b[0m\u001b[0m\n\u001b[0;32m---> 11\u001b[0;31m             \u001b[0mitem\u001b[0m\u001b[0;34m=\u001b[0m\u001b[0mdownload_and_parse_uri\u001b[0m\u001b[0;34m(\u001b[0m\u001b[0marchive_uri\u001b[0m\u001b[0;34m)\u001b[0m\u001b[0;34m\u001b[0m\u001b[0m\n\u001b[0m\u001b[1;32m     12\u001b[0m             \u001b[0;32mif\u001b[0m \u001b[0;32mnot\u001b[0m \u001b[0mitem\u001b[0m\u001b[0;34m.\u001b[0m\u001b[0mdct\u001b[0m\u001b[0;34m:\u001b[0m\u001b[0;34m\u001b[0m\u001b[0m\n\u001b[1;32m     13\u001b[0m                 \u001b[0mno_date_articles\u001b[0m\u001b[0;34m+=\u001b[0m\u001b[0;36m1\u001b[0m\u001b[0;34m\u001b[0m\u001b[0m\n",
      "\u001b[0;32m<ipython-input-7-4cf9b130078e>\u001b[0m in \u001b[0;36mdownload_and_parse_uri\u001b[0;34m(url)\u001b[0m\n\u001b[1;32m      3\u001b[0m     \u001b[0ma\u001b[0m\u001b[0;34m=\u001b[0m\u001b[0mArticle\u001b[0m\u001b[0;34m(\u001b[0m\u001b[0murl\u001b[0m\u001b[0;34m,\u001b[0m \u001b[0mlanguage\u001b[0m\u001b[0;34m)\u001b[0m\u001b[0;34m\u001b[0m\u001b[0m\n\u001b[1;32m      4\u001b[0m     \u001b[0ma\u001b[0m\u001b[0;34m.\u001b[0m\u001b[0mdownload\u001b[0m\u001b[0;34m(\u001b[0m\u001b[0;34m)\u001b[0m\u001b[0;34m\u001b[0m\u001b[0m\n\u001b[0;32m----> 5\u001b[0;31m     \u001b[0ma\u001b[0m\u001b[0;34m.\u001b[0m\u001b[0mparse\u001b[0m\u001b[0;34m(\u001b[0m\u001b[0;34m)\u001b[0m\u001b[0;34m\u001b[0m\u001b[0m\n\u001b[0m\u001b[1;32m      6\u001b[0m     \u001b[0mtitle\u001b[0m\u001b[0;34m=\u001b[0m\u001b[0ma\u001b[0m\u001b[0;34m.\u001b[0m\u001b[0mtitle\u001b[0m\u001b[0;34m\u001b[0m\u001b[0m\n\u001b[1;32m      7\u001b[0m     \u001b[0mcontent\u001b[0m\u001b[0;34m=\u001b[0m\u001b[0ma\u001b[0m\u001b[0;34m.\u001b[0m\u001b[0mtext\u001b[0m\u001b[0;34m\u001b[0m\u001b[0m\n",
      "\u001b[0;32m/Users/filipilievski/anaconda/lib/python3.5/site-packages/newspaper/article.py\u001b[0m in \u001b[0;36mparse\u001b[0;34m(self)\u001b[0m\n\u001b[1;32m    166\u001b[0m             print('You must `download()` an article before '\n\u001b[1;32m    167\u001b[0m                   'calling `parse()` on it!')\n\u001b[0;32m--> 168\u001b[0;31m             \u001b[0;32mraise\u001b[0m \u001b[0mArticleException\u001b[0m\u001b[0;34m(\u001b[0m\u001b[0;34m)\u001b[0m\u001b[0;34m\u001b[0m\u001b[0m\n\u001b[0m\u001b[1;32m    169\u001b[0m \u001b[0;34m\u001b[0m\u001b[0m\n\u001b[1;32m    170\u001b[0m         \u001b[0mself\u001b[0m\u001b[0;34m.\u001b[0m\u001b[0mdoc\u001b[0m \u001b[0;34m=\u001b[0m \u001b[0mself\u001b[0m\u001b[0;34m.\u001b[0m\u001b[0mconfig\u001b[0m\u001b[0;34m.\u001b[0m\u001b[0mget_parser\u001b[0m\u001b[0;34m(\u001b[0m\u001b[0;34m)\u001b[0m\u001b[0;34m.\u001b[0m\u001b[0mfromstring\u001b[0m\u001b[0;34m(\u001b[0m\u001b[0mself\u001b[0m\u001b[0;34m.\u001b[0m\u001b[0mhtml\u001b[0m\u001b[0;34m)\u001b[0m\u001b[0;34m\u001b[0m\u001b[0m\n",
      "\u001b[0;31mArticleException\u001b[0m: "
     ]
    }
   ],
   "source": [
    "sources=get_sources(df)\n",
    "has_archive_version=0\n",
    "no_archive_version=0\n",
    "no_date_articles=0\n",
    "for index, source in enumerate(sources):\n",
    "    print(index)\n",
    "    if source!='':\n",
    "        archive_uri=generate_archive_uri(source)\n",
    "        if archive_uri:\n",
    "            has_archive_version+=1\n",
    "            item=download_and_parse_uri(archive_uri)\n",
    "            if not item.dct:\n",
    "                no_date_articles+=1\n",
    "            time.sleep(0.05)\n",
    "        else:\n",
    "            no_archive_version+=1\n",
    "            #print(\"No archive.org versions found!\")"
   ]
  },
  {
   "cell_type": "code",
   "execution_count": null,
   "metadata": {
    "collapsed": true
   },
   "outputs": [],
   "source": []
  },
  {
   "cell_type": "code",
   "execution_count": null,
   "metadata": {
    "collapsed": true
   },
   "outputs": [],
   "source": []
  }
 ],
 "metadata": {
  "anaconda-cloud": {},
  "kernelspec": {
   "display_name": "Python [Root]",
   "language": "python",
   "name": "Python [Root]"
  },
  "language_info": {
   "codemirror_mode": {
    "name": "ipython",
    "version": 3
   },
   "file_extension": ".py",
   "mimetype": "text/x-python",
   "name": "python",
   "nbconvert_exporter": "python",
   "pygments_lexer": "ipython3",
   "version": "3.5.3"
  }
 },
 "nbformat": 4,
 "nbformat_minor": 0
}
