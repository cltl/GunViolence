{
 "cells": [
  {
   "cell_type": "code",
   "execution_count": 1,
   "metadata": {
    "collapsed": true
   },
   "outputs": [],
   "source": [
    "import operator\n",
    "import pandas\n",
    "import seaborn as sns\n",
    "%matplotlib inline\n",
    "from collections import Counter"
   ]
  },
  {
   "cell_type": "code",
   "execution_count": 12,
   "metadata": {
    "collapsed": true
   },
   "outputs": [],
   "source": [
    "df = pandas.read_pickle('firerescue.pickle')"
   ]
  },
  {
   "cell_type": "code",
   "execution_count": 13,
   "metadata": {
    "collapsed": false
   },
   "outputs": [
    {
     "data": {
      "text/plain": [
       "414"
      ]
     },
     "execution_count": 13,
     "metadata": {},
     "output_type": "execute_result"
    }
   ],
   "source": [
    "len(df)"
   ]
  },
  {
   "cell_type": "code",
   "execution_count": 3,
   "metadata": {
    "collapsed": false
   },
   "outputs": [
    {
     "name": "stdout",
     "output_type": "stream",
     "text": [
      "https://www.firerescue1.com/incident-reports/455329-Tualatin-Valley-Fire-Rescue-respond-to-apartment-fire/\n"
     ]
    }
   ],
   "source": [
    "for index, row in df.iterrows():\n",
    "    print(row['incident_url'])\n",
    "    break"
   ]
  },
  {
   "cell_type": "code",
   "execution_count": 4,
   "metadata": {
    "collapsed": false
   },
   "outputs": [],
   "source": [
    "departments = Counter(row['fire_department'] \n",
    "                      for index, row in df.iterrows())"
   ]
  },
  {
   "cell_type": "code",
   "execution_count": 5,
   "metadata": {
    "collapsed": false
   },
   "outputs": [
    {
     "name": "stdout",
     "output_type": "stream",
     "text": [
      "number of departments 132\n",
      "number of departments with one incident 100\n"
     ]
    }
   ],
   "source": [
    "print('number of departments', len(departments))\n",
    "print('number of departments with one incident', \n",
    "      list(departments.values()).count(1))"
   ]
  },
  {
   "cell_type": "code",
   "execution_count": 6,
   "metadata": {
    "collapsed": false
   },
   "outputs": [],
   "source": [
    "dates = Counter(row['incident_reporting_date'].year\n",
    "                for index, row in df.iterrows())"
   ]
  },
  {
   "cell_type": "code",
   "execution_count": 7,
   "metadata": {
    "collapsed": false
   },
   "outputs": [
    {
     "data": {
      "text/plain": [
       "Counter({2004: 2, 2005: 56, 2006: 152, 2007: 97, 2008: 97, 2009: 10})"
      ]
     },
     "execution_count": 7,
     "metadata": {},
     "output_type": "execute_result"
    }
   ],
   "source": [
    "dates"
   ]
  },
  {
   "cell_type": "code",
   "execution_count": 8,
   "metadata": {
    "collapsed": false
   },
   "outputs": [],
   "source": [
    "paragraphs_distr = Counter(len(row['incident'])\n",
    "                         for index, row in df.iterrows())"
   ]
  },
  {
   "cell_type": "code",
   "execution_count": 9,
   "metadata": {
    "collapsed": false
   },
   "outputs": [
    {
     "name": "stdout",
     "output_type": "stream",
     "text": [
      "3 82\n",
      "4 75\n",
      "2 40\n",
      "0 39\n",
      "5 38\n",
      "1 33\n",
      "6 32\n",
      "7 18\n",
      "8 17\n",
      "9 11\n",
      "11 10\n",
      "10 8\n",
      "13 3\n",
      "14 3\n",
      "12 2\n",
      "15 1\n",
      "31 1\n",
      "29 1\n"
     ]
    }
   ],
   "source": [
    "for count, num_paragraphs in sorted(paragraphs_distr.items(),\n",
    "                                    key=operator.itemgetter(1),\n",
    "                                    reverse=True):\n",
    "    print(count, num_paragraphs)"
   ]
  },
  {
   "cell_type": "code",
   "execution_count": 10,
   "metadata": {
    "collapsed": true
   },
   "outputs": [],
   "source": [
    "states = Counter(row['state']\n",
    "                 for index, row in df.iterrows())"
   ]
  },
  {
   "cell_type": "code",
   "execution_count": 14,
   "metadata": {
    "collapsed": false
   },
   "outputs": [
    {
     "name": "stdout",
     "output_type": "stream",
     "text": [
      "California 202\n",
      "Oregon 50\n",
      "New Jersey 21\n",
      "Texas 20\n",
      "New York 20\n",
      "Florida 16\n",
      "Tennessee 12\n",
      "Massachusetts 10\n",
      "Illinois 10\n",
      "Nevada 8\n",
      "Maryland 7\n",
      "Alaska 7\n",
      "Vermont 6\n",
      "Georgia 5\n",
      " 4\n",
      "Pennsylvania 3\n",
      "Connecticut 3\n",
      "Michigan 2\n",
      "South Carolina 1\n",
      "Idaho 1\n",
      "Washington 1\n",
      "North Carolina 1\n",
      "Wisconsin 1\n",
      "Missouri 1\n",
      "Louisiana 1\n",
      "Montana 1\n"
     ]
    }
   ],
   "source": [
    "for count, state in sorted(states.items(),\n",
    "                                    key=operator.itemgetter(1),\n",
    "                                    reverse=True):\n",
    "    print(count, state)"
   ]
  },
  {
   "cell_type": "code",
   "execution_count": null,
   "metadata": {
    "collapsed": true
   },
   "outputs": [],
   "source": []
  }
 ],
 "metadata": {
  "anaconda-cloud": {},
  "kernelspec": {
   "display_name": "Python 3",
   "language": "python",
   "name": "python3"
  },
  "language_info": {
   "codemirror_mode": {
    "name": "ipython",
    "version": 3
   },
   "file_extension": ".py",
   "mimetype": "text/x-python",
   "name": "python",
   "nbconvert_exporter": "python",
   "pygments_lexer": "ipython3",
   "version": "3.6.0"
  }
 },
 "nbformat": 4,
 "nbformat_minor": 1
}
