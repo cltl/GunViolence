{
 "cells": [
  {
   "cell_type": "code",
   "execution_count": 14,
   "metadata": {
    "collapsed": true
   },
   "outputs": [],
   "source": [
    "import operator\n",
    "import pandas\n",
    "import seaborn as sns\n",
    "%matplotlib inline\n",
    "from collections import Counter"
   ]
  },
  {
   "cell_type": "code",
   "execution_count": 15,
   "metadata": {
    "collapsed": false
   },
   "outputs": [
    {
     "data": {
      "text/plain": [
       "414"
      ]
     },
     "execution_count": 15,
     "metadata": {},
     "output_type": "execute_result"
    }
   ],
   "source": [
    "len(df)"
   ]
  },
  {
   "cell_type": "code",
   "execution_count": 2,
   "metadata": {
    "collapsed": true
   },
   "outputs": [],
   "source": [
    "df = pandas.read_pickle('firerescue.pickle')"
   ]
  },
  {
   "cell_type": "code",
   "execution_count": 3,
   "metadata": {
    "collapsed": false
   },
   "outputs": [
    {
     "data": {
      "text/html": [
       "<div>\n",
       "<table border=\"1\" class=\"dataframe\">\n",
       "  <thead>\n",
       "    <tr style=\"text-align: right;\">\n",
       "      <th></th>\n",
       "      <th>fire_department</th>\n",
       "      <th>incident_reporting_date</th>\n",
       "      <th>incident_url</th>\n",
       "      <th>city</th>\n",
       "      <th>state_abbr</th>\n",
       "      <th>incident</th>\n",
       "    </tr>\n",
       "  </thead>\n",
       "  <tbody>\n",
       "    <tr>\n",
       "      <th>0</th>\n",
       "      <td>Tualatin Valley Fire &amp; Rescue</td>\n",
       "      <td>2009-02-20 01:00:00</td>\n",
       "      <td>https://www.firerescue1.com/incident-reports/4...</td>\n",
       "      <td>Tualatin Valley</td>\n",
       "      <td>OR</td>\n",
       "      <td>[At 10:32pm last night (2/17), firefighters we...</td>\n",
       "    </tr>\n",
       "    <tr>\n",
       "      <th>1</th>\n",
       "      <td>Lebanon Fire District</td>\n",
       "      <td>2009-02-20 01:00:00</td>\n",
       "      <td>https://www.firerescue1.com/incident-reports/4...</td>\n",
       "      <td>Lebanon</td>\n",
       "      <td>OR</td>\n",
       "      <td>[House Fire at 10:16pm Thursday night, 2-19-20...</td>\n",
       "    </tr>\n",
       "  </tbody>\n",
       "</table>\n",
       "</div>"
      ],
      "text/plain": [
       "                 fire_department incident_reporting_date  \\\n",
       "0  Tualatin Valley Fire & Rescue     2009-02-20 01:00:00   \n",
       "1          Lebanon Fire District     2009-02-20 01:00:00   \n",
       "\n",
       "                                        incident_url             city  \\\n",
       "0  https://www.firerescue1.com/incident-reports/4...  Tualatin Valley   \n",
       "1  https://www.firerescue1.com/incident-reports/4...         Lebanon    \n",
       "\n",
       "  state_abbr                                           incident  \n",
       "0         OR  [At 10:32pm last night (2/17), firefighters we...  \n",
       "1         OR  [House Fire at 10:16pm Thursday night, 2-19-20...  "
      ]
     },
     "execution_count": 3,
     "metadata": {},
     "output_type": "execute_result"
    }
   ],
   "source": [
    "df.head(n=2)"
   ]
  },
  {
   "cell_type": "code",
   "execution_count": 4,
   "metadata": {
    "collapsed": false
   },
   "outputs": [],
   "source": [
    "departments = Counter(row['fire_department'] \n",
    "                      for index, row in df.iterrows())"
   ]
  },
  {
   "cell_type": "code",
   "execution_count": 5,
   "metadata": {
    "collapsed": false
   },
   "outputs": [
    {
     "name": "stdout",
     "output_type": "stream",
     "text": [
      "number of departments 132\n",
      "number of departments with one incident 100\n"
     ]
    }
   ],
   "source": [
    "print('number of departments', len(departments))\n",
    "print('number of departments with one incident', \n",
    "      list(departments.values()).count(1))"
   ]
  },
  {
   "cell_type": "code",
   "execution_count": 6,
   "metadata": {
    "collapsed": false
   },
   "outputs": [],
   "source": [
    "dates = Counter(row['incident_reporting_date'].year\n",
    "                for index, row in df.iterrows())"
   ]
  },
  {
   "cell_type": "code",
   "execution_count": 7,
   "metadata": {
    "collapsed": false
   },
   "outputs": [
    {
     "data": {
      "text/plain": [
       "Counter({2004: 2, 2005: 56, 2006: 152, 2007: 97, 2008: 97, 2009: 10})"
      ]
     },
     "execution_count": 7,
     "metadata": {},
     "output_type": "execute_result"
    }
   ],
   "source": [
    "dates"
   ]
  },
  {
   "cell_type": "code",
   "execution_count": 11,
   "metadata": {
    "collapsed": false
   },
   "outputs": [],
   "source": [
    "paragraphs_distr = Counter(len(row['incident'])\n",
    "                         for index, row in df.iterrows())"
   ]
  },
  {
   "cell_type": "code",
   "execution_count": 13,
   "metadata": {
    "collapsed": false
   },
   "outputs": [
    {
     "name": "stdout",
     "output_type": "stream",
     "text": [
      "3 82\n",
      "4 75\n",
      "2 40\n",
      "0 39\n",
      "5 38\n",
      "1 33\n",
      "6 32\n",
      "7 18\n",
      "8 17\n",
      "9 11\n",
      "11 10\n",
      "10 8\n",
      "13 3\n",
      "14 3\n",
      "12 2\n",
      "15 1\n",
      "29 1\n",
      "31 1\n"
     ]
    }
   ],
   "source": [
    "for count, num_paragraphs in sorted(paragraphs_distr.items(),\n",
    "                                    key=operator.itemgetter(1),\n",
    "                                    reverse=True):\n",
    "    print(count, num_paragraphs)"
   ]
  },
  {
   "cell_type": "code",
   "execution_count": 16,
   "metadata": {
    "collapsed": true
   },
   "outputs": [],
   "source": [
    "states = Counter(row['state_abbr']\n",
    "                 for index, row in df.iterrows())"
   ]
  },
  {
   "cell_type": "code",
   "execution_count": 17,
   "metadata": {
    "collapsed": false
   },
   "outputs": [
    {
     "data": {
      "text/plain": [
       "Counter({'AK': 7,\n",
       "         'CA': 202,\n",
       "         'CT': 3,\n",
       "         'FL': 16,\n",
       "         'GA': 5,\n",
       "         'ID': 1,\n",
       "         'IL': 10,\n",
       "         'LA': 1,\n",
       "         'MA': 10,\n",
       "         'MD': 7,\n",
       "         'MI': 2,\n",
       "         'MO': 1,\n",
       "         'MT': 1,\n",
       "         'N/A': 4,\n",
       "         'NC': 1,\n",
       "         'NJ': 21,\n",
       "         'NV': 8,\n",
       "         'NY': 20,\n",
       "         'OR': 50,\n",
       "         'PA': 3,\n",
       "         'SC': 1,\n",
       "         'TN': 12,\n",
       "         'TX': 20,\n",
       "         'VT': 6,\n",
       "         'WA': 1,\n",
       "         'WI': 1})"
      ]
     },
     "execution_count": 17,
     "metadata": {},
     "output_type": "execute_result"
    }
   ],
   "source": [
    "states"
   ]
  },
  {
   "cell_type": "code",
   "execution_count": null,
   "metadata": {
    "collapsed": true
   },
   "outputs": [],
   "source": []
  }
 ],
 "metadata": {
  "anaconda-cloud": {},
  "kernelspec": {
   "display_name": "Python [conda root]",
   "language": "python",
   "name": "conda-root-py"
  },
  "language_info": {
   "codemirror_mode": {
    "name": "ipython",
    "version": 3
   },
   "file_extension": ".py",
   "mimetype": "text/x-python",
   "name": "python",
   "nbconvert_exporter": "python",
   "pygments_lexer": "ipython3",
   "version": "3.5.2"
  }
 },
 "nbformat": 4,
 "nbformat_minor": 1
}
