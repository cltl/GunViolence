{
 "cells": [
  {
   "cell_type": "code",
   "execution_count": 4,
   "metadata": {
    "collapsed": true
   },
   "outputs": [],
   "source": [
    "import operator\n",
    "import pandas\n",
    "import seaborn as sns\n",
    "%matplotlib inline\n",
    "from collections import Counter"
   ]
  },
  {
   "cell_type": "code",
   "execution_count": 5,
   "metadata": {
    "collapsed": true
   },
   "outputs": [],
   "source": [
    "df = pandas.read_pickle('firerescue.pickle')"
   ]
  },
  {
   "cell_type": "code",
   "execution_count": 7,
   "metadata": {
    "collapsed": false
   },
   "outputs": [
    {
     "name": "stdout",
     "output_type": "stream",
     "text": [
      "https://www.firerescue1.com/incident-reports/455329-Tualatin-Valley-Fire-Rescue-respond-to-apartment-fire/\n"
     ]
    }
   ],
   "source": [
    "for index, row in df.iterrows():\n",
    "    print(row['incident_url'])\n",
    "    break"
   ]
  },
  {
   "cell_type": "code",
   "execution_count": 4,
   "metadata": {
    "collapsed": false
   },
   "outputs": [],
   "source": [
    "departments = Counter(row['fire_department'] \n",
    "                      for index, row in df.iterrows())"
   ]
  },
  {
   "cell_type": "code",
   "execution_count": 5,
   "metadata": {
    "collapsed": false
   },
   "outputs": [
    {
     "name": "stdout",
     "output_type": "stream",
     "text": [
      "number of departments 132\n",
      "number of departments with one incident 100\n"
     ]
    }
   ],
   "source": [
    "print('number of departments', len(departments))\n",
    "print('number of departments with one incident', \n",
    "      list(departments.values()).count(1))"
   ]
  },
  {
   "cell_type": "code",
   "execution_count": 6,
   "metadata": {
    "collapsed": false
   },
   "outputs": [],
   "source": [
    "dates = Counter(row['incident_reporting_date'].year\n",
    "                for index, row in df.iterrows())"
   ]
  },
  {
   "cell_type": "code",
   "execution_count": 7,
   "metadata": {
    "collapsed": false
   },
   "outputs": [
    {
     "data": {
      "text/plain": [
       "Counter({2004: 2, 2005: 56, 2006: 152, 2007: 97, 2008: 97, 2009: 10})"
      ]
     },
     "execution_count": 7,
     "metadata": {},
     "output_type": "execute_result"
    }
   ],
   "source": [
    "dates"
   ]
  },
  {
   "cell_type": "code",
   "execution_count": 11,
   "metadata": {
    "collapsed": false
   },
   "outputs": [],
   "source": [
    "paragraphs_distr = Counter(len(row['incident'])\n",
    "                         for index, row in df.iterrows())"
   ]
  },
  {
   "cell_type": "code",
   "execution_count": 13,
   "metadata": {
    "collapsed": false
   },
   "outputs": [
    {
     "name": "stdout",
     "output_type": "stream",
     "text": [
      "3 82\n",
      "4 75\n",
      "2 40\n",
      "0 39\n",
      "5 38\n",
      "1 33\n",
      "6 32\n",
      "7 18\n",
      "8 17\n",
      "9 11\n",
      "11 10\n",
      "10 8\n",
      "13 3\n",
      "14 3\n",
      "12 2\n",
      "15 1\n",
      "29 1\n",
      "31 1\n"
     ]
    }
   ],
   "source": [
    "for count, num_paragraphs in sorted(paragraphs_distr.items(),\n",
    "                                    key=operator.itemgetter(1),\n",
    "                                    reverse=True):\n",
    "    print(count, num_paragraphs)"
   ]
  },
  {
   "cell_type": "code",
   "execution_count": 16,
   "metadata": {
    "collapsed": true
   },
   "outputs": [],
   "source": [
    "states = Counter(row['state_abbr']\n",
    "                 for index, row in df.iterrows())"
   ]
  },
  {
   "cell_type": "code",
   "execution_count": 17,
   "metadata": {
    "collapsed": false
   },
   "outputs": [
    {
     "data": {
      "text/plain": [
       "Counter({'AK': 7,\n",
       "         'CA': 202,\n",
       "         'CT': 3,\n",
       "         'FL': 16,\n",
       "         'GA': 5,\n",
       "         'ID': 1,\n",
       "         'IL': 10,\n",
       "         'LA': 1,\n",
       "         'MA': 10,\n",
       "         'MD': 7,\n",
       "         'MI': 2,\n",
       "         'MO': 1,\n",
       "         'MT': 1,\n",
       "         'N/A': 4,\n",
       "         'NC': 1,\n",
       "         'NJ': 21,\n",
       "         'NV': 8,\n",
       "         'NY': 20,\n",
       "         'OR': 50,\n",
       "         'PA': 3,\n",
       "         'SC': 1,\n",
       "         'TN': 12,\n",
       "         'TX': 20,\n",
       "         'VT': 6,\n",
       "         'WA': 1,\n",
       "         'WI': 1})"
      ]
     },
     "execution_count": 17,
     "metadata": {},
     "output_type": "execute_result"
    }
   ],
   "source": [
    "states"
   ]
  },
  {
   "cell_type": "code",
   "execution_count": null,
   "metadata": {
    "collapsed": true
   },
   "outputs": [],
   "source": []
  }
 ],
 "metadata": {
  "anaconda-cloud": {},
  "kernelspec": {
   "display_name": "Python 3",
   "language": "python",
   "name": "python3"
  },
  "language_info": {
   "codemirror_mode": {
    "name": "ipython",
    "version": 3
   },
   "file_extension": ".py",
   "mimetype": "text/x-python",
   "name": "python",
   "nbconvert_exporter": "python",
   "pygments_lexer": "ipython3",
   "version": "3.6.0"
  }
 },
 "nbformat": 4,
 "nbformat_minor": 1
}
