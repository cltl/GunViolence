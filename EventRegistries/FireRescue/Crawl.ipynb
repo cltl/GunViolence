{
 "cells": [
  {
   "cell_type": "code",
   "execution_count": 1,
   "metadata": {
    "collapsed": true
   },
   "outputs": [],
   "source": [
    "import requests\n",
    "from lxml import etree\n",
    "from datetime import datetime\n",
    "import pandas"
   ]
  },
  {
   "cell_type": "code",
   "execution_count": 2,
   "metadata": {
    "collapsed": true
   },
   "outputs": [],
   "source": [
    "def extract_paragraphs(url):\n",
    "    \"\"\"\n",
    "    extract text from firerescue article\n",
    "    \n",
    "    :param str url: firerescue incident report\n",
    "    \"\"\"\n",
    "    call = requests.get(url)\n",
    "    incident_doc = etree.HTML(call.text)\n",
    "    text_el = incident_doc.xpath('//span[@class=\"text\"]')[0]\n",
    "    paragraphs = [p_el.text for p_el in text_el.iterfind('p')]\n",
    "    \n",
    "    return paragraphs"
   ]
  },
  {
   "cell_type": "code",
   "execution_count": 3,
   "metadata": {
    "collapsed": true
   },
   "outputs": [],
   "source": [
    "url = 'https://www.firerescue1.com/incident-reports/'\n",
    "base_url = 'https://www.firerescue1.com'"
   ]
  },
  {
   "cell_type": "code",
   "execution_count": 4,
   "metadata": {
    "collapsed": true
   },
   "outputs": [],
   "source": [
    "call = requests.get(url)"
   ]
  },
  {
   "cell_type": "code",
   "execution_count": 5,
   "metadata": {
    "collapsed": true
   },
   "outputs": [],
   "source": [
    "doc = etree.HTML(call.text)"
   ]
  },
  {
   "cell_type": "code",
   "execution_count": 6,
   "metadata": {
    "collapsed": false
   },
   "outputs": [
    {
     "name": "stdout",
     "output_type": "stream",
     "text": [
      "10 2017-02-06 22:53:44.204870\n",
      "20 2017-02-06 22:53:51.510130\n",
      "30 2017-02-06 22:53:55.493511\n",
      "40 2017-02-06 22:54:01.092721\n",
      "50 2017-02-06 22:54:04.680433\n",
      "60 2017-02-06 22:54:10.082773\n",
      "70 2017-02-06 22:54:14.191894\n",
      "80 2017-02-06 22:54:18.876121\n",
      "90 2017-02-06 22:54:23.300306\n",
      "100 2017-02-06 22:54:28.353605\n",
      "110 2017-02-06 22:54:32.503188\n",
      "120 2017-02-06 22:54:37.012311\n",
      "130 2017-02-06 22:54:42.314970\n",
      "140 2017-02-06 22:54:46.960218\n",
      "150 2017-02-06 22:54:51.607312\n",
      "160 2017-02-06 22:54:55.314271\n",
      "170 2017-02-06 22:55:01.016619\n",
      "180 2017-02-06 22:55:05.145421\n",
      "190 2017-02-06 22:55:09.985518\n",
      "200 2017-02-06 22:55:14.085348\n",
      "210 2017-02-06 22:55:19.330434\n",
      "220 2017-02-06 22:55:22.813670\n",
      "230 2017-02-06 22:55:29.888763\n",
      "240 2017-02-06 22:55:34.539631\n",
      "250 2017-02-06 22:55:39.354913\n",
      "260 2017-02-06 22:55:43.013592\n",
      "270 2017-02-06 22:55:49.529607\n",
      "280 2017-02-06 22:55:53.714611\n",
      "290 2017-02-06 22:55:58.384711\n",
      "300 2017-02-06 22:56:02.668978\n",
      "310 2017-02-06 22:56:08.511681\n",
      "320 2017-02-06 22:56:12.959507\n",
      "330 2017-02-06 22:56:18.162113\n",
      "340 2017-02-06 22:56:22.640987\n",
      "350 2017-02-06 22:56:28.063773\n",
      "360 2017-02-06 22:56:35.011963\n",
      "370 2017-02-06 22:56:39.288295\n",
      "380 2017-02-06 22:56:45.587377\n",
      "390 2017-02-06 22:56:49.797599\n",
      "400 2017-02-06 22:56:54.968515\n",
      "410 2017-02-06 22:56:59.412557\n"
     ]
    }
   ],
   "source": [
    "list_of_lists = []\n",
    "headers = ['fire_department', 'incident_reporting_date', \n",
    "           'incident_url',\n",
    "           'city', 'state_abbr', 'incident']\n",
    "\n",
    "counter = 0\n",
    "for a_el in doc.xpath('//a[starts-with(@href, \"/incident-reports\")]'):\n",
    "    href = a_el.get('href')\n",
    "    \n",
    "    if href.endswith('submit/'):\n",
    "        continue\n",
    "    \n",
    "    counter += 1\n",
    "    if counter % 10 == 0:\n",
    "        print(counter, datetime.now())\n",
    "    fire_department = a_el.find('b').text\n",
    "    incident_url = base_url + a_el.get('href')\n",
    "    \n",
    "    main_span_el = a_el.find('span[@class=\"redDateText\"]')\n",
    "    child_span_el = main_span_el.find('span')\n",
    "    data_timestamp = child_span_el.get('data-timestamp')\n",
    "    incident_date = datetime.fromtimestamp(int(data_timestamp))\n",
    "    \n",
    "    city, state_abbr = main_span_el.tail[2:-1].rsplit(', ', 1)\n",
    "    incident = extract_paragraphs(incident_url)\n",
    "    \n",
    "    one_row = [fire_department, incident_date, \n",
    "               incident_url,\n",
    "               city, state_abbr, incident]\n",
    "    list_of_lists.append(one_row)"
   ]
  },
  {
   "cell_type": "code",
   "execution_count": 7,
   "metadata": {
    "collapsed": true
   },
   "outputs": [],
   "source": [
    "df = pandas.DataFrame(list_of_lists, columns=headers)"
   ]
  },
  {
   "cell_type": "code",
   "execution_count": 8,
   "metadata": {
    "collapsed": false
   },
   "outputs": [
    {
     "data": {
      "text/html": [
       "<div>\n",
       "<table border=\"1\" class=\"dataframe\">\n",
       "  <thead>\n",
       "    <tr style=\"text-align: right;\">\n",
       "      <th></th>\n",
       "      <th>fire_department</th>\n",
       "      <th>incident_reporting_date</th>\n",
       "      <th>incident_url</th>\n",
       "      <th>city</th>\n",
       "      <th>state_abbr</th>\n",
       "      <th>incident</th>\n",
       "    </tr>\n",
       "  </thead>\n",
       "  <tbody>\n",
       "    <tr>\n",
       "      <th>0</th>\n",
       "      <td>Tualatin Valley Fire &amp; Rescue</td>\n",
       "      <td>2009-02-20 01:00:00</td>\n",
       "      <td>https://www.firerescue1.com/incident-reports/4...</td>\n",
       "      <td>Tualatin Valley</td>\n",
       "      <td>OR</td>\n",
       "      <td>[At 10:32pm last night (2/17), firefighters we...</td>\n",
       "    </tr>\n",
       "    <tr>\n",
       "      <th>1</th>\n",
       "      <td>Lebanon Fire District</td>\n",
       "      <td>2009-02-20 01:00:00</td>\n",
       "      <td>https://www.firerescue1.com/incident-reports/4...</td>\n",
       "      <td>Lebanon</td>\n",
       "      <td>OR</td>\n",
       "      <td>[House Fire at 10:16pm Thursday night, 2-19-20...</td>\n",
       "    </tr>\n",
       "    <tr>\n",
       "      <th>2</th>\n",
       "      <td>Portland Fire Rescue</td>\n",
       "      <td>2009-02-13 01:00:00</td>\n",
       "      <td>https://www.firerescue1.com/incident-reports/4...</td>\n",
       "      <td>Portland</td>\n",
       "      <td>OR</td>\n",
       "      <td>[Portland Fire &amp; Rescue responded to a fire in...</td>\n",
       "    </tr>\n",
       "    <tr>\n",
       "      <th>3</th>\n",
       "      <td>Parma-Sandstone</td>\n",
       "      <td>2009-02-10 01:00:00</td>\n",
       "      <td>https://www.firerescue1.com/incident-reports/4...</td>\n",
       "      <td>Parma</td>\n",
       "      <td>MI</td>\n",
       "      <td>[]</td>\n",
       "    </tr>\n",
       "    <tr>\n",
       "      <th>4</th>\n",
       "      <td>LAFD</td>\n",
       "      <td>2009-01-22 01:00:00</td>\n",
       "      <td>https://www.firerescue1.com/incident-reports/4...</td>\n",
       "      <td>Los Angeles</td>\n",
       "      <td>CA</td>\n",
       "      <td>[On Sunday, January 18, 2009 at 8:56 PM, 9 Com...</td>\n",
       "    </tr>\n",
       "  </tbody>\n",
       "</table>\n",
       "</div>"
      ],
      "text/plain": [
       "                 fire_department incident_reporting_date  \\\n",
       "0  Tualatin Valley Fire & Rescue     2009-02-20 01:00:00   \n",
       "1          Lebanon Fire District     2009-02-20 01:00:00   \n",
       "2           Portland Fire Rescue     2009-02-13 01:00:00   \n",
       "3                Parma-Sandstone     2009-02-10 01:00:00   \n",
       "4                           LAFD     2009-01-22 01:00:00   \n",
       "\n",
       "                                        incident_url             city  \\\n",
       "0  https://www.firerescue1.com/incident-reports/4...  Tualatin Valley   \n",
       "1  https://www.firerescue1.com/incident-reports/4...         Lebanon    \n",
       "2  https://www.firerescue1.com/incident-reports/4...         Portland   \n",
       "3  https://www.firerescue1.com/incident-reports/4...            Parma   \n",
       "4  https://www.firerescue1.com/incident-reports/4...      Los Angeles   \n",
       "\n",
       "  state_abbr                                           incident  \n",
       "0         OR  [At 10:32pm last night (2/17), firefighters we...  \n",
       "1         OR  [House Fire at 10:16pm Thursday night, 2-19-20...  \n",
       "2         OR  [Portland Fire & Rescue responded to a fire in...  \n",
       "3         MI                                                 []  \n",
       "4         CA  [On Sunday, January 18, 2009 at 8:56 PM, 9 Com...  "
      ]
     },
     "execution_count": 8,
     "metadata": {},
     "output_type": "execute_result"
    }
   ],
   "source": [
    "df.head()"
   ]
  },
  {
   "cell_type": "code",
   "execution_count": 9,
   "metadata": {
    "collapsed": true
   },
   "outputs": [],
   "source": [
    "df.to_pickle('firerescue.pickle')"
   ]
  }
 ],
 "metadata": {
  "anaconda-cloud": {},
  "kernelspec": {
   "display_name": "Python [conda root]",
   "language": "python",
   "name": "conda-root-py"
  },
  "language_info": {
   "codemirror_mode": {
    "name": "ipython",
    "version": 3
   },
   "file_extension": ".py",
   "mimetype": "text/x-python",
   "name": "python",
   "nbconvert_exporter": "python",
   "pygments_lexer": "ipython3",
   "version": "3.5.2"
  }
 },
 "nbformat": 4,
 "nbformat_minor": 1
}
