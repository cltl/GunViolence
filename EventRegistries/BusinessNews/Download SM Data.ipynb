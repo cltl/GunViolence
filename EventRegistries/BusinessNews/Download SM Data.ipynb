{
 "cells": [
  {
   "cell_type": "code",
   "execution_count": 3,
   "metadata": {
    "collapsed": true
   },
   "outputs": [],
   "source": [
    "import utils\n",
    "import operator\n",
    "# topics: http://www.newsreader-project.eu/files/2013/01/NWR-2014-1.pdf"
   ]
  },
  {
   "cell_type": "code",
   "execution_count": 27,
   "metadata": {
    "collapsed": true
   },
   "outputs": [],
   "source": [
    "base = 'http://news.fii800.lod.labs.vu.nl/news?'\n",
    "terms = ['worker', 'employee', 'labourer', 'workman', 'fired', 'discharged', 'dismissed']#, 'pink-slipped', 'layed-off']\n",
    "args = {\n",
    "    'q' : ' '.join(terms),#'fired worker', # the query terms to look for\n",
    "    'in' : 'content', # look in title, content or both (supported values are: \"title\", \"content\", \"both\")\n",
    "    'from' : '2015-09-01T00:00:00Z', # from->starting datetime point\n",
    "    'to' : '2015-09-30T00:00:00Z', # ending datetime point\n",
    "    'source' : '', # source -> which source\n",
    " #   'media' : 'News', # media -> media type (\"Blog\" or \"News\")\n",
    "    'size' : 1000, # size -> amount of results to return\n",
    "    'offset' : 0,  # offset ->skip the first offset results (useful for pagination)\n",
    "    'match' : 'terms'\n",
    "}"
   ]
  },
  {
   "cell_type": "code",
   "execution_count": 28,
   "metadata": {},
   "outputs": [
    {
     "data": {
      "text/plain": [
       "1000"
      ]
     },
     "execution_count": 28,
     "metadata": {},
     "output_type": "execute_result"
    }
   ],
   "source": [
    "url=utils.create_url(base, args)\n",
    "all_results = utils.extract_hits(url)\n",
    "len(all_results)"
   ]
  },
  {
   "cell_type": "code",
   "execution_count": 29,
   "metadata": {},
   "outputs": [
    {
     "data": {
      "text/plain": [
       "2473"
      ]
     },
     "execution_count": 29,
     "metadata": {},
     "output_type": "execute_result"
    }
   ],
   "source": [
    "# ignore this\n",
    "utils.extract_size('http://news.fii800.lod.labs.vu.nl/news?offset=0&to=2015-09-27T00:00:00Z&media=News&size=1&from=2015-09-20T00:00:00Z&in=content&q=crash')"
   ]
  },
  {
   "cell_type": "markdown",
   "metadata": {},
   "source": [
    "### Which articles are too long/short or have the exact same content"
   ]
  },
  {
   "cell_type": "code",
   "execution_count": 30,
   "metadata": {},
   "outputs": [
    {
     "name": "stdout",
     "output_type": "stream",
     "text": [
      "210 61\n"
     ]
    }
   ],
   "source": [
    "to_remove=set()\n",
    "min_len=100\n",
    "max_len=4000\n",
    "ls=0\n",
    "same=0\n",
    "for e1, val1 in all_results.items():\n",
    "    data1=all_results[e1]['_source']['content']\n",
    "    if len(data1)>max_len or len(data1)<min_len:# if too long or short\n",
    "        ls+=1\n",
    "        to_remove.add(e1)\n",
    "        continue\n",
    "    for e2, val2 in all_results.items():\n",
    "        if e1<e2: # this is a trick to avoid checking the same thing twice\n",
    "            data2=all_results[e2]['_source']['content']\n",
    "            if data1==data2:\n",
    "                to_remove.add(e1)\n",
    "                same+=1\n",
    "                break\n",
    "print(ls, same)"
   ]
  },
  {
   "cell_type": "code",
   "execution_count": 31,
   "metadata": {},
   "outputs": [
    {
     "data": {
      "text/plain": [
       "271"
      ]
     },
     "execution_count": 31,
     "metadata": {},
     "output_type": "execute_result"
    }
   ],
   "source": [
    "len(to_remove)"
   ]
  },
  {
   "cell_type": "code",
   "execution_count": 32,
   "metadata": {},
   "outputs": [],
   "source": [
    "for k in to_remove:\n",
    "    del all_results[k]"
   ]
  },
  {
   "cell_type": "code",
   "execution_count": 34,
   "metadata": {},
   "outputs": [
    {
     "name": "stdout",
     "output_type": "stream",
     "text": [
      "729\n"
     ]
    }
   ],
   "source": [
    "print(len(all_results))"
   ]
  },
  {
   "cell_type": "markdown",
   "metadata": {},
   "source": [
    "### Which articles have similarity higher than a threshold -> create chains"
   ]
  },
  {
   "cell_type": "code",
   "execution_count": 35,
   "metadata": {
    "collapsed": true
   },
   "outputs": [],
   "source": [
    "import spacy\n",
    "from collections import defaultdict\n",
    "nlp = spacy.load('en')\n",
    "entities=defaultdict(set)\n",
    "for key, value in all_results.items():\n",
    "    data=value['_source']\n",
    "    doc = nlp(data['title'] + '\\n' + data['content'])\n",
    "    for ent in doc.ents:\n",
    "        entities[key].add(ent.text)\n",
    "#        print(ent.label_, ent.text)"
   ]
  },
  {
   "cell_type": "code",
   "execution_count": 52,
   "metadata": {},
   "outputs": [
    {
     "name": "stdout",
     "output_type": "stream",
     "text": [
      "0 230 263901\n"
     ]
    }
   ],
   "source": [
    "c=0\n",
    "o=0\n",
    "l=0\n",
    "coref=[]\n",
    "for e1, ents1 in entities.items():\n",
    "    data1=all_results[e1]['_source']['content']\n",
    "    for e2, ents2 in entities.items():\n",
    "        if e1<e2:\n",
    "            overlap=ents1 & ents2\n",
    "            if len(overlap)>min(len(ents1),len(ents2))*2/3:\n",
    "                found=False\n",
    "                for chain in coref:\n",
    "                    if e1 in chain or e2 in chain:\n",
    "                        chain.add(e1)\n",
    "                        chain.add(e2)\n",
    "                        found=True\n",
    "                if not found: coref.append(set([e1,e2]))\n",
    "                o+=1\n",
    "            c+=1\n",
    "print(l,o,c)"
   ]
  },
  {
   "cell_type": "markdown",
   "metadata": {},
   "source": [
    "### Merge chains"
   ]
  },
  {
   "cell_type": "code",
   "execution_count": 53,
   "metadata": {},
   "outputs": [
    {
     "name": "stdout",
     "output_type": "stream",
     "text": [
      "YO\n",
      "YO\n",
      "YO\n",
      "YO\n",
      "YO\n",
      "YO\n",
      "YO\n",
      "YO\n",
      "YO\n",
      "YO\n",
      "YO\n",
      "YO\n",
      "YO\n",
      "YO\n",
      "YO\n",
      "YO\n"
     ]
    }
   ],
   "source": [
    "# merge chains\n",
    "for index, chain in enumerate(coref):\n",
    "    for index2, chain2 in enumerate(coref):\n",
    "        if index!=index2 and chain & chain2:\n",
    "            chain |=chain2\n",
    "        if index!=index2 and chain==chain2:\n",
    "            chain2.clear()\n",
    "            print(\"YO\")\n",
    "#            print(chain, chain2)"
   ]
  },
  {
   "cell_type": "markdown",
   "metadata": {},
   "source": [
    "### Inspect chains"
   ]
  },
  {
   "cell_type": "code",
   "execution_count": 54,
   "metadata": {},
   "outputs": [
    {
     "name": "stdout",
     "output_type": "stream",
     "text": [
      "2\n",
      "3\n",
      "11\n",
      "2\n",
      "2\n",
      "2\n",
      "3\n",
      "2\n",
      "2\n",
      "2\n",
      "3\n",
      "2\n",
      "2\n",
      "2\n",
      "2\n",
      "3\n",
      "2\n",
      "2\n",
      "2\n",
      "2\n",
      "4\n",
      "2\n",
      "2\n",
      "2\n",
      "2\n",
      "2\n",
      "10\n",
      "2\n",
      "2\n",
      "4\n",
      "2\n",
      "2\n",
      "2\n",
      "2\n",
      "2\n",
      "2\n",
      "4\n",
      "2\n",
      "2\n",
      "2\n",
      "2\n",
      "2\n",
      "2\n",
      "3\n",
      "2\n",
      "2\n",
      "93\n",
      "3\n",
      "2\n",
      "2\n",
      "2\n",
      "2\n",
      "2\n",
      "2\n"
     ]
    },
    {
     "data": {
      "text/plain": [
       "54"
      ]
     },
     "execution_count": 54,
     "metadata": {},
     "output_type": "execute_result"
    }
   ],
   "source": [
    "cnt=0\n",
    "for chain in coref:\n",
    "    if len(chain):\n",
    "        print(len(chain))\n",
    "        cnt+=1\n",
    "cnt\n",
    "\n",
    "# OLD CHAINS: \n",
    "# 1) Jeremy Clarkson's comeback (2)\n",
    "# 2) Taco Bell firing an employee (2)\n",
    "# 3) Taylor Swift's bottom (10)\n",
    "# 4) Students angry over tax increase (2)\n",
    "# 5) Worker killed in South Africa (2)\n",
    "# 6) Mixed reports and promotions (2)\n",
    "# 7) Bombarding in Aleppo (2)\n",
    "# 8) Taylor Swift's bottom AGAIN (0)\n",
    "# 9) Someone won in soccer (fired used here in an entirely different sense) (2)\n",
    "# 10) Firing a weapon on someone (2)\n",
    "# 11) Sheriff's deputy shot and killed (4)"
   ]
  },
  {
   "cell_type": "code",
   "execution_count": 59,
   "metadata": {},
   "outputs": [
    {
     "name": "stdout",
     "output_type": "stream",
     "text": [
      "DOCUMENT\n",
      " By | CNET  –  \n",
      "This article, , originally appeared on CNET.com . \n",
      " \n",
      "A former Microsoft employee has sued the tech giant claiming it has a longstanding practice of discriminating against women who work in technical roles. \n",
      "\n",
      "The proposed class action lawsuit filed Wednesday in federal court in Seattle by Katherine Moussouris alleges Microsoft of paying and promoting female workers in technical positions less than their male counterparts. The suit also says women workers at Microsoft were also ranked less than men. Moussouris worked at the software maker from 2007 to 2014. \n",
      "\n",
      "The documents say the Seattle-based software maker's policies and practices \"systematically violate female technical employees' rights and result in unchecked gender bias that pervades its corporate culture.\" The suit also alleges that Microsoft retaliates against women who complain about being discriminated against. A former Microsoft employee has filed a class action lawsuit against the tech giant for gender discrimination \n",
      "\n",
      "Microsoft said in an emailed statement Wednesday it will review the allegations. \"We're committed to a diverse workforce, and to a workplace where all employees have the chance to succeed,\" a spokesperson said. \n",
      "\n",
      "Microsoft joins other tech heavyweights including Twitter and Facebook in grappling with gender discrimination suits. It also comes nearly a year after Microsoft CEO Satya Nadella was widely panned after saying that women should rely on \"karma\" instead of asking for raises and promoting themselves. \n",
      "\n",
      "Gender discrimination lawsuits against tech giants have gained more public attention since Ellen Pao filed her high-profile gender discrimination suit against renown Silicon Valley venture capital firm Kleiner Perkins Caufield & Byers. \n",
      "\n",
      "Tina Huang, an ex-Twitter software engineer , filed suit in March accusing the social network of using a \"subjective, secretive promotion process\" that favors men. That same month, ex-Facebook staffer Chia Hong filed a lawsuit against her former employer, saying Facebook fired her after she complained about being discriminated against and harassed because of her gender and Taiwanese descent. \n",
      "\n",
      "Since Nadella made his controversial comments at a women in tech conference in October, he has apologized and instituted training programs at Microsoft to help raise awareness about the unconscious bias that can hinder women's careers. \n",
      "\n",
      "Moussouris, who worked at Microsoft as a security program manager in the company's Trustworthy Computing group, alleges she was routinely received lower performance ratings than male co-workers despite performing better than them. \n",
      "\n",
      "She also accuses a male director of giving her a low bonus in retaliation for reporting sexual harassment in her department. Microsoft concluded that the director sexually harassed female employees and he was reassigned, according to the suit. He was later promoted to senior director, according to the lawsuit.\n",
      "\n",
      "DOCUMENT\n",
      " Ex-Microsoft employee sues company for gender discrimination Former technician files suit claiming she was passed over for jobs by less-qualified men during her seven years at Microsoft. by Terry Collins @terryscollins September 16, 2015 8:07 PM PDT A former Microsoft employee has sued the tech giant claiming it has a longstanding practice of discriminating against women who work in technical roles.\n",
      "The proposed class action lawsuit filed Wednesday in federal court in Seattle by Katherine Moussouris alleges Microsoft of paying and promoting female workers in technical positions less than their male counterparts. The suit also says women workers at Microsoft were also ranked less than men. Moussouris worked at the software maker from 2007 to 2014.\n",
      "The documents say the Seattle-based software maker's policies and practices \"systematically violate female technical employees' rights and result in unchecked gender bias that pervades its corporate culture.\" The suit also alleges that Microsoft retaliates against women who complain about being discriminated against. A former Microsoft employee has filed a class action lawsuit against the tech giant for gender discrimination Microsoft said in an emailed statement Wednesday it will review the allegations. \"We're committed to a diverse workforce, and to a workplace where all employees have the chance to succeed,\" a spokesperson said.\n",
      "Microsoft joins other tech heavyweights including Twitter and Facebook in grappling with gender discrimination suits. It also comes nearly a year after Microsoft CEO Satya Nadella was widely panned after saying that women should rely on \"karma\" instead of asking for raises and promoting themselves.\n",
      "Gender discrimination lawsuits against tech giants have gained more public attention since Ellen Pao filed her high-profile gender discrimination suit against renown Silicon Valley venture capital firm Kleiner Perkins Caufield & Byers. Tina Huang, an ex-Twitter software engineer, filed suit in March accusing the social network of using a \"subjective, secretive promotion process\" that favors men. That same month, ex-Facebook staffer Chia Hong filed a lawsuit against her former employer, saying Facebook fired her after she complained about being discriminated against and harassed because of her gender and Taiwanese descent. Since Nadella made his controversial comments at a women in tech conference in October, he has apologized and instituted training programs at Microsoft to help raise awareness about the unconscious bias that can hinder women's careers.\n",
      "Related links Pao says Silicon Valley is changing in wake of her lawsuit (Q&A) Twitter faces gender bias lawsuit Microsoft CEO says he was 'inarticulate' on pay for women in tech Moussouris, who worked at Microsoft as a security program manager in the company's Trustworthy Computing group, alleges she was routinely received lower performance ratings than male co-workers despite performing better than them. She also accuses a male director of giving her a low bonus in retaliation for reporting sexual harassment in her department. Microsoft concluded that the director sexually harassed female employees and he was reassigned, according to the suit. He was later promoted to senior director, according to the lawsuit.\n",
      "Tags: Tech Industry Microsoft Previous Story Expedia's $1.3B acquisition of rival Orbitz wins US approval About the author Terry Collins Terry writes about social networking giants and legal issues in Silicon Valley. He joined CNET News from the Associated Press,... See full bio Comments More From CNET\n",
      "\n"
     ]
    }
   ],
   "source": [
    "chain=coref[-4]\n",
    "for e in chain:\n",
    "    data=all_results[e]['_source']['content']\n",
    "    print(\"DOCUMENT\\n\",data)\n",
    "    print()"
   ]
  },
  {
   "cell_type": "markdown",
   "metadata": {},
   "source": [
    "### Store the data to redis"
   ]
  },
  {
   "cell_type": "code",
   "execution_count": 52,
   "metadata": {},
   "outputs": [
    {
     "name": "stdout",
     "output_type": "stream",
     "text": [
      "2015-09-18T16:29:00Z Jeremy Clarkson back on BBC show\n",
      "2015-09-18T16:29:00Z Jeremy Clarkson back on BBC show\n",
      "2015-09-24T18:28:54Z Pic shows Taco Bell worker with hands down pants\n",
      "2015-09-24T21:18:20Z Pic shows Taco Bell worker with hands down pants\n",
      "2015-09-14T18:25:13Z Colorado DJ sues Taylor Swift\n",
      "2015-09-13T05:31:11Z Colorado DJ sues Taylor Swift over accusation\n",
      "2015-09-13T04:03:42Z Colorado DJ sues Taylor Swift over accusation\n",
      "2015-09-13T02:26:29Z Colorado DJ fired over Taylor Swift accusation sues singer\n",
      "2015-09-13T08:42:50Z Former radio host files lawsuit against Taylor Swift\n",
      "2015-09-13T03:55:49Z Fired Colorado DJ sues Taylor Swift over accusation\n",
      "2015-09-13T18:46:03Z Colorado DJ fired over Taylor Swift accusation sues singer\n",
      "2015-09-13T16:43:19Z Taylor Swift Sued by Fired DJ Over Groping Claim\n",
      "2015-09-13T03:55:49Z Fired Colorado DJ sues Taylor Swift over accusation\n",
      "2015-09-10T10:08:12Z Thousands of Bangladeshi students protest against tax on university fees\n",
      "2015-09-10T14:08:26Z Thousands of Bangladeshi students protest university tax\n",
      "2015-09-15T09:34:54Z Work on S.Africa's coal power station affected after fatality\n",
      "2015-09-15T11:01:51Z Kusile work halted after crane incide ...\n",
      "2015-09-12T07:27:06Z So This is Suffering / Triumph Over Shipwreck / Roots Like Mountains / Lost July\n",
      "2015-09-12T07:27:06Z Schwervon (KC) / The Cave Girls (KC)\n",
      "2015-09-21T18:12:02Z Regime fire kills 18 civilians in Syria's Aleppo: monitor\n",
      "2015-09-22T00:27:09Z Regime fire kills 18 civilians in Syria’s Aleppo — monitor\n",
      "2015-09-14T18:25:13Z Colorado DJ sues Taylor Swift\n",
      "2015-09-14T06:57:46Z Taylor Swift Lawsuit: Sued By Former Denver Radio DJ - Headlines & Global News\n",
      "2015-09-13T05:31:11Z Colorado DJ sues Taylor Swift over accusation\n",
      "2015-09-13T02:26:29Z Colorado DJ fired over Taylor Swift accusation sues singer\n",
      "2015-09-13T04:03:42Z Colorado DJ sues Taylor Swift over accusation\n",
      "2015-09-13T08:42:50Z Former radio host files lawsuit against Taylor Swift\n",
      "2015-09-13T18:46:03Z Colorado DJ fired over Taylor Swift accusation sues singer\n",
      "2015-09-13T03:55:49Z Fired Colorado DJ sues Taylor Swift over accusation\n",
      "2015-09-13T16:43:19Z Taylor Swift Sued by Fired DJ Over Groping Claim\n",
      "2015-09-13T03:55:49Z Fired Colorado DJ sues Taylor Swift over accusation\n",
      "2015-09-16T11:41:10Z Football: The goals just keep on coming, it's the Byatt effect\n",
      "2015-09-16T11:39:07Z Football: The goals just keep on coming, it's the Byatt effect\n",
      "2015-09-21T11:54:00Z Boy, 14, shot dead after mom reluctantly lets him go out with friends\n",
      "2015-09-21T11:54:00Z Boy, 14, shot dead after mom reluctantly lets him go out with friends\n",
      "2015-09-22T22:46:32Z Gunman Kills Florida Deputy Outside Lawyer's Office - ABC News\n",
      "2015-09-23T09:10:06Z Slain Deputy Was Trying to Earn Money for Family Trip – ABC News\n",
      "2015-09-23T18:46:25Z Slain cop was raising money to take granddaughter to Disney World\n",
      "2015-09-23T17:34:56Z Slain Florida deputy was trying to earn money for family trip Posted at 12:30 PM\n",
      "30\n",
      "75\n"
     ]
    }
   ],
   "source": [
    "import uuid\n",
    "import redis\n",
    "\n",
    "def make_redis_key():\n",
    "    return \"incinitstr:BU%s\" % uuid.uuid4().hex\n",
    "\n",
    "pool = redis.ConnectionPool(host='localhost', port=6379, db=0)\n",
    "r = redis.Redis(connection_pool=pool)\n",
    "\n",
    "stored = set()\n",
    "for chain in coref:\n",
    "    incident_data={\"estimated_incident_date\": \"\", \"estimated_location\": \"\", \"articles\":[]}\n",
    "    for article in chain:\n",
    "        this_article={}\n",
    "        this_article[\"body\"]=all_results[article]['_source']['content']\n",
    "        this_article[\"title\"]=all_results[article]['_source']['title']\n",
    "        this_article[\"dct\"]=all_results[article]['_source']['published']\n",
    "        incident_data[\"articles\"].append(this_article)\n",
    "        stored.add(article)\n",
    "    rkey=make_redis_key()\n",
    "    rval=json.dumps(incident_data)\n",
    "    r.set(rkey, rval)\n",
    "print(len(stored))\n",
    "\n",
    "# non-chained\n",
    "for article, val in all_results.items():\n",
    "    incident_data={\"estimated_incident_date\": \"\", \"estimated_location\": \"\", \"articles\":[]}\n",
    "    if article not in stored:\n",
    "        this_article={}\n",
    "        this_article[\"body\"]=all_results[article]['_source']['content']\n",
    "        this_article[\"title\"]=all_results[article]['_source']['title']\n",
    "        this_article[\"dct\"]=all_results[article]['_source']['published']\n",
    "        incident_data[\"articles\"].append(this_article)\n",
    "        stored.add(article)\n",
    "        rkey=make_redis_key()\n",
    "        rval=json.dumps(incident_data)\n",
    "        r.set(rkey, rval)\n",
    "print(len(stored))"
   ]
  },
  {
   "cell_type": "code",
   "execution_count": null,
   "metadata": {
    "collapsed": true
   },
   "outputs": [],
   "source": []
  }
 ],
 "metadata": {
  "kernelspec": {
   "display_name": "Python 3",
   "language": "python",
   "name": "python3"
  },
  "language_info": {
   "codemirror_mode": {
    "name": "ipython",
    "version": 3
   },
   "file_extension": ".py",
   "mimetype": "text/x-python",
   "name": "python",
   "nbconvert_exporter": "python",
   "pygments_lexer": "ipython3",
   "version": "3.6.1"
  }
 },
 "nbformat": 4,
 "nbformat_minor": 2
}
