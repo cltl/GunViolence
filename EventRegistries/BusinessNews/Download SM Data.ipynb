{
 "cells": [
  {
   "cell_type": "code",
   "execution_count": 53,
   "metadata": {
    "collapsed": true
   },
   "outputs": [],
   "source": [
    "import utils\n",
    "import operator\n",
    "# topics: http://www.newsreader-project.eu/files/2013/01/NWR-2014-1.pdf"
   ]
  },
  {
   "cell_type": "code",
   "execution_count": 54,
   "metadata": {
    "collapsed": true
   },
   "outputs": [],
   "source": [
    "base = 'http://news.fii800.lod.labs.vu.nl/news?'\n",
    "args = {\n",
    "    'q' : 'fired worker', # the query terms to look for\n",
    "    'in' : 'content', # look in title, content or both (supported values are: \"title\", \"content\", \"both\")\n",
    "    'from' : '2015-09-01T00:00:00Z', # from->starting datetime point\n",
    "    'to' : '2015-09-30T00:00:00Z', # ending datetime point\n",
    "    'source' : '', # source -> which source\n",
    "    'media' : 'News', # media -> media type (\"Blog\" or \"News\")\n",
    "    'size' : 1000, # size -> amount of results to return\n",
    "    'offset' : 0,  # offset ->skip the first offset results (useful for pagination)\n",
    "    'match' : 'conjunct'\n",
    "}"
   ]
  },
  {
   "cell_type": "code",
   "execution_count": 55,
   "metadata": {},
   "outputs": [
    {
     "data": {
      "text/plain": [
       "245"
      ]
     },
     "execution_count": 55,
     "metadata": {},
     "output_type": "execute_result"
    }
   ],
   "source": [
    "all_results = utils.get_all_hits(base, args)\n",
    "len(all_results)"
   ]
  },
  {
   "cell_type": "code",
   "execution_count": 11,
   "metadata": {},
   "outputs": [
    {
     "data": {
      "text/plain": [
       "2473"
      ]
     },
     "execution_count": 11,
     "metadata": {},
     "output_type": "execute_result"
    }
   ],
   "source": [
    "# ignore this\n",
    "utils.extract_size('http://news.fii800.lod.labs.vu.nl/news?offset=0&to=2015-09-27T00:00:00Z&media=News&size=1&from=2015-09-20T00:00:00Z&in=content&q=crash')"
   ]
  },
  {
   "cell_type": "markdown",
   "metadata": {},
   "source": [
    "### Which articles are too long/short or have the exact same content"
   ]
  },
  {
   "cell_type": "code",
   "execution_count": 12,
   "metadata": {
    "collapsed": true
   },
   "outputs": [],
   "source": [
    "to_remove=set()\n",
    "min_len=300\n",
    "max_len=4000\n",
    "for e1, val1 in all_results.items():\n",
    "    data1=all_results[e1]['_source']['content']\n",
    "    if len(data1)>max_len or len(data1)<min_len:# if too long or short\n",
    "        to_remove.add(e1)\n",
    "        continue\n",
    "    for e2, val2 in all_results.items():\n",
    "        if e1<e2: # this is a trick to avoid checking the same thing twice\n",
    "            data2=all_results[e2]['_source']['content']\n",
    "            if data1==data2:\n",
    "                to_remove.add(e1)\n",
    "                break"
   ]
  },
  {
   "cell_type": "code",
   "execution_count": 13,
   "metadata": {},
   "outputs": [
    {
     "data": {
      "text/plain": [
       "170"
      ]
     },
     "execution_count": 13,
     "metadata": {},
     "output_type": "execute_result"
    }
   ],
   "source": [
    "len(to_remove)"
   ]
  },
  {
   "cell_type": "code",
   "execution_count": 14,
   "metadata": {
    "collapsed": true
   },
   "outputs": [],
   "source": [
    "for k in to_remove:\n",
    "    del all_results[k]"
   ]
  },
  {
   "cell_type": "code",
   "execution_count": 16,
   "metadata": {},
   "outputs": [
    {
     "name": "stdout",
     "output_type": "stream",
     "text": [
      "75\n"
     ]
    }
   ],
   "source": [
    "print(len(all_results))"
   ]
  },
  {
   "cell_type": "markdown",
   "metadata": {},
   "source": [
    "### Which articles have similarity higher than a threshold -> create chains"
   ]
  },
  {
   "cell_type": "code",
   "execution_count": 17,
   "metadata": {
    "collapsed": true
   },
   "outputs": [],
   "source": [
    "import spacy\n",
    "from collections import defaultdict\n",
    "nlp = spacy.load('en')\n",
    "entities=defaultdict(set)\n",
    "for key, value in all_results.items():\n",
    "    data=value['_source']\n",
    "    doc = nlp(data['title'] + '\\n' + data['content'])\n",
    "    for ent in doc.ents:\n",
    "        entities[key].add(ent.text)\n",
    "#        print(ent.label_, ent.text)"
   ]
  },
  {
   "cell_type": "code",
   "execution_count": 43,
   "metadata": {},
   "outputs": [
    {
     "name": "stdout",
     "output_type": "stream",
     "text": [
      "0 48 2775\n"
     ]
    }
   ],
   "source": [
    "c=0\n",
    "o=0\n",
    "l=0\n",
    "coref=[]\n",
    "for e1, ents1 in entities.items():\n",
    "    data1=all_results[e1]['_source']['content']\n",
    "    for e2, ents2 in entities.items():\n",
    "        if e1<e2:\n",
    "            overlap=ents1 & ents2\n",
    "            if len(overlap)>min(len(ents1),len(ents2))*2/3:\n",
    "                found=False\n",
    "                for chain in coref:\n",
    "                    if e1 in chain or e2 in chain:\n",
    "                        chain.add(e1)\n",
    "                        chain.add(e2)\n",
    "                        found=True\n",
    "                if not found: coref.append(set([e1,e2]))\n",
    "                o+=1\n",
    "            c+=1\n",
    "print(l,o,c)"
   ]
  },
  {
   "cell_type": "markdown",
   "metadata": {},
   "source": [
    "### Merge chains"
   ]
  },
  {
   "cell_type": "code",
   "execution_count": 39,
   "metadata": {},
   "outputs": [
    {
     "name": "stdout",
     "output_type": "stream",
     "text": [
      "YO\n"
     ]
    }
   ],
   "source": [
    "# merge chains\n",
    "for index, chain in enumerate(coref):\n",
    "    for index2, chain2 in enumerate(coref):\n",
    "        if index!=index2 and chain & chain2:\n",
    "            chain |=chain2\n",
    "        if index!=index2 and chain==chain2:\n",
    "            chain2.clear()\n",
    "            print(\"YO\")\n",
    "#            print(chain, chain2)"
   ]
  },
  {
   "cell_type": "markdown",
   "metadata": {},
   "source": [
    "### Inspect chains"
   ]
  },
  {
   "cell_type": "code",
   "execution_count": 42,
   "metadata": {},
   "outputs": [
    {
     "name": "stdout",
     "output_type": "stream",
     "text": [
      "2\n",
      "2\n",
      "10\n",
      "2\n",
      "2\n",
      "2\n",
      "2\n",
      "0\n",
      "2\n",
      "2\n",
      "4\n"
     ]
    }
   ],
   "source": [
    "len(coref)\n",
    "for chain in coref:\n",
    "    print(len(chain))\n",
    "# 1) Jeremy Clarkson's comeback (2)\n",
    "# 2) Taco Bell firing an employee (2)\n",
    "# 3) Taylor Swift's bottom (10)\n",
    "# 4) Students angry over tax increase (2)\n",
    "# 5) Worker killed in South Africa (2)\n",
    "# 6) Mixed reports and promotions (2)\n",
    "# 7) Bombarding in Aleppo (2)\n",
    "# 8) Taylor Swift's bottom AGAIN (0)\n",
    "# 9) Someone won in soccer (fired used here in an entirely different sense) (2)\n",
    "# 10) Firing a weapon on someone (2)\n",
    "# 11) Sheriff's deputy shot and killed (4)"
   ]
  },
  {
   "cell_type": "code",
   "execution_count": 30,
   "metadata": {},
   "outputs": [
    {
     "name": "stdout",
     "output_type": "stream",
     "text": [
      "DOCUMENT\n",
      " A gunman fatally shot a sheriff's deputy outside a lawyer's office Tuesday and then barricaded himself inside a motel, where he exchanged gunfire with other deputies and was killed, authorities said. \n",
      " \n",
      "Joel Dixon Smith, 33, was being served a domestic violence restraining order at the lawyer's office and was supposed to be turning over his guns to Okaloosa County Deputy Bill Myers, 64, when he pulled out a concealed weapon and shot the deputy multiple times in the back of the head and back, authorities said. \n",
      " \n",
      "Sheriff Larry Ashley called Smith \"a sick little coward.\" \n",
      " \n",
      "Smith, a postal worker, fled in his vehicle, heading to a Comfort Suites about 10 miles away in Niceville, where he had previously booked a room. He barricaded himself inside and deputies fired tear gas into his room. He charged out firing and was shot by deputies, Ashley said. \n",
      " \n",
      "No one else was hurt. \n",
      " \n",
      "Smith had been arrested in 2008 for domestic battery, Ashley said, but had no other details. The restraining order was meant to protect Smith's wife. \n",
      " \n",
      "Smith was a rural carrier for the Postal Service , beginning in Niceville in 2013, the agency said in a brief statement. \n",
      " \n",
      "Annie Allen works at an awning business next to the law firm. Allen said she and her boss were starting their day when six to eight gunshots rang out. \n",
      " \n",
      "\"We heard 'pop, pop, pop,'\" she said. \n",
      " \n",
      "Allen called 911, and her boss, store owner David Wray, went to check things out. \n",
      " \n",
      "Wray said he initially thought there had been a robbery at a nearby Dollar General store. He spotted Myers' patrol car and ran over with the intention to tell a deputy about the possible robbery but instead saw a wounded Myers. \n",
      " \n",
      "Wray said he was stooped over Myers when a nicely dressed man walked out of the law office. Wray said he asked the man if anyone had called 911, but the man just continued to his truck. That's when another woman screamed that the man was the shooter. \n",
      " \n",
      "\"It was like I was in a movie,\" Wray said. \"I just couldn't believe any of it.\" \n",
      " \n",
      "Wray said he used his phone to take photos of the fleeing truck. He said he then got into his own vehicle and tried to follow. \n",
      " \n",
      "\"I thought I'd chase him, but there was a lot of traffic,\" Wray said. \"I'm not James Bond. I didn't want to get anybody hurt, so I went back.\" \n",
      " \n",
      "At the scene of the shooting, Wray said he and another man tried to talk to the deputy, but he didn't reply. \n",
      " \n",
      "\"It was the saddest thing I'd ever seen,\" Wray said. \"I cradled his head for a while. He was bleeding profusely.\" \n",
      " \n",
      "Allen said she also saw the sheriff's deputy on the ground moments later. \n",
      " \n",
      "\"When I realized it was an officer that he shot, that's when it really hit me how dangerous it was,\" she said. \n",
      " \n",
      "A Comfort Suites guest, David Bump of Ozark, Alabama , said he awoke Tuesday to deputies pounding at his room. \n",
      " \n",
      "\"I opened the door and they had their guns drawn,\" he said. \n",
      " \n",
      "Bump said officers took him and other guests across the street, where they spent hours watching the standoff. \n",
      " \n",
      "\"When they brought the guy out, he was on a gurney with his face covered,\" said Bump, who was working in the area as part of a construction crew. \n",
      " \n",
      "He sat in the parking lot later, watching investigators enter and exit the hotel. \n",
      " \n",
      "\"They just now let me go back in and get my cellphone and cigarettes,\" he said. \n",
      " \n",
      "Deputy Myers was white. Smith listed himself as Native American on one voter registration and white on a more recent one. \n",
      " \n",
      "——— \n",
      " \n",
      "(This version corrects Smith's middle name to Dixon, not Dixson)\n",
      "\n",
      "DOCUMENT\n",
      " “When they brought the guy out, he was on a gurney with his face covered,” said Bump, who was working in the area on a construction crew. \n",
      " \n",
      "Smith had been arrested in 2008 for domestic battery, Ashley said, but had no other details. The restraining order was meant to protect Smith’s wife. \n",
      " \n",
      "“He had an ability to make those around him smile, especially his young granddaughter who he adored and took to Disney World as often as he could,” Okaloosa County Sheriff Larry Ashley said, fighting tears during a news conference late Tuesday. \n",
      " \n",
      "Deputy Myers was white. Smith listed himself as Native American on one voter registration and white on a more recent one. \n",
      " \n",
      "“We heard ‘pop, pop, pop,'” she said. \n",
      " \n",
      "At the scene of the shooting, Wray said he and another man tried to talk to the deputy, but he didn’t respond. \n",
      " \n",
      "At the Comfort Suites, guest David Bump of Ozark, Alabama, said he awoke Tuesday to deputies pounding at his room. \n",
      " \n",
      "Myers, a 25-year department veteran, had retired in 2013 but returned to work in January, Ashely said. \n",
      " \n",
      "“It was the saddest thing I’d ever seen,” Wray said. “I cradled his head for a while. He was bleeding profusely.” \n",
      " \n",
      "“I thought I’d chase him, but there was a lot of traffic,” Wray said. “I’m not James Bond. I didn’t want to get anybody hurt, so I went back.” \n",
      " \n",
      "Allen called 911, and Wray went to check things out. \n",
      " \n",
      "Wray said he was stooped over Myers when a well-dressed man walked out of the law office. Wray said he asked if anyone had called 911, but the man just continued to his truck. That’s when another woman screamed that the man was the shooter. \n",
      " \n",
      "“It was like I was in a movie,” Wray said. “I just couldn’t believe any of it.” \n",
      "      \n",
      "No one else was hurt. \n",
      " \n",
      "Bump said officers took him and other guests across the street, where they spent hours watching the standoff. \n",
      " \n",
      "“I opened the door and they had their guns drawn,” he said. \n",
      " \n",
      "Okaloosa County Deputy Bill Myers, 64, died Tuesday after he was shot multiple times in the head and back. \n",
      " \n",
      "Smith was a rural Postal Service carrier, beginning in Niceville in 2013, the agency said in a statement. \n",
      " \n",
      "Smith, a postal worker, fled in his vehicle to a Comfort Suites hotel about 10 miles away in Niceville, where he had previously booked a room. He barricaded himself inside and deputies eventually fired tear gas into his room. He charged out firing and was fatally shot by deputies, Ashley said. \n",
      " \n",
      "Wray said he used his phone to take photos of the fleeing truck before trying to follow it in his own vehicle. \n",
      " \n",
      "Wray said he initially thought a nearby store had been robbed. He spotted Myers’ patrol car and ran over thinking to tell a deputy about the possible robbery but instead saw Myers bleeding. \n",
      " \n",
      "Joel Dixon Smith, 33, was being served a domestic violence restraining order at the lawyer’s office just blocks from the sheriff’s office. He was supposed to be turning over his guns to Myers, 64, when he pulled out a concealed weapon and shot the deputy multiple times, authorities said. \n",
      " \n",
      "Annie Allen works at an awning business next to the law firm. Allen said she and her boss, store owner David Wray, were starting their day when as many as eight gunshots rang out. \n",
      " \n",
      "“He was a part of our family. We are a family here,” Ashley said. \n",
      " \n",
      " \n",
      "A veteran sheriff’s deputy who was shot and killed while serving a domestic violence restraining order had come out of retirement to earn money for trips to Disney World with his young granddaughter. The suspect was later killed in a confrontation with police. \n",
      " \n",
      "The post appeared first on News List Online .\n",
      "\n",
      "DOCUMENT\n",
      " SHALIMAR, Fla. -- A veteran sheriff's deputy who was shot and killed while serving a domestic violence restraining order had come out of retirement to earn money for trips to Disney World with his young granddaughter. The suspect was later killed in a confrontation with police. \n",
      " \n",
      "Okaloosa County Deputy Bill Myers, 64, died Tuesday after he was shot multiple times in the head and back. \n",
      " \n",
      "\"He had an ability to make those around him smile, especially his young granddaughter who he adored and took to Disney World as often as he could,\" Okaloosa County Sheriff Larry Ashley said, fighting tears during a news conference late Tuesday. \n",
      " \n",
      "Myers, a 25-year department veteran, had retired in 2013 but returned to work in January, Ashely said. \n",
      " \n",
      "\"He was a part of our family. We are a family here,\" Ashley said. \n",
      " \n",
      "Joel Dixon Smith, 33, was being served a domestic violence restraining order at the lawyer's office just blocks from the sheriff's office. He was supposed to be turning over his guns to Myers, 64, when he pulled out a concealed weapon and shot the deputy multiple times, authorities said. \n",
      " \n",
      "Smith, a postal worker, fled in his vehicle to a Comfort Suites hotel about 10 miles away in Niceville, where he had previously booked a room. He barricaded himself inside and deputies eventually fired tear gas into his room. He charged out firing and was fatally shot by deputies, Ashley said. \n",
      " \n",
      "No one else was hurt. \n",
      " \n",
      "Smith had been arrested in 2008 for domestic battery, Ashley said, but had no other details. The restraining order was meant to protect Smith's wife. \n",
      " \n",
      "Smith was a rural Postal Service carrier, beginning in Niceville in 2013, the agency said in a statement. \n",
      " \n",
      "Annie Allen works at an awning business next to the law firm. Allen said she and her boss, store owner David Wray, were starting their day when as many as eight gunshots rang out. \n",
      " \n",
      "\"We heard 'pop, pop, pop,'\" she said. \n",
      " \n",
      "Allen called 911, and Wray went to check things out. \n",
      " \n",
      "Wray said he initially thought a nearby store had been robbed. He spotted Myers' patrol car and ran over thinking to tell a deputy about the possible robbery but instead saw Myers bleeding. \n",
      " \n",
      "Wray said he was stooped over Myers when a well-dressed man walked out of the law office. Wray said he asked if anyone had called 911, but the man just continued to his truck. That's when another woman screamed that the man was the shooter. \n",
      " \n",
      "\"It was like I was in a movie,\" Wray said. \"I just couldn't believe any of it.\" \n",
      " \n",
      "Wray said he used his phone to take photos of the fleeing truck before trying to follow it in his own vehicle. \n",
      " \n",
      "\"I thought I'd chase him, but there was a lot of traffic,\" Wray said. \"I'm not James Bond. I didn't want to get anybody hurt, so I went back.\" \n",
      " \n",
      "At the scene of the shooting, Wray said he and another man tried to talk to the deputy, but he didn't respond. \n",
      " \n",
      "\"It was the saddest thing I'd ever seen,\" Wray said. \"I cradled his head for a while. He was bleeding profusely.\" \n",
      " \n",
      "At the Comfort Suites, guest David Bump of Ozark, Alabama, said he awoke Tuesday to deputies pounding at his room. \n",
      " \n",
      "\"I opened the door and they had their guns drawn,\" he said. \n",
      " \n",
      "Bump said officers took him and other guests across the street, where they spent hours watching the standoff. \n",
      " \n",
      "\"When they brought the guy out, he was on a gurney with his face covered,\" said Bump, who was working in the area on a construction crew. \n",
      " \n",
      "Deputy Myers was white. Smith listed himself as Native American on one voter registration and white on a more recent one.\n",
      "\n",
      "DOCUMENT\n",
      " SHALIMAR, Fla. — A veteran sheriff's deputy who was shot and killed while serving a domestic violence restraining order had come out of retirement to earn money for trips to Disney World with his young granddaughter. The suspect was later killed in a confrontation with police. Okaloosa County Deputy Bill Myers, 64, died Tuesday after he was shot multiple times in the head and back. \"He had an ability to make those around him smile, especially his young granddaughter who he adored and took to Disney World as often as he could,\" Okaloosa County Sheriff Larry Ashley said, fighting tears during a news conference late Tuesday. Myers, a 25-year department veteran, had retired in 2013 but returned to work in January, Ashely said. \"He was a part of our family. We are a family here,\" Ashley said. Joel Dixon Smith, 33, was being served a domestic violence restraining order at the lawyer's office just blocks from the sheriff's office. He was supposed to be turning over his guns to Myers, 64, when he pulled out a concealed weapon and shot the deputy multiple times, authorities said. Smith, a postal worker, fled in his vehicle to a Comfort Suites hotel about 10 miles away in Niceville, where he had previously booked a room. He barricaded himself inside and deputies eventually fired tear gas into his room. He charged out firing and was fatally shot by deputies, Ashley said. No one else was hurt. Smith had been arrested in 2008 for domestic battery, Ashley said, but had no other details. The restraining order was meant to protect Smith's wife. Smith was a rural Postal Service carrier, beginning in Niceville in 2013, the agency said in a statement. Annie Allen works at an awning business next to the law firm. Allen said she and her boss, store owner David Wray, were starting their day when as many as eight gunshots rang out. \"We heard 'pop, pop, pop,'\" she said. Allen called 911, and Wray went to check things out. Wray said he initially thought a nearby store had been robbed. He spotted Myers' patrol car and ran over thinking to tell a deputy about the possible robbery but instead saw Myers bleeding. Wray said he was stooped over Myers when a well-dressed man walked out of the law office. Wray said he asked if anyone had called 911, but the man just continued to his truck. That's when another woman screamed that the man was the shooter. \"It was like I was in a movie,\" Wray said. \"I just couldn't believe any of it.\" Wray said he used his phone to take photos of the fleeing truck before trying to follow it in his own vehicle. \"I thought I'd chase him, but there was a lot of traffic,\" Wray said. \"I'm not James Bond. I didn't want to get anybody hurt, so I went back.\" Page 2 of 2 - At the scene of the shooting, Wray said he and another man tried to talk to the deputy, but he didn't respond. \"It was the saddest thing I'd ever seen,\" Wray said. \"I cradled his head for a while. He was bleeding profusely.\" At the Comfort Suites, guest David Bump of Ozark, Alabama, said he awoke Tuesday to deputies pounding at his room. \"I opened the door and they had their guns drawn,\" he said. Bump said officers took him and other guests across the street, where they spent hours watching the standoff. \"When they brought the guy out, he was on a gurney with his face covered,\" said Bump, who was working in the area on a construction crew. Deputy Myers was white. Smith listed himself as Native American on one voter registration and white on a more recent one.\n",
      "\n"
     ]
    }
   ],
   "source": [
    "chain=coref[10]\n",
    "for e in chain:\n",
    "    data=all_results[e]['_source']['content']\n",
    "    print(\"DOCUMENT\\n\",data)\n",
    "    print()"
   ]
  },
  {
   "cell_type": "markdown",
   "metadata": {},
   "source": [
    "### Store the data to redis"
   ]
  },
  {
   "cell_type": "code",
   "execution_count": 52,
   "metadata": {},
   "outputs": [
    {
     "name": "stdout",
     "output_type": "stream",
     "text": [
      "2015-09-18T16:29:00Z Jeremy Clarkson back on BBC show\n",
      "2015-09-18T16:29:00Z Jeremy Clarkson back on BBC show\n",
      "2015-09-24T18:28:54Z Pic shows Taco Bell worker with hands down pants\n",
      "2015-09-24T21:18:20Z Pic shows Taco Bell worker with hands down pants\n",
      "2015-09-14T18:25:13Z Colorado DJ sues Taylor Swift\n",
      "2015-09-13T05:31:11Z Colorado DJ sues Taylor Swift over accusation\n",
      "2015-09-13T04:03:42Z Colorado DJ sues Taylor Swift over accusation\n",
      "2015-09-13T02:26:29Z Colorado DJ fired over Taylor Swift accusation sues singer\n",
      "2015-09-13T08:42:50Z Former radio host files lawsuit against Taylor Swift\n",
      "2015-09-13T03:55:49Z Fired Colorado DJ sues Taylor Swift over accusation\n",
      "2015-09-13T18:46:03Z Colorado DJ fired over Taylor Swift accusation sues singer\n",
      "2015-09-13T16:43:19Z Taylor Swift Sued by Fired DJ Over Groping Claim\n",
      "2015-09-13T03:55:49Z Fired Colorado DJ sues Taylor Swift over accusation\n",
      "2015-09-10T10:08:12Z Thousands of Bangladeshi students protest against tax on university fees\n",
      "2015-09-10T14:08:26Z Thousands of Bangladeshi students protest university tax\n",
      "2015-09-15T09:34:54Z Work on S.Africa's coal power station affected after fatality\n",
      "2015-09-15T11:01:51Z Kusile work halted after crane incide ...\n",
      "2015-09-12T07:27:06Z So This is Suffering / Triumph Over Shipwreck / Roots Like Mountains / Lost July\n",
      "2015-09-12T07:27:06Z Schwervon (KC) / The Cave Girls (KC)\n",
      "2015-09-21T18:12:02Z Regime fire kills 18 civilians in Syria's Aleppo: monitor\n",
      "2015-09-22T00:27:09Z Regime fire kills 18 civilians in Syria’s Aleppo — monitor\n",
      "2015-09-14T18:25:13Z Colorado DJ sues Taylor Swift\n",
      "2015-09-14T06:57:46Z Taylor Swift Lawsuit: Sued By Former Denver Radio DJ - Headlines & Global News\n",
      "2015-09-13T05:31:11Z Colorado DJ sues Taylor Swift over accusation\n",
      "2015-09-13T02:26:29Z Colorado DJ fired over Taylor Swift accusation sues singer\n",
      "2015-09-13T04:03:42Z Colorado DJ sues Taylor Swift over accusation\n",
      "2015-09-13T08:42:50Z Former radio host files lawsuit against Taylor Swift\n",
      "2015-09-13T18:46:03Z Colorado DJ fired over Taylor Swift accusation sues singer\n",
      "2015-09-13T03:55:49Z Fired Colorado DJ sues Taylor Swift over accusation\n",
      "2015-09-13T16:43:19Z Taylor Swift Sued by Fired DJ Over Groping Claim\n",
      "2015-09-13T03:55:49Z Fired Colorado DJ sues Taylor Swift over accusation\n",
      "2015-09-16T11:41:10Z Football: The goals just keep on coming, it's the Byatt effect\n",
      "2015-09-16T11:39:07Z Football: The goals just keep on coming, it's the Byatt effect\n",
      "2015-09-21T11:54:00Z Boy, 14, shot dead after mom reluctantly lets him go out with friends\n",
      "2015-09-21T11:54:00Z Boy, 14, shot dead after mom reluctantly lets him go out with friends\n",
      "2015-09-22T22:46:32Z Gunman Kills Florida Deputy Outside Lawyer's Office - ABC News\n",
      "2015-09-23T09:10:06Z Slain Deputy Was Trying to Earn Money for Family Trip – ABC News\n",
      "2015-09-23T18:46:25Z Slain cop was raising money to take granddaughter to Disney World\n",
      "2015-09-23T17:34:56Z Slain Florida deputy was trying to earn money for family trip Posted at 12:30 PM\n",
      "30\n",
      "75\n"
     ]
    }
   ],
   "source": [
    "import uuid\n",
    "import redis\n",
    "\n",
    "def make_redis_key():\n",
    "    return \"incinitstr:BU%s\" % uuid.uuid4().hex\n",
    "\n",
    "pool = redis.ConnectionPool(host='localhost', port=6379, db=0)\n",
    "r = redis.Redis(connection_pool=pool)\n",
    "\n",
    "stored = set()\n",
    "for chain in coref:\n",
    "    incident_data={\"estimated_incident_date\": \"\", \"estimated_location\": \"\", \"articles\":[]}\n",
    "    for article in chain:\n",
    "        this_article={}\n",
    "        this_article[\"body\"]=all_results[article]['_source']['content']\n",
    "        this_article[\"title\"]=all_results[article]['_source']['title']\n",
    "        this_article[\"dct\"]=all_results[article]['_source']['published']\n",
    "        incident_data[\"articles\"].append(this_article)\n",
    "        stored.add(article)\n",
    "    rkey=make_redis_key()\n",
    "    rval=json.dumps(incident_data)\n",
    "    r.set(rkey, rval)\n",
    "print(len(stored))\n",
    "\n",
    "# non-chained\n",
    "for article, val in all_results.items():\n",
    "    incident_data={\"estimated_incident_date\": \"\", \"estimated_location\": \"\", \"articles\":[]}\n",
    "    if article not in stored:\n",
    "        this_article={}\n",
    "        this_article[\"body\"]=all_results[article]['_source']['content']\n",
    "        this_article[\"title\"]=all_results[article]['_source']['title']\n",
    "        this_article[\"dct\"]=all_results[article]['_source']['published']\n",
    "        incident_data[\"articles\"].append(this_article)\n",
    "        stored.add(article)\n",
    "        rkey=make_redis_key()\n",
    "        rval=json.dumps(incident_data)\n",
    "        r.set(rkey, rval)\n",
    "print(len(stored))"
   ]
  },
  {
   "cell_type": "code",
   "execution_count": null,
   "metadata": {
    "collapsed": true
   },
   "outputs": [],
   "source": []
  }
 ],
 "metadata": {
  "kernelspec": {
   "display_name": "Python 3",
   "language": "python",
   "name": "python3"
  },
  "language_info": {
   "codemirror_mode": {
    "name": "ipython",
    "version": 3
   },
   "file_extension": ".py",
   "mimetype": "text/x-python",
   "name": "python",
   "nbconvert_exporter": "python",
   "pygments_lexer": "ipython3",
   "version": "3.6.1"
  }
 },
 "nbformat": 4,
 "nbformat_minor": 2
}
