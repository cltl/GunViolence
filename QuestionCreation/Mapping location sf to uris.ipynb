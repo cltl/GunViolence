{
 "cells": [
  {
   "cell_type": "code",
   "execution_count": 1,
   "metadata": {
    "collapsed": true
   },
   "outputs": [],
   "source": [
    "import location_utils"
   ]
  },
  {
   "cell_type": "markdown",
   "metadata": {},
   "source": [
    "## load gv data"
   ]
  },
  {
   "cell_type": "code",
   "execution_count": 2,
   "metadata": {
    "collapsed": false
   },
   "outputs": [],
   "source": [
    "from glob import glob\n",
    "import os\n",
    "import pandas\n",
    "all_frames = [os.path.basename(path)\n",
    "              for path in glob('../EventRegistries/GunViolence/frames/*')\n",
    "              if not 'Icon' in path\n",
    "             ]\n",
    "frames = all_frames\n",
    "df = pandas.concat([pandas.read_pickle('../EventRegistries/GunViolence/frames/' + frame)\n",
    "                    for frame in frames])\n"
   ]
  },
  {
   "cell_type": "markdown",
   "metadata": {},
   "source": [
    "## mapping gun violence surface forms to uris\n",
    "* query dbpedia to check for city or country within state\n",
    "* use external module based on address"
   ]
  },
  {
   "cell_type": "code",
   "execution_count": 16,
   "metadata": {
    "collapsed": true
   },
   "outputs": [],
   "source": [
    "state_sf2dbpedia_uri = location_utils.get_state_sf2dbpedia_uri(df)"
   ]
  },
  {
   "cell_type": "code",
   "execution_count": 17,
   "metadata": {
    "collapsed": false
   },
   "outputs": [
    {
     "data": {
      "text/plain": [
       "'http://dbpedia.org/resource/New_York'"
      ]
     },
     "execution_count": 17,
     "metadata": {},
     "output_type": "execute_result"
    }
   ],
   "source": [
    "state_sf2dbpedia_uri['New York']"
   ]
  },
  {
   "cell_type": "code",
   "execution_count": 4,
   "metadata": {
    "collapsed": false
   },
   "outputs": [
    {
     "data": {
      "text/plain": [
       "3469"
      ]
     },
     "execution_count": 4,
     "metadata": {},
     "output_type": "execute_result"
    }
   ],
   "source": [
    "len(df)"
   ]
  },
  {
   "cell_type": "code",
   "execution_count": 5,
   "metadata": {
    "collapsed": false
   },
   "outputs": [
    {
     "name": "stdout",
     "output_type": "stream",
     "text": [
      "District of Columbia\n",
      "District of Columbia\n",
      "District of Columbia\n",
      "District of Columbia\n",
      "District of Columbia\n",
      "District of Columbia\n",
      "District of Columbia\n",
      "District of Columbia\n",
      "District of Columbia\n",
      "District of Columbia\n",
      "District of Columbia\n",
      "District of Columbia\n",
      "District of Columbia\n",
      "District of Columbia\n",
      "District of Columbia\n",
      "District of Columbia\n",
      "District of Columbia\n",
      "District of Columbia\n",
      "District of Columbia\n",
      "District of Columbia\n",
      "District of Columbia\n",
      "District of Columbia\n",
      "District of Columbia\n",
      "District of Columbia\n",
      "District of Columbia\n",
      "District of Columbia\n",
      "District of Columbia\n",
      "District of Columbia\n",
      "District of Columbia\n",
      "District of Columbia\n",
      "District of Columbia\n"
     ]
    }
   ],
   "source": [
    "incident2city_or_county_uris = dict()\n",
    "counter = 0\n",
    "for index, row in df.iterrows():\n",
    "    state = row['state']\n",
    "    if state in state_sf2dbpedia_uri:\n",
    "        state_uri = state_sf2dbpedia_uri[state]\n",
    "        results = location_utils.possible_db_uris_for_city_county(row['city_or_county'],\n",
    "                                                                  state_uri)\n",
    "        incident2city_or_county_uris[row['incident_uri']] = {\n",
    "            'sparql' : results,\n",
    "            'state_uri' : state_uri,\n",
    "            'city_or_county': row['city_or_county']\n",
    "        }\n",
    "        counter += 1\n",
    "    else:\n",
    "        print(state)"
   ]
  },
  {
   "cell_type": "code",
   "execution_count": 6,
   "metadata": {
    "collapsed": false
   },
   "outputs": [],
   "source": [
    "from collections import Counter"
   ]
  },
  {
   "cell_type": "code",
   "execution_count": 7,
   "metadata": {
    "collapsed": true
   },
   "outputs": [],
   "source": [
    "distr = Counter( len(value['sparql']) \n",
    "                 for value in incident2city_or_county_uris.values())"
   ]
  },
  {
   "cell_type": "code",
   "execution_count": 8,
   "metadata": {
    "collapsed": false
   },
   "outputs": [
    {
     "data": {
      "text/plain": [
       "52.5305410122164"
      ]
     },
     "execution_count": 8,
     "metadata": {},
     "output_type": "execute_result"
    }
   ],
   "source": [
    "succes = 100 * (1806 / sum(distr.values()))\n",
    "succes"
   ]
  },
  {
   "cell_type": "code",
   "execution_count": 9,
   "metadata": {
    "collapsed": false
   },
   "outputs": [
    {
     "data": {
      "text/plain": [
       "Counter({0: 387,\n",
       "         1: 1806,\n",
       "         2: 651,\n",
       "         3: 242,\n",
       "         4: 43,\n",
       "         5: 79,\n",
       "         6: 178,\n",
       "         7: 37,\n",
       "         8: 1,\n",
       "         9: 5,\n",
       "         12: 4,\n",
       "         13: 1,\n",
       "         14: 1,\n",
       "         16: 1,\n",
       "         18: 1,\n",
       "         25: 1})"
      ]
     },
     "execution_count": 9,
     "metadata": {},
     "output_type": "execute_result"
    }
   ],
   "source": [
    "distr"
   ]
  },
  {
   "cell_type": "code",
   "execution_count": 10,
   "metadata": {
    "collapsed": false
   },
   "outputs": [
    {
     "name": "stdout",
     "output_type": "stream",
     "text": [
      "\n",
      "797824\n",
      "{'sparql': {'http://dbpedia.org/resource/Rochester,_Ulster_County,_New_York', 'http://dbpedia.org/resource/Rochester,_New_York'}, 'state_uri': 'http://dbpedia.org/resource/New_York', 'city_or_county': 'Rochester'}\n",
      "  incident_uri            date     state city_or_county        address  \\\n",
      "0       797824  March 19, 2017  New York      Rochester  Orange Street   \n",
      "\n",
      "   num_killed  num_injured                                       incident_url  \\\n",
      "0           1            0  http://www.gunviolencearchive.org/incident/797824   \n",
      "\n",
      "                                    incident_sources  \\\n",
      "0  {'http://web.archive.org/web/20170319232851/ht...   \n",
      "\n",
      "                                        participants gvdb_annotation  \n",
      "0  [{'Age Group': ' Adult 18+', 'Type': ' Victim'...              {}  \n"
     ]
    }
   ],
   "source": [
    "for incident_uri, info in incident2city_or_county_uris.items():\n",
    "    if len(info['sparql']) == 2:\n",
    "        print()\n",
    "        print(incident_uri)\n",
    "        print(info)\n",
    "        print(df.loc[df.incident_uri == incident_uri])\n",
    "        break"
   ]
  },
  {
   "cell_type": "code",
   "execution_count": 11,
   "metadata": {
    "collapsed": false
   },
   "outputs": [
    {
     "data": {
      "text/plain": [
       "3438"
      ]
     },
     "execution_count": 11,
     "metadata": {},
     "output_type": "execute_result"
    }
   ],
   "source": [
    "sum(distr.values())"
   ]
  },
  {
   "cell_type": "code",
   "execution_count": 12,
   "metadata": {
    "collapsed": false
   },
   "outputs": [
    {
     "data": {
      "text/plain": [
       "Counter({0: 387,\n",
       "         1: 1806,\n",
       "         2: 651,\n",
       "         3: 242,\n",
       "         4: 43,\n",
       "         5: 79,\n",
       "         6: 178,\n",
       "         7: 37,\n",
       "         8: 1,\n",
       "         9: 5,\n",
       "         12: 4,\n",
       "         13: 1,\n",
       "         14: 1,\n",
       "         16: 1,\n",
       "         18: 1,\n",
       "         25: 1})"
      ]
     },
     "execution_count": 12,
     "metadata": {},
     "output_type": "execute_result"
    }
   ],
   "source": [
    "distr"
   ]
  },
  {
   "cell_type": "code",
   "execution_count": 13,
   "metadata": {
    "collapsed": false
   },
   "outputs": [
    {
     "data": {
      "text/plain": [
       "3469"
      ]
     },
     "execution_count": 13,
     "metadata": {},
     "output_type": "execute_result"
    }
   ],
   "source": [
    "len(set(df['incident_uri']))"
   ]
  },
  {
   "cell_type": "code",
   "execution_count": 14,
   "metadata": {
    "collapsed": false
   },
   "outputs": [],
   "source": [
    "incident_uri_distr = Counter(df['incident_uri'])"
   ]
  },
  {
   "cell_type": "code",
   "execution_count": 15,
   "metadata": {
    "collapsed": false
   },
   "outputs": [
    {
     "data": {
      "text/html": [
       "<div>\n",
       "<table border=\"1\" class=\"dataframe\">\n",
       "  <thead>\n",
       "    <tr style=\"text-align: right;\">\n",
       "      <th></th>\n",
       "      <th>incident_uri</th>\n",
       "      <th>date</th>\n",
       "      <th>state</th>\n",
       "      <th>city_or_county</th>\n",
       "      <th>address</th>\n",
       "      <th>num_killed</th>\n",
       "      <th>num_injured</th>\n",
       "      <th>incident_url</th>\n",
       "      <th>incident_sources</th>\n",
       "      <th>participants</th>\n",
       "      <th>gvdb_annotation</th>\n",
       "    </tr>\n",
       "  </thead>\n",
       "  <tbody>\n",
       "    <tr>\n",
       "      <th>15</th>\n",
       "      <td>783782</td>\n",
       "      <td>February 26, 2017</td>\n",
       "      <td>Tennessee</td>\n",
       "      <td>Clifton</td>\n",
       "      <td>2373 Culps Bend Road</td>\n",
       "      <td>1</td>\n",
       "      <td>0</td>\n",
       "      <td>http://www.gunviolencearchive.org/incident/783782</td>\n",
       "      <td>{'http://web.archive.org/web/20170316050930/ht...</td>\n",
       "      <td>[{'Age Group': ' Teen 12-17', 'Type': ' Victim...</td>\n",
       "      <td>{}</td>\n",
       "    </tr>\n",
       "  </tbody>\n",
       "</table>\n",
       "</div>"
      ],
      "text/plain": [
       "   incident_uri               date      state city_or_county  \\\n",
       "15       783782  February 26, 2017  Tennessee        Clifton   \n",
       "\n",
       "                 address  num_killed  num_injured  \\\n",
       "15  2373 Culps Bend Road           1            0   \n",
       "\n",
       "                                         incident_url  \\\n",
       "15  http://www.gunviolencearchive.org/incident/783782   \n",
       "\n",
       "                                     incident_sources  \\\n",
       "15  {'http://web.archive.org/web/20170316050930/ht...   \n",
       "\n",
       "                                         participants gvdb_annotation  \n",
       "15  [{'Age Group': ' Teen 12-17', 'Type': ' Victim...              {}  "
      ]
     },
     "execution_count": 15,
     "metadata": {},
     "output_type": "execute_result"
    }
   ],
   "source": [
    "df.loc[df.incident_uri == '783782']"
   ]
  },
  {
   "cell_type": "code",
   "execution_count": null,
   "metadata": {
    "collapsed": true
   },
   "outputs": [],
   "source": []
  }
 ],
 "metadata": {
  "kernelspec": {
   "display_name": "Python 3",
   "language": "python",
   "name": "python3"
  },
  "language_info": {
   "codemirror_mode": {
    "name": "ipython",
    "version": 3
   },
   "file_extension": ".py",
   "mimetype": "text/x-python",
   "name": "python",
   "nbconvert_exporter": "python",
   "pygments_lexer": "ipython3",
   "version": "3.6.0"
  }
 },
 "nbformat": 4,
 "nbformat_minor": 2
}
