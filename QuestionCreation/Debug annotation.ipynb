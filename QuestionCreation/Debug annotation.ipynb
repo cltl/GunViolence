{
 "cells": [
  {
   "cell_type": "code",
   "execution_count": 1,
   "metadata": {
    "collapsed": true
   },
   "outputs": [],
   "source": [
    "%%bash\n",
    "scp filten@lod.labs.vu.nl:/home/filten/LongTailAnnotation/new_inc2que.bin debug/"
   ]
  },
  {
   "cell_type": "code",
   "execution_count": 23,
   "metadata": {
    "collapsed": true
   },
   "outputs": [],
   "source": [
    "import pickle\n",
    "from collections import defaultdict\n",
    "from collections import Counter"
   ]
  },
  {
   "cell_type": "code",
   "execution_count": 13,
   "metadata": {},
   "outputs": [
    {
     "data": {
      "text/plain": [
       "248"
      ]
     },
     "execution_count": 13,
     "metadata": {},
     "output_type": "execute_result"
    }
   ],
   "source": [
    "inc2q_id = pickle.load(open('debug/new_inc2que.bin', 'rb'))\n",
    "ok_for_annotation = set(inc2q_id.keys())\n",
    "len(ok_for_annotation)"
   ]
  },
  {
   "cell_type": "code",
   "execution_count": 10,
   "metadata": {},
   "outputs": [],
   "source": [
    "q_id2inc = defaultdict(set)\n",
    "for inc, q_ids in inc2q_id.items():\n",
    "    for q_id in q_ids:\n",
    "        q_id2inc[q_id].add(inc)"
   ]
  },
  {
   "cell_type": "code",
   "execution_count": 19,
   "metadata": {},
   "outputs": [],
   "source": [
    "to_annotate = {'1': set(),\n",
    "               '2': set(),\n",
    "               '3': set()}\n",
    "for q_id, incs in q_id2inc.items():\n",
    "    \n",
    "    if all([inc in ok_for_annotation\n",
    "            for inc in incs]):\n",
    "        to_annotate[q_id[0]].add(q_id)"
   ]
  },
  {
   "cell_type": "code",
   "execution_count": 24,
   "metadata": {},
   "outputs": [
    {
     "name": "stdout",
     "output_type": "stream",
     "text": [
      "1 129\n",
      "2 427\n",
      "3 677\n"
     ]
    }
   ],
   "source": [
    "counts = []\n",
    "for subtask, q_ids in to_annotate.items():\n",
    "    print(subtask, len(q_ids))\n",
    "    \n",
    "    for q_id in q_ids:\n",
    "        counts.append(len(q_id2inc[q_id]))"
   ]
  },
  {
   "cell_type": "code",
   "execution_count": 22,
   "metadata": {},
   "outputs": [
    {
     "data": {
      "text/plain": [
       "1233"
      ]
     },
     "execution_count": 22,
     "metadata": {},
     "output_type": "execute_result"
    }
   ],
   "source": [
    "129+427+677"
   ]
  },
  {
   "cell_type": "code",
   "execution_count": 25,
   "metadata": {},
   "outputs": [
    {
     "data": {
      "text/plain": [
       "Counter({1: 977,\n",
       "         2: 163,\n",
       "         3: 49,\n",
       "         4: 17,\n",
       "         5: 11,\n",
       "         6: 2,\n",
       "         7: 4,\n",
       "         9: 4,\n",
       "         11: 2,\n",
       "         13: 2,\n",
       "         15: 2})"
      ]
     },
     "execution_count": 25,
     "metadata": {},
     "output_type": "execute_result"
    }
   ],
   "source": [
    "Counter(counts)"
   ]
  },
  {
   "cell_type": "code",
   "execution_count": null,
   "metadata": {
    "collapsed": true
   },
   "outputs": [],
   "source": []
  }
 ],
 "metadata": {
  "kernelspec": {
   "display_name": "Python 3",
   "language": "python",
   "name": "python3"
  },
  "language_info": {
   "codemirror_mode": {
    "name": "ipython",
    "version": 3
   },
   "file_extension": ".py",
   "mimetype": "text/x-python",
   "name": "python",
   "nbconvert_exporter": "python",
   "pygments_lexer": "ipython3",
   "version": "3.6.0"
  }
 },
 "nbformat": 4,
 "nbformat_minor": 2
}
