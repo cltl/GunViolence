{
 "cells": [
  {
   "cell_type": "code",
   "execution_count": 2,
   "metadata": {
    "collapsed": true
   },
   "outputs": [],
   "source": [
    "import json\n",
    "import pprint\n",
    "pp = pprint.PrettyPrinter(indent=4)"
   ]
  },
  {
   "cell_type": "code",
   "execution_count": null,
   "metadata": {},
   "outputs": [],
   "source": [
    "answers = json.load(open('debug/3_answers.json'))\n",
    "questions = json.load(open('debug/3_questions.json'))"
   ]
  },
  {
   "cell_type": "code",
   "execution_count": null,
   "metadata": {
    "scrolled": true
   },
   "outputs": [
    {
     "name": "stdout",
     "output_type": "stream",
     "text": [
      "\n",
      "QUESTION: 3-194447\n",
      "{   'event_types': ['killing'],\n",
      "    'location': {'state': 'http://dbpedia.org/resource/New_York'},\n",
      "    'subtask': 3,\n",
      "    'time': {'month': '04/2015'},\n",
      "    'verbose_question': 'How many people were killed in 04/2015 (month) in '\n",
      "                        \"('New York',) (state) ?\"}\n",
      "\n",
      "ANSWER: 2\n",
      "\n",
      "http://www.gunviolencearchive.org/incident/330611\n",
      "f223d0863984f709b457259d3abeddc8\n",
      "9f8d94b59f16a41085ce3ebd9c126713\n",
      "7eafe083ee63a668dcbaeb9e55ed9328\n"
     ]
    }
   ],
   "source": [
    "for q_id, answer_info in answers.items():\n",
    "    \n",
    "    question = questions[q_id]\n",
    "\n",
    "    print()\n",
    "    print('QUESTION: %s' % q_id)\n",
    "    pp.pprint(question)\n",
    "    print()\n",
    "    print('ANSWER: %s' % answer_info['numerical_answer'])\n",
    "\n",
    "    for incident_uri, urls in answer_info['answer_docs'].items():\n",
    "        print()\n",
    "        print(f'http://www.gunviolencearchive.org/incident/{incident_uri}')\n",
    "        for url in urls:\n",
    "            print(url)\n",
    "    input('continue?')\n"
   ]
  },
  {
   "cell_type": "code",
   "execution_count": null,
   "metadata": {
    "collapsed": true
   },
   "outputs": [],
   "source": []
  }
 ],
 "metadata": {
  "kernelspec": {
   "display_name": "Python 3",
   "language": "python",
   "name": "python3"
  },
  "language_info": {
   "codemirror_mode": {
    "name": "ipython",
    "version": 3
   },
   "file_extension": ".py",
   "mimetype": "text/x-python",
   "name": "python",
   "nbconvert_exporter": "python",
   "pygments_lexer": "ipython3",
   "version": "3.6.0"
  }
 },
 "nbformat": 4,
 "nbformat_minor": 2
}
