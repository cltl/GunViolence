{
 "cells": [
  {
   "cell_type": "code",
   "execution_count": 1,
   "metadata": {
    "collapsed": true
   },
   "outputs": [],
   "source": [
    "import pickle\n",
    "import pandas\n",
    "from collections import namedtuple"
   ]
  },
  {
   "cell_type": "code",
   "execution_count": 2,
   "metadata": {
    "collapsed": false
   },
   "outputs": [],
   "source": [
    "import look_up_utils"
   ]
  },
  {
   "cell_type": "code",
   "execution_count": 3,
   "metadata": {
    "collapsed": false
   },
   "outputs": [],
   "source": [
    "from tabulate import tabulate\n",
    "from IPython.core.display import display, HTML"
   ]
  },
  {
   "cell_type": "markdown",
   "metadata": {},
   "source": [
    "## Load frames"
   ]
  },
  {
   "cell_type": "code",
   "execution_count": 4,
   "metadata": {
    "collapsed": false
   },
   "outputs": [],
   "source": [
    "frames = ['mass_shootings',\n",
    "          'mass_shootings_2013',\n",
    "          'mass_shootings_2014',\n",
    "          'mass_shootings_2015']\n",
    "look_up, parameters2incident_uris = look_up_utils.create_look_up(frames)"
   ]
  },
  {
   "cell_type": "code",
   "execution_count": 5,
   "metadata": {
    "collapsed": true
   },
   "outputs": [],
   "source": [
    "df = pandas.concat([pandas.read_pickle('../EventRegistries/GunViolence/frames/' + frame)\n",
    "                    for frame in frames])"
   ]
  },
  {
   "cell_type": "markdown",
   "metadata": {},
   "source": [
    "## Set parameter values"
   ]
  },
  {
   "cell_type": "code",
   "execution_count": 6,
   "metadata": {
    "collapsed": false
   },
   "outputs": [],
   "source": [
    "#CONFUSION_TUPLE=('location', 'participant')\n",
    "#CONFUSION_TUPLE=('location', 'time')\n",
    "CONFUSION_TUPLE=('participant', 'time')\n",
    "MIN_CONFUSION=3"
   ]
  },
  {
   "cell_type": "code",
   "execution_count": 7,
   "metadata": {
    "collapsed": false
   },
   "outputs": [
    {
     "name": "stdout",
     "output_type": "stream",
     "text": [
      "{('full_name', 'year'), ('first', 'month'), ('last', 'year'), ('first', 'year'), ('last', 'month'), ('last', 'day')}\n"
     ]
    }
   ],
   "source": [
    "def lookup_and_merge(look_up, \n",
    "                     parameters2incident_uris, \n",
    "                     confusion_key,\n",
    "                     debug=False):\n",
    "    \"\"\"\n",
    "    \n",
    "    :param dict look_up: see look_up_utils.py\n",
    "    :param dict parameters2incident_uris: see look_up_utils.py\n",
    "    :param tuple confusion_key: see constant CONFUSION_TUPLE\n",
    "    \n",
    "    :rtype: list\n",
    "    :return list of namedtuple instances (each representing a candidate)\n",
    "    \"\"\"\n",
    "    nice_combos=[]\n",
    "    Candidate=namedtuple('Candidate', 'granularity sf meanings num_answer_e answer_incidents_uris noise_incident_uris oa')\n",
    "    for granularity in (look_up[confusion_key]):\n",
    "        for sf in look_up[confusion_key][granularity]:\n",
    "            len_combo=len(look_up[confusion_key][granularity][sf])\n",
    "            meanings=look_up[confusion_key][granularity][sf]\n",
    "            \n",
    "            # obtain answers uris\n",
    "            answer_incidents_uris = parameters2incident_uris[confusion_key][granularity][sf]\n",
    "            \n",
    "            # obtain noise uris\n",
    "            total_incident_uris={0:set(), 1:set()}\n",
    "            noise_incident_uris={0:set(), 1:set()}\n",
    "            oa={0:set(), 1:set()}\n",
    "#            total_incident_uris_part=set()\n",
    "            for index in [0,1]:\n",
    "                confusion=confusion_key[index]\n",
    "\n",
    "                if debug:\n",
    "                    print()\n",
    "                    print(confusion)\n",
    "                    print(granularity[index])\n",
    "                    input('continue?')\n",
    "                all_meanings=look_up[(confusion,)][(granularity[index],)][(sf[index],)]\n",
    "                oa[index]=len(all_meanings)\n",
    "                for set_of_m in all_meanings.values():\n",
    "                    total_incident_uris[index].update(set_of_m)\n",
    "                noise_incident_uris[index] = total_incident_uris[index] - answer_incidents_uris\n",
    "            \n",
    "            if len_combo >= MIN_CONFUSION:\n",
    "                c=Candidate(granularity=granularity, \n",
    "                            sf=sf, \n",
    "                            meanings=meanings, \n",
    "                            num_answer_e=len_combo, \n",
    "                            answer_incidents_uris=answer_incidents_uris,\n",
    "                            noise_incident_uris=noise_incident_uris,\n",
    "                            oa=oa)\n",
    "                nice_combos.append(c)\n",
    "    return nice_combos\n",
    "\n",
    "candidates=lookup_and_merge(look_up, parameters2incident_uris,\n",
    "                            CONFUSION_TUPLE,\n",
    "                            debug=False)\n",
    "print({c.granularity for c in candidates})"
   ]
  },
  {
   "cell_type": "code",
   "execution_count": 8,
   "metadata": {
    "collapsed": true
   },
   "outputs": [],
   "source": [
    "def incident_uris_stats(df, set_of_uris):\n",
    "    \"\"\"\n",
    "    compute stats for set of uris:\n",
    "    \n",
    "    :param df: gunviolence dataframe\n",
    "    :param set set_of_uris: uris of gunviolence incidents\n",
    "    \n",
    "    :rtype: tuple\n",
    "    :return (num_of_incidents,\n",
    "             num_of_sources,\n",
    "             avg_num_of_sources,\n",
    "             urls,\n",
    "             )\n",
    "    \"\"\"\n",
    "    if type(set_of_uris) == dict:\n",
    "        set_of_uris = set_of_uris[0].union(set_of_uris[1])\n",
    "    num_of_incidents = len(set_of_uris)\n",
    "    \n",
    "    results = df.query('incident_uri in @set_of_uris')\n",
    "    sources = set()\n",
    "    for index, row in results.iterrows():\n",
    "        sources.add(row['source_url'])\n",
    "        sources.update(row['incident_sources'])\n",
    "    \n",
    "    num_sources = len(sources)\n",
    "    avg = -1\n",
    "    if len(set_of_uris):\n",
    "        avg = num_sources / len(set_of_uris)\n",
    "    \n",
    "    return (num_of_incidents, num_sources, avg, sources)"
   ]
  },
  {
   "cell_type": "code",
   "execution_count": 9,
   "metadata": {
    "collapsed": false
   },
   "outputs": [],
   "source": [
    "def compute_num_docs(include, df):\n",
    "#    include=('454788', '419250')\n",
    "    results=df.query('incident_uri in @include')\n",
    "    sources = set()\n",
    "    \n",
    "    print(include)\n",
    "    for index, row in results.iterrows():\n",
    "        sources.add(row['source_url'])\n",
    "        sources.update(row['incident_sources'])\n",
    "        \n",
    "    num_sources = len(sources)\n",
    "    avg= num_sources / len(include)\n",
    "    \n",
    "    print()\n",
    "    for source in sources:\n",
    "        print(source)\n",
    "    print(\"Average number of documents per incident: %f\" % avg)\n",
    "    return avg\n",
    "\n",
    "#compute_num_docs(('454788', '419250'), df)"
   ]
  },
  {
   "cell_type": "code",
   "execution_count": 10,
   "metadata": {
    "collapsed": false
   },
   "outputs": [],
   "source": [
    "def compute_metrics(c, look_up, confusion_key, index):\n",
    "    my_set=set()\n",
    "    confusion=confusion_key[index]\n",
    "    meanings=look_up[(confusion,)][c.granularity[index]][c.sf[index]]\n",
    "    for m in meanings.values():\n",
    "        for incident in m:\n",
    "            my_set.add(incident)\n",
    "#    print(c.sf[index], my_set)\n",
    "    num_noisy_e= len(my_set)\n",
    "    ns_ratio=num_noisy_e/c.num_answer_e\n",
    "    oa=len(meanings)\n",
    "    print('The %s %s has %d meanings over %d incidents.' % (confusion, c.sf[index], oa, num_noisy_e))\n",
    "    #print('The %s %s has %d meanings over %d incidents. OA is %d, Noise-to-Signal ratio is %f' % (confusion, c.sf[index],oa,num_noisy_e, oa, ns_ratio))\n",
    "    return ns_ratio, oa\n",
    "\n",
    "\n",
    "            \n",
    "    \n",
    "def compute_confusion_metrics(look_up, confusion_key, candidates, df):\n",
    "    \n",
    "    list_of_lists = []\n",
    "    headers = ['q_id',\n",
    "               'question',\n",
    "               'answer',\n",
    "               'OA_part',\n",
    "               'OA_loc',\n",
    "               'A_num_of_incidents', 'A_#_sources', 'A_avg_#_sources', \n",
    "               'N_num_of_incidents', 'N_#_sources', 'N_avg_#_sources',\n",
    "               'N2S',\n",
    "              'A_sources',\n",
    "              'N_sources'\n",
    "               ]\n",
    "    \n",
    "    for q_id, c in enumerate(candidates, 1):\n",
    "        n=incident_uris_stats(df, c.noise_incident_uris)\n",
    "        a=incident_uris_stats(df, c.answer_incidents_uris)\n",
    "        \n",
    "        oa_loc = c.oa[0]\n",
    "        oa_part = c.oa[1]\n",
    "        \n",
    "        n2s = (len(c.noise_incident_uris[0])+len(c.noise_incident_uris[1]))/len(c.answer_incidents_uris)\n",
    "        \n",
    "        # for (location, participat)\n",
    "        #        question = \"Q: How many killing events that involve %s happened in the location %s?\" % (c.sf[1], c.sf[0])\n",
    "        # for (location, time)\n",
    "        question = \"Q: How many killing events happened in the location %s in %s?\" % (c.sf[0], c.sf[1])\n",
    "        # for (time, participant)\n",
    "        # question = \"Q: How many killing events that involve %s happened in %s?\" % (c.sf[1], c.sf[0])\n",
    "        answer = c.num_answer_e\n",
    "        \n",
    "        one_row = [\n",
    "            q_id,\n",
    "            question,\n",
    "            answer,\n",
    "            oa_part,\n",
    "            oa_loc,\n",
    "            a[0],\n",
    "            a[1],\n",
    "            a[2],\n",
    "            n[0],\n",
    "            n[1],\n",
    "            n[2],\n",
    "            n2s,\n",
    "            a[3],\n",
    "            n[3],\n",
    "            ]\n",
    "        list_of_lists.append(one_row)\n",
    "            \n",
    "    question_df = pandas.DataFrame(list_of_lists, columns=headers)\n",
    "    return question_df\n",
    "\n",
    "question_df = compute_confusion_metrics(look_up,CONFUSION_TUPLE,candidates, df)"
   ]
  },
  {
   "cell_type": "code",
   "execution_count": 11,
   "metadata": {
    "collapsed": false
   },
   "outputs": [
    {
     "data": {
      "text/plain": [
       "309"
      ]
     },
     "execution_count": 11,
     "metadata": {},
     "output_type": "execute_result"
    }
   ],
   "source": [
    "len(question_df)"
   ]
  },
  {
   "cell_type": "code",
   "execution_count": 12,
   "metadata": {
    "collapsed": false,
    "scrolled": false
   },
   "outputs": [
    {
     "name": "stdout",
     "output_type": "stream",
     "text": [
      "\n",
      "Q: How many killing events happened in the location James in 07/2016?\n",
      "q_id                                                                  1\n",
      "question              Q: How many killing events happened in the loc...\n",
      "answer                                                                3\n",
      "OA_part                                                               1\n",
      "OA_loc                                                               18\n",
      "A_num_of_incidents                                                    3\n",
      "A_#_sources                                                          32\n",
      "A_avg_#_sources                                                 10.6667\n",
      "N_num_of_incidents                                                   61\n",
      "N_#_sources                                                         221\n",
      "N_avg_#_sources                                                 3.62295\n",
      "N2S                                                             20.3333\n",
      "A_sources             {, http://wwmt.com/news/local/four-people-shot...\n",
      "N_sources             {http://keyetv.com/news/local/suspect-in-6th-s...\n",
      "Name: 0, dtype: object\n",
      "\n",
      "http://wwmt.com/news/local/four-people-shot-at-a-berrien-county-courthouse\n",
      "http://wjla.com/news/nation-world/last-moments-and-victims-of-the-berrien-county-shooting\n",
      "http://cbs12.com/news/local/guard-nightclub-shooter-had-semi-automatic-gun\n",
      "http://www.mlive.com/news/kalamazoo/index.ssf/2016/07/fourth_berrien_county_victim_r.html#incart_river_home\n",
      "http://www.fox4now.com/news/major-police-presence-at-two-locations-in-fort-myers\n",
      "http://www.abc-7.com/story/32519263/2-dead-several-injured-after-mass-shooting-at-fort-myers-club\n",
      "http://www.kcbd.com/story/32422024/sheriff-inmate-who-killed-2-at-courthouse-was-handcuffed\n",
      "http://www.brownsvilleherald.com/news/texas/article_7de29af1-3d69-5620-b52c-74676293beef.html\n",
      "http://www.reuters.com/article/us-florida-shooting-idUSKCN1050U0\n",
      "http://www.freep.com/story/news/local/michigan/2016/11/03/fatal-shooting-inmate-courthouse/93233214/\n",
      "http://www.12news.com/news/local/valley/2-dead-4-hurt-in-south-phoenix-july-4th-shooting/264583287\n",
      "http://www.mlive.com/news/kalamazoo/index.ssf/2016/07/3_dead_1_injured_in_shooting_a.html#incart_river_home\n",
      "http://www.news-press.com/story/news/crime/2016/07/25/club-blu-shooting-teen-night-fort-myers-what-we-know-now/87519476/\n",
      "http://www.mlive.com/news/kalamazoo/index.ssf/2016/07/larry_gordon_held_eight_hostag.html#incart_river_home\n",
      "http://www.wpbf.com/news/fort-myers-nightclub-issues-statement-on-fatal-shooting/40867674\n",
      "http://www.freep.com/story/news/local/michigan/2016/07/11/bailiffs-killed-berrien-county-courthouse-were-both-retired-cops/86963814/\n",
      "http://www.wxyz.com/news/three-people-killed-inside-berrien-county-courthouse-in-southwest-michigan-report-says\n",
      "http://www.freep.com/story/news/local/michigan/2016/11/04/hostage-shot-berrien-county-courthouse-shooting/93290342/\n",
      "http://www.azcentral.com/story/news/local/phoenix-breaking/2016/07/05/child-shot-two-killed-laveen-shooting/86701514/\n",
      "http://www.nbc-2.com/story/32519233/2-dead-at-least-16-injured-in-shooting-at-fort-myers-club\n",
      "http://www.freep.com/story/news/local/michigan/2016/07/11/reports-shots-fired-berrien-county-courthouse-st-joseph/86953034/\n",
      "http://www.nbcnews.com/news/us-news/fort-myers-nightclub-shooting-1-dead-14-others-reportedly-wounded-n615961\n",
      "http://www.fox4now.com/news/fort-myers-shooting-victim-i-dont-wanna-die\n",
      "http://www.naplesnews.com/videos/news/local/2016/07/25/87533736/\n",
      "http://www.cbs5az.com/story/32370831/2-adults-killed-after-gunman-opens-fire-on-gathering-in-laveen\n",
      "http://www.fox2detroit.com/news/local-news/173039392-story\n",
      "http://www.mlive.com/news/grand-rapids/index.ssf/2016/07/berrien_county_courthouse_shoo.html\n",
      "http://www.odmp.org/officer/22902-security-supervisor-joseph-p-zangaro\n",
      "https://twitter.com/BDormanTV/status/752585821660782592\n",
      "http://www.timesunion.com/news/crime/article/Authorities-2-killed-17-shot-at-Florida-8406603.php\n",
      "http://www.mlive.com/news/kalamazoo/index.ssf/2016/07/inmates_fight_with_deputies_le.html#incart_big-photo\n"
     ]
    }
   ],
   "source": [
    "#table = tabulate(question_df, headers='keys', tablefmt='html')\n",
    "#display(HTML(table))\n",
    "for index, row in question_df.iterrows():\n",
    "    print()\n",
    "    print(row['question'])\n",
    "    print(row)\n",
    "    for source_url in row['A_sources']:\n",
    "        print(source_url)\n",
    "    break"
   ]
  },
  {
   "cell_type": "code",
   "execution_count": null,
   "metadata": {
    "collapsed": true
   },
   "outputs": [],
   "source": []
  },
  {
   "cell_type": "code",
   "execution_count": null,
   "metadata": {
    "collapsed": true
   },
   "outputs": [],
   "source": []
  },
  {
   "cell_type": "code",
   "execution_count": null,
   "metadata": {
    "collapsed": true
   },
   "outputs": [],
   "source": []
  }
 ],
 "metadata": {
  "anaconda-cloud": {},
  "kernelspec": {
   "display_name": "Python [Root]",
   "language": "python",
   "name": "Python [Root]"
  },
  "language_info": {
   "codemirror_mode": {
    "name": "ipython",
    "version": 3
   },
   "file_extension": ".py",
   "mimetype": "text/x-python",
   "name": "python",
   "nbconvert_exporter": "python",
   "pygments_lexer": "ipython3",
   "version": "3.5.3"
  }
 },
 "nbformat": 4,
 "nbformat_minor": 0
}
