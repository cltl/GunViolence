{
 "cells": [
  {
   "cell_type": "code",
   "execution_count": 1,
   "metadata": {
    "collapsed": true
   },
   "outputs": [],
   "source": [
    "import pandas\n",
    "from tabulate import tabulate\n",
    "from IPython.core.display import display, HTML\n",
    "from statistics import mean\n",
    "from collections import Counter"
   ]
  },
  {
   "cell_type": "code",
   "execution_count": 2,
   "metadata": {
    "collapsed": false
   },
   "outputs": [],
   "source": [
    "import look_up_utils\n",
    "import createq_utils"
   ]
  },
  {
   "cell_type": "code",
   "execution_count": 3,
   "metadata": {
    "collapsed": false
   },
   "outputs": [
    {
     "data": {
      "text/plain": [
       "['accidental_deaths',\n",
       " 'accidental_deaths_children',\n",
       " 'accidental_deaths_teens',\n",
       " 'accidental_injuries',\n",
       " 'accidental_injuries_children',\n",
       " 'accidental_injuries_teens',\n",
       " 'children_injured',\n",
       " 'children_killed',\n",
       " 'mass_shootings',\n",
       " 'mass_shootings_2013',\n",
       " 'mass_shootings_2014',\n",
       " 'mass_shootings_2015',\n",
       " 'officer_involved_shootings',\n",
       " 'teens_injured',\n",
       " 'teens_killed']"
      ]
     },
     "execution_count": 3,
     "metadata": {},
     "output_type": "execute_result"
    }
   ],
   "source": [
    "from glob import glob\n",
    "import os\n",
    "all_frames = [os.path.basename(path)\n",
    "              for path in glob('../EventRegistries/GunViolence/frames/*')\n",
    "              if not 'Icon' in path\n",
    "             ]\n",
    "all_frames"
   ]
  },
  {
   "cell_type": "markdown",
   "metadata": {},
   "source": [
    "## Load frames"
   ]
  },
  {
   "cell_type": "code",
   "execution_count": 4,
   "metadata": {
    "collapsed": false
   },
   "outputs": [],
   "source": [
    "frames = all_frames\n",
    "df = pandas.concat([pandas.read_pickle('../EventRegistries/GunViolence/frames/' + frame)\n",
    "                    for frame in frames])"
   ]
  },
  {
   "cell_type": "markdown",
   "metadata": {},
   "source": [
    "## Load look_up"
   ]
  },
  {
   "cell_type": "code",
   "execution_count": 5,
   "metadata": {
    "collapsed": false
   },
   "outputs": [],
   "source": [
    "look_up, parameters2incident_uris = look_up_utils.create_look_up(df)"
   ]
  },
  {
   "cell_type": "markdown",
   "metadata": {},
   "source": [
    "## Create table"
   ]
  },
  {
   "cell_type": "code",
   "execution_count": 6,
   "metadata": {
    "collapsed": false
   },
   "outputs": [
    {
     "name": "stdout",
     "output_type": "stream",
     "text": [
      "('location', 'time') 2\n",
      "('location', 'time') 3\n",
      "('location', 'participant') 2\n",
      "('location', 'participant') 3\n",
      "('participant', 'time') 2\n",
      "('participant', 'time') 3\n"
     ]
    },
    {
     "data": {
      "text/html": [
       "<table>\n",
       "<thead>\n",
       "<tr><th style=\"text-align: right;\">  </th><th>confusion                  </th><th style=\"text-align: right;\">  min_confusion</th><th style=\"text-align: right;\">  #cand</th><th>granularity                                                                                                                                                                                                                                 </th><th>answer      </th><th>c2s_ratio           </th><th>a_avg_date_spread  </th><th>a_avg_num_sources  </th><th>c_avg_date_spread  </th><th>c_avg_num_sources  </th></tr>\n",
       "</thead>\n",
       "<tbody>\n",
       "<tr><td style=\"text-align: right;\"> 0</td><td>('location', 'time')       </td><td style=\"text-align: right;\">              2</td><td style=\"text-align: right;\">    188</td><td>Counter({('city', 'year'): 118, ('city', 'month'): 48, ('address', 'year'): 10, ('address', 'month'): 5, ('address', 'day'): 4, ('city', 'day'): 3})                                                                                        </td><td>(2, 3.5, 22)</td><td>(0.5, 353.6, 995.5) </td><td>(0, 0, 0)          </td><td>(0.5, 2.1, 11.0)   </td><td>(0, 0, 0)          </td><td>(1.7, 2.1, 3.0)    </td></tr>\n",
       "<tr><td style=\"text-align: right;\"> 1</td><td>('location', 'time')       </td><td style=\"text-align: right;\">              3</td><td style=\"text-align: right;\">     19</td><td>Counter({('city', 'year'): 16, ('city', 'month'): 3})                                                                                                                                                                                       </td><td>(3, 6.4, 20)</td><td>(70.5, 246.4, 662.0)</td><td>(0, 0, 0)          </td><td>(1.0, 1.9, 2.8)    </td><td>(0, 0, 0)          </td><td>(1.8, 2.2, 2.3)    </td></tr>\n",
       "<tr><td style=\"text-align: right;\"> 2</td><td>('location', 'participant')</td><td style=\"text-align: right;\">              2</td><td style=\"text-align: right;\">    767</td><td>Counter({('state', 'first'): 297, ('state', 'last'): 292, ('city', 'last'): 77, ('city', 'first'): 57, ('state', 'full_name'): 24, ('city', 'full_name'): 17, ('address', 'first'): 1, ('address', 'last'): 1, ('address', 'full_name'): 1})</td><td>(2, 2.4, 10)</td><td>(0.0, 85.3, 196.5)  </td><td>(0, 0, 0)          </td><td>(0.5, 3.2, 17.5)   </td><td>(-1, -0.0, 0)      </td><td>(0, 2.3, 4.7)      </td></tr>\n",
       "<tr><td style=\"text-align: right;\"> 3</td><td>('location', 'participant')</td><td style=\"text-align: right;\">              3</td><td style=\"text-align: right;\">    181</td><td>Counter({('state', 'last'): 91, ('state', 'first'): 75, ('city', 'last'): 8, ('city', 'first'): 5, ('city', 'full_name'): 1, ('state', 'full_name'): 1})                                                                                    </td><td>(3, 3.6, 10)</td><td>(0.3, 71.7, 132.7)  </td><td>(0, 0, 0)          </td><td>(1.0, 3.3, 8.7)    </td><td>(0, 0, 0)          </td><td>(1.6, 2.3, 4.6)    </td></tr>\n",
       "<tr><td style=\"text-align: right;\"> 4</td><td>('participant', 'time')    </td><td style=\"text-align: right;\">              2</td><td style=\"text-align: right;\">   1595</td><td>Counter({('first', 'year'): 593, ('last', 'year'): 443, ('first', 'month'): 250, ('last', 'month'): 217, ('full_name', 'year'): 27, ('first', 'day'): 23, ('last', 'day'): 19, ('full_name', 'month'): 18, ('full_name', 'day'): 5})        </td><td>(2, 2.9, 25)</td><td>(0.5, 359.9, 997.5) </td><td>(0, 0, 0)          </td><td>(0.5, 3.2, 14.5)   </td><td>(0, 0, 0)          </td><td>(1.5, 2.3, 3.9)    </td></tr>\n",
       "<tr><td style=\"text-align: right;\"> 5</td><td>('participant', 'time')    </td><td style=\"text-align: right;\">              3</td><td style=\"text-align: right;\">    548</td><td>Counter({('first', 'year'): 255, ('last', 'year'): 195, ('last', 'month'): 53, ('first', 'month'): 42, ('last', 'day'): 2, ('first', 'day'): 1})                                                                                            </td><td>(3, 4.6, 25)</td><td>(7.3, 297.8, 664.7) </td><td>(0, 0, 0)          </td><td>(1.0, 3.3, 13.7)   </td><td>(0, 0, 0)          </td><td>(1.7, 2.3, 3.2)    </td></tr>\n",
       "</tbody>\n",
       "</table>"
      ],
      "text/plain": [
       "<IPython.core.display.HTML object>"
      ]
     },
     "metadata": {},
     "output_type": "display_data"
    }
   ],
   "source": [
    "lists_of_lists = []\n",
    "wanted_attrs = ['answer', 'c2s_ratio', \n",
    "                'a_avg_date_spread', 'a_avg_num_sources', \n",
    "                'c_avg_date_spread', 'c_avg_num_sources']\n",
    "\n",
    "headers = ['confusion', 'min_confusion', '#cand', 'granularity'] + wanted_attrs \n",
    "\n",
    "for confusion_tuple in [('location', 'time'),\n",
    "                        ('location', 'participant'),\n",
    "                        ('participant', 'time'),\n",
    "                        ]:\n",
    "    for min_confusion in range(2, 4):\n",
    "        print(confusion_tuple, min_confusion)\n",
    "        candidates=createq_utils.lookup_and_merge(look_up, \n",
    "                                                  parameters2incident_uris,\n",
    "                                                  confusion_tuple,\n",
    "                                                  min_confusion,\n",
    "                                                  df,\n",
    "                                                  debug=False,\n",
    "                                                  inspect_one=False) \n",
    "        \n",
    "        gran_distr = Counter([getattr(cand, 'granularity') \n",
    "                              for cand in candidates])\n",
    "        \n",
    "        one_row = [confusion_tuple, min_confusion, len(candidates), gran_distr]\n",
    "        \n",
    "        for attr in wanted_attrs:\n",
    "            values = [getattr(cand, attr) for cand in candidates]\n",
    "            row_value = (round(min(values), 1), \n",
    "                         round(mean(values), 1), \n",
    "                         round(max(values), 1))\n",
    "            one_row.append(row_value)\n",
    "        \n",
    "        lists_of_lists.append(one_row)\n",
    "\n",
    "stats_df = pandas.DataFrame(lists_of_lists, columns=headers)\n",
    "table = tabulate(stats_df, headers='keys', tablefmt='html')\n",
    "display(HTML(table))"
   ]
  },
  {
   "cell_type": "code",
   "execution_count": 7,
   "metadata": {
    "collapsed": false
   },
   "outputs": [],
   "source": [
    "pandas.to_pickle(stats_df, 'stats.pickle')"
   ]
  }
 ],
 "metadata": {
  "kernelspec": {
   "display_name": "Python 3",
   "language": "python",
   "name": "python3"
  },
  "language_info": {
   "codemirror_mode": {
    "name": "ipython",
    "version": 3
   },
   "file_extension": ".py",
   "mimetype": "text/x-python",
   "name": "python",
   "nbconvert_exporter": "python",
   "pygments_lexer": "ipython3",
   "version": "3.6.0"
  }
 },
 "nbformat": 4,
 "nbformat_minor": 2
}
