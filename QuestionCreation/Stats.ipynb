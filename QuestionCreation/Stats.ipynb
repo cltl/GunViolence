{
 "cells": [
  {
   "cell_type": "markdown",
   "metadata": {},
   "source": [
    "# TODO's\n",
    "* run it with more frames"
   ]
  },
  {
   "cell_type": "code",
   "execution_count": 1,
   "metadata": {
    "collapsed": true
   },
   "outputs": [],
   "source": [
    "import pandas\n",
    "from tabulate import tabulate\n",
    "from IPython.core.display import display, HTML\n",
    "from statistics import mean\n",
    "from collections import Counter"
   ]
  },
  {
   "cell_type": "code",
   "execution_count": 4,
   "metadata": {
    "collapsed": false
   },
   "outputs": [],
   "source": [
    "import look_up_utils\n",
    "import createq_utils"
   ]
  },
  {
   "cell_type": "code",
   "execution_count": 11,
   "metadata": {
    "collapsed": false
   },
   "outputs": [
    {
     "data": {
      "text/plain": [
       "['accidental_deaths',\n",
       " 'accidental_deaths_children',\n",
       " 'accidental_deaths_teens',\n",
       " 'accidental_injuries',\n",
       " 'accidental_injuries_children',\n",
       " 'accidental_injuries_teens',\n",
       " 'children_injured',\n",
       " 'children_killed',\n",
       " 'mass_shootings',\n",
       " 'mass_shootings_2013',\n",
       " 'mass_shootings_2014',\n",
       " 'mass_shootings_2015',\n",
       " 'officer_involved_shootings',\n",
       " 'teens_injured',\n",
       " 'teens_killed']"
      ]
     },
     "execution_count": 11,
     "metadata": {},
     "output_type": "execute_result"
    }
   ],
   "source": [
    "from glob import glob\n",
    "import os\n",
    "all_frames = [os.path.basename(path)\n",
    "              for path in glob('../EventRegistries/GunViolence/frames/*')\n",
    "              if not 'Icon' in path\n",
    "             ]\n",
    "all_frames"
   ]
  },
  {
   "cell_type": "markdown",
   "metadata": {},
   "source": [
    "## Load frames"
   ]
  },
  {
   "cell_type": "code",
   "execution_count": 12,
   "metadata": {
    "collapsed": false
   },
   "outputs": [],
   "source": [
    "frames = all_frames\n",
    "df = pandas.concat([pandas.read_pickle('../EventRegistries/GunViolence/frames/' + frame)\n",
    "                    for frame in frames])"
   ]
  },
  {
   "cell_type": "markdown",
   "metadata": {},
   "source": [
    "## Load look_up"
   ]
  },
  {
   "cell_type": "code",
   "execution_count": 13,
   "metadata": {
    "collapsed": false
   },
   "outputs": [],
   "source": [
    "look_up, parameters2incident_uris = look_up_utils.create_look_up(frames)"
   ]
  },
  {
   "cell_type": "markdown",
   "metadata": {},
   "source": [
    "## Create table"
   ]
  },
  {
   "cell_type": "code",
   "execution_count": 14,
   "metadata": {
    "collapsed": false
   },
   "outputs": [
    {
     "name": "stdout",
     "output_type": "stream",
     "text": [
      "('location', 'time') 2\n",
      "('location', 'time') 3\n",
      "('location', 'participant') 2\n",
      "('location', 'participant') 3\n",
      "('participant', 'time') 2\n",
      "('participant', 'time') 3\n"
     ]
    },
    {
     "data": {
      "text/html": [
       "<table>\n",
       "<thead>\n",
       "<tr><th style=\"text-align: right;\">  </th><th>confusion                  </th><th style=\"text-align: right;\">  min_confusion</th><th style=\"text-align: right;\">  #cand</th><th>granularity                                                                                                                                                                                                                                  </th><th>answer      </th><th>n2s_ratio           </th><th>a_avg_date_spread  </th><th>a_avg_num_sources  </th><th>n_avg_date_spread  </th><th>n_avg_num_sources  </th></tr>\n",
       "</thead>\n",
       "<tbody>\n",
       "<tr><td style=\"text-align: right;\"> 0</td><td>('location', 'time')       </td><td style=\"text-align: right;\">              2</td><td style=\"text-align: right;\">    202</td><td>Counter({('city', 'year'): 114, ('city', 'month'): 59, ('address', 'year'): 11, ('city', 'day'): 8, ('address', 'day'): 5, ('address', 'month'): 5})                                                                                         </td><td>(2, 3.6, 29)</td><td>(0.5, 400.0, 1224.5)</td><td>(0, 24.2, 1053.5)  </td><td>(0.5, 2.0, 10.0)   </td><td>(0, 30.5, 232.3)   </td><td>(1.6, 2.1, 3.0)    </td></tr>\n",
       "<tr><td style=\"text-align: right;\"> 1</td><td>('location', 'time')       </td><td style=\"text-align: right;\">              3</td><td style=\"text-align: right;\">     24</td><td>Counter({('city', 'year'): 21, ('city', 'month'): 3})                                                                                                                                                                                        </td><td>(3, 7.1, 25)</td><td>(81.5, 293.9, 611.0)</td><td>(0, 28.3, 328.1)   </td><td>(1.5, 2.1, 3.2)    </td><td>(2.9, 28.4, 46.3)  </td><td>(1.7, 2.1, 2.3)    </td></tr>\n",
       "<tr><td style=\"text-align: right;\"> 2</td><td>('location', 'participant')</td><td style=\"text-align: right;\">              2</td><td style=\"text-align: right;\">   1250</td><td>Counter({('state', 'first'): 524, ('state', 'last'): 453, ('city', 'last'): 112, ('city', 'first'): 95, ('state', 'full_name'): 34, ('city', 'full_name'): 24, ('address', 'first'): 3, ('address', 'last'): 3, ('address', 'full_name'): 2})</td><td>(2, 2.5, 13)</td><td>(0.0, 83.2, 203.5)  </td><td>(0, 93.8, 15998.5) </td><td>(0.5, 3.3, 17.5)   </td><td>(-1, 45.0, 358.3)  </td><td>(0, 2.3, 7.8)      </td></tr>\n",
       "<tr><td style=\"text-align: right;\"> 3</td><td>('location', 'participant')</td><td style=\"text-align: right;\">              3</td><td style=\"text-align: right;\">    336</td><td>Counter({('state', 'first'): 157, ('state', 'last'): 146, ('city', 'last'): 20, ('city', 'first'): 9, ('state', 'full_name'): 3, ('city', 'full_name'): 1})                                                                                  </td><td>(3, 3.8, 13)</td><td>(0.3, 70.2, 139.7)  </td><td>(0, 88.5, 6400.6)  </td><td>(1.0, 3.5, 10.3)   </td><td>(0, 45.3, 166.3)   </td><td>(1.6, 2.3, 4.8)    </td></tr>\n",
       "<tr><td style=\"text-align: right;\"> 4</td><td>('participant', 'time')    </td><td style=\"text-align: right;\">              2</td><td style=\"text-align: right;\">   2413</td><td>Counter({('first', 'year'): 818, ('last', 'year'): 644, ('first', 'month'): 431, ('last', 'month'): 366, ('last', 'day'): 41, ('first', 'day'): 40, ('full_name', 'year'): 36, ('full_name', 'month'): 29, ('full_name', 'day'): 8})         </td><td>(2, 3.2, 41)</td><td>(0.5, 390.7, 1226.0)</td><td>(0, 80.6, 16003)   </td><td>(0.5, 3.4, 14.5)   </td><td>(0, 44.9, 322.8)   </td><td>(1.0, 2.3, 7.0)    </td></tr>\n",
       "<tr><td style=\"text-align: right;\"> 5</td><td>('participant', 'time')    </td><td style=\"text-align: right;\">              3</td><td style=\"text-align: right;\">    941</td><td>Counter({('first', 'year'): 417, ('last', 'year'): 305, ('first', 'month'): 118, ('last', 'month'): 95, ('full_name', 'year'): 2, ('full_name', 'month'): 2, ('last', 'day'): 1, ('first', 'day'): 1})                                       </td><td>(3, 5.0, 41)</td><td>(9.0, 318.5, 818.7) </td><td>(0, 71.6, 6417.2)  </td><td>(1.0, 3.5, 13.7)   </td><td>(0.9, 44.5, 322.8) </td><td>(1.7, 2.2, 3.8)    </td></tr>\n",
       "</tbody>\n",
       "</table>"
      ],
      "text/plain": [
       "<IPython.core.display.HTML object>"
      ]
     },
     "metadata": {},
     "output_type": "display_data"
    }
   ],
   "source": [
    "lists_of_lists = []\n",
    "wanted_attrs = ['answer', 'n2s_ratio', \n",
    "                'a_avg_date_spread', 'a_avg_num_sources', \n",
    "                'n_avg_date_spread', 'n_avg_num_sources']\n",
    "\n",
    "headers = ['confusion', 'min_confusion', '#cand', 'granularity'] + wanted_attrs \n",
    "\n",
    "for confusion_tuple in [('location', 'time'),\n",
    "                        ('location', 'participant'),\n",
    "                        ('participant', 'time'),\n",
    "                        ]:\n",
    "    for min_confusion in range(2, 4):\n",
    "        print(confusion_tuple, min_confusion)\n",
    "        candidates=createq_utils.lookup_and_merge(look_up, \n",
    "                                                  parameters2incident_uris,\n",
    "                                                  confusion_tuple,\n",
    "                                                  min_confusion,\n",
    "                                                  df,\n",
    "                                                  debug=False,\n",
    "                                                  inspect_one=False) \n",
    "        \n",
    "        gran_distr = Counter([getattr(cand, 'granularity') \n",
    "                              for cand in candidates])\n",
    "        \n",
    "        one_row = [confusion_tuple, min_confusion, len(candidates), gran_distr]\n",
    "        \n",
    "        for attr in wanted_attrs:\n",
    "            values = [getattr(cand, attr) for cand in candidates]\n",
    "            row_value = (round(min(values), 1), \n",
    "                         round(mean(values), 1), \n",
    "                         round(max(values), 1))\n",
    "            one_row.append(row_value)\n",
    "        \n",
    "        lists_of_lists.append(one_row)\n",
    "\n",
    "stats_df = pandas.DataFrame(lists_of_lists, columns=headers)\n",
    "table = tabulate(stats_df, headers='keys', tablefmt='html')\n",
    "display(HTML(table))"
   ]
  },
  {
   "cell_type": "code",
   "execution_count": 16,
   "metadata": {
    "collapsed": false
   },
   "outputs": [],
   "source": [
    "pandas.to_pickle(stats_df, 'stats.pickle')"
   ]
  }
 ],
 "metadata": {
  "kernelspec": {
   "display_name": "Python 3",
   "language": "python",
   "name": "python3"
  },
  "language_info": {
   "codemirror_mode": {
    "name": "ipython",
    "version": 3
   },
   "file_extension": ".py",
   "mimetype": "text/x-python",
   "name": "python",
   "nbconvert_exporter": "python",
   "pygments_lexer": "ipython3",
   "version": "3.6.0"
  }
 },
 "nbformat": 4,
 "nbformat_minor": 2
}
