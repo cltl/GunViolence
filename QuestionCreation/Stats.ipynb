{
 "cells": [
  {
   "cell_type": "code",
   "execution_count": 1,
   "metadata": {
    "collapsed": true
   },
   "outputs": [],
   "source": [
    "import pandas\n",
    "from tabulate import tabulate\n",
    "from IPython.core.display import display, HTML\n",
    "from statistics import mean\n",
    "from collections import Counter"
   ]
  },
  {
   "cell_type": "code",
   "execution_count": 2,
   "metadata": {
    "collapsed": false
   },
   "outputs": [],
   "source": [
    "import look_up_utils\n",
    "import createq_utils"
   ]
  },
  {
   "cell_type": "code",
   "execution_count": 3,
   "metadata": {
    "collapsed": false
   },
   "outputs": [
    {
     "data": {
      "text/plain": [
       "['accidental_deaths',\n",
       " 'accidental_deaths_children',\n",
       " 'accidental_deaths_teens',\n",
       " 'accidental_injuries',\n",
       " 'accidental_injuries_children',\n",
       " 'accidental_injuries_teens',\n",
       " 'children_injured',\n",
       " 'children_killed',\n",
       " 'mass_shootings',\n",
       " 'mass_shootings_2013',\n",
       " 'mass_shootings_2014',\n",
       " 'mass_shootings_2015',\n",
       " 'officer_involved_shootings',\n",
       " 'teens_injured',\n",
       " 'teens_killed']"
      ]
     },
     "execution_count": 3,
     "metadata": {},
     "output_type": "execute_result"
    }
   ],
   "source": [
    "from glob import glob\n",
    "import os\n",
    "all_frames = [os.path.basename(path)\n",
    "              for path in glob('../EventRegistries/GunViolence/frames/*')\n",
    "              if not 'Icon' in path\n",
    "             ]\n",
    "all_frames"
   ]
  },
  {
   "cell_type": "markdown",
   "metadata": {},
   "source": [
    "## Load frames"
   ]
  },
  {
   "cell_type": "code",
   "execution_count": 4,
   "metadata": {
    "collapsed": false
   },
   "outputs": [],
   "source": [
    "frames = all_frames\n",
    "df = pandas.concat([pandas.read_pickle('../EventRegistries/GunViolence/frames/' + frame)\n",
    "                    for frame in frames])\n",
    "df = df.drop_duplicates(subset='incident_uri')"
   ]
  },
  {
   "cell_type": "markdown",
   "metadata": {},
   "source": [
    "## Load look_up"
   ]
  },
  {
   "cell_type": "code",
   "execution_count": 5,
   "metadata": {
    "collapsed": false
   },
   "outputs": [],
   "source": [
    "look_up, parameters2incident_uris = look_up_utils.create_look_up(df,\n",
    "                                                                 discard_ambiguous_names=True,\n",
    "                                                                 allowed_incident_years={2017}\n",
    "                                                                 )"
   ]
  },
  {
   "cell_type": "markdown",
   "metadata": {},
   "source": [
    "## Create table"
   ]
  },
  {
   "cell_type": "code",
   "execution_count": 6,
   "metadata": {
    "collapsed": false
   },
   "outputs": [
    {
     "name": "stdout",
     "output_type": "stream",
     "text": [
      "('location', 'time') 2\n",
      "('location', 'time') 3\n",
      "('location', 'participant') 2\n",
      "('location', 'participant') 3\n",
      "('participant', 'time') 2\n",
      "('participant', 'time') 3\n"
     ]
    },
    {
     "data": {
      "text/html": [
       "<table>\n",
       "<thead>\n",
       "<tr><th style=\"text-align: right;\">  </th><th>confusion                  </th><th style=\"text-align: right;\">  min_#_a_incidents</th><th style=\"text-align: right;\">  #cand</th><th>granularity                                                                                                                                     </th><th>answer      </th><th>c2s_ratio           </th><th>a_avg_date_spread  </th><th>a_avg_num_sources  </th><th>c_avg_date_spread  </th><th>c_avg_num_sources  </th></tr>\n",
       "</thead>\n",
       "<tbody>\n",
       "<tr><td style=\"text-align: right;\"> 0</td><td>('location', 'time')       </td><td style=\"text-align: right;\">                  2</td><td style=\"text-align: right;\">    407</td><td>Counter({('state', 'month'): 96, ('city', 'year'): 88, ('city', 'month'): 81, ('state', 'day'): 79, ('state', 'year'): 41, ('city', 'day'): 22})</td><td>(2, 5.1, 58)</td><td>(2.3, 93.8, 322.0)  </td><td>(0, 23.6, 130)     </td><td>(0.3, 1.5, 6.5)    </td><td>(2, 112.3, 158)    </td><td>(1.0, 1.5, 1.9)    </td></tr>\n",
       "<tr><td style=\"text-align: right;\"> 1</td><td>('location', 'time')       </td><td style=\"text-align: right;\">                  3</td><td style=\"text-align: right;\">    218</td><td>Counter({('state', 'month'): 80, ('city', 'year'): 46, ('state', 'year'): 38, ('city', 'month'): 35, ('state', 'day'): 16, ('city', 'day'): 3}) </td><td>(3, 7.8, 58)</td><td>(2.3, 70.4, 214.3)  </td><td>(0, 33.9, 130)     </td><td>(0.3, 1.5, 3.0)    </td><td>(23, 122.3, 158)   </td><td>(1.0, 1.5, 1.7)    </td></tr>\n",
       "<tr><td style=\"text-align: right;\"> 2</td><td>('location', 'participant')</td><td style=\"text-align: right;\">                  2</td><td style=\"text-align: right;\">     15</td><td>Counter({('state', 'last'): 6, ('state', 'first'): 6, ('city', 'last'): 3})                                                                     </td><td>(2, 2.1, 4) </td><td>(5.5, 17.1, 29.0)   </td><td>(2, 29.8, 64)      </td><td>(1.0, 2.4, 5.0)    </td><td>(65, 75.7, 80)     </td><td>(1.2, 1.6, 2.2)    </td></tr>\n",
       "<tr><td style=\"text-align: right;\"> 3</td><td>('location', 'participant')</td><td style=\"text-align: right;\">                  3</td><td style=\"text-align: right;\">      1</td><td>Counter({('state', 'first'): 1})                                                                                                                </td><td>(4, 4, 4)   </td><td>(12.2, 12.2, 12.2)  </td><td>(61, 61, 61)       </td><td>(5.0, 5.0, 5.0)    </td><td>(80, 80, 80)       </td><td>(1.4, 1.4, 1.4)    </td></tr>\n",
       "<tr><td style=\"text-align: right;\"> 4</td><td>('participant', 'time')    </td><td style=\"text-align: right;\">                  2</td><td style=\"text-align: right;\">    382</td><td>Counter({('first', 'year'): 137, ('last', 'year'): 109, ('first', 'month'): 74, ('last', 'month'): 56, ('first', 'day'): 6})                    </td><td>(2, 3.1, 9) </td><td>(3.5, 188.9, 322.0) </td><td>(0, 33.2, 75)      </td><td>(1.0, 2.1, 6.0)    </td><td>(22, 134.5, 158)   </td><td>(1.1, 1.5, 1.6)    </td></tr>\n",
       "<tr><td style=\"text-align: right;\"> 5</td><td>('participant', 'time')    </td><td style=\"text-align: right;\">                  3</td><td style=\"text-align: right;\">    170</td><td>Counter({('first', 'year'): 75, ('last', 'year'): 47, ('first', 'month'): 28, ('last', 'month'): 20})                                           </td><td>(3, 4.5, 9) </td><td>(49.0, 130.4, 214.3)</td><td>(5, 44.5, 75)      </td><td>(1.0, 2.0, 4.6)    </td><td>(66, 139.7, 158)   </td><td>(1.5, 1.5, 1.6)    </td></tr>\n",
       "</tbody>\n",
       "</table>"
      ],
      "text/plain": [
       "<IPython.core.display.HTML object>"
      ]
     },
     "metadata": {},
     "output_type": "display_data"
    }
   ],
   "source": [
    "lists_of_lists = []\n",
    "wanted_attrs = ['answer', 'c2s_ratio', \n",
    "                'a_avg_date_spread', \n",
    "                'a_avg_num_sources', \n",
    "                'c_avg_date_spread', \n",
    "                'c_avg_num_sources']\n",
    "\n",
    "headers = ['confusion', 'min_#_a_incidents', '#cand', 'granularity'] + wanted_attrs \n",
    "\n",
    "for confusion_tuple in [('location', 'time'),\n",
    "                        ('location', 'participant'),\n",
    "                        ('participant', 'time'),\n",
    "                        ]:\n",
    "    for min_num_answer_incidents in range(2, 4):\n",
    "        print(confusion_tuple, min_num_answer_incidents)\n",
    "        candidates=createq_utils.lookup_and_merge(look_up, \n",
    "                                                  parameters2incident_uris,\n",
    "                                                  confusion_tuple,\n",
    "                                                  min_num_answer_incidents,\n",
    "                                                  df,\n",
    "                                                  debug=False,\n",
    "                                                  inspect_one=False,\n",
    "                                                  set_attr_values=True) \n",
    "        \n",
    "        gran_distr = Counter([getattr(cand, 'granularity') \n",
    "                              for cand in candidates])\n",
    "        \n",
    "        one_row = [confusion_tuple, min_num_answer_incidents, len(candidates), gran_distr]\n",
    "        \n",
    "        for attr in wanted_attrs:\n",
    "            values = [getattr(cand, attr) for cand in candidates]\n",
    "            row_value = (round(min(values), 1), \n",
    "                         round(mean(values), 1), \n",
    "                         round(max(values), 1))\n",
    "            one_row.append(row_value)\n",
    "        \n",
    "        lists_of_lists.append(one_row)\n",
    "\n",
    "stats_df = pandas.DataFrame(lists_of_lists, columns=headers)\n",
    "table = tabulate(stats_df, headers='keys', tablefmt='html')\n",
    "display(HTML(table))"
   ]
  },
  {
   "cell_type": "code",
   "execution_count": 7,
   "metadata": {
    "collapsed": false
   },
   "outputs": [],
   "source": [
    "pandas.to_pickle(stats_df, 'stats.pickle')"
   ]
  }
 ],
 "metadata": {
  "kernelspec": {
   "display_name": "Python 3",
   "language": "python",
   "name": "python3"
  },
  "language_info": {
   "codemirror_mode": {
    "name": "ipython",
    "version": 3
   },
   "file_extension": ".py",
   "mimetype": "text/x-python",
   "name": "python",
   "nbconvert_exporter": "python",
   "pygments_lexer": "ipython3",
   "version": "3.6.0"
  }
 },
 "nbformat": 4,
 "nbformat_minor": 2
}
