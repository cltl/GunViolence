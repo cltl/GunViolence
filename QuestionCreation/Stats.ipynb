{
 "cells": [
  {
   "cell_type": "code",
   "execution_count": 1,
   "metadata": {
    "collapsed": true
   },
   "outputs": [],
   "source": [
    "import pandas\n",
    "from tabulate import tabulate\n",
    "from IPython.core.display import display, HTML\n",
    "from statistics import mean\n",
    "from collections import Counter"
   ]
  },
  {
   "cell_type": "code",
   "execution_count": 2,
   "metadata": {
    "collapsed": true
   },
   "outputs": [],
   "source": [
    "import look_up_utils\n",
    "import createq_utils\n",
    "from datetime import datetime"
   ]
  },
  {
   "cell_type": "markdown",
   "metadata": {},
   "source": [
    "## Load frames"
   ]
  },
  {
   "cell_type": "code",
   "execution_count": 3,
   "metadata": {
    "collapsed": true
   },
   "outputs": [],
   "source": [
    "df = pandas.read_pickle('../EventRegistries/GunViolence/frames/all')"
   ]
  },
  {
   "cell_type": "markdown",
   "metadata": {},
   "source": [
    "## Load look_up"
   ]
  },
  {
   "cell_type": "code",
   "execution_count": 4,
   "metadata": {
    "collapsed": true
   },
   "outputs": [],
   "source": [
    "look_up, parameters2incident_uris = look_up_utils.create_look_up(df,\n",
    "                                                                 discard_ambiguous_names=True,\n",
    "                                                                 allowed_incident_years={2013, 2014, 2015, 2016, 2017},\n",
    "                                                                 check_name_in_article=True)"
   ]
  },
  {
   "cell_type": "markdown",
   "metadata": {},
   "source": [
    "## Create table"
   ]
  },
  {
   "cell_type": "code",
   "execution_count": 5,
   "metadata": {},
   "outputs": [
    {
     "name": "stdout",
     "output_type": "stream",
     "text": [
      "2017-04-18 13:01:45.630271 ('location', 'time') 2\n",
      "2017-04-18 13:08:06.201065 ('location', 'time') 3\n",
      "2017-04-18 13:11:56.684421 ('location', 'participant') 2\n",
      "2017-04-18 13:12:15.699459 ('location', 'participant') 3\n",
      "2017-04-18 13:12:20.900464 ('participant', 'time') 2\n",
      "2017-04-18 13:22:11.614524 ('participant', 'time') 3\n"
     ]
    },
    {
     "data": {
      "text/html": [
       "<table>\n",
       "<thead>\n",
       "<tr><th style=\"text-align: right;\">  </th><th>confusion                  </th><th style=\"text-align: right;\">  min_#_a_incidents</th><th style=\"text-align: right;\">  #cand</th><th>granularity                                                                                                                                                                                           </th><th>answer       </th><th>c2s_ratio           </th><th>a_avg_date_spread  </th><th>a_avg_num_sources  </th><th>num_a_sources      </th><th>c_avg_date_spread  </th><th>c_avg_num_sources  </th><th>num_c_sources  </th></tr>\n",
       "</thead>\n",
       "<tbody>\n",
       "<tr><td style=\"text-align: right;\"> 0</td><td>('location', 'time')       </td><td style=\"text-align: right;\">                  2</td><td style=\"text-align: right;\">   2581</td><td>Counter({('state', 'month'): 832, ('city', 'year'): 554, ('city', 'month'): 461, ('state', 'day'): 435, ('state', 'year'): 213, ('city', 'day'): 78, ('address', 'year'): 5, ('address', 'month'): 3})</td><td>(2, 5.2, 141)</td><td>(0.5, 162.6, 877.5) </td><td>(0, 93.0, 1488)    </td><td>(0.0, 1.3, 9.0)    </td><td>(1, 691.9, 2792)   </td><td>(0, 1310.7, 1569)  </td><td>(0.6, 1.3, 2.5)    </td><td>(0, 6.8, 278)  </td></tr>\n",
       "<tr><td style=\"text-align: right;\"> 1</td><td>('location', 'time')       </td><td style=\"text-align: right;\">                  3</td><td style=\"text-align: right;\">   1272</td><td>Counter({('state', 'month'): 560, ('city', 'year'): 309, ('state', 'year'): 194, ('city', 'month'): 137, ('state', 'day'): 64, ('city', 'day'): 8})                                                   </td><td>(3, 8.6, 141)</td><td>(10.7, 120.7, 583.3)</td><td>(0, 150.5, 1488)   </td><td>(0.0, 1.3, 9.0)    </td><td>(29, 855.2, 2792)  </td><td>(41, 1364.6, 1569) </td><td>(0.6, 1.3, 1.9)    </td><td>(0, 11.1, 278) </td></tr>\n",
       "<tr><td style=\"text-align: right;\"> 2</td><td>('location', 'participant')</td><td style=\"text-align: right;\">                  2</td><td style=\"text-align: right;\">    308</td><td>Counter({('state', 'last'): 134, ('state', 'first'): 125, ('city', 'last'): 27, ('city', 'first'): 22})                                                                                               </td><td>(2, 2.3, 6)  </td><td>(7.5, 98.5, 180.0)  </td><td>(2, 561.3, 1472)   </td><td>(1.0, 2.4, 9.5)    </td><td>(31, 303.4, 597)   </td><td>(869, 1485.7, 1562)</td><td>(0.7, 1.4, 2.2)    </td><td>(2, 5.6, 27)   </td></tr>\n",
       "<tr><td style=\"text-align: right;\"> 3</td><td>('location', 'participant')</td><td style=\"text-align: right;\">                  3</td><td style=\"text-align: right;\">     73</td><td>Counter({('state', 'last'): 42, ('state', 'first'): 26, ('city', 'last'): 3, ('city', 'first'): 2})                                                                                                   </td><td>(3, 3.3, 6)  </td><td>(10.7, 78.6, 120.3) </td><td>(78, 724.2, 1422)  </td><td>(1.0, 2.3, 5.3)    </td><td>(59, 353.0, 597)   </td><td>(869, 1480.6, 1560)</td><td>(1.1, 1.4, 1.8)    </td><td>(3, 7.8, 27)   </td></tr>\n",
       "<tr><td style=\"text-align: right;\"> 4</td><td>('participant', 'time')    </td><td style=\"text-align: right;\">                  2</td><td style=\"text-align: right;\">   2064</td><td>Counter({('first', 'year'): 857, ('last', 'year'): 758, ('last', 'month'): 222, ('first', 'month'): 199, ('last', 'day'): 16, ('first', 'day'): 12})                                                  </td><td>(2, 3.6, 15) </td><td>(2.0, 356.2, 876.0) </td><td>(0, 220.8, 1381)   </td><td>(1.0, 2.5, 10.0)   </td><td>(4, 1478.5, 2746)  </td><td>(94, 1227.1, 1569) </td><td>(0.9, 1.4, 2.7)    </td><td>(2, 9.0, 41)   </td></tr>\n",
       "<tr><td style=\"text-align: right;\"> 5</td><td>('participant', 'time')    </td><td style=\"text-align: right;\">                  3</td><td style=\"text-align: right;\">   1048</td><td>Counter({('first', 'year'): 463, ('last', 'year'): 458, ('last', 'month'): 82, ('first', 'month'): 45})                                                                                               </td><td>(3, 5.2, 15) </td><td>(14.3, 275.1, 582.0)</td><td>(5, 283.4, 1307)   </td><td>(1.0, 2.5, 8.0)    </td><td>(107, 1717.0, 2746)</td><td>(653, 1308.9, 1569)</td><td>(0.9, 1.4, 2.5)    </td><td>(3, 13.0, 41)  </td></tr>\n",
       "</tbody>\n",
       "</table>"
      ],
      "text/plain": [
       "<IPython.core.display.HTML object>"
      ]
     },
     "metadata": {},
     "output_type": "display_data"
    }
   ],
   "source": [
    "lists_of_lists = []\n",
    "wanted_attrs = ['answer', 'c2s_ratio', \n",
    "                'a_avg_date_spread', \n",
    "                'a_avg_num_sources',\n",
    "                'num_a_sources',\n",
    "                'c_avg_date_spread', \n",
    "                'c_avg_num_sources',\n",
    "                'num_c_sources']\n",
    "\n",
    "headers = ['confusion', 'min_#_a_incidents', '#cand', 'granularity'] + wanted_attrs \n",
    "\n",
    "for confusion_tuple in [('location', 'time'),\n",
    "                        ('location', 'participant'),\n",
    "                        ('participant', 'time'),\n",
    "                        ]:\n",
    "    for min_num_answer_incidents in range(2, 4):\n",
    "        print(datetime.now(), confusion_tuple, min_num_answer_incidents)\n",
    "        candidates=createq_utils.lookup_and_merge(look_up, \n",
    "                                                  parameters2incident_uris,\n",
    "                                                  confusion_tuple,\n",
    "                                                  min_num_answer_incidents,\n",
    "                                                  df,\n",
    "                                                  debug=False,\n",
    "                                                  inspect_one=False,\n",
    "                                                  set_attr_values=True) \n",
    "       \n",
    "        gran_distr = Counter([getattr(cand, 'granularity') \n",
    "                              for cand in candidates])\n",
    "        \n",
    "        one_row = [confusion_tuple, min_num_answer_incidents, len(candidates), gran_distr]\n",
    "        \n",
    "        for attr in wanted_attrs:\n",
    "            values = [getattr(cand, attr) for cand in candidates]\n",
    "            row_value = (round(min(values), 1), \n",
    "                         round(mean(values), 1), \n",
    "                         round(max(values), 1))\n",
    "            one_row.append(row_value)\n",
    "        \n",
    "        lists_of_lists.append(one_row)\n",
    "\n",
    "stats_df = pandas.DataFrame(lists_of_lists, columns=headers)\n",
    "table = tabulate(stats_df, headers='keys', tablefmt='html')\n",
    "display(HTML(table))"
   ]
  },
  {
   "cell_type": "code",
   "execution_count": 6,
   "metadata": {
    "collapsed": true
   },
   "outputs": [],
   "source": [
    "pandas.to_pickle(stats_df, 'stats.pickle')"
   ]
  },
  {
   "cell_type": "code",
   "execution_count": 8,
   "metadata": {},
   "outputs": [
    {
     "name": "stdout",
     "output_type": "stream",
     "text": [
      "answer 4.35\n",
      "c2s_ratio 239.29\n",
      "a_avg_date_spread 175.38\n",
      "a_avg_num_sources 1.87\n",
      "num_a_sources 995.53\n",
      "c_avg_date_spread 1286.74\n",
      "c_avg_num_sources 1.35\n",
      "num_c_sources 7.64\n"
     ]
    }
   ],
   "source": [
    "wanted_attrs = ['answer', 'c2s_ratio', \n",
    "                'a_avg_date_spread', \n",
    "                'a_avg_num_sources', \n",
    "                'num_a_sources',\n",
    "                'c_avg_date_spread', \n",
    "                'c_avg_num_sources',\n",
    "                'num_c_sources']\n",
    "\n",
    "for wanted_attr in wanted_attrs:\n",
    "    tot_num_can = 0\n",
    "    total = 0\n",
    "    for index, row in stats_df.iterrows():\n",
    "        if row['min_#_a_incidents'] == 2:\n",
    "            tot_num_can += row['#cand']\n",
    "            minimum, average, maximum = row[wanted_attr]\n",
    "            total += (average * row['#cand'])\n",
    "    \n",
    "    avg = total / tot_num_can\n",
    "    print(wanted_attr, round(avg, 2))"
   ]
  },
  {
   "cell_type": "code",
   "execution_count": null,
   "metadata": {
    "collapsed": true
   },
   "outputs": [],
   "source": []
  }
 ],
 "metadata": {
  "kernelspec": {
   "display_name": "Python 3",
   "language": "python",
   "name": "python3"
  },
  "language_info": {
   "codemirror_mode": {
    "name": "ipython",
    "version": 3
   },
   "file_extension": ".py",
   "mimetype": "text/x-python",
   "name": "python",
   "nbconvert_exporter": "python",
   "pygments_lexer": "ipython3",
   "version": "3.6.0"
  }
 },
 "nbformat": 4,
 "nbformat_minor": 2
}
