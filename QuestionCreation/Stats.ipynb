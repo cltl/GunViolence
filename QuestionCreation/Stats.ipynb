{
 "cells": [
  {
   "cell_type": "code",
   "execution_count": 1,
   "metadata": {
    "collapsed": true
   },
   "outputs": [],
   "source": [
    "import pandas\n",
    "from tabulate import tabulate\n",
    "from IPython.core.display import display, HTML\n",
    "from statistics import mean\n",
    "from collections import Counter"
   ]
  },
  {
   "cell_type": "code",
   "execution_count": 2,
   "metadata": {
    "collapsed": false
   },
   "outputs": [],
   "source": [
    "import look_up_utils\n",
    "import createq_utils\n",
    "from datetime import datetime"
   ]
  },
  {
   "cell_type": "markdown",
   "metadata": {},
   "source": [
    "## Load frames"
   ]
  },
  {
   "cell_type": "code",
   "execution_count": 3,
   "metadata": {
    "collapsed": true
   },
   "outputs": [],
   "source": [
    "df = pandas.read_pickle('../EventRegistries/GunViolenceArchive/frames/all')"
   ]
  },
  {
   "cell_type": "markdown",
   "metadata": {},
   "source": [
    "## Load look_up"
   ]
  },
  {
   "cell_type": "code",
   "execution_count": null,
   "metadata": {
    "collapsed": true
   },
   "outputs": [],
   "source": [
    "look_up, parameters2incident_uris = look_up_utils.create_look_up(df,\n",
    "                                                                 discard_ambiguous_names=True,\n",
    "                                                                 allowed_incident_years={2013, 2014, 2015, 2016, 2017},\n",
    "                                                                 check_name_in_article=True)"
   ]
  },
  {
   "cell_type": "markdown",
   "metadata": {},
   "source": [
    "## Create table"
   ]
  },
  {
   "cell_type": "code",
   "execution_count": null,
   "metadata": {
    "collapsed": false
   },
   "outputs": [
    {
     "name": "stdout",
     "output_type": "stream",
     "text": [
      "2017-04-24 18:12:41.891096 ('location', 'time') 2\n"
     ]
    }
   ],
   "source": [
    "lists_of_lists = []\n",
    "wanted_attrs = ['answer', 'c2s_ratio', \n",
    "                'a_avg_date_spread', \n",
    "                'a_avg_num_sources',\n",
    "                'num_a_sources',\n",
    "                'c_avg_date_spread', \n",
    "                'c_avg_num_sources',\n",
    "                'num_c_sources']\n",
    "\n",
    "headers = ['confusion', 'min_#_a_incidents', '#cand', 'granularity'] + wanted_attrs \n",
    "\n",
    "for confusion_tuple in [('location', 'time'),\n",
    "                        ('location', 'participant'),\n",
    "                        ('participant', 'time'),\n",
    "                        ]:\n",
    "    for min_num_answer_incidents in range(2, 4):\n",
    "        print(datetime.now(), confusion_tuple, min_num_answer_incidents)\n",
    "        candidates=createq_utils.lookup_and_merge(look_up, \n",
    "                                                  parameters2incident_uris,\n",
    "                                                  confusion_tuple,\n",
    "                                                  min_num_answer_incidents,\n",
    "                                                  df,\n",
    "                                                  debug=False,\n",
    "                                                  inspect_one=False,\n",
    "                                                  set_attr_values=True) \n",
    "       \n",
    "        gran_distr = Counter([getattr(cand, 'granularity') \n",
    "                              for cand in candidates])\n",
    "        \n",
    "        one_row = [confusion_tuple, min_num_answer_incidents, len(candidates), gran_distr]\n",
    "        \n",
    "        for attr in wanted_attrs:\n",
    "            values = [getattr(cand, attr) for cand in candidates]\n",
    "            row_value = (round(min(values), 1), \n",
    "                         round(mean(values), 1), \n",
    "                         round(max(values), 1))\n",
    "            one_row.append(row_value)\n",
    "        \n",
    "        lists_of_lists.append(one_row)\n",
    "\n",
    "stats_df = pandas.DataFrame(lists_of_lists, columns=headers)\n",
    "table = tabulate(stats_df, headers='keys', tablefmt='html')\n",
    "display(HTML(table))"
   ]
  },
  {
   "cell_type": "code",
   "execution_count": null,
   "metadata": {
    "collapsed": true
   },
   "outputs": [],
   "source": [
    "pandas.to_pickle(stats_df, 'stats.pickle')"
   ]
  },
  {
   "cell_type": "code",
   "execution_count": null,
   "metadata": {
    "collapsed": false
   },
   "outputs": [],
   "source": [
    "wanted_attrs = ['answer', 'c2s_ratio', \n",
    "                'a_avg_date_spread', \n",
    "                'a_avg_num_sources', \n",
    "                'num_a_sources',\n",
    "                'c_avg_date_spread', \n",
    "                'c_avg_num_sources',\n",
    "                'num_c_sources']\n",
    "\n",
    "for wanted_attr in wanted_attrs:\n",
    "    tot_num_can = 0\n",
    "    total = 0\n",
    "    for index, row in stats_df.iterrows():\n",
    "        if row['min_#_a_incidents'] == 2:\n",
    "            tot_num_can += row['#cand']\n",
    "            minimum, average, maximum = row[wanted_attr]\n",
    "            total += (average * row['#cand'])\n",
    "    \n",
    "    avg = total / tot_num_can\n",
    "    print(wanted_attr, round(avg, 2))"
   ]
  },
  {
   "cell_type": "code",
   "execution_count": null,
   "metadata": {
    "collapsed": true
   },
   "outputs": [],
   "source": []
  }
 ],
 "metadata": {
  "anaconda-cloud": {},
  "kernelspec": {
   "display_name": "Python [Root]",
   "language": "python",
   "name": "Python [Root]"
  },
  "language_info": {
   "codemirror_mode": {
    "name": "ipython",
    "version": 3
   },
   "file_extension": ".py",
   "mimetype": "text/x-python",
   "name": "python",
   "nbconvert_exporter": "python",
   "pygments_lexer": "ipython3",
   "version": "3.5.3"
  }
 },
 "nbformat": 4,
 "nbformat_minor": 2
}
