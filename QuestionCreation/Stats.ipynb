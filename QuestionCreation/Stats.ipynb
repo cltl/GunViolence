{
 "cells": [
  {
   "cell_type": "markdown",
   "metadata": {},
   "source": [
    "# TODO's\n",
    "* table with number of candidates per setting (confusion_tuple + min_confusion)\n",
    "    * min, avg, max for int or float properties"
   ]
  },
  {
   "cell_type": "code",
   "execution_count": 1,
   "metadata": {
    "collapsed": true
   },
   "outputs": [],
   "source": [
    "import pandas\n",
    "from tabulate import tabulate\n",
    "from IPython.core.display import display, HTML\n",
    "from statistics import mean\n",
    "from collections import Counter"
   ]
  },
  {
   "cell_type": "code",
   "execution_count": 2,
   "metadata": {
    "collapsed": false
   },
   "outputs": [],
   "source": [
    "import look_up_utils\n",
    "import createq_utils"
   ]
  },
  {
   "cell_type": "markdown",
   "metadata": {},
   "source": [
    "## Load frames"
   ]
  },
  {
   "cell_type": "code",
   "execution_count": 3,
   "metadata": {
    "collapsed": true
   },
   "outputs": [],
   "source": [
    "frames = ['mass_shootings',\n",
    "          'mass_shootings_2013',\n",
    "          'mass_shootings_2014',\n",
    "          'mass_shootings_2015']\n",
    "df = pandas.concat([pandas.read_pickle('../EventRegistries/GunViolence/frames/' + frame)\n",
    "                    for frame in frames])"
   ]
  },
  {
   "cell_type": "markdown",
   "metadata": {},
   "source": [
    "## Load look_up"
   ]
  },
  {
   "cell_type": "code",
   "execution_count": 4,
   "metadata": {
    "collapsed": false
   },
   "outputs": [],
   "source": [
    "look_up, parameters2incident_uris = look_up_utils.create_look_up(frames)"
   ]
  },
  {
   "cell_type": "markdown",
   "metadata": {},
   "source": [
    "## Create table"
   ]
  },
  {
   "cell_type": "code",
   "execution_count": 6,
   "metadata": {
    "collapsed": false
   },
   "outputs": [
    {
     "name": "stdout",
     "output_type": "stream",
     "text": [
      "('location', 'time') 2\n",
      "('location', 'time') 3\n",
      "('location', 'participant') 2\n",
      "('location', 'participant') 3\n",
      "('participant', 'time') 2\n",
      "('participant', 'time') 3\n"
     ]
    },
    {
     "data": {
      "text/html": [
       "<table>\n",
       "<thead>\n",
       "<tr><th style=\"text-align: right;\">  </th><th>confusion                  </th><th style=\"text-align: right;\">  min_confusion</th><th style=\"text-align: right;\">  #cand</th><th>granularity                                                                                                                                                                                                                       </th><th>answer      </th><th>n2s_ratio           </th><th>a_avg_date_spread  </th><th>a_avg_num_sources  </th><th>n_avg_date_spread  </th><th>n_avg_num_sources  </th></tr>\n",
       "</thead>\n",
       "<tbody>\n",
       "<tr><td style=\"text-align: right;\"> 0</td><td>('location', 'time')       </td><td style=\"text-align: right;\">              2</td><td style=\"text-align: right;\">     17</td><td>Counter({('city', 'year'): 13, ('address', 'year'): 2, ('city', 'month'): 2})                                                                                                                                                     </td><td>(2, 2.2, 3) </td><td>(11.5, 116.2, 193.0)</td><td>(0, 68.4, 815)     </td><td>(1.0, 2.7, 5.0)    </td><td>(35.8, 60.8, 148.8)</td><td>(1.8, 2.5, 3.1)    </td></tr>\n",
       "<tr><td style=\"text-align: right;\"> 1</td><td>('location', 'time')       </td><td style=\"text-align: right;\">              3</td><td style=\"text-align: right;\">      3</td><td>Counter({('city', 'year'): 3})                                                                                                                                                                                                    </td><td>(3, 3, 3)   </td><td>(91.0, 94.6, 96.5)  </td><td>(0.7, 22.2, 37.2)  </td><td>(2.3, 2.8, 3.5)    </td><td>(37.3, 48.5, 56.4) </td><td>(1.8, 2.7, 3.1)    </td></tr>\n",
       "<tr><td style=\"text-align: right;\"> 2</td><td>('location', 'participant')</td><td style=\"text-align: right;\">              2</td><td style=\"text-align: right;\">    467</td><td>Counter({('state', 'last'): 186, ('state', 'first'): 178, ('city', 'last'): 43, ('city', 'first'): 38, ('state', 'full_name'): 11, ('city', 'full_name'): 11})                                                                    </td><td>(2, 2.4, 8) </td><td>(0.0, 31.1, 104.5)  </td><td>(0, 106.0, 1054)   </td><td>(0.5, 4.1, 17.5)   </td><td>(-1, 69.9, 448)    </td><td>(0, 2.9, 9.3)      </td></tr>\n",
       "<tr><td style=\"text-align: right;\"> 3</td><td>('location', 'participant')</td><td style=\"text-align: right;\">              3</td><td style=\"text-align: right;\">    101</td><td>Counter({('state', 'last'): 51, ('state', 'first'): 39, ('city', 'last'): 6, ('city', 'first'): 3, ('state', 'full_name'): 1, ('city', 'full_name'): 1})                                                                          </td><td>(3, 3.6, 8) </td><td>(0.3, 25.6, 64.3)   </td><td>(0, 98.9, 758.7)   </td><td>(1.3, 3.9, 11.0)   </td><td>(0, 68.0, 174.1)   </td><td>(2.0, 3.0, 4.5)    </td></tr>\n",
       "<tr><td style=\"text-align: right;\"> 4</td><td>('participant', 'time')    </td><td style=\"text-align: right;\">              2</td><td style=\"text-align: right;\">    936</td><td>Counter({('first', 'year'): 390, ('last', 'year'): 280, ('first', 'month'): 114, ('last', 'month'): 109, ('full_name', 'year'): 14, ('last', 'day'): 13, ('full_name', 'month'): 9, ('first', 'day'): 6, ('full_name', 'day'): 1})</td><td>(2, 2.8, 17)</td><td>(0.5, 99.3, 197.5)  </td><td>(0, 117.4, 1438.5) </td><td>(0.5, 4.2, 19.0)   </td><td>(0, 73.5, 311.1)   </td><td>(1.0, 2.8, 5.5)    </td></tr>\n",
       "<tr><td style=\"text-align: right;\"> 5</td><td>('participant', 'time')    </td><td style=\"text-align: right;\">              3</td><td style=\"text-align: right;\">    309</td><td>Counter({('first', 'year'): 155, ('last', 'year'): 120, ('last', 'month'): 20, ('first', 'month'): 12, ('last', 'day'): 1, ('full_name', 'year'): 1})                                                                             </td><td>(3, 4.3, 17)</td><td>(5.0, 77.5, 132.7)  </td><td>(0, 129.2, 915.3)  </td><td>(1.3, 4.1, 14.0)   </td><td>(0.8, 74.1, 205.7) </td><td>(1.8, 2.7, 5.0)    </td></tr>\n",
       "</tbody>\n",
       "</table>"
      ],
      "text/plain": [
       "<IPython.core.display.HTML object>"
      ]
     },
     "metadata": {},
     "output_type": "display_data"
    }
   ],
   "source": [
    "lists_of_lists = []\n",
    "wanted_attrs = ['answer', 'n2s_ratio', \n",
    "                'a_avg_date_spread', 'a_avg_num_sources', \n",
    "                'n_avg_date_spread', 'n_avg_num_sources']\n",
    "\n",
    "headers = ['confusion', 'min_confusion', '#cand', 'granularity'] + wanted_attrs \n",
    "\n",
    "for confusion_tuple in [('location', 'time'),\n",
    "                        ('location', 'participant'),\n",
    "                        ('participant', 'time'),\n",
    "                        ]:\n",
    "    for min_confusion in range(2, 4):\n",
    "        print(confusion_tuple, min_confusion)\n",
    "        candidates=createq_utils.lookup_and_merge(look_up, \n",
    "                                                  parameters2incident_uris,\n",
    "                                                  confusion_tuple,\n",
    "                                                  min_confusion,\n",
    "                                                  df,\n",
    "                                                  debug=False,\n",
    "                                                  inspect_one=False) \n",
    "        \n",
    "        gran_distr = Counter([getattr(cand, 'granularity') \n",
    "                              for cand in candidates])\n",
    "        \n",
    "        one_row = [confusion_tuple, min_confusion, len(candidates), gran_distr]\n",
    "        \n",
    "        for attr in wanted_attrs:\n",
    "            values = [getattr(cand, attr) for cand in candidates]\n",
    "            row_value = (round(min(values), 1), \n",
    "                         round(mean(values), 1), \n",
    "                         round(max(values), 1))\n",
    "            one_row.append(row_value)\n",
    "        \n",
    "        lists_of_lists.append(one_row)\n",
    "\n",
    "stats_df = pandas.DataFrame(lists_of_lists, columns=headers)\n",
    "table = tabulate(stats_df, headers='keys', tablefmt='html')\n",
    "display(HTML(table))"
   ]
  },
  {
   "cell_type": "code",
   "execution_count": null,
   "metadata": {
    "collapsed": true
   },
   "outputs": [],
   "source": []
  }
 ],
 "metadata": {
  "kernelspec": {
   "display_name": "Python 3",
   "language": "python",
   "name": "python3"
  },
  "language_info": {
   "codemirror_mode": {
    "name": "ipython",
    "version": 3
   },
   "file_extension": ".py",
   "mimetype": "text/x-python",
   "name": "python",
   "nbconvert_exporter": "python",
   "pygments_lexer": "ipython3",
   "version": "3.6.0"
  }
 },
 "nbformat": 4,
 "nbformat_minor": 2
}
