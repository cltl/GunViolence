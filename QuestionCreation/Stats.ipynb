{
 "cells": [
  {
   "cell_type": "code",
   "execution_count": 1,
   "metadata": {
    "collapsed": true
   },
   "outputs": [],
   "source": [
    "import pandas\n",
    "from tabulate import tabulate\n",
    "from IPython.core.display import display, HTML\n",
    "from statistics import mean\n",
    "from collections import Counter"
   ]
  },
  {
   "cell_type": "code",
   "execution_count": 2,
   "metadata": {
    "collapsed": false
   },
   "outputs": [],
   "source": [
    "import look_up_utils\n",
    "import createq_utils"
   ]
  },
  {
   "cell_type": "code",
   "execution_count": 3,
   "metadata": {
    "collapsed": false
   },
   "outputs": [
    {
     "data": {
      "text/plain": [
       "['accidental_deaths',\n",
       " 'accidental_deaths_children',\n",
       " 'accidental_deaths_teens',\n",
       " 'accidental_injuries',\n",
       " 'accidental_injuries_children',\n",
       " 'accidental_injuries_teens',\n",
       " 'children_injured',\n",
       " 'children_killed',\n",
       " 'mass_shootings',\n",
       " 'mass_shootings_2013',\n",
       " 'mass_shootings_2014',\n",
       " 'mass_shootings_2015',\n",
       " 'officer_involved_shootings',\n",
       " 'teens_injured',\n",
       " 'teens_killed']"
      ]
     },
     "execution_count": 3,
     "metadata": {},
     "output_type": "execute_result"
    }
   ],
   "source": [
    "from glob import glob\n",
    "import os\n",
    "all_frames = [os.path.basename(path)\n",
    "              for path in glob('../EventRegistries/GunViolence/frames/*')\n",
    "              if not 'Icon' in path\n",
    "             ]\n",
    "all_frames"
   ]
  },
  {
   "cell_type": "markdown",
   "metadata": {},
   "source": [
    "## Load frames"
   ]
  },
  {
   "cell_type": "code",
   "execution_count": 4,
   "metadata": {
    "collapsed": false
   },
   "outputs": [],
   "source": [
    "frames = all_frames\n",
    "df = pandas.concat([pandas.read_pickle('../EventRegistries/GunViolence/frames/' + frame)\n",
    "                    for frame in frames])"
   ]
  },
  {
   "cell_type": "markdown",
   "metadata": {},
   "source": [
    "## Load look_up"
   ]
  },
  {
   "cell_type": "code",
   "execution_count": 5,
   "metadata": {
    "collapsed": false
   },
   "outputs": [],
   "source": [
    "look_up, parameters2incident_uris = look_up_utils.create_look_up(df)"
   ]
  },
  {
   "cell_type": "markdown",
   "metadata": {},
   "source": [
    "## Create table"
   ]
  },
  {
   "cell_type": "code",
   "execution_count": 6,
   "metadata": {
    "collapsed": false
   },
   "outputs": [
    {
     "name": "stdout",
     "output_type": "stream",
     "text": [
      "('location', 'time') 2\n",
      "('location', 'time') 3\n",
      "('location', 'participant') 2\n",
      "('location', 'participant') 3\n",
      "('participant', 'time') 2\n",
      "('participant', 'time') 3\n"
     ]
    },
    {
     "data": {
      "text/html": [
       "<table>\n",
       "<thead>\n",
       "<tr><th style=\"text-align: right;\">  </th><th>confusion                  </th><th style=\"text-align: right;\">  min_#_a_incidents</th><th style=\"text-align: right;\">  #cand</th><th>granularity                                                                                                                                                                                                </th><th>answer       </th><th>c2s_ratio           </th><th>a_avg_num_sources  </th><th>c_avg_num_sources  </th></tr>\n",
       "</thead>\n",
       "<tbody>\n",
       "<tr><td style=\"text-align: right;\"> 0</td><td>('location', 'time')       </td><td style=\"text-align: right;\">                  2</td><td style=\"text-align: right;\">   2549</td><td>Counter({('state', 'month'): 814, ('city', 'year'): 560, ('city', 'month'): 452, ('state', 'day'): 424, ('state', 'year'): 212, ('city', 'day'): 82, ('address', 'year'): 3, ('address', 'month'): 2})     </td><td>(2, 5.2, 155)</td><td>(0.5, 172.2, 1001.5)</td><td>(0.3, 2.2, 12.3)   </td><td>(1.6, 2.1, 4.5)    </td></tr>\n",
       "<tr><td style=\"text-align: right;\"> 1</td><td>('location', 'time')       </td><td style=\"text-align: right;\">                  3</td><td style=\"text-align: right;\">   1254</td><td>Counter({('state', 'month'): 545, ('city', 'year'): 300, ('state', 'year'): 196, ('city', 'month'): 133, ('state', 'day'): 72, ('city', 'day'): 8})                                                        </td><td>(3, 8.6, 155)</td><td>(10.3, 123.9, 666.0)</td><td>(0.3, 2.2, 12.3)   </td><td>(1.6, 2.1, 2.9)    </td></tr>\n",
       "<tr><td style=\"text-align: right;\"> 2</td><td>('location', 'participant')</td><td style=\"text-align: right;\">                  2</td><td style=\"text-align: right;\">    516</td><td>Counter({('state', 'first'): 216, ('state', 'last'): 213, ('city', 'last'): 42, ('city', 'first'): 37, ('city', 'full_name'): 4, ('state', 'full_name'): 4})                                               </td><td>(2, 2.3, 9)  </td><td>(0.0, 90.2, 191.0)  </td><td>(1.0, 3.3, 17.5)   </td><td>(0, 2.3, 4.8)      </td></tr>\n",
       "<tr><td style=\"text-align: right;\"> 3</td><td>('location', 'participant')</td><td style=\"text-align: right;\">                  3</td><td style=\"text-align: right;\">    114</td><td>Counter({('state', 'last'): 56, ('state', 'first'): 53, ('city', 'last'): 4, ('city', 'first'): 1})                                                                                                        </td><td>(3, 3.5, 9)  </td><td>(25.0, 73.2, 122.3) </td><td>(1.0, 3.2, 8.7)    </td><td>(1.6, 2.2, 3.2)    </td></tr>\n",
       "<tr><td style=\"text-align: right;\"> 4</td><td>('participant', 'time')    </td><td style=\"text-align: right;\">                  2</td><td style=\"text-align: right;\">   3302</td><td>Counter({('first', 'year'): 1403, ('last', 'year'): 1145, ('first', 'month'): 353, ('last', 'month'): 344, ('first', 'day'): 23, ('last', 'day'): 18, ('full_name', 'month'): 8, ('full_name', 'year'): 8})</td><td>(2, 3.9, 19) </td><td>(2.0, 336.8, 999.5) </td><td>(1.0, 3.2, 14.5)   </td><td>(1.6, 2.2, 3.2)    </td></tr>\n",
       "<tr><td style=\"text-align: right;\"> 5</td><td>('participant', 'time')    </td><td style=\"text-align: right;\">                  3</td><td style=\"text-align: right;\">   1740</td><td>Counter({('first', 'year'): 825, ('last', 'year'): 713, ('last', 'month'): 112, ('first', 'month'): 81, ('last', 'day'): 6, ('first', 'day'): 3})                                                          </td><td>(3, 5.7, 19) </td><td>(5.7, 270.9, 666.7) </td><td>(1.0, 3.2, 13.7)   </td><td>(1.7, 2.2, 3.2)    </td></tr>\n",
       "</tbody>\n",
       "</table>"
      ],
      "text/plain": [
       "<IPython.core.display.HTML object>"
      ]
     },
     "metadata": {},
     "output_type": "display_data"
    }
   ],
   "source": [
    "lists_of_lists = []\n",
    "wanted_attrs = ['answer', 'c2s_ratio', \n",
    "                #'a_avg_date_spread', \n",
    "                'a_avg_num_sources', \n",
    "                #'c_avg_date_spread', \n",
    "                'c_avg_num_sources']\n",
    "\n",
    "headers = ['confusion', 'min_#_a_incidents', '#cand', 'granularity'] + wanted_attrs \n",
    "\n",
    "for confusion_tuple in [('location', 'time'),\n",
    "                        ('location', 'participant'),\n",
    "                        ('participant', 'time'),\n",
    "                        ]:\n",
    "    for min_num_answer_incidents in range(2, 4):\n",
    "        print(confusion_tuple, min_num_answer_incidents)\n",
    "        candidates=createq_utils.lookup_and_merge(look_up, \n",
    "                                                  parameters2incident_uris,\n",
    "                                                  confusion_tuple,\n",
    "                                                  min_num_answer_incidents,\n",
    "                                                  df,\n",
    "                                                  debug=False,\n",
    "                                                  inspect_one=False) \n",
    "        \n",
    "        gran_distr = Counter([getattr(cand, 'granularity') \n",
    "                              for cand in candidates])\n",
    "        \n",
    "        one_row = [confusion_tuple, min_num_answer_incidents, len(candidates), gran_distr]\n",
    "        \n",
    "        for attr in wanted_attrs:\n",
    "            values = [getattr(cand, attr) for cand in candidates]\n",
    "            row_value = (round(min(values), 1), \n",
    "                         round(mean(values), 1), \n",
    "                         round(max(values), 1))\n",
    "            one_row.append(row_value)\n",
    "        \n",
    "        lists_of_lists.append(one_row)\n",
    "\n",
    "stats_df = pandas.DataFrame(lists_of_lists, columns=headers)\n",
    "table = tabulate(stats_df, headers='keys', tablefmt='html')\n",
    "display(HTML(table))"
   ]
  },
  {
   "cell_type": "code",
   "execution_count": 7,
   "metadata": {
    "collapsed": false
   },
   "outputs": [],
   "source": [
    "pandas.to_pickle(stats_df, 'stats.pickle')"
   ]
  }
 ],
 "metadata": {
  "kernelspec": {
   "display_name": "Python 3",
   "language": "python",
   "name": "python3"
  },
  "language_info": {
   "codemirror_mode": {
    "name": "ipython",
    "version": 3
   },
   "file_extension": ".py",
   "mimetype": "text/x-python",
   "name": "python",
   "nbconvert_exporter": "python",
   "pygments_lexer": "ipython3",
   "version": "3.6.0"
  }
 },
 "nbformat": 4,
 "nbformat_minor": 2
}
