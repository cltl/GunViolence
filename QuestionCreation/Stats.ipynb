{
 "cells": [
  {
   "cell_type": "code",
   "execution_count": 1,
   "metadata": {
    "collapsed": true
   },
   "outputs": [],
   "source": [
    "import pandas\n",
    "from tabulate import tabulate\n",
    "from IPython.core.display import display, HTML\n",
    "from statistics import mean\n",
    "from collections import Counter"
   ]
  },
  {
   "cell_type": "code",
   "execution_count": 2,
   "metadata": {
    "collapsed": false
   },
   "outputs": [],
   "source": [
    "import look_up_utils\n",
    "import createq_utils"
   ]
  },
  {
   "cell_type": "code",
   "execution_count": 3,
   "metadata": {
    "collapsed": false
   },
   "outputs": [
    {
     "data": {
      "text/plain": [
       "['accidental_deaths',\n",
       " 'accidental_deaths_children',\n",
       " 'accidental_deaths_teens',\n",
       " 'accidental_injuries',\n",
       " 'accidental_injuries_children',\n",
       " 'accidental_injuries_teens',\n",
       " 'children_injured',\n",
       " 'children_killed',\n",
       " 'mass_shootings',\n",
       " 'mass_shootings_2013',\n",
       " 'mass_shootings_2014',\n",
       " 'mass_shootings_2015',\n",
       " 'officer_involved_shootings',\n",
       " 'teens_injured',\n",
       " 'teens_killed']"
      ]
     },
     "execution_count": 3,
     "metadata": {},
     "output_type": "execute_result"
    }
   ],
   "source": [
    "from glob import glob\n",
    "import os\n",
    "all_frames = [os.path.basename(path)\n",
    "              for path in glob('../EventRegistries/GunViolence/frames/*')\n",
    "              if not 'Icon' in path\n",
    "             ]\n",
    "all_frames"
   ]
  },
  {
   "cell_type": "markdown",
   "metadata": {},
   "source": [
    "## Load frames"
   ]
  },
  {
   "cell_type": "code",
   "execution_count": 4,
   "metadata": {
    "collapsed": false
   },
   "outputs": [],
   "source": [
    "frames = all_frames\n",
    "df = pandas.concat([pandas.read_pickle('../EventRegistries/GunViolence/frames/' + frame)\n",
    "                    for frame in frames])\n",
    "df = df.drop_duplicates(subset='incident_uri')"
   ]
  },
  {
   "cell_type": "markdown",
   "metadata": {},
   "source": [
    "## Load look_up"
   ]
  },
  {
   "cell_type": "code",
   "execution_count": 5,
   "metadata": {
    "collapsed": false
   },
   "outputs": [],
   "source": [
    "look_up, parameters2incident_uris = look_up_utils.create_look_up(df)"
   ]
  },
  {
   "cell_type": "markdown",
   "metadata": {},
   "source": [
    "## Create table"
   ]
  },
  {
   "cell_type": "code",
   "execution_count": 6,
   "metadata": {
    "collapsed": false
   },
   "outputs": [
    {
     "name": "stdout",
     "output_type": "stream",
     "text": [
      "('location', 'time') 2\n",
      "('location', 'time') 3\n",
      "('location', 'participant') 2\n",
      "('location', 'participant') 3\n",
      "('participant', 'time') 2\n",
      "('participant', 'time') 3\n"
     ]
    },
    {
     "data": {
      "text/html": [
       "<table>\n",
       "<thead>\n",
       "<tr><th style=\"text-align: right;\">  </th><th>confusion                  </th><th style=\"text-align: right;\">  min_#_a_incidents</th><th style=\"text-align: right;\">  #cand</th><th>granularity                                                                                                                                                                                           </th><th>answer       </th><th>c2s_ratio          </th><th>a_avg_date_spread  </th><th>a_avg_num_sources  </th><th>c_avg_date_spread   </th><th>c_avg_num_sources  </th></tr>\n",
       "</thead>\n",
       "<tbody>\n",
       "<tr><td style=\"text-align: right;\"> 0</td><td>('location', 'time')       </td><td style=\"text-align: right;\">                  2</td><td style=\"text-align: right;\">   1975</td><td>Counter({('state', 'month'): 689, ('city', 'year'): 424, ('city', 'month'): 331, ('state', 'day'): 268, ('state', 'year'): 200, ('city', 'day'): 58, ('address', 'year'): 3, ('address', 'month'): 2})</td><td>(2, 5.0, 129)</td><td>(0.5, 134.7, 792.5)</td><td>(0, 120.7, 1488)   </td><td>(0.3, 1.7, 13.0)   </td><td>(0, 1326.1, 1569)   </td><td>(1.0, 1.7, 2.5)    </td></tr>\n",
       "<tr><td style=\"text-align: right;\"> 1</td><td>('location', 'time')       </td><td style=\"text-align: right;\">                  3</td><td style=\"text-align: right;\">    994</td><td>Counter({('state', 'month'): 450, ('city', 'year'): 233, ('state', 'year'): 182, ('city', 'month'): 95, ('state', 'day'): 30, ('city', 'day'): 4})                                                    </td><td>(3, 7.9, 129)</td><td>(7.3, 100.6, 526.7)</td><td>(0, 182.9, 1488)   </td><td>(0.3, 1.7, 6.3)    </td><td>(178, 1372.6, 1569) </td><td>(1.4, 1.7, 2.2)    </td></tr>\n",
       "<tr><td style=\"text-align: right;\"> 2</td><td>('location', 'participant')</td><td style=\"text-align: right;\">                  2</td><td style=\"text-align: right;\">    479</td><td>Counter({('state', 'last'): 207, ('state', 'first'): 199, ('city', 'last'): 41, ('city', 'first'): 32})                                                                                               </td><td>(2, 2.4, 8)  </td><td>(5.0, 72.8, 163.0) </td><td>(0, 558.2, 1472)   </td><td>(1.0, 2.4, 11.5)   </td><td>(479, 1462.3, 1538) </td><td>(1.3, 1.8, 2.6)    </td></tr>\n",
       "<tr><td style=\"text-align: right;\"> 3</td><td>('location', 'participant')</td><td style=\"text-align: right;\">                  3</td><td style=\"text-align: right;\">    124</td><td>Counter({('state', 'last'): 63, ('state', 'first'): 50, ('city', 'last'): 6, ('city', 'first'): 5})                                                                                                   </td><td>(3, 3.5, 8)  </td><td>(10.3, 59.2, 100.7)</td><td>(56, 746.2, 1412)  </td><td>(1.0, 2.4, 6.3)    </td><td>(1229, 1476.7, 1537)</td><td>(1.5, 1.8, 2.6)    </td></tr>\n",
       "<tr><td style=\"text-align: right;\"> 4</td><td>('participant', 'time')    </td><td style=\"text-align: right;\">                  2</td><td style=\"text-align: right;\">   3284</td><td>Counter({('first', 'year'): 1391, ('last', 'year'): 1142, ('first', 'month'): 355, ('last', 'month'): 346, ('first', 'day'): 27, ('last', 'day'): 23})                                                </td><td>(2, 4.1, 21) </td><td>(1.0, 271.6, 790.5)</td><td>(0, 229.6, 1412)   </td><td>(1.0, 2.4, 9.5)    </td><td>(1, 1232.5, 1569)   </td><td>(1.0, 1.8, 2.5)    </td></tr>\n",
       "<tr><td style=\"text-align: right;\"> 5</td><td>('participant', 'time')    </td><td style=\"text-align: right;\">                  3</td><td style=\"text-align: right;\">   1756</td><td>Counter({('first', 'year'): 825, ('last', 'year'): 732, ('last', 'month'): 118, ('first', 'month'): 75, ('last', 'day'): 3, ('first', 'day'): 3})                                                     </td><td>(3, 6.0, 21) </td><td>(5.3, 217.9, 526.3)</td><td>(4, 300.2, 1307)   </td><td>(1.0, 2.4, 9.3)    </td><td>(638, 1308.4, 1569) </td><td>(1.4, 1.8, 2.3)    </td></tr>\n",
       "</tbody>\n",
       "</table>"
      ],
      "text/plain": [
       "<IPython.core.display.HTML object>"
      ]
     },
     "metadata": {},
     "output_type": "display_data"
    }
   ],
   "source": [
    "lists_of_lists = []\n",
    "wanted_attrs = ['answer', 'c2s_ratio', \n",
    "                'a_avg_date_spread', \n",
    "                'a_avg_num_sources', \n",
    "                'c_avg_date_spread', \n",
    "                'c_avg_num_sources']\n",
    "\n",
    "headers = ['confusion', 'min_#_a_incidents', '#cand', 'granularity'] + wanted_attrs \n",
    "\n",
    "for confusion_tuple in [('location', 'time'),\n",
    "                        ('location', 'participant'),\n",
    "                        ('participant', 'time'),\n",
    "                        ]:\n",
    "    for min_num_answer_incidents in range(2, 4):\n",
    "        print(confusion_tuple, min_num_answer_incidents)\n",
    "        candidates=createq_utils.lookup_and_merge(look_up, \n",
    "                                                  parameters2incident_uris,\n",
    "                                                  confusion_tuple,\n",
    "                                                  min_num_answer_incidents,\n",
    "                                                  df,\n",
    "                                                  debug=False,\n",
    "                                                  inspect_one=False,\n",
    "                                                  set_attr_values=True) \n",
    "        \n",
    "        gran_distr = Counter([getattr(cand, 'granularity') \n",
    "                              for cand in candidates])\n",
    "        \n",
    "        one_row = [confusion_tuple, min_num_answer_incidents, len(candidates), gran_distr]\n",
    "        \n",
    "        for attr in wanted_attrs:\n",
    "            values = [getattr(cand, attr) for cand in candidates]\n",
    "            row_value = (round(min(values), 1), \n",
    "                         round(mean(values), 1), \n",
    "                         round(max(values), 1))\n",
    "            one_row.append(row_value)\n",
    "        \n",
    "        lists_of_lists.append(one_row)\n",
    "\n",
    "stats_df = pandas.DataFrame(lists_of_lists, columns=headers)\n",
    "table = tabulate(stats_df, headers='keys', tablefmt='html')\n",
    "display(HTML(table))"
   ]
  },
  {
   "cell_type": "code",
   "execution_count": 7,
   "metadata": {
    "collapsed": false
   },
   "outputs": [],
   "source": [
    "pandas.to_pickle(stats_df, 'stats.pickle')"
   ]
  }
 ],
 "metadata": {
  "kernelspec": {
   "display_name": "Python 3",
   "language": "python",
   "name": "python3"
  },
  "language_info": {
   "codemirror_mode": {
    "name": "ipython",
    "version": 3
   },
   "file_extension": ".py",
   "mimetype": "text/x-python",
   "name": "python",
   "nbconvert_exporter": "python",
   "pygments_lexer": "ipython3",
   "version": "3.6.0"
  }
 },
 "nbformat": 4,
 "nbformat_minor": 2
}
