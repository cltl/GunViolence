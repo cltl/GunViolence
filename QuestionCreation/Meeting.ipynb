{
 "cells": [
  {
   "cell_type": "code",
   "execution_count": 16,
   "metadata": {
    "collapsed": true
   },
   "outputs": [],
   "source": [
    "import json\n",
    "import pprint\n",
    "pp = pprint.PrettyPrinter(indent=4)"
   ]
  },
  {
   "cell_type": "code",
   "execution_count": 7,
   "metadata": {
    "collapsed": true
   },
   "outputs": [],
   "source": [
    "answers = json.load(open('trial/answers.json'))\n",
    "questions = json.load(open('trial/questions.json'))"
   ]
  },
  {
   "cell_type": "code",
   "execution_count": 21,
   "metadata": {},
   "outputs": [
    {
     "name": "stdout",
     "output_type": "stream",
     "text": [
      "\n",
      "QUESTION: 212\n",
      "{   'event_types': ['killing', 'injuring'],\n",
      "    'location': ['http://dbpedia.org/resource/New_Jersey', 'state'],\n",
      "    'subtask': 'S2',\n",
      "    'time': ['03/2017', 'month'],\n",
      "    'verbose_question': \"How many ['killing', 'injuring'] events happened in \"\n",
      "                        \"03/2017 (month) in ('New Jersey',) (state) ?\"}\n",
      "\n",
      "ANSWER: 2\n",
      "\n",
      "http://www.gunviolencearchive.org/incident/789639\n",
      "http://web.archive.org/web/20170308032803/http://www.trentonian.com/general-news/20170307/man-shot-tuesday-in-trenton\n",
      "http://web.archive.org/web/20170317215328/http://www.trentonian.com/general-news/20170317/second-man-arrested-in-trenton-shooting-that-wounded-15-year-old-leads-the-march-17-2017-police-blotter\n",
      "http://web.archive.org/web/20170323071329/http://www.trentonian.com/general-news/20170314/shooting-arrest-shoe-heist-and-drugs-march-14-2017-trentonian-police-blotter\n",
      "\n",
      "http://www.gunviolencearchive.org/incident/808658\n",
      "http://web.archive.org/web/20170331235804/http://abc7ny.com/news/2-people-shot-1-fatally-in-newark/1828419/\n"
     ]
    }
   ],
   "source": [
    "for q_id, answer_info in answers.items():\n",
    "    \n",
    "    # check if one incident has two or more documents\n",
    "    if any([len(answer_docs) >= 2\n",
    "            for answer_docs in answer_info['answer_docs'].values()]):\n",
    "        \n",
    "        \n",
    "        question = questions[q_id]\n",
    "        \n",
    "        # check for month\n",
    "        if question['time'][1] == 'month':\n",
    "            print()\n",
    "            print('QUESTION: %s' % q_id)\n",
    "            pp.pprint(question)\n",
    "            print()\n",
    "            print('ANSWER: %s' % answer_info['numerical_answer'])\n",
    "            \n",
    "            for incident_uri, urls in answer_info['answer_docs'].items():\n",
    "                print()\n",
    "                print(f'http://www.gunviolencearchive.org/incident/{incident_uri}')\n",
    "                for url in urls:\n",
    "                    print(url)\n",
    "            break\n",
    "        "
   ]
  },
  {
   "cell_type": "code",
   "execution_count": null,
   "metadata": {
    "collapsed": true
   },
   "outputs": [],
   "source": []
  }
 ],
 "metadata": {
  "kernelspec": {
   "display_name": "Python 3",
   "language": "python",
   "name": "python3"
  },
  "language_info": {
   "codemirror_mode": {
    "name": "ipython",
    "version": 3
   },
   "file_extension": ".py",
   "mimetype": "text/x-python",
   "name": "python",
   "nbconvert_exporter": "python",
   "pygments_lexer": "ipython3",
   "version": "3.6.0"
  }
 },
 "nbformat": 4,
 "nbformat_minor": 2
}
