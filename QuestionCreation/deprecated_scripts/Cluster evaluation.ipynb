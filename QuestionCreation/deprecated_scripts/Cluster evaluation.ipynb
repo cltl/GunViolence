{
 "cells": [
  {
   "cell_type": "markdown",
   "metadata": {},
   "source": [
    "# Cluster-based evaluation\n",
    "\n",
    "## focus on system output\n",
    "* option:\n",
    "    * we use V-measure (replace each mention with meaning label)\n",
    "    \n",
    "## focus on mapping system output and gold output\n",
    "* option:\n",
    "    * we map highest occuring cluster using whatever"
   ]
  },
  {
   "cell_type": "markdown",
   "metadata": {},
   "source": [
    "### [(Adjusted) Rand index](https://en.wikipedia.org/wiki/Rand_index)\n",
    "\n",
    "ASSUMPTION: you know which system cluster to compare against which gold cluster\n",
    "\n",
    "The Rand Index (RI) of a clustering C is a measure\n",
    "of clustering agreement which determines the\n",
    "percentage of correctly bucketed snippet pairs across\n",
    "the two clusterings C and G.\n",
    "\n",
    "$ RI(C, G) = \\frac{TP + TN}{TP + FP + FN + TN} $\n",
    "\n",
    "Adjusted Rand Index (ARI) is a development of\n",
    "Rand Index which corrects the RI for chance agreement\n",
    "and makes it vary according to expectaction\n",
    "\n",
    "$ ARI(C, G) = \\frac{RI(C, G) − E(RI(C, G))}{max RI(C, G) − E(RI(C, G))}$\n",
    "\n",
    "Used in:\n",
    "* [sem2013 task 11](http://www.aclweb.org/anthology/S13-2035)"
   ]
  },
  {
   "cell_type": "markdown",
   "metadata": {},
   "source": [
    "### [Jaccard index](https://en.wikipedia.org/wiki/Jaccard_index)\n",
    "\n",
    "ASSUMPTION: you know which system cluster to compare against which gold cluster\n",
    "    \n",
    "Jaccard Index (JI) is a measure which takes into\n",
    "account only the snippet pairs which are in the same\n",
    "cluster both in C and G, i.e., the true positives (TP),\n",
    "while neglecting true negatives (TN), which are the\n",
    "vast majority of cases.\n",
    "\n",
    "$ JI(C, G) = \\frac{TP}{TP + FP + FN}$\n",
    "\n",
    "Used in:\n",
    "* [sem2013 task 11](http://www.aclweb.org/anthology/S13-2035)\n",
    "* [sem2013 task 13](http://anthology.aclweb.org/S/S13/S13-2049.pdf)"
   ]
  },
  {
   "cell_type": "markdown",
   "metadata": {},
   "source": [
    "### [F1 measure]\n",
    "\n",
    "ASSUMPTION: you know which system cluster to compare against which gold cluster\n",
    "\n",
    "see [sem2013 task 11 end of section 3.1](http://www.aclweb.org/anthology/S13-2035)\n",
    "\n",
    "Used in:\n",
    "* [sem2013 task 11](http://www.aclweb.org/anthology/S13-2035)"
   ]
  },
  {
   "cell_type": "markdown",
   "metadata": {},
   "source": [
    "### [Fuzzy B-Cubed]\n",
    "\n",
    "might be interesting\n",
    "\n",
    "see [sem2013 task 13 Section 3.2.1](http://anthology.aclweb.org/S/S13/S13-2049.pdf)\n",
    "Used in:\n",
    "* [sem2013 task 13](http://anthology.aclweb.org/S/S13/S13-2049.pdf)"
   ]
  },
  {
   "cell_type": "markdown",
   "metadata": {},
   "source": [
    "### [Fuzzy Normalized Mutual Information]\n",
    "\n",
    "might be interesting \n",
    "\n",
    "see [sem2013 task 13 Section 3.2.2](http://anthology.aclweb.org/S/S13/S13-2049.pdf)\n",
    "\n",
    "Used in:\n",
    "* [sem2013 task 13](http://anthology.aclweb.org/S/S13/S13-2049.pdf)"
   ]
  },
  {
   "cell_type": "markdown",
   "metadata": {},
   "source": [
    "### [V-measure](http://aclweb.org/anthology/D/D07/D07-1043.pdf)\n",
    "\n",
    "http://aclweb.org/anthology/D/D07/D07-1043.pdf\n",
    "\n",
    "implemented in [sklearn](http://scikit-learn.org/stable/modules/generated/sklearn.metrics.v_measure_score.html)"
   ]
  },
  {
   "cell_type": "markdown",
   "metadata": {},
   "source": [
    "### Purity"
   ]
  },
  {
   "cell_type": "markdown",
   "metadata": {},
   "source": [
    "### Entropy"
   ]
  },
  {
   "cell_type": "code",
   "execution_count": null,
   "metadata": {
    "collapsed": true
   },
   "outputs": [],
   "source": []
  },
  {
   "cell_type": "code",
   "execution_count": null,
   "metadata": {
    "collapsed": true
   },
   "outputs": [],
   "source": []
  },
  {
   "cell_type": "code",
   "execution_count": null,
   "metadata": {
    "collapsed": true
   },
   "outputs": [],
   "source": []
  }
 ],
 "metadata": {
  "anaconda-cloud": {},
  "kernelspec": {
   "display_name": "Python [Root]",
   "language": "python",
   "name": "Python [Root]"
  },
  "language_info": {
   "codemirror_mode": {
    "name": "ipython",
    "version": 3
   },
   "file_extension": ".py",
   "mimetype": "text/x-python",
   "name": "python",
   "nbconvert_exporter": "python",
   "pygments_lexer": "ipython3",
   "version": "3.5.3"
  }
 },
 "nbformat": 4,
 "nbformat_minor": 2
}
