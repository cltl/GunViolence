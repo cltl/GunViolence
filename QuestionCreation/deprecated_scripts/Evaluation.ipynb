{
 "cells": [
  {
   "cell_type": "markdown",
   "metadata": {},
   "source": [
    "# Discussion points\n",
    "* in the current approach, we do not do micro averages\n",
    "* how we map from **a set of system mentions** to the **set of gold mentions**"
   ]
  },
  {
   "cell_type": "markdown",
   "metadata": {},
   "source": [
    "# Evaluation\n",
    "Assuming, questions will always be **how many x?**\n",
    "* the **gold** consists of:\n",
    "    * for all questions\n",
    "        * incident identifier(s)\n",
    "        * documents belonging to that incident identifier\n",
    "    * for the manully annotated subset\n",
    "        * mentions\n",
    "        \n",
    "* the **system** consists of \n",
    "    * sets of mentions\n",
    "        * length indicates system answer"
   ]
  },
  {
   "cell_type": "code",
   "execution_count": 11,
   "metadata": {
    "collapsed": true
   },
   "outputs": [],
   "source": [
    "gold = {('d1.s24.t15', 'd1.s24.t15'),\n",
    "        ('d1.s28.t11', 'd1.s28.t11'),\n",
    "        ('d1.s36.t5', 'd1.s36.t5'),\n",
    "        ('d2.s05.t16', 'd2.s5.t16'),\n",
    "        ('d2.s32.t8', 'd2.s32.t8'),\n",
    "        ('d3.s11.t18', 'd3.s11.t18'),\n",
    "        ('d3.s19.t19', 'd3.s19.t19'),\n",
    "        ('d3.s22.t5', 'd3.s22.t5'),\n",
    "        ('d3.s23.t21', 'd3.s23.t21'),\n",
    "        ('d4.s11.t12', 'd4.s11.t12')}\n",
    "gold_number = 2\n",
    "system = {('d1.s24.t15', 'd1.s24.t15'),\n",
    "          ('d1.s28.t11', 'd1.s28.t11'),\n",
    "          ('d1.s36.t5', 'd1.s36.t5'),\n",
    "          ('d2.s5.t16', 'd2.s5.t16'),\n",
    "          ('d2.s32.t8', 'd2.s32.t8'),\n",
    "          ('d3.s11.t18', 'd3.s11.t18'),\n",
    "          ('d3.s19.t19', 'd3.s19.t19'),\n",
    "          ('d4.s11.t12', 'd4.s11.t12'),\n",
    "          ('d5.s11.t12', 'd5.s11.t12'),\n",
    "          ('d6.s11.t12', 'd6.s11.t12'),\n",
    "          }\n",
    "system_number = 2"
   ]
  },
  {
   "cell_type": "code",
   "execution_count": 12,
   "metadata": {
    "collapsed": true
   },
   "outputs": [],
   "source": [
    "def extract_ids_at_level(mentions, level=None):\n",
    "    \"\"\"\n",
    "    extract identifiers based on level: document | sentence | token \n",
    "    \n",
    "    ASSUMPTION: start and end of mention is in same sentence\n",
    "    \n",
    "    :param set mentions: set of mentions, e.g. \n",
    "    ('d001.s024.t015', 'd001.s024.t015')\n",
    "    :param level: document | sentence | token\n",
    "    \"\"\"\n",
    "    if level == 'token':\n",
    "        return mentions\n",
    "    \n",
    "    output = set()\n",
    "    for id1, id2 in mentions:\n",
    "        doc_id, sent_id, token_id = id1.split('.')\n",
    "        sent_id = '.'.join([doc_id, sent_id])\n",
    "        \n",
    "        if level == 'document':\n",
    "            output.add(doc_id)\n",
    "        elif level == 'sentence':\n",
    "            output.add(sent_id)\n",
    "    \n",
    "    return output"
   ]
  },
  {
   "cell_type": "code",
   "execution_count": 20,
   "metadata": {
    "collapsed": false
   },
   "outputs": [
    {
     "name": "stdout",
     "output_type": "stream",
     "text": [
      "\n",
      "level document\n",
      "gold ['d1', 'd2', 'd3', 'd4']\n",
      "system ['d1', 'd2', 'd3', 'd4', 'd5', 'd6']\n",
      "\n",
      "precision 0.67\n",
      "recall 1.0\n"
     ]
    }
   ],
   "source": [
    "level = 'document'\n",
    "system_info = extract_ids_at_level(system, level=level)\n",
    "gold_info = extract_ids_at_level(gold, level=level)\n",
    "\n",
    "overlap = system_info & gold_info\n",
    "precision = len(overlap) / len(system_info)\n",
    "recall = len(overlap) / len(gold_info)\n",
    "\n",
    "print()\n",
    "print('level', level)\n",
    "print('gold', sorted(gold_info))\n",
    "print('system', sorted(system_info))\n",
    "print()\n",
    "print('precision', round(precision, 2))\n",
    "print('recall', round(recall, 2))"
   ]
  },
  {
   "cell_type": "code",
   "execution_count": null,
   "metadata": {
    "collapsed": true
   },
   "outputs": [],
   "source": []
  }
 ],
 "metadata": {
  "anaconda-cloud": {},
  "kernelspec": {
   "display_name": "Python [Root]",
   "language": "python",
   "name": "Python [Root]"
  },
  "language_info": {
   "codemirror_mode": {
    "name": "ipython",
    "version": 3
   },
   "file_extension": ".py",
   "mimetype": "text/x-python",
   "name": "python",
   "nbconvert_exporter": "python",
   "pygments_lexer": "ipython3",
   "version": "3.5.3"
  }
 },
 "nbformat": 4,
 "nbformat_minor": 2
}
