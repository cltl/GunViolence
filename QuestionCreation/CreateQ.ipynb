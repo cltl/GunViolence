{
 "cells": [
  {
   "cell_type": "code",
   "execution_count": 1,
   "metadata": {
    "collapsed": true
   },
   "outputs": [],
   "source": [
    "import pandas\n",
    "from IPython.display import clear_output"
   ]
  },
  {
   "cell_type": "code",
   "execution_count": 2,
   "metadata": {
    "collapsed": true
   },
   "outputs": [],
   "source": [
    "from classes import Question\n",
    "import classes\n",
    "import look_up_utils\n",
    "import createq_utils\n",
    "from display_utils import display_question"
   ]
  },
  {
   "cell_type": "markdown",
   "metadata": {},
   "source": [
    "## Set parameter values"
   ]
  },
  {
   "cell_type": "code",
   "execution_count": 3,
   "metadata": {},
   "outputs": [
    {
     "name": "stdout",
     "output_type": "stream",
     "text": [
      "['mass_shootings', 'mass_shootings_2013', 'mass_shootings_2014', 'mass_shootings_2015']\n"
     ]
    }
   ],
   "source": [
    "from glob import glob\n",
    "import os\n",
    "frame_paths = [os.path.basename(path)\n",
    "              for path in glob('../EventRegistries/GunViolenceArchive/frames/mass*')\n",
    "              if not 'Icon' in path\n",
    "             ]\n",
    "\n",
    "add_fr = False\n",
    "if add_fr:\n",
    "    frame_paths.append('../EventRegistries/FireRescue1/firerescue.pickle')\n",
    "\n",
    "print(frame_paths)\n",
    "\n",
    "df = pandas.concat([pandas.read_pickle('../EventRegistries/GunViolenceArchive/frames/' + frame)\n",
    "                    for frame in frame_paths])\n",
    "df = df.drop_duplicates(subset='incident_uri')\n",
    "\n",
    "confusion_tuple = ('location', 'participant')\n",
    "min_num_answer_incidents = 2"
   ]
  },
  {
   "cell_type": "markdown",
   "metadata": {},
   "source": [
    "## Load frames"
   ]
  },
  {
   "cell_type": "markdown",
   "metadata": {},
   "source": [
    "## Load look_up"
   ]
  },
  {
   "cell_type": "code",
   "execution_count": 4,
   "metadata": {
    "collapsed": true
   },
   "outputs": [],
   "source": [
    "look_up, parameters2incident_uris = look_up_utils.create_look_up(df, \n",
    "                                                                 discard_ambiguous_names=True,\n",
    "                                                                 allowed_incident_years={2013, 2014, 2015, 2016, 2017},\n",
    "                                                                 check_name_in_article=True)"
   ]
  },
  {
   "cell_type": "markdown",
   "metadata": {},
   "source": [
    "## Load questions"
   ]
  },
  {
   "cell_type": "code",
   "execution_count": 5,
   "metadata": {},
   "outputs": [
    {
     "name": "stdout",
     "output_type": "stream",
     "text": [
      "{('state', 'last'), ('state', 'first'), ('city', 'first'), ('city', 'last')}\n"
     ]
    }
   ],
   "source": [
    "candidates=createq_utils.lookup_and_merge(look_up, \n",
    "                                          parameters2incident_uris,\n",
    "                                          confusion_tuple,\n",
    "                                          min_num_answer_incidents,\n",
    "                                          df,\n",
    "                                          debug=False,\n",
    "                                          inspect_one=False,\n",
    "                                          set_attr_values=True) \n",
    "print({c.granularity for c in candidates})"
   ]
  },
  {
   "cell_type": "markdown",
   "metadata": {
    "collapsed": true
   },
   "source": [
    "## Display a question"
   ]
  },
  {
   "cell_type": "code",
   "execution_count": 6,
   "metadata": {},
   "outputs": [
    {
     "name": "stdout",
     "output_type": "stream",
     "text": [
      "the available attributes are:\n",
      "\n",
      "a_avg_date_spread\n",
      "a_avg_num_sources\n",
      "a_sources\n",
      "answer\n",
      "answer_incident_uris\n",
      "c2s_ratio\n",
      "c_avg_date_spread\n",
      "c_avg_num_sources\n",
      "c_sources\n",
      "confusion_factors\n",
      "confusion_incident_uris\n",
      "gold_loc_meaning\n",
      "granularity\n",
      "gvdb_annotations\n",
      "loc_oa\n",
      "location_confusion\n",
      "meanings\n",
      "num_a_sources\n",
      "num_both_sf_overlap\n",
      "num_c_sources\n",
      "num_gvdb_part_annotations\n",
      "oa\n",
      "oa_info\n",
      "participant_confusion\n",
      "q_id\n",
      "question\n",
      "set_all_attributes\n",
      "sf\n",
      "time_confusion\n",
      "time_oa\n",
      "to_conll\n"
     ]
    }
   ],
   "source": [
    "print('the available attributes are:\\n')\n",
    "for candidate in candidates:\n",
    "    for prop in dir(candidate):\n",
    "        if all([not prop.startswith('_'),\n",
    "                prop not in {'debug', 'confusion_df', 'answer_df'}]):\n",
    "            print(prop)\n",
    "    break"
   ]
  },
  {
   "cell_type": "code",
   "execution_count": null,
   "metadata": {},
   "outputs": [
    {
     "data": {
      "text/html": [
       "<table>\n",
       "<thead>\n",
       "<tr><th>                         </th><th>0                                                                                                                               </th></tr>\n",
       "</thead>\n",
       "<tbody>\n",
       "<tr><td>q_id                     </td><td>60                                                                                                                              </td></tr>\n",
       "<tr><td>question                 </td><td>How many killing AND injuring events happened in ('Illinois',) (state) that involve the name Brown (last) ?                     </td></tr>\n",
       "<tr><td>granularity              </td><td>('state', 'last')                                                                                                               </td></tr>\n",
       "<tr><td>answer_incident_uris     </td><td>{'676686', '422064'}                                                                                                            </td></tr>\n",
       "<tr><td>num_both_sf_overlap      </td><td>2                                                                                                                               </td></tr>\n",
       "<tr><td>meanings                 </td><td>defaultdict(<class 'set'>, {(('Illinois',), ('676686', 'Brown')): {'676686'}, (('Illinois',), ('422064', 'Brown')): {'422064'}})</td></tr>\n",
       "<tr><td>answer                   </td><td>2                                                                                                                               </td></tr>\n",
       "<tr><td>c2s_ratio                </td><td>68.0                                                                                                                            </td></tr>\n",
       "<tr><td>location_confusion       </td><td>True                                                                                                                            </td></tr>\n",
       "<tr><td>time_confusion           </td><td>False                                                                                                                           </td></tr>\n",
       "<tr><td>participant_confusion    </td><td>True                                                                                                                            </td></tr>\n",
       "<tr><td>a_avg_num_sources        </td><td>2.5                                                                                                                             </td></tr>\n",
       "<tr><td>a_avg_date_spread        </td><td>388                                                                                                                             </td></tr>\n",
       "<tr><td>c_avg_num_sources        </td><td>1.54                                                                                                                            </td></tr>\n",
       "<tr><td>c_avg_date_spread        </td><td>1520                                                                                                                            </td></tr>\n",
       "<tr><td>num_gvdb_part_annotations</td><td>0                                                                                                                               </td></tr>\n",
       "<tr><td>loc_oa                   </td><td>1                                                                                                                               </td></tr>\n",
       "<tr><td>time_oa                  </td><td>0                                                                                                                               </td></tr>\n",
       "</tbody>\n",
       "</table>"
      ],
      "text/plain": [
       "<IPython.core.display.HTML object>"
      ]
     },
     "metadata": {},
     "output_type": "display_data"
    }
   ],
   "source": [
    "wanted_attrs = [\n",
    "    'q_id',\n",
    "    'question',\n",
    "    'granularity',\n",
    "    'answer_incident_uris',\n",
    "    'num_both_sf_overlap',\n",
    "    #'confusion_incident_uris',\n",
    "    'meanings',\n",
    "    'answer',\n",
    "    'c2s_ratio',\n",
    "    'location_confusion',\n",
    "    'time_confusion',\n",
    "    'participant_confusion',\n",
    "    'a_avg_num_sources',\n",
    "    'a_avg_date_spread',\n",
    "    'c_avg_num_sources',\n",
    "    'c_avg_date_spread',\n",
    "    'num_gvdb_part_annotations',\n",
    "    'loc_oa',\n",
    "    'time_oa'\n",
    "]\n",
    "\n",
    "for candidate in candidates:\n",
    "    clear_output()\n",
    "    display_question(candidate, wanted_attrs)\n",
    "    break\n",
    "    #input('next?')"
   ]
  },
  {
   "cell_type": "code",
   "execution_count": null,
   "metadata": {},
   "outputs": [],
   "source": [
    "for candidate in candidates:\n",
    "    candidate.to_conll(candidate.answer_df)\n",
    "    candidate.to_conll(candidate.confusion_df)"
   ]
  },
  {
   "cell_type": "code",
   "execution_count": null,
   "metadata": {
    "collapsed": true
   },
   "outputs": [],
   "source": []
  }
 ],
 "metadata": {
  "anaconda-cloud": {},
  "kernelspec": {
   "display_name": "Python 3",
   "language": "python",
   "name": "python3"
  },
  "language_info": {
   "codemirror_mode": {
    "name": "ipython",
    "version": 3
   },
   "file_extension": ".py",
   "mimetype": "text/x-python",
   "name": "python",
   "nbconvert_exporter": "python",
   "pygments_lexer": "ipython3",
   "version": "3.6.0"
  }
 },
 "nbformat": 4,
 "nbformat_minor": 2
}
