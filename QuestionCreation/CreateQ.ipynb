{
 "cells": [
  {
   "cell_type": "code",
   "execution_count": 1,
   "metadata": {
    "collapsed": true
   },
   "outputs": [],
   "source": [
    "import pickle\n",
    "import pandas\n",
    "from collections import namedtuple"
   ]
  },
  {
   "cell_type": "code",
   "execution_count": 2,
   "metadata": {
    "collapsed": true
   },
   "outputs": [],
   "source": [
    "import look_up_utils"
   ]
  },
  {
   "cell_type": "code",
   "execution_count": 3,
   "metadata": {
    "collapsed": true
   },
   "outputs": [],
   "source": [
    "from tabulate import tabulate\n",
    "from IPython.core.display import display, HTML"
   ]
  },
  {
   "cell_type": "markdown",
   "metadata": {},
   "source": [
    "## Load frames"
   ]
  },
  {
   "cell_type": "code",
   "execution_count": 4,
   "metadata": {
    "collapsed": false
   },
   "outputs": [],
   "source": [
    "frames = ['mass_shootings',\n",
    "          'mass_shootings_2013',\n",
    "          'mass_shootings_2014',\n",
    "          'mass_shootings_2015']\n",
    "look_up, parameters2incident_uris = look_up_utils.create_look_up(frames)"
   ]
  },
  {
   "cell_type": "code",
   "execution_count": 5,
   "metadata": {
    "collapsed": true
   },
   "outputs": [],
   "source": [
    "df = pandas.concat([pandas.read_pickle('../EventRegistries/GunViolence/frames/' + frame)\n",
    "                    for frame in frames])"
   ]
  },
  {
   "cell_type": "markdown",
   "metadata": {},
   "source": [
    "## Set parameter values"
   ]
  },
  {
   "cell_type": "code",
   "execution_count": 6,
   "metadata": {
    "collapsed": false
   },
   "outputs": [],
   "source": [
    "CONFUSION_TUPLE=('location', 'participant')\n",
    "MIN_CONFUSION=3"
   ]
  },
  {
   "cell_type": "code",
   "execution_count": 7,
   "metadata": {
    "collapsed": false
   },
   "outputs": [
    {
     "name": "stdout",
     "output_type": "stream",
     "text": [
      "{('city', 'last'), ('state', 'first'), ('city', 'full_name'), ('state', 'full_name'), ('city', 'first'), ('state', 'last')}\n"
     ]
    }
   ],
   "source": [
    "def lookup_and_merge(look_up, \n",
    "                     parameters2incident_uris, \n",
    "                     confusion_key):\n",
    "    \"\"\"\n",
    "    \n",
    "    :param dict look_up: see look_up_utils.py\n",
    "    :param dict parameters2incident_uris: see look_up_utils.py\n",
    "    :param tuple confusion_key: see constant CONFUSION_TUPLE\n",
    "    \n",
    "    :rtype: list\n",
    "    :return list of namedtuple instances (each representing a candidate)\n",
    "    \"\"\"\n",
    "    nice_combos=[]\n",
    "    Candidate=namedtuple('Candidate', 'granularity sf meanings num_answer_e answer_incidents_uris noise_incident_uris oa')\n",
    "    for granularity in (look_up[confusion_key]):\n",
    "        for sf in look_up[confusion_key][granularity]:\n",
    "            len_combo=len(look_up[confusion_key][granularity][sf])\n",
    "            meanings=look_up[confusion_key][granularity][sf]\n",
    "            \n",
    "            # obtain answers uris\n",
    "            answer_incidents_uris = parameters2incident_uris[confusion_key][granularity][sf]\n",
    "            \n",
    "            # obtain noise uris\n",
    "            total_incident_uris={0:set(), 1:set()}\n",
    "            noise_incident_uris={0:set(), 1:set()}\n",
    "            oa={0:set(), 1:set()}\n",
    "#            total_incident_uris_part=set()\n",
    "            for index in [0,1]:\n",
    "                confusion=confusion_key[index]\n",
    "                all_meanings=look_up[(confusion,)][granularity[index]][sf[index]]\n",
    "                oa[index]=len(all_meanings)\n",
    "                for set_of_m in all_meanings.values():\n",
    "                    total_incident_uris[index].update(set_of_m)\n",
    "                noise_incident_uris[index] = total_incident_uris[index] - answer_incidents_uris\n",
    "            \n",
    "            if len_combo >= MIN_CONFUSION:\n",
    "                c=Candidate(granularity=granularity, \n",
    "                            sf=sf, \n",
    "                            meanings=meanings, \n",
    "                            num_answer_e=len_combo, \n",
    "                            answer_incidents_uris=answer_incidents_uris,\n",
    "                            noise_incident_uris=noise_incident_uris,\n",
    "                            oa=oa)\n",
    "                nice_combos.append(c)\n",
    "    return nice_combos\n",
    "\n",
    "candidates=lookup_and_merge(look_up, parameters2incident_uris,\n",
    "                            CONFUSION_TUPLE)\n",
    "print({c.granularity for c in candidates})"
   ]
  },
  {
   "cell_type": "code",
   "execution_count": 8,
   "metadata": {
    "collapsed": true
   },
   "outputs": [],
   "source": [
    "def incident_uris_stats(df, set_of_uris):\n",
    "    \"\"\"\n",
    "    compute stats for set of uris:\n",
    "    \n",
    "    :param df: gunviolence dataframe\n",
    "    :param set set_of_uris: uris of gunviolence incidents\n",
    "    \n",
    "    :rtype: tuple\n",
    "    :return (num_of_incidents,\n",
    "             num_of_sources,\n",
    "             avg_num_of_sources,\n",
    "             urls,\n",
    "             )\n",
    "    \"\"\"\n",
    "    if type(set_of_uris) == dict:\n",
    "        set_of_uris = set_of_uris[0].union(set_of_uris[1])\n",
    "    num_of_incidents = len(set_of_uris)\n",
    "    \n",
    "    results = df.query('incident_uri in @set_of_uris')\n",
    "    sources = set()\n",
    "    for index, row in results.iterrows():\n",
    "        sources.add(row['source_url'])\n",
    "        sources.update(row['incident_sources'])\n",
    "    \n",
    "    num_sources = len(sources)\n",
    "    avg = -1\n",
    "    if len(set_of_uris):\n",
    "        avg = num_sources / len(set_of_uris)\n",
    "    \n",
    "    return (num_of_incidents, num_sources, avg, sources)"
   ]
  },
  {
   "cell_type": "code",
   "execution_count": 9,
   "metadata": {
    "collapsed": false
   },
   "outputs": [],
   "source": [
    "def compute_num_docs(include, df):\n",
    "#    include=('454788', '419250')\n",
    "    results=df.query('incident_uri in @include')\n",
    "    sources = set()\n",
    "    \n",
    "    print(include)\n",
    "    for index, row in results.iterrows():\n",
    "        sources.add(row['source_url'])\n",
    "        sources.update(row['incident_sources'])\n",
    "        \n",
    "    num_sources = len(sources)\n",
    "    avg= num_sources / len(include)\n",
    "    \n",
    "    print()\n",
    "    for source in sources:\n",
    "        print(source)\n",
    "    print(\"Average number of documents per incident: %f\" % avg)\n",
    "    return avg\n",
    "\n",
    "#compute_num_docs(('454788', '419250'), df)"
   ]
  },
  {
   "cell_type": "code",
   "execution_count": 16,
   "metadata": {
    "collapsed": false
   },
   "outputs": [],
   "source": [
    "def compute_metrics(c, look_up, confusion_key, index):\n",
    "    my_set=set()\n",
    "    confusion=confusion_key[index]\n",
    "    meanings=look_up[(confusion,)][c.granularity[index]][c.sf[index]]\n",
    "    for m in meanings.values():\n",
    "        for incident in m:\n",
    "            my_set.add(incident)\n",
    "#    print(c.sf[index], my_set)\n",
    "    num_noisy_e= len(my_set)\n",
    "    ns_ratio=num_noisy_e/c.num_answer_e\n",
    "    oa=len(meanings)\n",
    "    print('The %s %s has %d meanings over %d incidents.' % (confusion, c.sf[index], oa, num_noisy_e))\n",
    "    #print('The %s %s has %d meanings over %d incidents. OA is %d, Noise-to-Signal ratio is %f' % (confusion, c.sf[index],oa,num_noisy_e, oa, ns_ratio))\n",
    "    return ns_ratio, oa\n",
    "\n",
    "\n",
    "            \n",
    "    \n",
    "def compute_confusion_metrics(look_up, confusion_key, candidates, df):\n",
    "    \n",
    "    list_of_lists = []\n",
    "    headers = ['q_id',\n",
    "               'question',\n",
    "               'answer',\n",
    "               'OA_part',\n",
    "               'OA_loc',\n",
    "               'A_num_of_incidents', 'A_#_sources', 'A_avg_#_sources', \n",
    "               'N_num_of_incidents', 'N_#_sources', 'N_avg_#_sources',\n",
    "               'N2S',\n",
    "              'A_sources',\n",
    "              'N_sources'\n",
    "               ]\n",
    "    \n",
    "    for q_id, c in enumerate(candidates, 1):\n",
    "        n=incident_uris_stats(df, c.noise_incident_uris)\n",
    "        a=incident_uris_stats(df, c.answer_incidents_uris)\n",
    "        \n",
    "        oa_loc = c.oa[0]\n",
    "        oa_part = c.oa[1]\n",
    "        \n",
    "        n2s = (len(c.noise_incident_uris[0])+len(c.noise_incident_uris[1]))/len(c.answer_incidents_uris)\n",
    "        \n",
    "        question = \"Q: How many killing events that involve %s happened in %s?\" % (c.sf[1], c.sf[0])\n",
    "        answer = c.num_answer_e\n",
    "        \n",
    "        one_row = [\n",
    "            q_id,\n",
    "            question,\n",
    "            answer,\n",
    "            oa_part,\n",
    "            oa_loc,\n",
    "            a[0],\n",
    "            a[1],\n",
    "            a[2],\n",
    "            n[0],\n",
    "            n[1],\n",
    "            n[2],\n",
    "            n2s,\n",
    "            a[3],\n",
    "            n[3],\n",
    "            ]\n",
    "        list_of_lists.append(one_row)\n",
    "            \n",
    "    question_df = pandas.DataFrame(list_of_lists, columns=headers)\n",
    "    return question_df\n",
    "\n",
    "question_df = compute_confusion_metrics(look_up,CONFUSION_TUPLE,candidates, df)"
   ]
  },
  {
   "cell_type": "code",
   "execution_count": 17,
   "metadata": {
    "collapsed": false
   },
   "outputs": [
    {
     "data": {
      "text/plain": [
       "101"
      ]
     },
     "execution_count": 17,
     "metadata": {},
     "output_type": "execute_result"
    }
   ],
   "source": [
    "len(question_df)"
   ]
  },
  {
   "cell_type": "code",
   "execution_count": 15,
   "metadata": {
    "collapsed": false,
    "scrolled": false
   },
   "outputs": [
    {
     "name": "stdout",
     "output_type": "stream",
     "text": [
      "\n",
      "Q: How many killing events that involve Williams happened in Jacksonville?\n",
      "q_id                                                                  1\n",
      "question              Q: How many killing events that involve Willia...\n",
      "answer                                                                3\n",
      "OA_part                                                              52\n",
      "OA_loc                                                                1\n",
      "A_num_of_incidents                                                    3\n",
      "A_#_sources                                                          11\n",
      "A_avg_#_sources                                                 3.66667\n",
      "N_num_of_incidents                                                   55\n",
      "N_#_sources                                                         168\n",
      "N_avg_#_sources                                                 3.05455\n",
      "N2S                                                             18.3333\n",
      "A_sources             {http://jacksonville.com/news/2016-11-13/polic...\n",
      "N_sources             {http://www.whec.com/news/stories/S3919496.sht...\n",
      "Name: 0, dtype: object\n",
      "http://jacksonville.com/news/2016-11-13/police-identify-infant-2-women-killed-jacksonville-shooting-sunday-near-cleveland\n",
      "http://www.firstcoastnews.com/news/local/data/crime/reports-multiple-people-shot-in-brentwood/296381367\n",
      "http://www.news4jax.com/news/undetermined-death-on-cleveland-road\n",
      "http://jacksonville.com/news/2016-11-13/several-people-reported-shot-separate-sites-north-myrle-avenue-and-cleveland-road\n",
      "http://www.news4jax.com/news/jso-swat-team-responding-to-a-call-in-moncrief-park\n",
      "http://jacksonville.com/breaking-news/2013-11-08/story/surveillance-footage-may-have-hints-about-vehicle-involved\n",
      "http://www.actionnewsjax.com/news/local/jacksonville-police-responding-to-reported-shooting-in-moncrief/466895692\n",
      "http://www.news4jax.com/news/four-people-shot-in-brentwood-neighborhood_\n",
      "http://www.firstcoastnews.com/news/crime/mother-says-18-year-old-shooting-victim-was-pregant/352845236\n",
      "http://www.fox30jax.com/news/local/jfrd-4-being-treated-for-gunshot-wounds-in-jacksonvilles-brentwood-neighborhood/422314885\n",
      "http://www.news4jax.com/news/four-people-shot-in-brentwood-neighborhood\n"
     ]
    }
   ],
   "source": [
    "#table = tabulate(question_df, headers='keys', tablefmt='html')\n",
    "#display(HTML(table))\n",
    "for index, row in question_df.iterrows():\n",
    "    print()\n",
    "    print(row['question'])\n",
    "    print(row)\n",
    "    for source_url in row['A_sources']:\n",
    "        print(source_url)\n",
    "    break"
   ]
  },
  {
   "cell_type": "code",
   "execution_count": null,
   "metadata": {
    "collapsed": true
   },
   "outputs": [],
   "source": []
  }
 ],
 "metadata": {
  "anaconda-cloud": {},
  "kernelspec": {
   "display_name": "Python [conda root]",
   "language": "python",
   "name": "conda-root-py"
  },
  "language_info": {
   "codemirror_mode": {
    "name": "ipython",
    "version": 3
   },
   "file_extension": ".py",
   "mimetype": "text/x-python",
   "name": "python",
   "nbconvert_exporter": "python",
   "pygments_lexer": "ipython3",
   "version": "3.5.2"
  }
 },
 "nbformat": 4,
 "nbformat_minor": 0
}
