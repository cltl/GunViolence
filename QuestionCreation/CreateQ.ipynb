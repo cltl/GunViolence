{
 "cells": [
  {
   "cell_type": "code",
   "execution_count": 1,
   "metadata": {
    "collapsed": true
   },
   "outputs": [],
   "source": [
    "import pandas\n",
    "from IPython.display import clear_output"
   ]
  },
  {
   "cell_type": "code",
   "execution_count": 2,
   "metadata": {
    "collapsed": false
   },
   "outputs": [],
   "source": [
    "from classes import Question\n",
    "import look_up_utils\n",
    "import createq_utils\n",
    "from display_utils import display_question"
   ]
  },
  {
   "cell_type": "markdown",
   "metadata": {},
   "source": [
    "## Set parameter values"
   ]
  },
  {
   "cell_type": "code",
   "execution_count": 3,
   "metadata": {
    "collapsed": true
   },
   "outputs": [],
   "source": [
    "frames = ['mass_shootings',\n",
    "          'mass_shootings_2013',\n",
    "          'mass_shootings_2014',\n",
    "          'mass_shootings_2015']\n",
    "confusion_tuple = ('location', 'time')\n",
    "min_confusion = 3"
   ]
  },
  {
   "cell_type": "markdown",
   "metadata": {},
   "source": [
    "## Load frames"
   ]
  },
  {
   "cell_type": "code",
   "execution_count": 4,
   "metadata": {
    "collapsed": true
   },
   "outputs": [],
   "source": [
    "df = pandas.concat([pandas.read_pickle('../EventRegistries/GunViolence/frames/' + frame)\n",
    "                    for frame in frames])"
   ]
  },
  {
   "cell_type": "markdown",
   "metadata": {},
   "source": [
    "## Load look_up"
   ]
  },
  {
   "cell_type": "code",
   "execution_count": 5,
   "metadata": {
    "collapsed": true
   },
   "outputs": [],
   "source": [
    "look_up, parameters2incident_uris = look_up_utils.create_look_up(frames)"
   ]
  },
  {
   "cell_type": "markdown",
   "metadata": {},
   "source": [
    "## Load questions"
   ]
  },
  {
   "cell_type": "code",
   "execution_count": 6,
   "metadata": {
    "collapsed": false
   },
   "outputs": [
    {
     "name": "stdout",
     "output_type": "stream",
     "text": [
      "{('city', 'year')}\n"
     ]
    }
   ],
   "source": [
    "candidates=createq_utils.lookup_and_merge(look_up, \n",
    "                                          parameters2incident_uris,\n",
    "                                          confusion_tuple,\n",
    "                                          min_confusion,\n",
    "                                          df,\n",
    "                                          debug=True,\n",
    "                                          inspect_one=False) \n",
    "print({c.granularity for c in candidates})"
   ]
  },
  {
   "cell_type": "markdown",
   "metadata": {
    "collapsed": true
   },
   "source": [
    "## Display a question"
   ]
  },
  {
   "cell_type": "code",
   "execution_count": 7,
   "metadata": {
    "collapsed": false
   },
   "outputs": [
    {
     "name": "stdout",
     "output_type": "stream",
     "text": [
      "the available attributes are:\n",
      "\n",
      "a_avg_date_spread\n",
      "a_avg_num_sources\n",
      "a_sources\n",
      "answer\n",
      "answer_incident_uris\n",
      "confusion_factors\n",
      "granularity\n",
      "location_confusion\n",
      "meanings\n",
      "n2s_ratio\n",
      "n_avg_date_spread\n",
      "n_avg_num_sources\n",
      "n_sources\n",
      "noise_incident_uris\n",
      "oa_info\n",
      "participant_confusion\n",
      "q_id\n",
      "question\n",
      "sf\n",
      "time_confusion\n"
     ]
    }
   ],
   "source": [
    "print('the available attributes are:\\n')\n",
    "for candidate in candidates:\n",
    "    for prop in dir(candidate):\n",
    "        if all([not prop.startswith('_'),\n",
    "                prop not in {'debug', 'noise_df', 'answer_df'}]):\n",
    "            print(prop)\n",
    "    break"
   ]
  },
  {
   "cell_type": "code",
   "execution_count": 8,
   "metadata": {
    "collapsed": false
   },
   "outputs": [
    {
     "data": {
      "text/html": [
       "<table>\n",
       "<thead>\n",
       "<tr><th>                     </th><th>0                                                                                                                                                                                             </th></tr>\n",
       "</thead>\n",
       "<tbody>\n",
       "<tr><td>q_id                 </td><td>2                                                                                                                                                                                             </td></tr>\n",
       "<tr><td>question             </td><td>How many events happened in 2016 in Jackson ?                                                                                                                                                 </td></tr>\n",
       "<tr><td>answer_incident_uris </td><td>{'563630', '688429', '601119', '686312'}                                                                                                                                                      </td></tr>\n",
       "<tr><td>meanings             </td><td>defaultdict(<class 'set'>, {(('Mississippi', 'Jackson'), ('2016',)): {'688429'}, (('Georgia', 'Jackson'), ('2016',)): {'563630', '686312'}, (('Michigan', 'Jackson'), ('2016',)): {'601119'}})</td></tr>\n",
       "<tr><td>answer               </td><td>4                                                                                                                                                                                             </td></tr>\n",
       "<tr><td>n2s_ratio            </td><td>96.25                                                                                                                                                                                         </td></tr>\n",
       "<tr><td>location_confusion   </td><td>True                                                                                                                                                                                          </td></tr>\n",
       "<tr><td>time_confusion       </td><td>True                                                                                                                                                                                          </td></tr>\n",
       "<tr><td>participant_confusion</td><td>False                                                                                                                                                                                         </td></tr>\n",
       "<tr><td>a_avg_num_sources    </td><td>3.5                                                                                                                                                                                           </td></tr>\n",
       "<tr><td>a_avg_date_spread    </td><td>28.75                                                                                                                                                                                         </td></tr>\n",
       "<tr><td>n_avg_num_sources    </td><td>3.06                                                                                                                                                                                          </td></tr>\n",
       "<tr><td>n_avg_date_spread    </td><td>56.37                                                                                                                                                                                         </td></tr>\n",
       "</tbody>\n",
       "</table>"
      ],
      "text/plain": [
       "<IPython.core.display.HTML object>"
      ]
     },
     "metadata": {},
     "output_type": "display_data"
    },
    {
     "name": "stdout",
     "output_type": "stream",
     "text": [
      "next?\n"
     ]
    }
   ],
   "source": [
    "wanted_attrs = [\n",
    "    'q_id',\n",
    "    'question',\n",
    "    'answer_incident_uris',\n",
    "    'meanings',\n",
    "    'answer',\n",
    "    'n2s_ratio',\n",
    "    'location_confusion',\n",
    "    'time_confusion',\n",
    "    'participant_confusion',\n",
    "    'a_avg_num_sources',\n",
    "    'a_avg_date_spread',\n",
    "    'n_avg_num_sources',\n",
    "    'n_avg_date_spread',\n",
    "]\n",
    "\n",
    "for candidate in candidates:\n",
    "    clear_output()\n",
    "    display_question(candidate, wanted_attrs)\n",
    "    input('next?')"
   ]
  }
 ],
 "metadata": {
  "kernelspec": {
   "display_name": "Python 3",
   "language": "python",
   "name": "python3"
  },
  "language_info": {
   "codemirror_mode": {
    "name": "ipython",
    "version": 3
   },
   "file_extension": ".py",
   "mimetype": "text/x-python",
   "name": "python",
   "nbconvert_exporter": "python",
   "pygments_lexer": "ipython3",
   "version": "3.6.0"
  }
 },
 "nbformat": 4,
 "nbformat_minor": 2
}
