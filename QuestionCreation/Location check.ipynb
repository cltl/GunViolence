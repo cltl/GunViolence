{
 "cells": [
  {
   "cell_type": "code",
   "execution_count": 1,
   "metadata": {
    "collapsed": false
   },
   "outputs": [],
   "source": [
    "from SPARQLWrapper import SPARQLWrapper, JSON\n",
    "from collections import defaultdict"
   ]
  },
  {
   "cell_type": "markdown",
   "metadata": {},
   "source": [
    "## Question\n",
    "**Do two cities names occur with the same in name in the same state?**\n",
    "* the internet says [no](https://www.quora.com/Are-there-any-cases-of-two-US-cities-with-the-same-name-in-a-single-state)\n",
    "* our dbpedia search says yes (see results below)"
   ]
  },
  {
   "cell_type": "code",
   "execution_count": 2,
   "metadata": {
    "collapsed": true
   },
   "outputs": [],
   "source": [
    "def get_json_results(sparql_query):\n",
    "    \"\"\"\n",
    "    perform sparql query to dbpedia\n",
    "    and return json\n",
    "    \n",
    "    :rtype: dict\n",
    "    :return: json results\n",
    "    \"\"\"\n",
    "    sparql = SPARQLWrapper(\"http://dbpedia.org/sparql\")\n",
    "    \n",
    "    sparql.setQuery(sparql_query)\n",
    "    sparql.setReturnFormat(JSON)\n",
    "    results = sparql.query().convert()\n",
    "    \n",
    "    return results"
   ]
  },
  {
   "cell_type": "markdown",
   "metadata": {},
   "source": [
    "## queries"
   ]
  },
  {
   "cell_type": "markdown",
   "metadata": {},
   "source": [
    "```\n",
    "SELECT DISTINCT ?city ?state ?label\n",
    "WHERE { ?city <http://dbpedia.org/ontology/country> <http://dbpedia.org/resource/United_States> .\n",
    "        ?city <http://www.w3.org/2000/01/rdf-schema#label> ?label .\n",
    "        ?city <http://dbpedia.org/ontology/isPartOf> ?state .\n",
    "        ?state <http://purl.org/dc/terms/subject> <http://dbpedia.org/resource/Category:States_of_the_United_States> .\n",
    "        filter(langMatches(lang(?label),\"EN\"))\n",
    "}\n",
    "```\n"
   ]
  },
  {
   "cell_type": "markdown",
   "metadata": {},
   "source": [
    "## all us states "
   ]
  },
  {
   "cell_type": "code",
   "execution_count": 3,
   "metadata": {
    "collapsed": true
   },
   "outputs": [],
   "source": [
    "state_query = '''\n",
    "SELECT DISTINCT ?state \n",
    "WHERE { \n",
    "        ?state <http://purl.org/dc/terms/subject> <http://dbpedia.org/resource/Category:States_of_the_United_States> .\n",
    "        ?state <http://dbpedia.org/ontology/country> <http://dbpedia.org/resource/United_States>\n",
    "}\n",
    "'''"
   ]
  },
  {
   "cell_type": "code",
   "execution_count": 4,
   "metadata": {
    "collapsed": true
   },
   "outputs": [],
   "source": [
    "states_info = get_json_results(state_query)\n",
    "states_uris = {\n",
    "    result['state']['value']\n",
    "    for result in states_info[\"results\"][\"bindings\"]\n",
    "}"
   ]
  },
  {
   "cell_type": "markdown",
   "metadata": {},
   "source": [
    "## query cities per us states"
   ]
  },
  {
   "cell_type": "code",
   "execution_count": 5,
   "metadata": {
    "collapsed": true
   },
   "outputs": [],
   "source": [
    "cities_of_state_template = '''\n",
    "SELECT DISTINCT ?city ?label\n",
    "WHERE { ?city <http://dbpedia.org/ontology/country> <http://dbpedia.org/resource/United_States> .\n",
    "        ?city <http://www.w3.org/2000/01/rdf-schema#label> ?label .\n",
    "        ?city <http://dbpedia.org/ontology/isPartOf> <%s> .\n",
    "        filter(langMatches(lang(?label),\"EN\"))\n",
    "}\n",
    "'''"
   ]
  },
  {
   "cell_type": "code",
   "execution_count": 8,
   "metadata": {
    "collapsed": false
   },
   "outputs": [],
   "source": [
    "state_citylabel2cities = defaultdict(set)\n",
    "for state_uri in states_uris:\n",
    "    \n",
    "    cities_of_state = cities_of_state_template % state_uri\n",
    "    cities_info = get_json_results(cities_of_state)\n",
    "    \n",
    "    for info in cities_info[\"results\"][\"bindings\"]:\n",
    "        \n",
    "        city_label = info['label']['value'] \n",
    "        if ', ' in info['label']['value']:\n",
    "            city_label, state_label = info['label']['value'].split(', ', 1) \n",
    "            \n",
    "        key = (state_uri, city_label)\n",
    "        value = info['city']['value']\n",
    "        state_citylabel2cities[key].add(value)"
   ]
  },
  {
   "cell_type": "code",
   "execution_count": 19,
   "metadata": {
    "collapsed": false
   },
   "outputs": [],
   "source": [
    "counter = 0\n",
    "debug = False\n",
    "matching_cities = set()\n",
    "for (state, city_label), value in state_citylabel2cities.items():\n",
    "    if len(value) >= 2:\n",
    "        \n",
    "        counter += 1\n",
    "        matching_cities.add(city_label)\n",
    "        if debug:\n",
    "            print()\n",
    "            print(state, city_label)\n",
    "            print(value)\n",
    "            input('continue?')"
   ]
  },
  {
   "cell_type": "code",
   "execution_count": 21,
   "metadata": {
    "collapsed": false
   },
   "outputs": [
    {
     "data": {
      "text/plain": [
       "2187"
      ]
     },
     "execution_count": 21,
     "metadata": {},
     "output_type": "execute_result"
    }
   ],
   "source": [
    "counter"
   ]
  },
  {
   "cell_type": "markdown",
   "metadata": {},
   "source": [
    "## check overlap with gun violence "
   ]
  },
  {
   "cell_type": "code",
   "execution_count": 15,
   "metadata": {
    "collapsed": true
   },
   "outputs": [],
   "source": [
    "import pandas"
   ]
  },
  {
   "cell_type": "code",
   "execution_count": 16,
   "metadata": {
    "collapsed": false
   },
   "outputs": [
    {
     "data": {
      "text/plain": [
       "['accidental_deaths',\n",
       " 'accidental_deaths_children',\n",
       " 'accidental_deaths_teens',\n",
       " 'accidental_injuries',\n",
       " 'accidental_injuries_children',\n",
       " 'accidental_injuries_teens',\n",
       " 'children_injured',\n",
       " 'children_killed',\n",
       " 'mass_shootings',\n",
       " 'mass_shootings_2013',\n",
       " 'mass_shootings_2014',\n",
       " 'mass_shootings_2015',\n",
       " 'officer_involved_shootings',\n",
       " 'teens_injured',\n",
       " 'teens_killed']"
      ]
     },
     "execution_count": 16,
     "metadata": {},
     "output_type": "execute_result"
    }
   ],
   "source": [
    "from glob import glob\n",
    "import os\n",
    "all_frames = [os.path.basename(path)\n",
    "              for path in glob('../EventRegistries/GunViolence/frames/*')\n",
    "              if not 'Icon' in path\n",
    "             ]\n",
    "all_frames"
   ]
  },
  {
   "cell_type": "code",
   "execution_count": 17,
   "metadata": {
    "collapsed": true
   },
   "outputs": [],
   "source": [
    "frames = all_frames\n",
    "df = pandas.concat([pandas.read_pickle('../EventRegistries/GunViolence/frames/' + frame)\n",
    "                    for frame in frames])"
   ]
  },
  {
   "cell_type": "code",
   "execution_count": 40,
   "metadata": {
    "collapsed": false
   },
   "outputs": [],
   "source": [
    "gv_matches = set()\n",
    "for index, row in df.iterrows():\n",
    "    if row['city_or_county'] in matching_cities:\n",
    "        gv_matches.add((row['state'], row['city_or_county'], row['address']))"
   ]
  },
  {
   "cell_type": "markdown",
   "metadata": {},
   "source": [
    "## attempt to disambiguate to dbpedia link"
   ]
  },
  {
   "cell_type": "code",
   "execution_count": 33,
   "metadata": {
    "collapsed": false
   },
   "outputs": [],
   "source": [
    "states2cities = defaultdict(set)\n",
    "for index, row in df.iterrows():\n",
    "    states2cities[row['state']].add(row['city_or_county'])"
   ]
  },
  {
   "cell_type": "code",
   "execution_count": 45,
   "metadata": {
    "collapsed": false
   },
   "outputs": [
    {
     "data": {
      "text/plain": [
       "1516"
      ]
     },
     "execution_count": 45,
     "metadata": {},
     "output_type": "execute_result"
    }
   ],
   "source": [
    "len([city\n",
    "    for state, cities in states2cities.items()\n",
    "    for city in cities])"
   ]
  },
  {
   "cell_type": "markdown",
   "metadata": {},
   "source": [
    "## try using geo modules"
   ]
  },
  {
   "cell_type": "code",
   "execution_count": 77,
   "metadata": {
    "collapsed": false
   },
   "outputs": [
    {
     "data": {
      "text/plain": [
       "611"
      ]
     },
     "execution_count": 77,
     "metadata": {},
     "output_type": "execute_result"
    }
   ],
   "source": [
    "len(gv_matches)"
   ]
  },
  {
   "cell_type": "code",
   "execution_count": 66,
   "metadata": {
    "collapsed": false
   },
   "outputs": [],
   "source": [
    "import geopy"
   ]
  },
  {
   "cell_type": "code",
   "execution_count": 67,
   "metadata": {
    "collapsed": false
   },
   "outputs": [],
   "source": [
    "from geopy.geocoders import Nominatim"
   ]
  },
  {
   "cell_type": "code",
   "execution_count": 68,
   "metadata": {
    "collapsed": true
   },
   "outputs": [],
   "source": [
    "geolocator = Nominatim()"
   ]
  },
  {
   "cell_type": "code",
   "execution_count": 75,
   "metadata": {
    "collapsed": false
   },
   "outputs": [],
   "source": [
    "location = geolocator.geocode(\"5105 Cleveland Rd, Jacksonville, Florida\", timeout=10)"
   ]
  },
  {
   "cell_type": "code",
   "execution_count": 76,
   "metadata": {
    "collapsed": false
   },
   "outputs": [
    {
     "data": {
      "text/plain": [
       "Location(5105, Cleveland Road, Jacksonville, Duval County, Florida, 32209, United States of America, (30.3672231701182, -81.707894903197, 0.0))"
      ]
     },
     "execution_count": 76,
     "metadata": {},
     "output_type": "execute_result"
    }
   ],
   "source": [
    "location"
   ]
  },
  {
   "cell_type": "code",
   "execution_count": 2,
   "metadata": {
    "collapsed": false
   },
   "outputs": [
    {
     "ename": "NameError",
     "evalue": "name 'location' is not defined",
     "output_type": "error",
     "traceback": [
      "\u001b[0;31m---------------------------------------------------------------------------\u001b[0m",
      "\u001b[0;31mNameError\u001b[0m                                 Traceback (most recent call last)",
      "\u001b[0;32m<ipython-input-2-49e87694d9d4>\u001b[0m in \u001b[0;36m<module>\u001b[0;34m()\u001b[0m\n\u001b[0;32m----> 1\u001b[0;31m \u001b[0mtype\u001b[0m\u001b[0;34m(\u001b[0m\u001b[0mlocation\u001b[0m\u001b[0;34m)\u001b[0m\u001b[0;34m\u001b[0m\u001b[0m\n\u001b[0m",
      "\u001b[0;31mNameError\u001b[0m: name 'location' is not defined"
     ]
    }
   ],
   "source": [
    "type(location)"
   ]
  },
  {
   "cell_type": "code",
   "execution_count": null,
   "metadata": {
    "collapsed": true
   },
   "outputs": [],
   "source": []
  }
 ],
 "metadata": {
  "kernelspec": {
   "display_name": "Python 3",
   "language": "python",
   "name": "python3"
  },
  "language_info": {
   "codemirror_mode": {
    "name": "ipython",
    "version": 3
   },
   "file_extension": ".py",
   "mimetype": "text/x-python",
   "name": "python",
   "nbconvert_exporter": "python",
   "pygments_lexer": "ipython3",
   "version": "3.6.0"
  }
 },
 "nbformat": 4,
 "nbformat_minor": 2
}
