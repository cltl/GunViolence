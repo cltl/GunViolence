{
 "cells": [
  {
   "cell_type": "code",
   "execution_count": 10,
   "metadata": {
    "collapsed": true
   },
   "outputs": [],
   "source": [
    "import pandas\n",
    "import json"
   ]
  },
  {
   "cell_type": "code",
   "execution_count": 4,
   "metadata": {},
   "outputs": [],
   "source": [
    "df = pandas.read_pickle('../EventRegistries/GunViolenceArchive/frames/all')"
   ]
  },
  {
   "cell_type": "code",
   "execution_count": 5,
   "metadata": {
    "collapsed": true
   },
   "outputs": [],
   "source": [
    "def parts_with_only_zero_or_two_parts(participants_info):\n",
    "    \"\"\"\n",
    "    Check if all participants have:\n",
    "    1) either no name\n",
    "    2) or names with two parts\n",
    "    3) but NOT names with one part or 3> parts\n",
    "    \n",
    "    :param list participants_info: list of dicts with participant info\n",
    "    \n",
    "    :rtype: bool\n",
    "    :return: True if all names have zero parts or two parts\n",
    "    False in all other conditions\n",
    "    \"\"\"\n",
    "    accept = True\n",
    "    for part_info in participants_info:\n",
    "        \n",
    "        if all(['Name' in part_info,\n",
    "                'Status' in part_info]):\n",
    "            full_name = part_info['Name'].strip()\n",
    "            if full_name:\n",
    "                name_parts = full_name.strip().split()\n",
    "                \n",
    "                if len(name_parts) == 1:\n",
    "                    accept = False\n",
    "                \n",
    "                if len(name_parts) >= 3:\n",
    "                    accept = False\n",
    "    \n",
    "    return accept"
   ]
  },
  {
   "cell_type": "code",
   "execution_count": 20,
   "metadata": {},
   "outputs": [],
   "source": [
    "not_ok_incidents = set()\n",
    "ok_incidents = set()\n",
    "for index, row in df.iterrows():\n",
    "    accept = parts_with_only_zero_or_two_parts(row['participants'])\n",
    "    if accept:\n",
    "        ok_incidents.add(row['incident_uri'])\n",
    "    else:\n",
    "        not_ok_incidents.add(row['incident_uri'])"
   ]
  },
  {
   "cell_type": "code",
   "execution_count": 26,
   "metadata": {},
   "outputs": [],
   "source": [
    "answers = json.load(open('debug/3_answers.json'))\n",
    "\n",
    "for q_id, q_info in answers.items():\n",
    "    \n",
    "    for incident_id in q_info['answer_docs']:\n",
    "        if incident_id in not_ok_incidents:\n",
    "            print(q_id)"
   ]
  },
  {
   "cell_type": "code",
   "execution_count": null,
   "metadata": {
    "collapsed": true
   },
   "outputs": [],
   "source": []
  }
 ],
 "metadata": {
  "kernelspec": {
   "display_name": "Python 3",
   "language": "python",
   "name": "python3"
  },
  "language_info": {
   "codemirror_mode": {
    "name": "ipython",
    "version": 3
   },
   "file_extension": ".py",
   "mimetype": "text/x-python",
   "name": "python",
   "nbconvert_exporter": "python",
   "pygments_lexer": "ipython3",
   "version": "3.6.0"
  }
 },
 "nbformat": 4,
 "nbformat_minor": 2
}
