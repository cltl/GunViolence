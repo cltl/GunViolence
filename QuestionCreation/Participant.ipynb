{
 "cells": [
  {
   "cell_type": "code",
   "execution_count": 10,
   "metadata": {
    "collapsed": true
   },
   "outputs": [],
   "source": [
    "import pandas\n",
    "from collections import defaultdict"
   ]
  },
  {
   "cell_type": "code",
   "execution_count": 11,
   "metadata": {
    "collapsed": false
   },
   "outputs": [
    {
     "data": {
      "text/plain": [
       "['accidental_deaths',\n",
       " 'accidental_deaths_children',\n",
       " 'accidental_deaths_teens',\n",
       " 'accidental_injuries',\n",
       " 'accidental_injuries_children',\n",
       " 'accidental_injuries_teens',\n",
       " 'children_injured',\n",
       " 'children_killed',\n",
       " 'mass_shootings',\n",
       " 'mass_shootings_2013',\n",
       " 'mass_shootings_2014',\n",
       " 'mass_shootings_2015',\n",
       " 'officer_involved_shootings',\n",
       " 'teens_injured',\n",
       " 'teens_killed']"
      ]
     },
     "execution_count": 11,
     "metadata": {},
     "output_type": "execute_result"
    }
   ],
   "source": [
    "from glob import glob\n",
    "import os\n",
    "all_frames = [os.path.basename(path)\n",
    "              for path in glob('../EventRegistries/GunViolenceArchive/frames/*')\n",
    "              if not 'Icon' in path\n",
    "             ]\n",
    "all_frames"
   ]
  },
  {
   "cell_type": "code",
   "execution_count": 12,
   "metadata": {
    "collapsed": true
   },
   "outputs": [],
   "source": [
    "frames = all_frames\n",
    "df = pandas.concat([pandas.read_pickle('../EventRegistries/GunViolenceArchive/frames/' + frame)\n",
    "                    for frame in frames])"
   ]
  },
  {
   "cell_type": "code",
   "execution_count": 30,
   "metadata": {
    "collapsed": false
   },
   "outputs": [],
   "source": [
    "full_name2incident = defaultdict(dict)\n",
    "for index, row in df.iterrows():\n",
    "    incident_uri = row['incident_uri']\n",
    "    for participant in row['participants']:\n",
    "        if 'Name' in participant:        \n",
    "            name = participant['Name'].strip()\n",
    "            \n",
    "            # clean whitespace\n",
    "            name_parts = name.split(' ')\n",
    "            \n",
    "            # restrict to names with only FIRST LAST\n",
    "            # hence no FIRST MIDDLE LAST\n",
    "            if len(name_parts) == 2:\n",
    "                full_name2incident[name][incident_uri] = participant"
   ]
  },
  {
   "cell_type": "code",
   "execution_count": 41,
   "metadata": {
    "collapsed": false
   },
   "outputs": [],
   "source": [
    "counter = 0\n",
    "debug = False\n",
    "more_than_one_killing = 0\n",
    "for full_name, info in full_name2incident.items():\n",
    "    if len(info) >= 2:\n",
    "        counter += 1 \n",
    "        \n",
    "        killing_incidents = 0\n",
    "        for participant in info.values():\n",
    "            if participant['Status'] == ' Killed':\n",
    "                killing_incidents += 1\n",
    "        \n",
    "        if killing_incidents >= 2:\n",
    "            more_than_one_killing += 1\n",
    "            \n",
    "            if debug:\n",
    "                print()\n",
    "                print(info)\n",
    "                input('continue?')"
   ]
  },
  {
   "cell_type": "code",
   "execution_count": 42,
   "metadata": {
    "collapsed": false
   },
   "outputs": [
    {
     "name": "stdout",
     "output_type": "stream",
     "text": [
      "number of full_names occurring in more than once incident: 40\n"
     ]
    }
   ],
   "source": [
    "print('number of full_names occurring in more than once incident: %s' % counter)"
   ]
  },
  {
   "cell_type": "code",
   "execution_count": 44,
   "metadata": {
    "collapsed": false
   },
   "outputs": [
    {
     "name": "stdout",
     "output_type": "stream",
     "text": [
      "these are highly suspicious, might be same persons\n",
      "number of full_names occuring in 2+ incidents and 2+ killing events: 7\n"
     ]
    }
   ],
   "source": [
    "print('these are highly suspicious, might be same persons')\n",
    "print('number of full_names occuring in 2+ incidents and 2+ killing events: %s' % more_than_one_killing)"
   ]
  },
  {
   "cell_type": "code",
   "execution_count": null,
   "metadata": {
    "collapsed": true
   },
   "outputs": [],
   "source": []
  }
 ],
 "metadata": {
  "kernelspec": {
   "display_name": "Python [Root]",
   "language": "python",
   "name": "Python [Root]"
  },
  "language_info": {
   "codemirror_mode": {
    "name": "ipython",
    "version": 3
   },
   "file_extension": ".py",
   "mimetype": "text/x-python",
   "name": "python",
   "nbconvert_exporter": "python",
   "pygments_lexer": "ipython3",
   "version": "3.5.3"
  }
 },
 "nbformat": 4,
 "nbformat_minor": 2
}
